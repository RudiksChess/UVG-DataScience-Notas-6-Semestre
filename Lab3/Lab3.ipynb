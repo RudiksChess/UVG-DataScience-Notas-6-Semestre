{
 "cells": [
  {
   "cell_type": "markdown",
   "metadata": {},
   "source": [
    "# Segmentación de Especies con Cluster Analysis"
   ]
  },
  {
   "cell_type": "markdown",
   "metadata": {},
   "source": [
    "El conjunto de datos de la flor **Iris** es uno de los más populares para el Aprendizaje de Máquina (ML).  Si no o conocen, pueden leer sobre esta en:\n",
    "\n",
    "https://en.wikipedia.org/wiki/Iris_flower_data_set\n",
    "\n",
    "El conjunto de datos *iris-dataset.csv* tiene cuatro variables:  \n",
    "\n",
    "* **sepal length** (longitud del sépalo), \n",
    "* **sepal width** (ancho del sépalo), \n",
    "* **petal length** (longitud del pétalo), \n",
    "* **petal width** (ancho del pétalo).\n",
    "\n",
    "**SECCIÓN 1:**\n",
    "\n",
    "Agrupen las flores por la forma de su sépalo:\n",
    "\n",
    "Empiecen por crear 2 \"clusters\".  Luego estandaricen los datos e intenten de nuevo.  ¿Qué diferencias hay, si es que lo hay?\n",
    "\n",
    "Utilicen el método del \"codo\" para determinar cuantos \"clusters\" hay. \n",
    "\n",
    "Basado en la gráfica del \"codo\" realicen varias gráficas con el número adecuado de clusters que Uds creen mejor se ajusten a los datos.\n",
    "\n",
    "Comparen sus soluciones con los datos reales, archivo: *iris-with-answers.csv*\n",
    "**Obviamente solo hay tres especies, porque ese es el archivo de datos reales!**\n",
    "\n",
    "¿Funcionó el clustering con la forma del sépalo?\n",
    "\n",
    "**Sección 2:**\n",
    "\n",
    "Repitan el proceso pero ahora utilizando la forma del pétalo.  Respondan a las misma preguntas\n",
    "\n",
    "\n",
    "**Sección 3:**\n",
    "\n",
    "Utilicen la librería \"kneed\" y vean si el resultado coincide con el método del \"codo\" que hicieron manualmente.  ¿A que podría deberse la diferencia, si la hay?  ¿Les dió el número correcto de clusters, comparado a los datos reales?  \n",
    "\n",
    "Basado en los resultado que tuvieron, ¿A qué conclusiones llegaron?\n"
   ]
  },
  {
   "cell_type": "code",
   "execution_count": null,
   "metadata": {},
   "outputs": [],
   "source": []
  }
 ],
 "metadata": {
  "kernelspec": {
   "display_name": "Python 3",
   "language": "python",
   "name": "python3"
  },
  "language_info": {
   "codemirror_mode": {
    "name": "ipython",
    "version": 3
   },
   "file_extension": ".py",
   "mimetype": "text/x-python",
   "name": "python",
   "nbconvert_exporter": "python",
   "pygments_lexer": "ipython3",
   "version": "3.8.10"
  }
 },
 "nbformat": 4,
 "nbformat_minor": 4
}
