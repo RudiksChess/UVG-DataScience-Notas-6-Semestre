{
  "nbformat": 4,
  "nbformat_minor": 0,
  "metadata": {
    "kernelspec": {
      "display_name": "Python 3",
      "language": "python",
      "name": "python3"
    },
    "language_info": {
      "codemirror_mode": {
        "name": "ipython",
        "version": 3
      },
      "file_extension": ".py",
      "mimetype": "text/x-python",
      "name": "python",
      "nbconvert_exporter": "python",
      "pygments_lexer": "ipython3",
      "version": "3.8.10"
    },
    "colab": {
      "name": "Lab3.ipynb",
      "provenance": [],
      "collapsed_sections": [
        "tRHkcmRbTmA4",
        "Aiz9klXQTmA5",
        "dakDJIseTmA8",
        "PbkeicZZTmA8",
        "Z_dx4PenIXM0"
      ],
      "include_colab_link": true
    }
  },
  "cells": [
    {
      "cell_type": "markdown",
      "metadata": {
        "id": "view-in-github",
        "colab_type": "text"
      },
      "source": [
        "<a href=\"https://colab.research.google.com/github/RudiksChess/UVG-DataScience-Notas-6-Semestre/blob/main/Lab3/Lab3.ipynb\" target=\"_parent\"><img src=\"https://colab.research.google.com/assets/colab-badge.svg\" alt=\"Open In Colab\"/></a>"
      ]
    },
    {
      "cell_type": "markdown",
      "metadata": {
        "id": "fpo4HsA337vl"
      },
      "source": [
        "# **Laboratorio 3 - Segmentación de Especies con Cluster Analysis**"
      ]
    },
    {
      "cell_type": "markdown",
      "metadata": {
        "id": "qB3cMmM2vwZD"
      },
      "source": [
        "\n",
        "**Universidad del Valle de Guatemala**\n",
        "\n",
        "Departamento de Computación - Data Science I - Catedrático: Luis Furlán\n",
        "\n",
        "---\n",
        "\n",
        "**Estudiante:** Rudik Roberto Rompich \n",
        "\n",
        "**Carrera:** Licenciatura en Matemática Aplicada \n",
        "\n",
        "**Carné:** 19857\n",
        "\n",
        "---\n",
        "\n",
        "Fecha de entrega: *** de agosto de 2021***\n",
        "\n",
        "---\n",
        "\n",
        "> **Instrucciones de los datos:** El conjunto de datos de la flor **Iris** es uno de los más populares para el Aprendizaje de Máquina (ML).  Si no o conocen, pueden leer sobre esta en: https://en.wikipedia.org/wiki/Iris_flower_data_set\n",
        ". El conjunto de datos *iris-dataset.csv* tiene cuatro variables:  \n",
        "* **sepal length** (longitud del sépalo), \n",
        "* **sepal width** (ancho del sépalo), \n",
        "* **petal length** (longitud del pétalo), \n",
        "* **petal width** (ancho del pétalo).\n"
      ]
    },
    {
      "cell_type": "code",
      "metadata": {
        "id": "bD024i9JMETa"
      },
      "source": [
        "! pip install https://github.com/pandas-profiling/pandas-profiling/archive/master.zip"
      ],
      "execution_count": null,
      "outputs": []
    },
    {
      "cell_type": "code",
      "metadata": {
        "id": "-Ag1kwfY4fMI"
      },
      "source": [
        "import pandas as pd \n",
        "from pandas_profiling import ProfileReport\n",
        "from sklearn.cluster import KMeans\n",
        "import seaborn as sns\n",
        "from sklearn.preprocessing import StandardScaler"
      ],
      "execution_count": 2,
      "outputs": []
    },
    {
      "cell_type": "code",
      "metadata": {
        "id": "Pqqcb50iKOHf"
      },
      "source": [
        "url = \"https://raw.githubusercontent.com/RudiksChess/UVG-DataScience-Notas-6-Semestre/main/Lab3/iris-dataset.csv\"\n",
        "data = pd.read_csv(url)\n",
        "df = pd.DataFrame(data)\n",
        "report= ProfileReport(df)"
      ],
      "execution_count": 3,
      "outputs": []
    },
    {
      "cell_type": "code",
      "metadata": {
        "id": "Yfol_mCsxsiJ"
      },
      "source": [
        "df"
      ],
      "execution_count": null,
      "outputs": []
    },
    {
      "cell_type": "code",
      "metadata": {
        "id": "yvXDNpZLMujg"
      },
      "source": [
        "report.to_notebook_iframe()"
      ],
      "execution_count": null,
      "outputs": []
    },
    {
      "cell_type": "markdown",
      "metadata": {
        "id": "8TDFzV1BTmA3"
      },
      "source": [
        "## **Sección 1**"
      ]
    },
    {
      "cell_type": "markdown",
      "metadata": {
        "id": "tRHkcmRbTmA4"
      },
      "source": [
        "### Agrupen las flores por la forma de su sépalo:"
      ]
    },
    {
      "cell_type": "code",
      "metadata": {
        "colab": {
          "base_uri": "https://localhost:8080/",
          "height": 204
        },
        "id": "BH_9SdBRTmA4",
        "outputId": "67a14766-d5dd-499a-fc81-7b169ad9e808"
      },
      "source": [
        "df_sepalo = df.filter([\"sepal_length\",\"sepal_width\"])\n",
        "df_sepalo.head()"
      ],
      "execution_count": null,
      "outputs": [
        {
          "output_type": "execute_result",
          "data": {
            "text/html": [
              "<div>\n",
              "<style scoped>\n",
              "    .dataframe tbody tr th:only-of-type {\n",
              "        vertical-align: middle;\n",
              "    }\n",
              "\n",
              "    .dataframe tbody tr th {\n",
              "        vertical-align: top;\n",
              "    }\n",
              "\n",
              "    .dataframe thead th {\n",
              "        text-align: right;\n",
              "    }\n",
              "</style>\n",
              "<table border=\"1\" class=\"dataframe\">\n",
              "  <thead>\n",
              "    <tr style=\"text-align: right;\">\n",
              "      <th></th>\n",
              "      <th>sepal_length</th>\n",
              "      <th>sepal_width</th>\n",
              "    </tr>\n",
              "  </thead>\n",
              "  <tbody>\n",
              "    <tr>\n",
              "      <th>0</th>\n",
              "      <td>5.1</td>\n",
              "      <td>3.5</td>\n",
              "    </tr>\n",
              "    <tr>\n",
              "      <th>1</th>\n",
              "      <td>4.9</td>\n",
              "      <td>3.0</td>\n",
              "    </tr>\n",
              "    <tr>\n",
              "      <th>2</th>\n",
              "      <td>4.7</td>\n",
              "      <td>3.2</td>\n",
              "    </tr>\n",
              "    <tr>\n",
              "      <th>3</th>\n",
              "      <td>4.6</td>\n",
              "      <td>3.1</td>\n",
              "    </tr>\n",
              "    <tr>\n",
              "      <th>4</th>\n",
              "      <td>5.0</td>\n",
              "      <td>3.6</td>\n",
              "    </tr>\n",
              "  </tbody>\n",
              "</table>\n",
              "</div>"
            ],
            "text/plain": [
              "   sepal_length  sepal_width\n",
              "0           5.1          3.5\n",
              "1           4.9          3.0\n",
              "2           4.7          3.2\n",
              "3           4.6          3.1\n",
              "4           5.0          3.6"
            ]
          },
          "metadata": {
            "tags": []
          },
          "execution_count": 21
        }
      ]
    },
    {
      "cell_type": "markdown",
      "metadata": {
        "id": "Aiz9klXQTmA5"
      },
      "source": [
        "### Empiecen por crear 2 \"clusters\".  Luego estandaricen los datos e intenten de nuevo."
      ]
    },
    {
      "cell_type": "markdown",
      "metadata": {
        "id": "svGKJHKRTmA5"
      },
      "source": [
        "#### Sin estandarizar"
      ]
    },
    {
      "cell_type": "code",
      "metadata": {
        "colab": {
          "base_uri": "https://localhost:8080/"
        },
        "id": "SOI9vdq8TmA5",
        "outputId": "79f02771-7693-49c9-91f5-390808671177"
      },
      "source": [
        "kmeans = KMeans(2)\n",
        "kmeans.fit(df_sepalo)"
      ],
      "execution_count": null,
      "outputs": [
        {
          "output_type": "execute_result",
          "data": {
            "text/plain": [
              "KMeans(algorithm='auto', copy_x=True, init='k-means++', max_iter=300,\n",
              "       n_clusters=2, n_init=10, n_jobs=None, precompute_distances='auto',\n",
              "       random_state=None, tol=0.0001, verbose=0)"
            ]
          },
          "metadata": {
            "tags": []
          },
          "execution_count": 22
        }
      ]
    },
    {
      "cell_type": "code",
      "metadata": {
        "colab": {
          "base_uri": "https://localhost:8080/",
          "height": 419
        },
        "id": "1UbD6g9uTmA6",
        "outputId": "881f5ae7-fef6-46d0-f385-8353a2c5da56"
      },
      "source": [
        "clusters_sepalo_identificados = kmeans.fit_predict(df_sepalo)\n",
        "df_sepalo_con_clusters = df_sepalo.copy()\n",
        "df_sepalo_con_clusters['Cluster'] = clusters_sepalo_identificados \n",
        "df_sepalo_con_clusters "
      ],
      "execution_count": null,
      "outputs": [
        {
          "output_type": "execute_result",
          "data": {
            "text/html": [
              "<div>\n",
              "<style scoped>\n",
              "    .dataframe tbody tr th:only-of-type {\n",
              "        vertical-align: middle;\n",
              "    }\n",
              "\n",
              "    .dataframe tbody tr th {\n",
              "        vertical-align: top;\n",
              "    }\n",
              "\n",
              "    .dataframe thead th {\n",
              "        text-align: right;\n",
              "    }\n",
              "</style>\n",
              "<table border=\"1\" class=\"dataframe\">\n",
              "  <thead>\n",
              "    <tr style=\"text-align: right;\">\n",
              "      <th></th>\n",
              "      <th>sepal_length</th>\n",
              "      <th>sepal_width</th>\n",
              "      <th>Cluster</th>\n",
              "    </tr>\n",
              "  </thead>\n",
              "  <tbody>\n",
              "    <tr>\n",
              "      <th>0</th>\n",
              "      <td>5.1</td>\n",
              "      <td>3.5</td>\n",
              "      <td>0</td>\n",
              "    </tr>\n",
              "    <tr>\n",
              "      <th>1</th>\n",
              "      <td>4.9</td>\n",
              "      <td>3.0</td>\n",
              "      <td>0</td>\n",
              "    </tr>\n",
              "    <tr>\n",
              "      <th>2</th>\n",
              "      <td>4.7</td>\n",
              "      <td>3.2</td>\n",
              "      <td>0</td>\n",
              "    </tr>\n",
              "    <tr>\n",
              "      <th>3</th>\n",
              "      <td>4.6</td>\n",
              "      <td>3.1</td>\n",
              "      <td>0</td>\n",
              "    </tr>\n",
              "    <tr>\n",
              "      <th>4</th>\n",
              "      <td>5.0</td>\n",
              "      <td>3.6</td>\n",
              "      <td>0</td>\n",
              "    </tr>\n",
              "    <tr>\n",
              "      <th>...</th>\n",
              "      <td>...</td>\n",
              "      <td>...</td>\n",
              "      <td>...</td>\n",
              "    </tr>\n",
              "    <tr>\n",
              "      <th>145</th>\n",
              "      <td>6.7</td>\n",
              "      <td>3.0</td>\n",
              "      <td>1</td>\n",
              "    </tr>\n",
              "    <tr>\n",
              "      <th>146</th>\n",
              "      <td>6.3</td>\n",
              "      <td>2.5</td>\n",
              "      <td>1</td>\n",
              "    </tr>\n",
              "    <tr>\n",
              "      <th>147</th>\n",
              "      <td>6.5</td>\n",
              "      <td>3.0</td>\n",
              "      <td>1</td>\n",
              "    </tr>\n",
              "    <tr>\n",
              "      <th>148</th>\n",
              "      <td>6.2</td>\n",
              "      <td>3.4</td>\n",
              "      <td>1</td>\n",
              "    </tr>\n",
              "    <tr>\n",
              "      <th>149</th>\n",
              "      <td>5.9</td>\n",
              "      <td>3.0</td>\n",
              "      <td>0</td>\n",
              "    </tr>\n",
              "  </tbody>\n",
              "</table>\n",
              "<p>150 rows × 3 columns</p>\n",
              "</div>"
            ],
            "text/plain": [
              "     sepal_length  sepal_width  Cluster\n",
              "0             5.1          3.5        0\n",
              "1             4.9          3.0        0\n",
              "2             4.7          3.2        0\n",
              "3             4.6          3.1        0\n",
              "4             5.0          3.6        0\n",
              "..            ...          ...      ...\n",
              "145           6.7          3.0        1\n",
              "146           6.3          2.5        1\n",
              "147           6.5          3.0        1\n",
              "148           6.2          3.4        1\n",
              "149           5.9          3.0        0\n",
              "\n",
              "[150 rows x 3 columns]"
            ]
          },
          "metadata": {
            "tags": []
          },
          "execution_count": 23
        }
      ]
    },
    {
      "cell_type": "code",
      "metadata": {
        "colab": {
          "base_uri": "https://localhost:8080/",
          "height": 354
        },
        "id": "ohYEqIKlTmA6",
        "outputId": "c61e3c49-1829-4ee5-d5b8-ecf9daf74631"
      },
      "source": [
        "sns.scatterplot(df_sepalo_con_clusters[\"sepal_length\"], df_sepalo_con_clusters[\"sepal_width\"], hue= df_sepalo_con_clusters[\"Cluster\"])"
      ],
      "execution_count": null,
      "outputs": [
        {
          "output_type": "stream",
          "text": [
            "/usr/local/lib/python3.7/dist-packages/seaborn/_decorators.py:43: FutureWarning: Pass the following variables as keyword args: x, y. From version 0.12, the only valid positional argument will be `data`, and passing other arguments without an explicit keyword will result in an error or misinterpretation.\n",
            "  FutureWarning\n"
          ],
          "name": "stderr"
        },
        {
          "output_type": "execute_result",
          "data": {
            "text/plain": [
              "<matplotlib.axes._subplots.AxesSubplot at 0x7fdeecd18090>"
            ]
          },
          "metadata": {
            "tags": []
          },
          "execution_count": 24
        },
        {
          "output_type": "display_data",
          "data": {
            "image/png": "[encoded data removed]",
            "text/plain": [
              "<Figure size 432x288 with 1 Axes>"
            ]
          },
          "metadata": {
            "tags": [],
            "needs_background": "light"
          }
        }
      ]
    },
    {
      "cell_type": "markdown",
      "metadata": {
        "id": "k7scB3PGTmA6"
      },
      "source": [
        "#### Estandarizados "
      ]
    },
    {
      "cell_type": "code",
      "metadata": {
        "colab": {
          "base_uri": "https://localhost:8080/",
          "height": 419
        },
        "id": "l7EJYCHGTmA7",
        "outputId": "8c30d684-b822-42bc-f13b-4f346e71c130"
      },
      "source": [
        "escalador = StandardScaler()\n",
        "datos_escalados = escalador.fit_transform(df_sepalo)\n",
        "df_sepalos_estandarizados = pd.DataFrame(datos_escalados, columns= df_sepalo.columns.values)\n",
        "df_sepalos_estandarizados"
      ],
      "execution_count": null,
      "outputs": [
        {
          "output_type": "execute_result",
          "data": {
            "text/html": [
              "<div>\n",
              "<style scoped>\n",
              "    .dataframe tbody tr th:only-of-type {\n",
              "        vertical-align: middle;\n",
              "    }\n",
              "\n",
              "    .dataframe tbody tr th {\n",
              "        vertical-align: top;\n",
              "    }\n",
              "\n",
              "    .dataframe thead th {\n",
              "        text-align: right;\n",
              "    }\n",
              "</style>\n",
              "<table border=\"1\" class=\"dataframe\">\n",
              "  <thead>\n",
              "    <tr style=\"text-align: right;\">\n",
              "      <th></th>\n",
              "      <th>sepal_length</th>\n",
              "      <th>sepal_width</th>\n",
              "    </tr>\n",
              "  </thead>\n",
              "  <tbody>\n",
              "    <tr>\n",
              "      <th>0</th>\n",
              "      <td>-0.900681</td>\n",
              "      <td>1.032057</td>\n",
              "    </tr>\n",
              "    <tr>\n",
              "      <th>1</th>\n",
              "      <td>-1.143017</td>\n",
              "      <td>-0.124958</td>\n",
              "    </tr>\n",
              "    <tr>\n",
              "      <th>2</th>\n",
              "      <td>-1.385353</td>\n",
              "      <td>0.337848</td>\n",
              "    </tr>\n",
              "    <tr>\n",
              "      <th>3</th>\n",
              "      <td>-1.506521</td>\n",
              "      <td>0.106445</td>\n",
              "    </tr>\n",
              "    <tr>\n",
              "      <th>4</th>\n",
              "      <td>-1.021849</td>\n",
              "      <td>1.263460</td>\n",
              "    </tr>\n",
              "    <tr>\n",
              "      <th>...</th>\n",
              "      <td>...</td>\n",
              "      <td>...</td>\n",
              "    </tr>\n",
              "    <tr>\n",
              "      <th>145</th>\n",
              "      <td>1.038005</td>\n",
              "      <td>-0.124958</td>\n",
              "    </tr>\n",
              "    <tr>\n",
              "      <th>146</th>\n",
              "      <td>0.553333</td>\n",
              "      <td>-1.281972</td>\n",
              "    </tr>\n",
              "    <tr>\n",
              "      <th>147</th>\n",
              "      <td>0.795669</td>\n",
              "      <td>-0.124958</td>\n",
              "    </tr>\n",
              "    <tr>\n",
              "      <th>148</th>\n",
              "      <td>0.432165</td>\n",
              "      <td>0.800654</td>\n",
              "    </tr>\n",
              "    <tr>\n",
              "      <th>149</th>\n",
              "      <td>0.068662</td>\n",
              "      <td>-0.124958</td>\n",
              "    </tr>\n",
              "  </tbody>\n",
              "</table>\n",
              "<p>150 rows × 2 columns</p>\n",
              "</div>"
            ],
            "text/plain": [
              "     sepal_length  sepal_width\n",
              "0       -0.900681     1.032057\n",
              "1       -1.143017    -0.124958\n",
              "2       -1.385353     0.337848\n",
              "3       -1.506521     0.106445\n",
              "4       -1.021849     1.263460\n",
              "..            ...          ...\n",
              "145      1.038005    -0.124958\n",
              "146      0.553333    -1.281972\n",
              "147      0.795669    -0.124958\n",
              "148      0.432165     0.800654\n",
              "149      0.068662    -0.124958\n",
              "\n",
              "[150 rows x 2 columns]"
            ]
          },
          "metadata": {
            "tags": []
          },
          "execution_count": 25
        }
      ]
    },
    {
      "cell_type": "code",
      "metadata": {
        "colab": {
          "base_uri": "https://localhost:8080/"
        },
        "id": "Jt_IgXzYTmA7",
        "outputId": "026ed8e8-c496-4f53-a8cb-87636b418716"
      },
      "source": [
        "kmeans_est = KMeans(2)\n",
        "kmeans_est.fit(df_sepalos_estandarizados)"
      ],
      "execution_count": null,
      "outputs": [
        {
          "output_type": "execute_result",
          "data": {
            "text/plain": [
              "KMeans(algorithm='auto', copy_x=True, init='k-means++', max_iter=300,\n",
              "       n_clusters=2, n_init=10, n_jobs=None, precompute_distances='auto',\n",
              "       random_state=None, tol=0.0001, verbose=0)"
            ]
          },
          "metadata": {
            "tags": []
          },
          "execution_count": 26
        }
      ]
    },
    {
      "cell_type": "code",
      "metadata": {
        "colab": {
          "base_uri": "https://localhost:8080/",
          "height": 419
        },
        "id": "ssWNZw1JTmA7",
        "outputId": "ce5f300c-5a65-4b27-d763-3e2c5be22579"
      },
      "source": [
        "clusters_sepalo_identificados_est = kmeans_est.fit_predict(df_sepalos_estandarizados)\n",
        "df_sepalo_con_clusters_est = df_sepalos_estandarizados.copy()\n",
        "df_sepalo_con_clusters_est['Cluster'] = clusters_sepalo_identificados_est\n",
        "df_sepalo_con_clusters_est"
      ],
      "execution_count": null,
      "outputs": [
        {
          "output_type": "execute_result",
          "data": {
            "text/html": [
              "<div>\n",
              "<style scoped>\n",
              "    .dataframe tbody tr th:only-of-type {\n",
              "        vertical-align: middle;\n",
              "    }\n",
              "\n",
              "    .dataframe tbody tr th {\n",
              "        vertical-align: top;\n",
              "    }\n",
              "\n",
              "    .dataframe thead th {\n",
              "        text-align: right;\n",
              "    }\n",
              "</style>\n",
              "<table border=\"1\" class=\"dataframe\">\n",
              "  <thead>\n",
              "    <tr style=\"text-align: right;\">\n",
              "      <th></th>\n",
              "      <th>sepal_length</th>\n",
              "      <th>sepal_width</th>\n",
              "      <th>Cluster</th>\n",
              "    </tr>\n",
              "  </thead>\n",
              "  <tbody>\n",
              "    <tr>\n",
              "      <th>0</th>\n",
              "      <td>-0.900681</td>\n",
              "      <td>1.032057</td>\n",
              "      <td>0</td>\n",
              "    </tr>\n",
              "    <tr>\n",
              "      <th>1</th>\n",
              "      <td>-1.143017</td>\n",
              "      <td>-0.124958</td>\n",
              "      <td>0</td>\n",
              "    </tr>\n",
              "    <tr>\n",
              "      <th>2</th>\n",
              "      <td>-1.385353</td>\n",
              "      <td>0.337848</td>\n",
              "      <td>0</td>\n",
              "    </tr>\n",
              "    <tr>\n",
              "      <th>3</th>\n",
              "      <td>-1.506521</td>\n",
              "      <td>0.106445</td>\n",
              "      <td>0</td>\n",
              "    </tr>\n",
              "    <tr>\n",
              "      <th>4</th>\n",
              "      <td>-1.021849</td>\n",
              "      <td>1.263460</td>\n",
              "      <td>0</td>\n",
              "    </tr>\n",
              "    <tr>\n",
              "      <th>...</th>\n",
              "      <td>...</td>\n",
              "      <td>...</td>\n",
              "      <td>...</td>\n",
              "    </tr>\n",
              "    <tr>\n",
              "      <th>145</th>\n",
              "      <td>1.038005</td>\n",
              "      <td>-0.124958</td>\n",
              "      <td>1</td>\n",
              "    </tr>\n",
              "    <tr>\n",
              "      <th>146</th>\n",
              "      <td>0.553333</td>\n",
              "      <td>-1.281972</td>\n",
              "      <td>1</td>\n",
              "    </tr>\n",
              "    <tr>\n",
              "      <th>147</th>\n",
              "      <td>0.795669</td>\n",
              "      <td>-0.124958</td>\n",
              "      <td>1</td>\n",
              "    </tr>\n",
              "    <tr>\n",
              "      <th>148</th>\n",
              "      <td>0.432165</td>\n",
              "      <td>0.800654</td>\n",
              "      <td>1</td>\n",
              "    </tr>\n",
              "    <tr>\n",
              "      <th>149</th>\n",
              "      <td>0.068662</td>\n",
              "      <td>-0.124958</td>\n",
              "      <td>1</td>\n",
              "    </tr>\n",
              "  </tbody>\n",
              "</table>\n",
              "<p>150 rows × 3 columns</p>\n",
              "</div>"
            ],
            "text/plain": [
              "     sepal_length  sepal_width  Cluster\n",
              "0       -0.900681     1.032057        0\n",
              "1       -1.143017    -0.124958        0\n",
              "2       -1.385353     0.337848        0\n",
              "3       -1.506521     0.106445        0\n",
              "4       -1.021849     1.263460        0\n",
              "..            ...          ...      ...\n",
              "145      1.038005    -0.124958        1\n",
              "146      0.553333    -1.281972        1\n",
              "147      0.795669    -0.124958        1\n",
              "148      0.432165     0.800654        1\n",
              "149      0.068662    -0.124958        1\n",
              "\n",
              "[150 rows x 3 columns]"
            ]
          },
          "metadata": {
            "tags": []
          },
          "execution_count": 27
        }
      ]
    },
    {
      "cell_type": "code",
      "metadata": {
        "colab": {
          "base_uri": "https://localhost:8080/",
          "height": 351
        },
        "id": "wzx7WkgSTmA8",
        "outputId": "ac500fab-a61c-4a48-a180-21b8c0145d43"
      },
      "source": [
        "sns.scatterplot(df_sepalo_con_clusters_est[\"sepal_length\"], df_sepalo_con_clusters_est[\"sepal_width\"], hue= df_sepalo_con_clusters_est[\"Cluster\"])"
      ],
      "execution_count": null,
      "outputs": [
        {
          "output_type": "stream",
          "text": [
            "/usr/local/lib/python3.7/dist-packages/seaborn/_decorators.py:43: FutureWarning: Pass the following variables as keyword args: x, y. From version 0.12, the only valid positional argument will be `data`, and passing other arguments without an explicit keyword will result in an error or misinterpretation.\n",
            "  FutureWarning\n"
          ],
          "name": "stderr"
        },
        {
          "output_type": "execute_result",
          "data": {
            "text/plain": [
              "<matplotlib.axes._subplots.AxesSubplot at 0x7fdeed20b750>"
            ]
          },
          "metadata": {
            "tags": []
          },
          "execution_count": 28
        },
        {
          "output_type": "display_data",
          "data": {
            "image/png": "[encoded data removed]",
            "text/plain": [
              "<Figure size 432x288 with 1 Axes>"
            ]
          },
          "metadata": {
            "tags": [],
            "needs_background": "light"
          }
        }
      ]
    },
    {
      "cell_type": "markdown",
      "metadata": {
        "id": "APOOgZkbebN0"
      },
      "source": [
        "##### ¿Qué diferencias hay, si es que lo hay? \n",
        "\n",
        "La diferencia con el proceso de estandarización es que en comparación a los grupos originales; ahora un grupo tiene más elementos. Esto debido al \"peso\" que se les asignó a los valores y ya se definió de una mejor manera los *clusters*"
      ]
    },
    {
      "cell_type": "markdown",
      "metadata": {
        "id": "dakDJIseTmA8"
      },
      "source": [
        "### Utilicen el método del \"codo\" para determinar cuantos \"clusters\" hay. "
      ]
    },
    {
      "cell_type": "code",
      "metadata": {
        "colab": {
          "base_uri": "https://localhost:8080/",
          "height": 282
        },
        "id": "6LO_mfR3TmA8",
        "outputId": "26855981-b730-4298-e6a8-bdc6526568a6"
      },
      "source": [
        "kmeans_kwargs = {\n",
        "    \"init\": \"random\",\n",
        "    \"n_init\": 10,\n",
        "    \"max_iter\": 300,\n",
        "    \"random_state\": 42,\n",
        "}\n",
        "\n",
        "# Creamos una lista para almacenar los valores de SSE\n",
        "sse = []\n",
        "for k in range(1, 11):\n",
        "    kmeans_t= KMeans(n_clusters=k, **kmeans_kwargs)\n",
        "    kmeans_t.fit(df_sepalos_estandarizados)\n",
        "    sse.append(kmeans_t.inertia_)\n",
        "\n",
        "sns.lineplot(x=range(1,11), y=sse)"
      ],
      "execution_count": null,
      "outputs": [
        {
          "output_type": "execute_result",
          "data": {
            "text/plain": [
              "<matplotlib.axes._subplots.AxesSubplot at 0x7fdef68ce1d0>"
            ]
          },
          "metadata": {
            "tags": []
          },
          "execution_count": 29
        },
        {
          "output_type": "display_data",
          "data": {
            "image/png": "[encoded data removed]",
            "text/plain": [
              "<Figure size 432x288 with 1 Axes>"
            ]
          },
          "metadata": {
            "tags": [],
            "needs_background": "light"
          }
        }
      ]
    },
    {
      "cell_type": "markdown",
      "metadata": {
        "id": "PbkeicZZTmA8"
      },
      "source": [
        "### Basado en la gráfica del \"codo\" realicen varias gráficas con el número adecuado de clusters que Uds creen mejor se ajusten a los datos."
      ]
    },
    {
      "cell_type": "code",
      "metadata": {
        "colab": {
          "base_uri": "https://localhost:8080/",
          "height": 351
        },
        "id": "e2MKim7fTmA9",
        "outputId": "159adb3c-5d39-4265-96fa-69b214b15bff"
      },
      "source": [
        "kmeans_f = KMeans(3)\n",
        "kmeans_f.fit(df_sepalos_estandarizados)\n",
        "clusters_sepalo_identificados_f = kmeans_f.fit_predict(df_sepalos_estandarizados)\n",
        "df_sepalo_con_clusters_f = df_sepalos_estandarizados.copy()\n",
        "df_sepalo_con_clusters_f['Cluster'] = clusters_sepalo_identificados_f\n",
        "sns.scatterplot(df_sepalo_con_clusters_f[\"sepal_length\"], df_sepalo_con_clusters_f[\"sepal_width\"], hue= df_sepalo_con_clusters_f[\"Cluster\"])"
      ],
      "execution_count": null,
      "outputs": [
        {
          "output_type": "stream",
          "text": [
            "/usr/local/lib/python3.7/dist-packages/seaborn/_decorators.py:43: FutureWarning: Pass the following variables as keyword args: x, y. From version 0.12, the only valid positional argument will be `data`, and passing other arguments without an explicit keyword will result in an error or misinterpretation.\n",
            "  FutureWarning\n"
          ],
          "name": "stderr"
        },
        {
          "output_type": "execute_result",
          "data": {
            "text/plain": [
              "<matplotlib.axes._subplots.AxesSubplot at 0x7fdef69cb610>"
            ]
          },
          "metadata": {
            "tags": []
          },
          "execution_count": 30
        },
        {
          "output_type": "display_data",
          "data": {
            "image/png": "[encoded data removed]",
            "text/plain": [
              "<Figure size 432x288 with 1 Axes>"
            ]
          },
          "metadata": {
            "tags": [],
            "needs_background": "light"
          }
        }
      ]
    },
    {
      "cell_type": "code",
      "metadata": {
        "colab": {
          "base_uri": "https://localhost:8080/",
          "height": 419
        },
        "id": "J31peWnRTmA9",
        "outputId": "c52e95a7-6f82-48f1-b9db-edfb041f140e"
      },
      "source": [
        "df_sepalo_con_clusters_f"
      ],
      "execution_count": null,
      "outputs": [
        {
          "output_type": "execute_result",
          "data": {
            "text/html": [
              "<div>\n",
              "<style scoped>\n",
              "    .dataframe tbody tr th:only-of-type {\n",
              "        vertical-align: middle;\n",
              "    }\n",
              "\n",
              "    .dataframe tbody tr th {\n",
              "        vertical-align: top;\n",
              "    }\n",
              "\n",
              "    .dataframe thead th {\n",
              "        text-align: right;\n",
              "    }\n",
              "</style>\n",
              "<table border=\"1\" class=\"dataframe\">\n",
              "  <thead>\n",
              "    <tr style=\"text-align: right;\">\n",
              "      <th></th>\n",
              "      <th>sepal_length</th>\n",
              "      <th>sepal_width</th>\n",
              "      <th>Cluster</th>\n",
              "    </tr>\n",
              "  </thead>\n",
              "  <tbody>\n",
              "    <tr>\n",
              "      <th>0</th>\n",
              "      <td>-0.900681</td>\n",
              "      <td>1.032057</td>\n",
              "      <td>1</td>\n",
              "    </tr>\n",
              "    <tr>\n",
              "      <th>1</th>\n",
              "      <td>-1.143017</td>\n",
              "      <td>-0.124958</td>\n",
              "      <td>1</td>\n",
              "    </tr>\n",
              "    <tr>\n",
              "      <th>2</th>\n",
              "      <td>-1.385353</td>\n",
              "      <td>0.337848</td>\n",
              "      <td>1</td>\n",
              "    </tr>\n",
              "    <tr>\n",
              "      <th>3</th>\n",
              "      <td>-1.506521</td>\n",
              "      <td>0.106445</td>\n",
              "      <td>1</td>\n",
              "    </tr>\n",
              "    <tr>\n",
              "      <th>4</th>\n",
              "      <td>-1.021849</td>\n",
              "      <td>1.263460</td>\n",
              "      <td>1</td>\n",
              "    </tr>\n",
              "    <tr>\n",
              "      <th>...</th>\n",
              "      <td>...</td>\n",
              "      <td>...</td>\n",
              "      <td>...</td>\n",
              "    </tr>\n",
              "    <tr>\n",
              "      <th>145</th>\n",
              "      <td>1.038005</td>\n",
              "      <td>-0.124958</td>\n",
              "      <td>2</td>\n",
              "    </tr>\n",
              "    <tr>\n",
              "      <th>146</th>\n",
              "      <td>0.553333</td>\n",
              "      <td>-1.281972</td>\n",
              "      <td>0</td>\n",
              "    </tr>\n",
              "    <tr>\n",
              "      <th>147</th>\n",
              "      <td>0.795669</td>\n",
              "      <td>-0.124958</td>\n",
              "      <td>2</td>\n",
              "    </tr>\n",
              "    <tr>\n",
              "      <th>148</th>\n",
              "      <td>0.432165</td>\n",
              "      <td>0.800654</td>\n",
              "      <td>2</td>\n",
              "    </tr>\n",
              "    <tr>\n",
              "      <th>149</th>\n",
              "      <td>0.068662</td>\n",
              "      <td>-0.124958</td>\n",
              "      <td>0</td>\n",
              "    </tr>\n",
              "  </tbody>\n",
              "</table>\n",
              "<p>150 rows × 3 columns</p>\n",
              "</div>"
            ],
            "text/plain": [
              "     sepal_length  sepal_width  Cluster\n",
              "0       -0.900681     1.032057        1\n",
              "1       -1.143017    -0.124958        1\n",
              "2       -1.385353     0.337848        1\n",
              "3       -1.506521     0.106445        1\n",
              "4       -1.021849     1.263460        1\n",
              "..            ...          ...      ...\n",
              "145      1.038005    -0.124958        2\n",
              "146      0.553333    -1.281972        0\n",
              "147      0.795669    -0.124958        2\n",
              "148      0.432165     0.800654        2\n",
              "149      0.068662    -0.124958        0\n",
              "\n",
              "[150 rows x 3 columns]"
            ]
          },
          "metadata": {
            "tags": []
          },
          "execution_count": 31
        }
      ]
    },
    {
      "cell_type": "markdown",
      "metadata": {
        "id": "3unsfH_bTmA9"
      },
      "source": [
        "### Comparen sus soluciones con los datos reales, archivo: *iris-with-answers.csv*\n",
        "**Obviamente solo hay tres especies, porque ese es el archivo de datos reales!**"
      ]
    },
    {
      "cell_type": "code",
      "metadata": {
        "colab": {
          "base_uri": "https://localhost:8080/"
        },
        "id": "m7lzupVMTmA-",
        "outputId": "fd9aa82e-5221-4b94-bf76-ed8e7eeb5bd2"
      },
      "source": [
        "data_real = pd.read_csv(\"https://raw.githubusercontent.com/RudiksChess/UVG-DataScience-Notas-6-Semestre/main/Lab3/iris-with-answers.csv\")\n",
        "interes_real = data_real[\"species\"].map({'setosa':1,'virginica':2,'versicolor':0})\n",
        "interes_prueba = df_sepalo_con_clusters_f[\"Cluster\"]\n",
        "\n",
        "iguales = 0\n",
        "distintos = 0\n",
        "for i in range(0,len(interes_real)): \n",
        "  if interes_real[i] == interes_prueba[i]:\n",
        "    iguales += 1 \n",
        "  else: \n",
        "    distintos +=1 \n",
        "\n",
        "print(iguales, distintos)"
      ],
      "execution_count": 54,
      "outputs": [
        {
          "output_type": "stream",
          "text": [
            "116 34\n"
          ],
          "name": "stdout"
        }
      ]
    },
    {
      "cell_type": "markdown",
      "metadata": {
        "id": "_0rYJXbMTmA-"
      },
      "source": [
        "\n",
        "### ¿Funcionó el clustering con la forma del sépalo?"
      ]
    },
    {
      "cell_type": "markdown",
      "metadata": {
        "id": "Umt4ErsMggaO"
      },
      "source": [
        "El porcentaje de clasificación correcta fue: "
      ]
    },
    {
      "cell_type": "code",
      "metadata": {
        "colab": {
          "base_uri": "https://localhost:8080/"
        },
        "id": "oB2PS41eh41S",
        "outputId": "8ab8d482-3b67-47cf-da42-2253807ad724"
      },
      "source": [
        "print(iguales/len(interes_prueba))"
      ],
      "execution_count": 55,
      "outputs": [
        {
          "output_type": "stream",
          "text": [
            "0.7733333333333333\n"
          ],
          "name": "stdout"
        }
      ]
    },
    {
      "cell_type": "markdown",
      "metadata": {
        "id": "E8JhogrYiDFU"
      },
      "source": [
        "El porcentaje de clasificación incorrecta fue: "
      ]
    },
    {
      "cell_type": "code",
      "metadata": {
        "colab": {
          "base_uri": "https://localhost:8080/"
        },
        "id": "wUz1cd9hiDFV",
        "outputId": "5e123107-289a-4c53-946d-142747e0502f"
      },
      "source": [
        "print(distintos/len(interes_prueba))"
      ],
      "execution_count": 56,
      "outputs": [
        {
          "output_type": "stream",
          "text": [
            "0.22666666666666666\n"
          ],
          "name": "stdout"
        }
      ]
    },
    {
      "cell_type": "markdown",
      "metadata": {
        "id": "f2rIHwzf32xH"
      },
      "source": [
        "## **Sección 2:**\n",
        "\n",
        "Repitan el proceso pero ahora utilizando la forma del pétalo.  Respondan a las mismas preguntas"
      ]
    },
    {
      "cell_type": "markdown",
      "metadata": {
        "id": "Z_dx4PenIXM0"
      },
      "source": [
        "### Agrupen las flores por la forma de su sépalo:"
      ]
    },
    {
      "cell_type": "code",
      "metadata": {
        "colab": {
          "base_uri": "https://localhost:8080/",
          "height": 204
        },
        "id": "1v5KKAslQmU9",
        "outputId": "d22b2b55-c542-4351-9f0a-a4858b5a533c"
      },
      "source": [
        "df_petal = df.filter([\"petal_length\",\"petal_width\"])\n",
        "df_petal.head()"
      ],
      "execution_count": 34,
      "outputs": [
        {
          "output_type": "execute_result",
          "data": {
            "text/html": [
              "<div>\n",
              "<style scoped>\n",
              "    .dataframe tbody tr th:only-of-type {\n",
              "        vertical-align: middle;\n",
              "    }\n",
              "\n",
              "    .dataframe tbody tr th {\n",
              "        vertical-align: top;\n",
              "    }\n",
              "\n",
              "    .dataframe thead th {\n",
              "        text-align: right;\n",
              "    }\n",
              "</style>\n",
              "<table border=\"1\" class=\"dataframe\">\n",
              "  <thead>\n",
              "    <tr style=\"text-align: right;\">\n",
              "      <th></th>\n",
              "      <th>petal_length</th>\n",
              "      <th>petal_width</th>\n",
              "    </tr>\n",
              "  </thead>\n",
              "  <tbody>\n",
              "    <tr>\n",
              "      <th>0</th>\n",
              "      <td>1.4</td>\n",
              "      <td>0.2</td>\n",
              "    </tr>\n",
              "    <tr>\n",
              "      <th>1</th>\n",
              "      <td>1.4</td>\n",
              "      <td>0.2</td>\n",
              "    </tr>\n",
              "    <tr>\n",
              "      <th>2</th>\n",
              "      <td>1.3</td>\n",
              "      <td>0.2</td>\n",
              "    </tr>\n",
              "    <tr>\n",
              "      <th>3</th>\n",
              "      <td>1.5</td>\n",
              "      <td>0.2</td>\n",
              "    </tr>\n",
              "    <tr>\n",
              "      <th>4</th>\n",
              "      <td>1.4</td>\n",
              "      <td>0.2</td>\n",
              "    </tr>\n",
              "  </tbody>\n",
              "</table>\n",
              "</div>"
            ],
            "text/plain": [
              "   petal_length  petal_width\n",
              "0           1.4          0.2\n",
              "1           1.4          0.2\n",
              "2           1.3          0.2\n",
              "3           1.5          0.2\n",
              "4           1.4          0.2"
            ]
          },
          "metadata": {
            "tags": []
          },
          "execution_count": 34
        }
      ]
    },
    {
      "cell_type": "markdown",
      "metadata": {
        "id": "Mi-I7dDGIZHM"
      },
      "source": [
        "### Empiecen por crear 2 \"clusters\".  Luego estandaricen los datos e intenten de nuevo."
      ]
    },
    {
      "cell_type": "markdown",
      "metadata": {
        "id": "TOYYIKbPZTrO"
      },
      "source": [
        "#### Sin estandarizar"
      ]
    },
    {
      "cell_type": "code",
      "metadata": {
        "colab": {
          "base_uri": "https://localhost:8080/"
        },
        "id": "dMUhQiMsWy4A",
        "outputId": "a87c3ba7-247e-428c-f514-53ed1c9a7091"
      },
      "source": [
        "kmeans = KMeans(2)\n",
        "kmeans.fit(df_petal)"
      ],
      "execution_count": 35,
      "outputs": [
        {
          "output_type": "execute_result",
          "data": {
            "text/plain": [
              "KMeans(algorithm='auto', copy_x=True, init='k-means++', max_iter=300,\n",
              "       n_clusters=2, n_init=10, n_jobs=None, precompute_distances='auto',\n",
              "       random_state=None, tol=0.0001, verbose=0)"
            ]
          },
          "metadata": {
            "tags": []
          },
          "execution_count": 35
        }
      ]
    },
    {
      "cell_type": "code",
      "metadata": {
        "colab": {
          "base_uri": "https://localhost:8080/",
          "height": 419
        },
        "id": "CW6PsyZtW_fO",
        "outputId": "b59cb0e2-b8ea-4acc-e3ae-93d4a8e0db29"
      },
      "source": [
        "clusters_petal_identificados = kmeans.fit_predict(df_petal)\n",
        "df_petal_con_clusters = df_petal.copy()\n",
        "df_petal_con_clusters['Cluster'] = clusters_petal_identificados \n",
        "df_petal_con_clusters "
      ],
      "execution_count": 36,
      "outputs": [
        {
          "output_type": "execute_result",
          "data": {
            "text/html": [
              "<div>\n",
              "<style scoped>\n",
              "    .dataframe tbody tr th:only-of-type {\n",
              "        vertical-align: middle;\n",
              "    }\n",
              "\n",
              "    .dataframe tbody tr th {\n",
              "        vertical-align: top;\n",
              "    }\n",
              "\n",
              "    .dataframe thead th {\n",
              "        text-align: right;\n",
              "    }\n",
              "</style>\n",
              "<table border=\"1\" class=\"dataframe\">\n",
              "  <thead>\n",
              "    <tr style=\"text-align: right;\">\n",
              "      <th></th>\n",
              "      <th>petal_length</th>\n",
              "      <th>petal_width</th>\n",
              "      <th>Cluster</th>\n",
              "    </tr>\n",
              "  </thead>\n",
              "  <tbody>\n",
              "    <tr>\n",
              "      <th>0</th>\n",
              "      <td>1.4</td>\n",
              "      <td>0.2</td>\n",
              "      <td>0</td>\n",
              "    </tr>\n",
              "    <tr>\n",
              "      <th>1</th>\n",
              "      <td>1.4</td>\n",
              "      <td>0.2</td>\n",
              "      <td>0</td>\n",
              "    </tr>\n",
              "    <tr>\n",
              "      <th>2</th>\n",
              "      <td>1.3</td>\n",
              "      <td>0.2</td>\n",
              "      <td>0</td>\n",
              "    </tr>\n",
              "    <tr>\n",
              "      <th>3</th>\n",
              "      <td>1.5</td>\n",
              "      <td>0.2</td>\n",
              "      <td>0</td>\n",
              "    </tr>\n",
              "    <tr>\n",
              "      <th>4</th>\n",
              "      <td>1.4</td>\n",
              "      <td>0.2</td>\n",
              "      <td>0</td>\n",
              "    </tr>\n",
              "    <tr>\n",
              "      <th>...</th>\n",
              "      <td>...</td>\n",
              "      <td>...</td>\n",
              "      <td>...</td>\n",
              "    </tr>\n",
              "    <tr>\n",
              "      <th>145</th>\n",
              "      <td>5.2</td>\n",
              "      <td>2.3</td>\n",
              "      <td>1</td>\n",
              "    </tr>\n",
              "    <tr>\n",
              "      <th>146</th>\n",
              "      <td>5.0</td>\n",
              "      <td>1.9</td>\n",
              "      <td>1</td>\n",
              "    </tr>\n",
              "    <tr>\n",
              "      <th>147</th>\n",
              "      <td>5.2</td>\n",
              "      <td>2.0</td>\n",
              "      <td>1</td>\n",
              "    </tr>\n",
              "    <tr>\n",
              "      <th>148</th>\n",
              "      <td>5.4</td>\n",
              "      <td>2.3</td>\n",
              "      <td>1</td>\n",
              "    </tr>\n",
              "    <tr>\n",
              "      <th>149</th>\n",
              "      <td>5.1</td>\n",
              "      <td>1.8</td>\n",
              "      <td>1</td>\n",
              "    </tr>\n",
              "  </tbody>\n",
              "</table>\n",
              "<p>150 rows × 3 columns</p>\n",
              "</div>"
            ],
            "text/plain": [
              "     petal_length  petal_width  Cluster\n",
              "0             1.4          0.2        0\n",
              "1             1.4          0.2        0\n",
              "2             1.3          0.2        0\n",
              "3             1.5          0.2        0\n",
              "4             1.4          0.2        0\n",
              "..            ...          ...      ...\n",
              "145           5.2          2.3        1\n",
              "146           5.0          1.9        1\n",
              "147           5.2          2.0        1\n",
              "148           5.4          2.3        1\n",
              "149           5.1          1.8        1\n",
              "\n",
              "[150 rows x 3 columns]"
            ]
          },
          "metadata": {
            "tags": []
          },
          "execution_count": 36
        }
      ]
    },
    {
      "cell_type": "code",
      "metadata": {
        "colab": {
          "base_uri": "https://localhost:8080/",
          "height": 351
        },
        "id": "7w_reLgpX22t",
        "outputId": "6cb6d8d5-f02f-47fa-9879-dddcaf004816"
      },
      "source": [
        "sns.scatterplot(df_petal_con_clusters[\"petal_length\"], df_petal_con_clusters[\"petal_width\"], hue= df_petal_con_clusters[\"Cluster\"])"
      ],
      "execution_count": 38,
      "outputs": [
        {
          "output_type": "stream",
          "text": [
            "/usr/local/lib/python3.7/dist-packages/seaborn/_decorators.py:43: FutureWarning: Pass the following variables as keyword args: x, y. From version 0.12, the only valid positional argument will be `data`, and passing other arguments without an explicit keyword will result in an error or misinterpretation.\n",
            "  FutureWarning\n"
          ],
          "name": "stderr"
        },
        {
          "output_type": "execute_result",
          "data": {
            "text/plain": [
              "<matplotlib.axes._subplots.AxesSubplot at 0x7fdeecee0790>"
            ]
          },
          "metadata": {
            "tags": []
          },
          "execution_count": 38
        },
        {
          "output_type": "display_data",
          "data": {
            "image/png": "[encoded data removed]",
            "text/plain": [
              "<Figure size 432x288 with 1 Axes>"
            ]
          },
          "metadata": {
            "tags": [],
            "needs_background": "light"
          }
        }
      ]
    },
    {
      "cell_type": "markdown",
      "metadata": {
        "id": "dVuuPmONbFJD"
      },
      "source": [
        "#### Estandarizados "
      ]
    },
    {
      "cell_type": "code",
      "metadata": {
        "colab": {
          "base_uri": "https://localhost:8080/",
          "height": 419
        },
        "id": "WBjVoPaqb070",
        "outputId": "27ad5634-4647-4142-9e15-a1748fb88752"
      },
      "source": [
        "escalador = StandardScaler()\n",
        "datos_escalados = escalador.fit_transform(df_petal)\n",
        "df_petal_estandarizados = pd.DataFrame(datos_escalados, columns= df_petal.columns.values)\n",
        "df_petal_estandarizados"
      ],
      "execution_count": 39,
      "outputs": [
        {
          "output_type": "execute_result",
          "data": {
            "text/html": [
              "<div>\n",
              "<style scoped>\n",
              "    .dataframe tbody tr th:only-of-type {\n",
              "        vertical-align: middle;\n",
              "    }\n",
              "\n",
              "    .dataframe tbody tr th {\n",
              "        vertical-align: top;\n",
              "    }\n",
              "\n",
              "    .dataframe thead th {\n",
              "        text-align: right;\n",
              "    }\n",
              "</style>\n",
              "<table border=\"1\" class=\"dataframe\">\n",
              "  <thead>\n",
              "    <tr style=\"text-align: right;\">\n",
              "      <th></th>\n",
              "      <th>petal_length</th>\n",
              "      <th>petal_width</th>\n",
              "    </tr>\n",
              "  </thead>\n",
              "  <tbody>\n",
              "    <tr>\n",
              "      <th>0</th>\n",
              "      <td>-1.341272</td>\n",
              "      <td>-1.312977</td>\n",
              "    </tr>\n",
              "    <tr>\n",
              "      <th>1</th>\n",
              "      <td>-1.341272</td>\n",
              "      <td>-1.312977</td>\n",
              "    </tr>\n",
              "    <tr>\n",
              "      <th>2</th>\n",
              "      <td>-1.398138</td>\n",
              "      <td>-1.312977</td>\n",
              "    </tr>\n",
              "    <tr>\n",
              "      <th>3</th>\n",
              "      <td>-1.284407</td>\n",
              "      <td>-1.312977</td>\n",
              "    </tr>\n",
              "    <tr>\n",
              "      <th>4</th>\n",
              "      <td>-1.341272</td>\n",
              "      <td>-1.312977</td>\n",
              "    </tr>\n",
              "    <tr>\n",
              "      <th>...</th>\n",
              "      <td>...</td>\n",
              "      <td>...</td>\n",
              "    </tr>\n",
              "    <tr>\n",
              "      <th>145</th>\n",
              "      <td>0.819624</td>\n",
              "      <td>1.447956</td>\n",
              "    </tr>\n",
              "    <tr>\n",
              "      <th>146</th>\n",
              "      <td>0.705893</td>\n",
              "      <td>0.922064</td>\n",
              "    </tr>\n",
              "    <tr>\n",
              "      <th>147</th>\n",
              "      <td>0.819624</td>\n",
              "      <td>1.053537</td>\n",
              "    </tr>\n",
              "    <tr>\n",
              "      <th>148</th>\n",
              "      <td>0.933356</td>\n",
              "      <td>1.447956</td>\n",
              "    </tr>\n",
              "    <tr>\n",
              "      <th>149</th>\n",
              "      <td>0.762759</td>\n",
              "      <td>0.790591</td>\n",
              "    </tr>\n",
              "  </tbody>\n",
              "</table>\n",
              "<p>150 rows × 2 columns</p>\n",
              "</div>"
            ],
            "text/plain": [
              "     petal_length  petal_width\n",
              "0       -1.341272    -1.312977\n",
              "1       -1.341272    -1.312977\n",
              "2       -1.398138    -1.312977\n",
              "3       -1.284407    -1.312977\n",
              "4       -1.341272    -1.312977\n",
              "..            ...          ...\n",
              "145      0.819624     1.447956\n",
              "146      0.705893     0.922064\n",
              "147      0.819624     1.053537\n",
              "148      0.933356     1.447956\n",
              "149      0.762759     0.790591\n",
              "\n",
              "[150 rows x 2 columns]"
            ]
          },
          "metadata": {
            "tags": []
          },
          "execution_count": 39
        }
      ]
    },
    {
      "cell_type": "code",
      "metadata": {
        "colab": {
          "base_uri": "https://localhost:8080/"
        },
        "id": "_M1HeD76bIQU",
        "outputId": "9b6e5f00-115a-49be-a34c-6b08601cc0e4"
      },
      "source": [
        "kmeans_est = KMeans(2)\n",
        "kmeans_est.fit(df_petal_estandarizados)"
      ],
      "execution_count": 40,
      "outputs": [
        {
          "output_type": "execute_result",
          "data": {
            "text/plain": [
              "KMeans(algorithm='auto', copy_x=True, init='k-means++', max_iter=300,\n",
              "       n_clusters=2, n_init=10, n_jobs=None, precompute_distances='auto',\n",
              "       random_state=None, tol=0.0001, verbose=0)"
            ]
          },
          "metadata": {
            "tags": []
          },
          "execution_count": 40
        }
      ]
    },
    {
      "cell_type": "code",
      "metadata": {
        "colab": {
          "base_uri": "https://localhost:8080/",
          "height": 419
        },
        "id": "9Rii6s_ybL5q",
        "outputId": "d41d824d-478e-4282-9fb3-62a8349f20ab"
      },
      "source": [
        "clusters_petal_identificados_est = kmeans_est.fit_predict(df_petal_estandarizados)\n",
        "df_petal_con_clusters_est = df_petal_estandarizados.copy()\n",
        "df_petal_con_clusters_est['Cluster'] = clusters_petal_identificados_est\n",
        "df_petal_con_clusters_est"
      ],
      "execution_count": 41,
      "outputs": [
        {
          "output_type": "execute_result",
          "data": {
            "text/html": [
              "<div>\n",
              "<style scoped>\n",
              "    .dataframe tbody tr th:only-of-type {\n",
              "        vertical-align: middle;\n",
              "    }\n",
              "\n",
              "    .dataframe tbody tr th {\n",
              "        vertical-align: top;\n",
              "    }\n",
              "\n",
              "    .dataframe thead th {\n",
              "        text-align: right;\n",
              "    }\n",
              "</style>\n",
              "<table border=\"1\" class=\"dataframe\">\n",
              "  <thead>\n",
              "    <tr style=\"text-align: right;\">\n",
              "      <th></th>\n",
              "      <th>petal_length</th>\n",
              "      <th>petal_width</th>\n",
              "      <th>Cluster</th>\n",
              "    </tr>\n",
              "  </thead>\n",
              "  <tbody>\n",
              "    <tr>\n",
              "      <th>0</th>\n",
              "      <td>-1.341272</td>\n",
              "      <td>-1.312977</td>\n",
              "      <td>1</td>\n",
              "    </tr>\n",
              "    <tr>\n",
              "      <th>1</th>\n",
              "      <td>-1.341272</td>\n",
              "      <td>-1.312977</td>\n",
              "      <td>1</td>\n",
              "    </tr>\n",
              "    <tr>\n",
              "      <th>2</th>\n",
              "      <td>-1.398138</td>\n",
              "      <td>-1.312977</td>\n",
              "      <td>1</td>\n",
              "    </tr>\n",
              "    <tr>\n",
              "      <th>3</th>\n",
              "      <td>-1.284407</td>\n",
              "      <td>-1.312977</td>\n",
              "      <td>1</td>\n",
              "    </tr>\n",
              "    <tr>\n",
              "      <th>4</th>\n",
              "      <td>-1.341272</td>\n",
              "      <td>-1.312977</td>\n",
              "      <td>1</td>\n",
              "    </tr>\n",
              "    <tr>\n",
              "      <th>...</th>\n",
              "      <td>...</td>\n",
              "      <td>...</td>\n",
              "      <td>...</td>\n",
              "    </tr>\n",
              "    <tr>\n",
              "      <th>145</th>\n",
              "      <td>0.819624</td>\n",
              "      <td>1.447956</td>\n",
              "      <td>0</td>\n",
              "    </tr>\n",
              "    <tr>\n",
              "      <th>146</th>\n",
              "      <td>0.705893</td>\n",
              "      <td>0.922064</td>\n",
              "      <td>0</td>\n",
              "    </tr>\n",
              "    <tr>\n",
              "      <th>147</th>\n",
              "      <td>0.819624</td>\n",
              "      <td>1.053537</td>\n",
              "      <td>0</td>\n",
              "    </tr>\n",
              "    <tr>\n",
              "      <th>148</th>\n",
              "      <td>0.933356</td>\n",
              "      <td>1.447956</td>\n",
              "      <td>0</td>\n",
              "    </tr>\n",
              "    <tr>\n",
              "      <th>149</th>\n",
              "      <td>0.762759</td>\n",
              "      <td>0.790591</td>\n",
              "      <td>0</td>\n",
              "    </tr>\n",
              "  </tbody>\n",
              "</table>\n",
              "<p>150 rows × 3 columns</p>\n",
              "</div>"
            ],
            "text/plain": [
              "     petal_length  petal_width  Cluster\n",
              "0       -1.341272    -1.312977        1\n",
              "1       -1.341272    -1.312977        1\n",
              "2       -1.398138    -1.312977        1\n",
              "3       -1.284407    -1.312977        1\n",
              "4       -1.341272    -1.312977        1\n",
              "..            ...          ...      ...\n",
              "145      0.819624     1.447956        0\n",
              "146      0.705893     0.922064        0\n",
              "147      0.819624     1.053537        0\n",
              "148      0.933356     1.447956        0\n",
              "149      0.762759     0.790591        0\n",
              "\n",
              "[150 rows x 3 columns]"
            ]
          },
          "metadata": {
            "tags": []
          },
          "execution_count": 41
        }
      ]
    },
    {
      "cell_type": "code",
      "metadata": {
        "colab": {
          "base_uri": "https://localhost:8080/",
          "height": 351
        },
        "id": "2MrAeSEQbOOi",
        "outputId": "ea4dd011-a46e-462a-eb5b-c36131be8eff"
      },
      "source": [
        "sns.scatterplot(df_petal_con_clusters_est[\"petal_length\"], df_petal_con_clusters_est[\"petal_width\"], hue= df_petal_con_clusters_est[\"Cluster\"])"
      ],
      "execution_count": 42,
      "outputs": [
        {
          "output_type": "stream",
          "text": [
            "/usr/local/lib/python3.7/dist-packages/seaborn/_decorators.py:43: FutureWarning: Pass the following variables as keyword args: x, y. From version 0.12, the only valid positional argument will be `data`, and passing other arguments without an explicit keyword will result in an error or misinterpretation.\n",
            "  FutureWarning\n"
          ],
          "name": "stderr"
        },
        {
          "output_type": "execute_result",
          "data": {
            "text/plain": [
              "<matplotlib.axes._subplots.AxesSubplot at 0x7fdf14784190>"
            ]
          },
          "metadata": {
            "tags": []
          },
          "execution_count": 42
        },
        {
          "output_type": "display_data",
          "data": {
            "image/png": "[encoded data removed]",
            "text/plain": [
              "<Figure size 432x288 with 1 Axes>"
            ]
          },
          "metadata": {
            "tags": [],
            "needs_background": "light"
          }
        }
      ]
    },
    {
      "cell_type": "markdown",
      "metadata": {
        "id": "IOeyNONif69z"
      },
      "source": [
        "##### ¿Qué diferencias hay, si es que lo hay? \n",
        "\n",
        "La diferencia con el proceso de estandarización es que en comparación a los grupos originales; ahora un grupo tiene más elementos. Esto debido al \"peso\" que se les asignó a los valores y ya se definió de una mejor manera los *clusters*"
      ]
    },
    {
      "cell_type": "markdown",
      "metadata": {
        "id": "kJfgZXaJIawM"
      },
      "source": [
        "### Utilicen el método del \"codo\" para determinar cuantos \"clusters\" hay. "
      ]
    },
    {
      "cell_type": "code",
      "metadata": {
        "colab": {
          "base_uri": "https://localhost:8080/",
          "height": 282
        },
        "id": "MwMpqE5QYh_2",
        "outputId": "4691b68d-a6a5-4c30-8a63-eea2dbe5a4f7"
      },
      "source": [
        "kmeans_kwargs = {\n",
        "    \"init\": \"random\",\n",
        "    \"n_init\": 10,\n",
        "    \"max_iter\": 300,\n",
        "    \"random_state\": 42,\n",
        "}\n",
        "\n",
        "# Creamos una lista para almacenar los valores de SSE\n",
        "sse2 = []\n",
        "for k in range(1, 11):\n",
        "    kmeans_t= KMeans(n_clusters=k, **kmeans_kwargs)\n",
        "    kmeans_t.fit(df_petal_estandarizados)\n",
        "    sse2.append(kmeans_t.inertia_)\n",
        "\n",
        "sns.lineplot(x=range(1,11), y=sse2)"
      ],
      "execution_count": 51,
      "outputs": [
        {
          "output_type": "execute_result",
          "data": {
            "text/plain": [
              "<matplotlib.axes._subplots.AxesSubplot at 0x7fdef69b8850>"
            ]
          },
          "metadata": {
            "tags": []
          },
          "execution_count": 51
        },
        {
          "output_type": "display_data",
          "data": {
            "image/png": "[encoded data removed]",
            "text/plain": [
              "<Figure size 432x288 with 1 Axes>"
            ]
          },
          "metadata": {
            "tags": [],
            "needs_background": "light"
          }
        }
      ]
    },
    {
      "cell_type": "markdown",
      "metadata": {
        "id": "hcHh7t4bIcHz"
      },
      "source": [
        "### Basado en la gráfica del \"codo\" realicen varias gráficas con el número adecuado de clusters que Uds creen mejor se ajusten a los datos."
      ]
    },
    {
      "cell_type": "code",
      "metadata": {
        "colab": {
          "base_uri": "https://localhost:8080/",
          "height": 351
        },
        "id": "8yU2W6VJmE93",
        "outputId": "8a117711-7ca5-4a9d-c40a-3d1efa14ca49"
      },
      "source": [
        "kmeans_f = KMeans(3)\n",
        "kmeans_f.fit(df_petal_estandarizados)\n",
        "clusters_petal_identificados_f = kmeans_f.fit_predict(df_petal_estandarizados)\n",
        "df_petal_con_clusters_f = df_petal_estandarizados.copy()\n",
        "df_petal_con_clusters_f['Cluster'] = clusters_petal_identificados_f\n",
        "sns.scatterplot(df_petal_con_clusters_f[\"petal_length\"], df_petal_con_clusters_f[\"petal_width\"], hue= df_petal_con_clusters_f[\"Cluster\"])"
      ],
      "execution_count": 44,
      "outputs": [
        {
          "output_type": "stream",
          "text": [
            "/usr/local/lib/python3.7/dist-packages/seaborn/_decorators.py:43: FutureWarning: Pass the following variables as keyword args: x, y. From version 0.12, the only valid positional argument will be `data`, and passing other arguments without an explicit keyword will result in an error or misinterpretation.\n",
            "  FutureWarning\n"
          ],
          "name": "stderr"
        },
        {
          "output_type": "execute_result",
          "data": {
            "text/plain": [
              "<matplotlib.axes._subplots.AxesSubplot at 0x7fdef68f0150>"
            ]
          },
          "metadata": {
            "tags": []
          },
          "execution_count": 44
        },
        {
          "output_type": "display_data",
          "data": {
            "image/png": "[encoded data removed]",
            "text/plain": [
              "<Figure size 432x288 with 1 Axes>"
            ]
          },
          "metadata": {
            "tags": [],
            "needs_background": "light"
          }
        }
      ]
    },
    {
      "cell_type": "code",
      "metadata": {
        "colab": {
          "base_uri": "https://localhost:8080/",
          "height": 419
        },
        "id": "g1sdGxj9pOVO",
        "outputId": "861a813f-8a86-4424-b5ac-892363e21aa4"
      },
      "source": [
        "df_petal_con_clusters_f"
      ],
      "execution_count": 45,
      "outputs": [
        {
          "output_type": "execute_result",
          "data": {
            "text/html": [
              "<div>\n",
              "<style scoped>\n",
              "    .dataframe tbody tr th:only-of-type {\n",
              "        vertical-align: middle;\n",
              "    }\n",
              "\n",
              "    .dataframe tbody tr th {\n",
              "        vertical-align: top;\n",
              "    }\n",
              "\n",
              "    .dataframe thead th {\n",
              "        text-align: right;\n",
              "    }\n",
              "</style>\n",
              "<table border=\"1\" class=\"dataframe\">\n",
              "  <thead>\n",
              "    <tr style=\"text-align: right;\">\n",
              "      <th></th>\n",
              "      <th>petal_length</th>\n",
              "      <th>petal_width</th>\n",
              "      <th>Cluster</th>\n",
              "    </tr>\n",
              "  </thead>\n",
              "  <tbody>\n",
              "    <tr>\n",
              "      <th>0</th>\n",
              "      <td>-1.341272</td>\n",
              "      <td>-1.312977</td>\n",
              "      <td>1</td>\n",
              "    </tr>\n",
              "    <tr>\n",
              "      <th>1</th>\n",
              "      <td>-1.341272</td>\n",
              "      <td>-1.312977</td>\n",
              "      <td>1</td>\n",
              "    </tr>\n",
              "    <tr>\n",
              "      <th>2</th>\n",
              "      <td>-1.398138</td>\n",
              "      <td>-1.312977</td>\n",
              "      <td>1</td>\n",
              "    </tr>\n",
              "    <tr>\n",
              "      <th>3</th>\n",
              "      <td>-1.284407</td>\n",
              "      <td>-1.312977</td>\n",
              "      <td>1</td>\n",
              "    </tr>\n",
              "    <tr>\n",
              "      <th>4</th>\n",
              "      <td>-1.341272</td>\n",
              "      <td>-1.312977</td>\n",
              "      <td>1</td>\n",
              "    </tr>\n",
              "    <tr>\n",
              "      <th>...</th>\n",
              "      <td>...</td>\n",
              "      <td>...</td>\n",
              "      <td>...</td>\n",
              "    </tr>\n",
              "    <tr>\n",
              "      <th>145</th>\n",
              "      <td>0.819624</td>\n",
              "      <td>1.447956</td>\n",
              "      <td>2</td>\n",
              "    </tr>\n",
              "    <tr>\n",
              "      <th>146</th>\n",
              "      <td>0.705893</td>\n",
              "      <td>0.922064</td>\n",
              "      <td>2</td>\n",
              "    </tr>\n",
              "    <tr>\n",
              "      <th>147</th>\n",
              "      <td>0.819624</td>\n",
              "      <td>1.053537</td>\n",
              "      <td>2</td>\n",
              "    </tr>\n",
              "    <tr>\n",
              "      <th>148</th>\n",
              "      <td>0.933356</td>\n",
              "      <td>1.447956</td>\n",
              "      <td>2</td>\n",
              "    </tr>\n",
              "    <tr>\n",
              "      <th>149</th>\n",
              "      <td>0.762759</td>\n",
              "      <td>0.790591</td>\n",
              "      <td>2</td>\n",
              "    </tr>\n",
              "  </tbody>\n",
              "</table>\n",
              "<p>150 rows × 3 columns</p>\n",
              "</div>"
            ],
            "text/plain": [
              "     petal_length  petal_width  Cluster\n",
              "0       -1.341272    -1.312977        1\n",
              "1       -1.341272    -1.312977        1\n",
              "2       -1.398138    -1.312977        1\n",
              "3       -1.284407    -1.312977        1\n",
              "4       -1.341272    -1.312977        1\n",
              "..            ...          ...      ...\n",
              "145      0.819624     1.447956        2\n",
              "146      0.705893     0.922064        2\n",
              "147      0.819624     1.053537        2\n",
              "148      0.933356     1.447956        2\n",
              "149      0.762759     0.790591        2\n",
              "\n",
              "[150 rows x 3 columns]"
            ]
          },
          "metadata": {
            "tags": []
          },
          "execution_count": 45
        }
      ]
    },
    {
      "cell_type": "markdown",
      "metadata": {
        "id": "7dOvNFX4IdsD"
      },
      "source": [
        "### Comparen sus soluciones con los datos reales, archivo: *iris-with-answers.csv*\n",
        "**Obviamente solo hay tres especies, porque ese es el archivo de datos reales!**"
      ]
    },
    {
      "cell_type": "code",
      "metadata": {
        "id": "cdBi4GLXoatt"
      },
      "source": [
        "data_real = pd.read_csv(\"https://raw.githubusercontent.com/RudiksChess/UVG-DataScience-Notas-6-Semestre/main/Lab3/iris-with-answers.csv\")\n",
        "interes_real = data_real[\"species\"].map({'setosa':1,'virginica':2,'versicolor':0})\n",
        "interes_prueba = df_petal_con_clusters_f[\"Cluster\"]\n",
        "\n",
        "iguales = 0\n",
        "distintos = 0\n",
        "for i in range(0,len(interes_real)): \n",
        "  if interes_real[i] == interes_prueba[i]:\n",
        "    iguales += 1 \n",
        "  else: \n",
        "    distintos +=1 "
      ],
      "execution_count": 57,
      "outputs": []
    },
    {
      "cell_type": "markdown",
      "metadata": {
        "id": "u2i3AnoDIfQL"
      },
      "source": [
        "\n",
        "### ¿Funcionó el clustering con la forma del pétalo?"
      ]
    },
    {
      "cell_type": "markdown",
      "metadata": {
        "id": "EDi-VqrqicRj"
      },
      "source": [
        "El porcentaje de clasificación correcta fue: "
      ]
    },
    {
      "cell_type": "code",
      "metadata": {
        "colab": {
          "base_uri": "https://localhost:8080/"
        },
        "id": "Dqx7hrV6icRk",
        "outputId": "6330becf-6ef0-444c-a2b5-d6e5740c66ba"
      },
      "source": [
        "print(iguales/len(interes_prueba))"
      ],
      "execution_count": 58,
      "outputs": [
        {
          "output_type": "stream",
          "text": [
            "0.96\n"
          ],
          "name": "stdout"
        }
      ]
    },
    {
      "cell_type": "markdown",
      "metadata": {
        "id": "JnkN6m0uicRl"
      },
      "source": [
        "El porcentaje de clasificación incorrecta fue: "
      ]
    },
    {
      "cell_type": "code",
      "metadata": {
        "colab": {
          "base_uri": "https://localhost:8080/"
        },
        "id": "34V8Lyj8icRl",
        "outputId": "7fd3d91d-8249-4cba-f840-df1212689b0d"
      },
      "source": [
        "print(distintos/len(interes_prueba))"
      ],
      "execution_count": 59,
      "outputs": [
        {
          "output_type": "stream",
          "text": [
            "0.04\n"
          ],
          "name": "stdout"
        }
      ]
    },
    {
      "cell_type": "markdown",
      "metadata": {
        "id": "30aZkAPC4WWx"
      },
      "source": [
        "## **Sección 3:**\n",
        "\n",
        "Utilicen la librería \"kneed\" y vean si el resultado coincide con el método del \"codo\" que hicieron manualmente."
      ]
    },
    {
      "cell_type": "code",
      "metadata": {
        "id": "OvOnHyXwZkT5"
      },
      "source": [
        "! pip install kneed"
      ],
      "execution_count": null,
      "outputs": []
    },
    {
      "cell_type": "code",
      "metadata": {
        "id": "Y9xQBf5XQWCm"
      },
      "source": [
        "from kneed import KneeLocator"
      ],
      "execution_count": 49,
      "outputs": []
    },
    {
      "cell_type": "code",
      "metadata": {
        "colab": {
          "base_uri": "https://localhost:8080/"
        },
        "id": "-kUMcRo7ZpEH",
        "outputId": "b1704858-9bd7-4cb0-b46f-7c7ff98f97b9"
      },
      "source": [
        "kl1 = KneeLocator(\n",
        "    range(1, 11), sse, curve=\"convex\", direction=\"decreasing\"\n",
        ")\n",
        "\n",
        "kl1.elbow"
      ],
      "execution_count": 52,
      "outputs": [
        {
          "output_type": "execute_result",
          "data": {
            "text/plain": [
              "3"
            ]
          },
          "metadata": {
            "tags": []
          },
          "execution_count": 52
        }
      ]
    },
    {
      "cell_type": "code",
      "metadata": {
        "colab": {
          "base_uri": "https://localhost:8080/"
        },
        "id": "2SdMFcH7aIur",
        "outputId": "6ec0888d-ad02-4fbc-8822-a80bf8da0eb3"
      },
      "source": [
        "kl2 = KneeLocator(\n",
        "    range(1, 11), sse2, curve=\"convex\", direction=\"decreasing\"\n",
        ")\n",
        "\n",
        "kl1.elbow"
      ],
      "execution_count": 53,
      "outputs": [
        {
          "output_type": "execute_result",
          "data": {
            "text/plain": [
              "3"
            ]
          },
          "metadata": {
            "tags": []
          },
          "execution_count": 53
        }
      ]
    },
    {
      "cell_type": "markdown",
      "metadata": {
        "id": "Fgf8QbPnik-K"
      },
      "source": [
        "#### ¿A que podría deberse la diferencia, si la hay?  ¿Les dió el número correcto de clusters, comparado a los datos reales?  \n",
        "\n",
        "No existe diferencia; aunque esto también podría ser debido a mi sesgo, ya que sabía que serían 3 clusters. Aunque esto solo afectó en el de sépalos, ya que el \"codo\" no estaba muy bien definido. Por otra parte, en el de pétalos sí estaba muy bien definido. Finalmente, con el paquete de *kneed* se ajustó a lo esperado: 3 clusters (iguales de datos reales). "
      ]
    },
    {
      "cell_type": "markdown",
      "metadata": {
        "id": "8KaokB6eimdK"
      },
      "source": [
        "#### Basado en los resultado que tuvieron, ¿A qué conclusiones llegaron?\n",
        "\n",
        "El resultado que se obtuvo con el paquete de *kneed* es que deberían haber 3 clusters (como se esperaba). Por otra parte, se determinó que el modelo de *k-means* de pétalos es más preciso, ya que sobrepasa el 90\\% de predicción."
      ]
    }
  ]
}