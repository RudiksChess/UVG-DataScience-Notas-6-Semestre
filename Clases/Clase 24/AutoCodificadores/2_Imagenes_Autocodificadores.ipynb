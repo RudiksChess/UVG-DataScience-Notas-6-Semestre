{
 "cells": [
  {
   "cell_type": "markdown",
   "metadata": {},
   "source": [
    "# Uso de AutoCodificadores imagenes - reducción de dimensiones"
   ]
  },
  {
   "cell_type": "markdown",
   "metadata": {},
   "source": [
    "## Los Datos"
   ]
  },
  {
   "cell_type": "code",
   "execution_count": 1,
   "metadata": {},
   "outputs": [],
   "source": [
    "import pandas as pd\n",
    "import numpy as np\n",
    "import matplotlib.pyplot as plt"
   ]
  },
  {
   "cell_type": "code",
   "execution_count": 2,
   "metadata": {},
   "outputs": [],
   "source": [
    "from tensorflow.keras.datasets import mnist"
   ]
  },
  {
   "cell_type": "code",
   "execution_count": 3,
   "metadata": {},
   "outputs": [],
   "source": [
    "(X_entreno, y_entreno), (X_prueba, y_prueba) = mnist.load_data()"
   ]
  },
  {
   "cell_type": "code",
   "execution_count": 4,
   "metadata": {},
   "outputs": [
    {
     "data": {
      "text/plain": [
       "<matplotlib.image.AxesImage at 0x7ff76c9ffb10>"
      ]
     },
     "execution_count": 4,
     "metadata": {},
     "output_type": "execute_result"
    },
    {
     "data": {
      "image/png": "[encoded data removed]",
      "text/plain": [
       "<Figure size 432x288 with 1 Axes>"
      ]
     },
     "metadata": {
      "needs_background": "light"
     },
     "output_type": "display_data"
    }
   ],
   "source": [
    "plt.imshow(X_entreno[0])"
   ]
  },
  {
   "cell_type": "markdown",
   "metadata": {},
   "source": [
    "Se normalizan los datos (escala original 0 - 255)"
   ]
  },
  {
   "cell_type": "code",
   "execution_count": 5,
   "metadata": {},
   "outputs": [],
   "source": [
    "X_entreno = X_entreno/255\n",
    "X_prueba = X_prueba/255"
   ]
  },
  {
   "cell_type": "markdown",
   "metadata": {},
   "source": [
    "## AutoCodificador Básico"
   ]
  },
  {
   "cell_type": "code",
   "execution_count": 6,
   "metadata": {},
   "outputs": [],
   "source": [
    "from tensorflow.keras.models import Sequential\n",
    "from tensorflow.keras.layers import Dense,Flatten,Reshape\n",
    "from tensorflow.keras.optimizers import SGD"
   ]
  },
  {
   "cell_type": "markdown",
   "metadata": {
    "tags": []
   },
   "source": [
    "Es buena idea armar lo que se llama un \"AutoCodificador Apilado\" en el cual cada capa va rebajando el número de neuronas hasta el número que desee. \n",
    "\n",
    "Esto es principalmente para que el aprendizaje pueda ser más escalonado y no intentar que sea de un solo golpe.\n",
    "\n",
    "Para este ejercicio se irá bajando aproximadamente de mitad en mitad, hasta llegar a una capa de tan solo 25 neuronas.\n",
    "\n",
    "Esto es totalmente arbirtrario y pueden escogerse otros esquémas"
   ]
  },
  {
   "cell_type": "code",
   "execution_count": 7,
   "metadata": {},
   "outputs": [
    {
     "data": {
      "text/plain": [
       "392.0"
      ]
     },
     "execution_count": 7,
     "metadata": {},
     "output_type": "execute_result"
    }
   ],
   "source": [
    "784/2"
   ]
  },
  {
   "cell_type": "code",
   "execution_count": 9,
   "metadata": {},
   "outputs": [],
   "source": [
    "codificador = Sequential()\n",
    "codificador.add(Flatten(input_shape = [28, 28]))\n",
    "codificador.add(Dense(400, activation = \"relu\"))\n",
    "codificador.add(Dense(200, activation = \"relu\"))\n",
    "codificador.add(Dense(100, activation = \"relu\"))\n",
    "codificador.add(Dense(50, activation = \"relu\"))\n",
    "codificador.add(Dense(25, activation = \"relu\"))"
   ]
  },
  {
   "cell_type": "markdown",
   "metadata": {},
   "source": [
    "La capa final de codificador es de 25 neuronas,  El decodificador toma esa como entrada y va aumentando hasta llegar a la dimensión correcta.\n",
    "\n",
    "Como se desea comparar con la imagen original, es necesario cambiar al formato original de 28 X 28"
   ]
  },
  {
   "cell_type": "code",
   "execution_count": 10,
   "metadata": {},
   "outputs": [],
   "source": [
    "decodificador = Sequential()\n",
    "decodificador.add(Dense(50, input_shape = [25],\n",
    "                        activation = 'relu'))\n",
    "decodificador.add(Dense(100, activation = 'relu'))\n",
    "decodificador.add(Dense(200, activation = 'relu'))\n",
    "decodificador.add(Dense(400, activation = 'relu'))\n",
    "decodificador.add(Dense(784, activation = \"sigmoid\"))\n",
    "decodificador.add(Reshape([28, 28]))"
   ]
  },
  {
   "cell_type": "markdown",
   "metadata": {},
   "source": [
    "Conformar el autocodificador completo.\n",
    "\n",
    "Se utilza la función de pérdida *binary crossenthropy* porque no interesa obtener clases sino conocer si la imagen resultante es similar a la original."
   ]
  },
  {
   "cell_type": "code",
   "execution_count": 12,
   "metadata": {},
   "outputs": [],
   "source": [
    "autocodificador = Sequential([codificador, \n",
    "                              decodificador])\n",
    "autocodificador.compile(loss=\"binary_crossentropy\",optimizer=SGD(lr=1.5),metrics=['accuracy'])"
   ]
  },
  {
   "cell_type": "code",
   "execution_count": 13,
   "metadata": {},
   "outputs": [
    {
     "name": "stdout",
     "output_type": "stream",
     "text": [
      "Train on 60000 samples, validate on 10000 samples\n",
      "Epoch 1/5\n",
      "60000/60000 [==============================] - 16s 262us/sample - loss: 0.2522 - accuracy: 0.7910 - val_loss: 0.2146 - val_accuracy: 0.7952\n",
      "Epoch 2/5\n",
      "60000/60000 [==============================] - 14s 239us/sample - loss: 0.1904 - accuracy: 0.7967 - val_loss: 0.1695 - val_accuracy: 0.8013\n",
      "Epoch 3/5\n",
      "60000/60000 [==============================] - 14s 232us/sample - loss: 0.1620 - accuracy: 0.8015 - val_loss: 0.1559 - val_accuracy: 0.8051\n",
      "Epoch 4/5\n",
      "60000/60000 [==============================] - 14s 238us/sample - loss: 0.1489 - accuracy: 0.8039 - val_loss: 0.1444 - val_accuracy: 0.8062\n",
      "Epoch 5/5\n",
      "60000/60000 [==============================] - 14s 235us/sample - loss: 0.1420 - accuracy: 0.8054 - val_loss: 0.1400 - val_accuracy: 0.8025\n"
     ]
    },
    {
     "data": {
      "text/plain": [
       "<tensorflow.python.keras.callbacks.History at 0x7ff7488dee10>"
      ]
     },
     "execution_count": 13,
     "metadata": {},
     "output_type": "execute_result"
    }
   ],
   "source": [
    "autocodificador.fit(X_entreno, X_entreno, \n",
    "                    epochs = 5,\n",
    "                    validation_data=[X_prueba, \n",
    "                                     X_prueba])"
   ]
  },
  {
   "cell_type": "code",
   "execution_count": 14,
   "metadata": {},
   "outputs": [],
   "source": [
    "imagenes_pasadas = autocodificador.predict(X_prueba[:10])"
   ]
  },
  {
   "cell_type": "code",
   "execution_count": 15,
   "metadata": {},
   "outputs": [
    {
     "data": {
      "text/plain": [
       "<matplotlib.image.AxesImage at 0x7ff74d17c350>"
      ]
     },
     "execution_count": 15,
     "metadata": {},
     "output_type": "execute_result"
    },
    {
     "data": {
      "image/png": "[encoded data removed]",
      "text/plain": [
       "<Figure size 432x288 with 1 Axes>"
      ]
     },
     "metadata": {
      "needs_background": "light"
     },
     "output_type": "display_data"
    }
   ],
   "source": [
    "plt.imshow(imagenes_pasadas[0])"
   ]
  },
  {
   "cell_type": "code",
   "execution_count": 16,
   "metadata": {},
   "outputs": [
    {
     "data": {
      "text/plain": [
       "<matplotlib.image.AxesImage at 0x7ff75956f3d0>"
      ]
     },
     "execution_count": 16,
     "metadata": {},
     "output_type": "execute_result"
    },
    {
     "data": {
      "image/png": "[encoded data removed]",
      "text/plain": [
       "<Figure size 432x288 with 1 Axes>"
      ]
     },
     "metadata": {
      "needs_background": "light"
     },
     "output_type": "display_data"
    }
   ],
   "source": [
    "plt.imshow(X_prueba[0])"
   ]
  },
  {
   "cell_type": "markdown",
   "metadata": {},
   "source": [
    "# AutoCodificadores para reducir el ruido en imágenes"
   ]
  },
  {
   "cell_type": "code",
   "execution_count": 17,
   "metadata": {},
   "outputs": [],
   "source": [
    "from tensorflow.keras.layers import GaussianNoise"
   ]
  },
  {
   "cell_type": "code",
   "execution_count": 18,
   "metadata": {},
   "outputs": [],
   "source": [
    "muestra = GaussianNoise(0.2)"
   ]
  },
  {
   "cell_type": "code",
   "execution_count": 19,
   "metadata": {},
   "outputs": [
    {
     "name": "stdout",
     "output_type": "stream",
     "text": [
      "WARNING:tensorflow:Layer gaussian_noise is casting an input tensor from dtype float64 to the layer's dtype of float32, which is new behavior in TensorFlow 2.  The layer has dtype float32 because it's dtype defaults to floatx.\n",
      "\n",
      "If you intended to run this layer in float32, you can safely ignore this warning. If in doubt, this warning is likely only an issue if you are porting a TensorFlow 1.X model to TensorFlow 2.\n",
      "\n",
      "To change all layers to have dtype float64 by default, call `tf.keras.backend.set_floatx('float64')`. To change just this layer, pass dtype='float64' to the layer constructor. If you are the author of this layer, you can disable autocasting by passing autocast=False to the base Layer constructor.\n",
      "\n"
     ]
    }
   ],
   "source": [
    "ruidosas = muestra(X_prueba[0: 2],\n",
    "                  training = True)"
   ]
  },
  {
   "cell_type": "code",
   "execution_count": 20,
   "metadata": {},
   "outputs": [
    {
     "data": {
      "text/plain": [
       "<matplotlib.image.AxesImage at 0x7ff7596840d0>"
      ]
     },
     "execution_count": 20,
     "metadata": {},
     "output_type": "execute_result"
    },
    {
     "data": {
      "image/png": "[encoded data removed]",
      "text/plain": [
       "<Figure size 432x288 with 1 Axes>"
      ]
     },
     "metadata": {
      "needs_background": "light"
     },
     "output_type": "display_data"
    }
   ],
   "source": [
    "plt.imshow(X_prueba[0])"
   ]
  },
  {
   "cell_type": "code",
   "execution_count": 21,
   "metadata": {},
   "outputs": [
    {
     "data": {
      "text/plain": [
       "<matplotlib.image.AxesImage at 0x7ff7596e9290>"
      ]
     },
     "execution_count": 21,
     "metadata": {},
     "output_type": "execute_result"
    },
    {
     "data": {
      "image/png": "[encoded data removed]",
      "text/plain": [
       "<Figure size 432x288 with 1 Axes>"
      ]
     },
     "metadata": {
      "needs_background": "light"
     },
     "output_type": "display_data"
    }
   ],
   "source": [
    "plt.imshow(ruidosas[0])"
   ]
  },
  {
   "cell_type": "markdown",
   "metadata": {},
   "source": [
    "### Crear autocodificador para eliminación de ruido y entrenarlo."
   ]
  },
  {
   "cell_type": "code",
   "execution_count": 22,
   "metadata": {},
   "outputs": [],
   "source": [
    "import tensorflow as tf\n",
    "import numpy as np"
   ]
  },
  {
   "cell_type": "code",
   "execution_count": 23,
   "metadata": {},
   "outputs": [],
   "source": [
    "# Esta primera parte es opcional, se usa para crear exactamente el mismo ruido en cada corrida\n",
    "tf.random.set_seed(101)\n",
    "np.random.seed(101)\n",
    "\n",
    "\n",
    "codificador = Sequential()\n",
    "codificador.add(Flatten(input_shape = [28, 28]))\n",
    "# Agregar ruido a las imágenes antes de pasarlas por el autocodificador\n",
    "codificador.add(GaussianNoise(0.2))\n",
    "codificador.add(Dense(400, activation = \"relu\"))\n",
    "codificador.add(Dense(200, activation = \"relu\"))\n",
    "codificador.add(Dense(100, activation = \"relu\"))\n",
    "codificador.add(Dense(50, activation = \"relu\"))\n",
    "codificador.add(Dense(25, activation = \"relu\"))"
   ]
  },
  {
   "cell_type": "code",
   "execution_count": 24,
   "metadata": {},
   "outputs": [],
   "source": [
    "decodificador = Sequential()\n",
    "decodificador.add(Dense(50, input_shape = [25],\n",
    "                        activation = 'relu'))\n",
    "decodificador.add(Dense(100, activation = 'relu'))\n",
    "decodificador.add(Dense(200, activation = 'relu'))\n",
    "decodificador.add(Dense(400, activation = 'relu'))\n",
    "decodificador.add(Dense(784, activation = \"sigmoid\"))\n",
    "decodificador.add(Reshape([28, 28]))"
   ]
  },
  {
   "cell_type": "code",
   "execution_count": 25,
   "metadata": {},
   "outputs": [],
   "source": [
    "eliminador_ruido = Sequential([codificador, \n",
    "                               decodificador])"
   ]
  },
  {
   "cell_type": "code",
   "execution_count": 26,
   "metadata": {},
   "outputs": [],
   "source": [
    "eliminador_ruido.compile(loss = \"binary_crossentropy\", \n",
    "                         optimizer = 'adam', \n",
    "                         metrics =['accuracy'])"
   ]
  },
  {
   "cell_type": "code",
   "execution_count": 27,
   "metadata": {},
   "outputs": [
    {
     "name": "stdout",
     "output_type": "stream",
     "text": [
      "Train on 60000 samples, validate on 10000 samples\n",
      "Epoch 1/8\n",
      "60000/60000 [==============================] - 28s 459us/sample - loss: 0.1712 - accuracy: 0.8010 - val_loss: 0.1321 - val_accuracy: 0.8060\n",
      "Epoch 2/8\n",
      "60000/60000 [==============================] - 26s 441us/sample - loss: 0.1302 - accuracy: 0.8078 - val_loss: 0.1218 - val_accuracy: 0.8081\n",
      "Epoch 3/8\n",
      "60000/60000 [==============================] - 26s 439us/sample - loss: 0.1225 - accuracy: 0.8092 - val_loss: 0.1155 - val_accuracy: 0.8094\n",
      "Epoch 4/8\n",
      "60000/60000 [==============================] - 26s 431us/sample - loss: 0.1172 - accuracy: 0.8102 - val_loss: 0.1110 - val_accuracy: 0.8105\n",
      "Epoch 5/8\n",
      "60000/60000 [==============================] - 26s 430us/sample - loss: 0.1133 - accuracy: 0.8108 - val_loss: 0.1081 - val_accuracy: 0.8108\n",
      "Epoch 6/8\n",
      "60000/60000 [==============================] - 26s 441us/sample - loss: 0.1105 - accuracy: 0.8113 - val_loss: 0.1059 - val_accuracy: 0.8111\n",
      "Epoch 7/8\n",
      "60000/60000 [==============================] - 26s 431us/sample - loss: 0.1086 - accuracy: 0.8115 - val_loss: 0.1054 - val_accuracy: 0.8108\n",
      "Epoch 8/8\n",
      "60000/60000 [==============================] - 27s 445us/sample - loss: 0.1068 - accuracy: 0.8118 - val_loss: 0.1033 - val_accuracy: 0.8112\n"
     ]
    },
    {
     "data": {
      "text/plain": [
       "<tensorflow.python.keras.callbacks.History at 0x7ff75a38a350>"
      ]
     },
     "execution_count": 27,
     "metadata": {},
     "output_type": "execute_result"
    }
   ],
   "source": [
    "eliminador_ruido.fit(X_entreno, X_entreno, \n",
    "                     epochs = 8,\n",
    "                     validation_data=[X_prueba, X_prueba])"
   ]
  },
  {
   "cell_type": "code",
   "execution_count": 30,
   "metadata": {},
   "outputs": [],
   "source": [
    "diez_imags_con_ruido = muestra(X_prueba[0: 10], \n",
    "                                 training = True)\n",
    "limpias = eliminador_ruido(diez_imags_con_ruido[0: 10])"
   ]
  },
  {
   "cell_type": "code",
   "execution_count": 32,
   "metadata": {},
   "outputs": [
    {
     "name": "stdout",
     "output_type": "stream",
     "text": [
      "La Original\n"
     ]
    },
    {
     "data": {
      "image/png": "[encoded data removed]",
      "text/plain": [
       "<Figure size 432x288 with 1 Axes>"
      ]
     },
     "metadata": {
      "needs_background": "light"
     },
     "output_type": "display_data"
    },
    {
     "name": "stdout",
     "output_type": "stream",
     "text": [
      "La version con ruido\n"
     ]
    },
    {
     "data": {
      "image/png": "[encoded data removed]",
      "text/plain": [
       "<Figure size 432x288 with 1 Axes>"
      ]
     },
     "metadata": {
      "needs_background": "light"
     },
     "output_type": "display_data"
    },
    {
     "name": "stdout",
     "output_type": "stream",
     "text": [
      "Luego de pasar por el eliminidador de ruido\n"
     ]
    },
    {
     "data": {
      "image/png": "[encoded data removed]",
      "text/plain": [
       "<Figure size 432x288 with 1 Axes>"
      ]
     },
     "metadata": {
      "needs_background": "light"
     },
     "output_type": "display_data"
    }
   ],
   "source": [
    "n = 4\n",
    "print(\"La Original\")\n",
    "plt.imshow(X_prueba[n])\n",
    "plt.show()\n",
    "print(\"La version con ruido\")\n",
    "plt.imshow(diez_imags_con_ruido[n])\n",
    "plt.show()\n",
    "print(\"Luego de pasar por el eliminidador de ruido\")\n",
    "plt.imshow(limpias[n])\n",
    "plt.show()"
   ]
  },
  {
   "cell_type": "code",
   "execution_count": null,
   "metadata": {},
   "outputs": [],
   "source": []
  }
 ],
 "metadata": {
  "kernelspec": {
   "display_name": "Python 3 (ipykernel)",
   "language": "python",
   "name": "python3"
  },
  "language_info": {
   "codemirror_mode": {
    "name": "ipython",
    "version": 3
   },
   "file_extension": ".py",
   "mimetype": "text/x-python",
   "name": "python",
   "nbconvert_exporter": "python",
   "pygments_lexer": "ipython3",
   "version": "3.7.7"
  }
 },
 "nbformat": 4,
 "nbformat_minor": 4
}
