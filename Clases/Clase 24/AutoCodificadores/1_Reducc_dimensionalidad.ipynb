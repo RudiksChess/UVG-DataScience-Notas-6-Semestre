{
 "cells": [
  {
   "cell_type": "markdown",
   "metadata": {
    "tags": []
   },
   "source": [
    "# AutoCodificadores para la reducción de dimensionaliad"
   ]
  },
  {
   "cell_type": "code",
   "execution_count": 1,
   "metadata": {
    "tags": []
   },
   "outputs": [],
   "source": [
    "import numpy as np\n",
    "import pandas as pd\n",
    "import seaborn as sns\n",
    "import matplotlib.pyplot as plt\n",
    "import plotly.express as px "
   ]
  },
  {
   "cell_type": "code",
   "execution_count": 2,
   "metadata": {},
   "outputs": [],
   "source": [
    "from sklearn.datasets import make_blobs"
   ]
  },
  {
   "cell_type": "code",
   "execution_count": 28,
   "metadata": {},
   "outputs": [],
   "source": [
    "datos = make_blobs(n_samples = 300,\n",
    "    n_features = 2,\n",
    "    centers = 2,\n",
    "    cluster_std = 1.0,\n",
    "    random_state = 10)"
   ]
  },
  {
   "cell_type": "code",
   "execution_count": 29,
   "metadata": {},
   "outputs": [],
   "source": [
    "X,y = datos"
   ]
  },
  {
   "cell_type": "code",
   "execution_count": 30,
   "metadata": {},
   "outputs": [],
   "source": [
    "np.random.seed(seed=101)\n",
    "z_ruido = np.random.normal(size = len(X))\n",
    "z_ruido = pd.Series(z_ruido)"
   ]
  },
  {
   "cell_type": "code",
   "execution_count": 31,
   "metadata": {},
   "outputs": [],
   "source": [
    "features = pd.DataFrame(X)\n",
    "features = pd.concat([features, z_ruido],\n",
    "                     axis = 1)\n",
    "features.columns = ['X1', 'X2', 'X3']"
   ]
  },
  {
   "cell_type": "code",
   "execution_count": 32,
   "metadata": {},
   "outputs": [
    {
     "data": {
      "text/html": [
       "<div>\n",
       "<style scoped>\n",
       "    .dataframe tbody tr th:only-of-type {\n",
       "        vertical-align: middle;\n",
       "    }\n",
       "\n",
       "    .dataframe tbody tr th {\n",
       "        vertical-align: top;\n",
       "    }\n",
       "\n",
       "    .dataframe thead th {\n",
       "        text-align: right;\n",
       "    }\n",
       "</style>\n",
       "<table border=\"1\" class=\"dataframe\">\n",
       "  <thead>\n",
       "    <tr style=\"text-align: right;\">\n",
       "      <th></th>\n",
       "      <th>X1</th>\n",
       "      <th>X2</th>\n",
       "      <th>X3</th>\n",
       "    </tr>\n",
       "  </thead>\n",
       "  <tbody>\n",
       "    <tr>\n",
       "      <th>0</th>\n",
       "      <td>1.732255</td>\n",
       "      <td>4.922483</td>\n",
       "      <td>2.706850</td>\n",
       "    </tr>\n",
       "    <tr>\n",
       "      <th>1</th>\n",
       "      <td>5.779890</td>\n",
       "      <td>-9.792240</td>\n",
       "      <td>0.628133</td>\n",
       "    </tr>\n",
       "    <tr>\n",
       "      <th>2</th>\n",
       "      <td>4.754389</td>\n",
       "      <td>-9.479149</td>\n",
       "      <td>0.907969</td>\n",
       "    </tr>\n",
       "    <tr>\n",
       "      <th>3</th>\n",
       "      <td>4.740197</td>\n",
       "      <td>-9.037017</td>\n",
       "      <td>0.503826</td>\n",
       "    </tr>\n",
       "    <tr>\n",
       "      <th>4</th>\n",
       "      <td>5.671027</td>\n",
       "      <td>-9.762260</td>\n",
       "      <td>0.651118</td>\n",
       "    </tr>\n",
       "  </tbody>\n",
       "</table>\n",
       "</div>"
      ],
      "text/plain": [
       "         X1        X2        X3\n",
       "0  1.732255  4.922483  2.706850\n",
       "1  5.779890 -9.792240  0.628133\n",
       "2  4.754389 -9.479149  0.907969\n",
       "3  4.740197 -9.037017  0.503826\n",
       "4  5.671027 -9.762260  0.651118"
      ]
     },
     "execution_count": 32,
     "metadata": {},
     "output_type": "execute_result"
    }
   ],
   "source": [
    "features.head()"
   ]
  },
  {
   "cell_type": "code",
   "execution_count": 33,
   "metadata": {},
   "outputs": [
    {
     "data": {
      "text/plain": [
       "<matplotlib.collections.PathCollection at 0x7fe75613ae50>"
      ]
     },
     "execution_count": 33,
     "metadata": {},
     "output_type": "execute_result"
    },
    {
     "data": {
      "image/png": "[encoded data removed]",
      "text/plain": [
       "<Figure size 432x288 with 1 Axes>"
      ]
     },
     "metadata": {
      "needs_background": "light"
     },
     "output_type": "display_data"
    }
   ],
   "source": [
    "# Utilizando MatPlotLib\n",
    "plt.scatter(features['X1'], \n",
    "            features['X2'],\n",
    "            c = y) # Usar la y para color"
   ]
  },
  {
   "cell_type": "code",
   "execution_count": 34,
   "metadata": {},
   "outputs": [
    {
     "data": {
      "application/vnd.plotly.v1+json": {
       "config": {
        "plotlyServerURL": "https://plot.ly"
       },
       "data": [
        {
         "hovertemplate": "x=%{x}<br>y=%{y}<br>color=%{marker.color}<extra></extra>",
         "legendgroup": "",
         "marker": {
          "color": [
           1,
           0,
           0,
           0,
           0,
           1,
           1,
           1,
           0,
           1,
           0,
           0,
           1,
           0,
           0,
           0,
           0,
           1,
           0,
           0,
           0,
           0,
           0,
           0,
           1,
           1,
           1,
           1,
           0,
           1,
           0,
           1,
           0,
           1,
           1,
           1,
           0,
           1,
           0,
           0,
           0,
           1,
           0,
           1,
           1,
           1,
           1,
           1,
           0,
           1,
           0,
           1,
           0,
           1,
           1,
           1,
           0,
           1,
           0,
           0,
           0,
           1,
           1,
           1,
           1,
           1,
           0,
           1,
           0,
           1,
           1,
           1,
           0,
           1,
           1,
           1,
           1,
           1,
           0,
           1,
           0,
           1,
           1,
           0,
           0,
           1,
           0,
           1,
           0,
           0,
           0,
           1,
           1,
           1,
           0,
           1,
           0,
           1,
           0,
           1,
           1,
           0,
           1,
           0,
           1,
           0,
           1,
           1,
           0,
           0,
           0,
           0,
           0,
           1,
           0,
           0,
           0,
           0,
           1,
           1,
           1,
           0,
           1,
           0,
           0,
           1,
           0,
           0,
           0,
           0,
           0,
           1,
           1,
           1,
           0,
           1,
           0,
           1,
           0,
           0,
           0,
           0,
           1,
           0,
           0,
           0,
           0,
           1,
           0,
           1,
           0,
           1,
           1,
           1,
           0,
           0,
           0,
           1,
           1,
           1,
           1,
           1,
           1,
           0,
           0,
           1,
           0,
           1,
           1,
           0,
           0,
           1,
           0,
           0,
           1,
           1,
           0,
           0,
           0,
           0,
           0,
           1,
           0,
           1,
           1,
           1,
           1,
           0,
           1,
           0,
           0,
           1,
           1,
           0,
           1,
           0,
           1,
           1,
           0,
           1,
           1,
           1,
           0,
           0,
           1,
           0,
           1,
           1,
           0,
           0,
           1,
           1,
           0,
           0,
           0,
           0,
           0,
           1,
           0,
           0,
           1,
           0,
           1,
           1,
           1,
           1,
           0,
           1,
           0,
           0,
           0,
           1,
           0,
           1,
           0,
           1,
           0,
           0,
           1,
           0,
           1,
           1,
           0,
           0,
           0,
           0,
           0,
           1,
           0,
           0,
           1,
           1,
           0,
           0,
           0,
           1,
           1,
           0,
           0,
           1,
           0,
           0,
           1,
           1,
           1,
           1,
           1,
           0,
           0,
           1,
           1,
           1,
           1,
           1,
           0,
           0,
           1,
           1,
           1,
           1,
           1,
           0,
           1,
           0,
           1,
           0,
           0,
           0,
           0,
           1,
           0,
           0,
           1,
           1,
           1,
           1,
           1,
           1,
           0,
           0
          ],
          "coloraxis": "coloraxis",
          "symbol": "circle"
         },
         "mode": "markers",
         "name": "",
         "orientation": "v",
         "showlegend": false,
         "type": "scatter",
         "x": [
          1.7322549235326707,
          5.7798904791387695,
          4.754389428866573,
          4.740197250455805,
          5.67102738559991,
          3.774100901669833,
          3.2083660807537684,
          3.1353502492493126,
          5.364500835842515,
          2.224185559273774,
          4.005532350180685,
          3.9841139827203,
          4.218126458442368,
          6.511639938991015,
          5.9748409316307445,
          6.448928972569055,
          5.826622853587267,
          2.184356442976803,
          5.559550362205977,
          5.360565017623718,
          5.0933117031970845,
          5.130429012395707,
          5.929602046971408,
          7.830738471272269,
          2.6837461275241385,
          2.2060620769904236,
          2.237148784656473,
          3.861281452510152,
          4.289810653503875,
          3.9211139945618516,
          5.293839272683414,
          2.5230585529308978,
          6.413010682232917,
          3.6407751146767002,
          4.490747307239848,
          1.5407669608277677,
          5.210622973004398,
          2.6987722900320157,
          4.295937578195579,
          6.766339175292472,
          5.654230229180127,
          4.31772583039888,
          5.69946218543023,
          1.8454546856492064,
          2.729279427979611,
          2.419406680498348,
          1.323939329229082,
          3.3197230358132197,
          6.644561715685967,
          2.5618842558982102,
          4.568890350295232,
          3.8877473486056804,
          5.937127276732782,
          3.829653628633772,
          2.437882468716494,
          2.0369954869426703,
          3.4086942126605027,
          2.4127248129532752,
          7.7455401829624,
          5.390030327532704,
          7.100488410926131,
          2.7293004779030774,
          1.2418462311251885,
          1.6803322143658663,
          2.8934615974722533,
          3.4295865562536867,
          5.643678010452959,
          3.048270249581629,
          4.381280327820482,
          4.535916365846464,
          2.406462833495537,
          3.3768434193621655,
          6.406486993336902,
          2.733692522070907,
          1.7817777763968279,
          3.157967326672788,
          3.752695376321215,
          1.3256232257506002,
          6.086644416561232,
          3.202154966335329,
          4.590904361364668,
          1.689236574491991,
          1.4693112069312522,
          6.5501041187443425,
          4.421696512808824,
          1.4946267664219774,
          5.7587628148664365,
          3.188309943656699,
          5.035430680028516,
          4.461347194818156,
          4.503503600485973,
          1.5492104955487918,
          2.4478678481809073,
          1.7815132964918658,
          6.312187722939816,
          3.7008050885923374,
          5.020683337685827,
          4.914831201068814,
          5.862598161867658,
          2.598015830393521,
          2.930575433613897,
          3.131309536372296,
          2.3519419606210032,
          4.621821723064965,
          2.433008399696603,
          4.713613428507859,
          1.9898422974492693,
          2.8156339921091553,
          5.960297674645794,
          5.745769286426143,
          5.345290681517973,
          6.472595722143184,
          5.655042995459579,
          5.34464978743767,
          5.590317118013352,
          5.804165951300261,
          5.063913682179279,
          5.262337574657519,
          1.4113749595257754,
          2.866765309065008,
          3.252013148706368,
          6.133243320086554,
          2.2446612908458228,
          6.181712823287095,
          5.140410857675265,
          3.177236175638968,
          4.346715481376071,
          5.8288819588233665,
          5.991565534991547,
          4.684588026564511,
          6.8096450948704375,
          4.1122184270236275,
          2.8990910477749567,
          4.070784084352379,
          3.881012573223651,
          1.968344694057913,
          4.841957708709551,
          2.526623893041106,
          5.69248302933547,
          6.046667366848388,
          5.930339766545273,
          5.525562081170163,
          3.3266270128554263,
          6.36891327427506,
          6.3189768968504145,
          4.6040452675042545,
          6.534121100117569,
          1.0845838825702079,
          3.448684584677012,
          2.746247707452237,
          4.303308830110536,
          -0.14303651862550204,
          3.557332302018051,
          2.1001153669577515,
          6.114317590996444,
          5.619348849504046,
          6.910949867171501,
          3.467649972862284,
          3.0845671105883508,
          3.197505434357683,
          2.4751545811383475,
          5.352875006504823,
          2.862384540814901,
          5.196466221560197,
          5.189408680811439,
          1.8411654957257992,
          7.083129489813211,
          3.5374831706524574,
          0.9925187795190282,
          5.719353590166886,
          5.138783451684339,
          1.257211487776121,
          5.194230609390829,
          4.156593273532036,
          3.0696906916171405,
          2.6776752429844906,
          5.314140394140759,
          6.373538943510107,
          5.633742432725041,
          7.411798611424308,
          6.138371881854759,
          3.2358864912810144,
          5.155164877369138,
          2.119646270929044,
          3.019316275139363,
          2.210425581271927,
          1.9093603597021596,
          7.821116530219454,
          1.432716066379947,
          5.495214336077153,
          4.886533794002218,
          2.0586598521879718,
          1.0373780805163468,
          4.7037921318288,
          3.5864490123011104,
          5.282046102307955,
          1.4039491724259308,
          1.7895037114317625,
          4.94431972649944,
          3.6306759382131943,
          4.748013368136727,
          1.0380205624029166,
          5.700585646095026,
          6.7709622887008605,
          3.594285129706738,
          6.440397496084609,
          3.4324360296583825,
          0.9809967697486994,
          6.6626181915217355,
          4.786450261106421,
          2.1804572351208957,
          1.9025530412149334,
          4.851495201282473,
          5.378371540105499,
          6.734885946198397,
          5.0249400459631985,
          3.87910747441739,
          3.1929070097504217,
          3.570227384723771,
          4.401659898289635,
          2.8417183072778576,
          6.5935812337390365,
          2.2487532777349895,
          2.2874878818194584,
          3.125031927098621,
          2.350601206286546,
          5.859439055288517,
          1.6883780505090047,
          6.253411487997185,
          7.651462504158114,
          4.486979505572368,
          2.843259393334098,
          4.85329950377533,
          2.333016076524489,
          5.087272619271484,
          3.8608826929237736,
          4.419844303538911,
          5.543888526361558,
          4.2008158179238855,
          6.682885129090074,
          4.2844219925188565,
          2.455829804135634,
          4.7193414182677556,
          4.472880447718445,
          3.9180913781717033,
          5.159095676661351,
          5.11358410799783,
          2.20156461556182,
          5.691924451027039,
          3.715341668180655,
          -0.5314366458041224,
          1.6670998336906895,
          7.41149745676065,
          4.862907194138776,
          4.987386629114905,
          2.049345690247692,
          4.161183090603523,
          6.433274003959742,
          6.0477488392254,
          2.2636954979148998,
          6.526542239348248,
          4.200576884596865,
          2.8299796819762806,
          3.243658153542817,
          2.8248921193813823,
          3.207189660792632,
          3.4576753442150183,
          5.887301317733785,
          6.643594424478806,
          2.3497634660525026,
          2.7372840982795204,
          3.291913622919935,
          2.456439766661556,
          3.9480137994588587,
          5.55912116109487,
          6.156920312474449,
          2.7065812331084382,
          2.649056255924788,
          2.4814426450262577,
          3.942655980198801,
          1.642356485633013,
          5.741166644146653,
          3.875867620785699,
          6.268637603717575,
          3.59771233303743,
          5.400507528518733,
          5.377582353996166,
          5.864778104504611,
          7.328716906966923,
          1.1578890191754794,
          5.430704296268953,
          5.522176102072637,
          2.8655375377157273,
          3.4580611975847044,
          1.4941103293620575,
          2.506564005807047,
          2.69906122666221,
          2.8702369223710344,
          5.575373566311807,
          6.555198018444797
         ],
         "xaxis": "x",
         "y": [
          4.922483149049138,
          -9.792240498533408,
          -9.479148930016214,
          -9.037017085971303,
          -9.762259835457538,
          5.348200196177811,
          5.52692235188079,
          3.756222116971818,
          -10.338853973559669,
          5.463773588949321,
          -10.26390778743201,
          -11.193811375650087,
          4.284389996647671,
          -9.228021945806328,
          -8.981761962581379,
          -9.418150745792238,
          -9.9225933498975,
          4.883096109182148,
          -8.382217138842066,
          -11.716673121293574,
          -10.376351783779414,
          -8.736752403790314,
          -8.390610410348724,
          -10.324317751320642,
          4.069830830048391,
          4.797057949905864,
          5.5123462025198116,
          4.730332263223857,
          -9.449824134363334,
          5.70880342099882,
          -9.875206821424435,
          4.940749588464789,
          -9.55673364551285,
          4.101552606079838,
          4.420030309130933,
          4.065131594965206,
          -8.59588855531253,
          7.177044088414023,
          -11.526260693834399,
          -9.5556513018688,
          -9.335782354925636,
          5.699506847387916,
          -11.203531760627765,
          4.1476064338753975,
          5.521862116059653,
          5.16819994386643,
          5.476214501717543,
          4.30257583675257,
          -9.64148173589456,
          4.937196517675922,
          -9.949239099061648,
          5.98436061747746,
          -9.17066337161796,
          5.5853599170546,
          3.7152498451180955,
          6.085582879230997,
          -9.044420299710707,
          5.790732170164098,
          -9.276293339624177,
          -10.431977265856824,
          -8.421237312643601,
          6.441732655858473,
          3.7125807872675054,
          4.293736177243442,
          3.6029634661171466,
          4.246678428300985,
          -11.579354782553027,
          4.89216240659103,
          -10.382969830484214,
          2.9924411531232673,
          4.804784853187195,
          4.371089932850627,
          -11.98053302620377,
          4.953036462398988,
          4.193389903780904,
          3.3174729441989417,
          4.513236765175967,
          6.03560597685668,
          -9.935832904251841,
          4.079933814302636,
          -9.374510284432583,
          5.388610366433814,
          5.1859167926439795,
          -7.912338799504142,
          -8.993507926181648,
          5.7172650562804055,
          -8.449987839730063,
          7.360202273806122,
          -8.329787281102398,
          -8.556686934829266,
          -9.115209578728926,
          3.1187194849823174,
          5.046232024545711,
          4.399184309284787,
          -9.320566321181259,
          4.173188022334216,
          -8.803185822436355,
          4.729590530175091,
          -9.622878894825003,
          4.454301202586246,
          6.289000397750668,
          -10.780890324275488,
          5.476972617705808,
          -9.797658651522482,
          4.2810210053649005,
          -9.845820491366146,
          4.317060342436985,
          4.192042090137095,
          -8.840986609026046,
          -9.124058111140252,
          -10.114257093811458,
          -11.003517042035364,
          -9.139823399981623,
          5.040523150840295,
          -8.755448528414728,
          -7.970553038666505,
          -9.706866703973859,
          -10.73377327721983,
          4.756817386769238,
          5.519312736417394,
          4.516152102876433,
          -10.372229939059157,
          4.220661816961819,
          -8.705475322254308,
          -10.44771931220898,
          5.780345008463975,
          -9.70803084132211,
          -9.957722429248838,
          -9.73238127053899,
          -8.479385876653904,
          -9.238727897460787,
          6.3582242757623,
          4.860196920181295,
          5.100744425850616,
          -9.593344862740492,
          4.62231492007038,
          -8.982938742058257,
          6.034514293278169,
          -7.199993682100873,
          -10.653528721279853,
          -9.3966297982303,
          -8.186964635718395,
          2.7994690161192346,
          -12.564557783873104,
          -9.573938316036172,
          -11.171512773659819,
          -9.34041703616398,
          4.50734693748722,
          -11.328333308710878,
          6.14981006419504,
          -9.97368895966678,
          5.085622077090693,
          3.5892551161610946,
          4.015072307722152,
          -11.118029731102153,
          -9.580936100824031,
          -10.664765898597246,
          4.482936909331291,
          5.263888085066965,
          5.50956667222154,
          4.880601818924878,
          3.87255551951101,
          5.0208523361891855,
          -10.714512207245761,
          -9.527675862655952,
          5.569266882061685,
          -8.917071403978527,
          2.878285777498491,
          5.652785846266549,
          -10.055768264297487,
          -10.944271585917969,
          5.070785962027567,
          -10.086689912406838,
          -9.261571083090304,
          4.399960789897691,
          5.123111590656152,
          -9.94714145995421,
          -10.607271705089365,
          -9.730025550137048,
          -8.137795412143747,
          -8.666691861332554,
          5.603528619395627,
          -8.971756827952332,
          3.86995441448936,
          5.918442148229047,
          5.1946364827140075,
          5.456866393865428,
          -8.66750207530154,
          3.922961677308684,
          -8.172896708388325,
          -8.876800992885366,
          5.81315942614504,
          5.220875739318222,
          -9.50082145742022,
          3.979071440684476,
          -9.985099364797698,
          5.730953721498777,
          6.1341292224698,
          -9.495373400222453,
          5.791298332200655,
          4.385891120085013,
          5.411014925365603,
          -10.099870935283223,
          -9.091445695563682,
          4.403190428994719,
          -10.555158835788212,
          4.9421506510951545,
          5.592528573177109,
          -7.119635930750494,
          -9.271130491252965,
          4.224457209849797,
          6.100319566377191,
          -9.945132147241422,
          -10.065748352943993,
          -9.389947733578877,
          -8.242781728556945,
          -8.24015450218374,
          3.5982018215336797,
          -9.80773471191497,
          -9.424561849869411,
          4.926080472600626,
          -10.156937826099737,
          4.9252280006746645,
          6.5362864317394695,
          5.270146908634119,
          4.310311919587912,
          -8.381923638999758,
          6.462057064811146,
          -11.539473132813475,
          -9.467779592617488,
          -10.074298229696621,
          4.218247998421317,
          -10.905408558703426,
          5.713256631892859,
          -9.272791076498748,
          3.2099126502500486,
          -9.842494637613436,
          -11.49241790093637,
          4.3266392798651205,
          -10.316930514813178,
          5.215416917203476,
          4.100655273968308,
          -9.038296175277436,
          -8.996920419003109,
          -8.964360349803357,
          -10.134270026917449,
          -9.933842931029464,
          5.325554059439602,
          -9.476412487097,
          -8.97266370031342,
          6.43878864344074,
          5.303653016344136,
          -7.840146864472668,
          -8.730132256499303,
          -9.443856844747538,
          4.612891449345067,
          5.11632451757731,
          -9.879387020201913,
          -10.305046573530866,
          4.728602377704615,
          -9.020608486425852,
          -9.806754149211464,
          6.334866789755531,
          4.463202458420826,
          4.671877480593887,
          4.980179689330974,
          4.079769983717181,
          -8.922587001087336,
          -9.40231363424292,
          5.640223257700564,
          4.809672279258501,
          5.453311953883435,
          3.7968731484560996,
          4.64724561077221,
          -10.061103027739307,
          -11.283362503973883,
          4.60950166052762,
          3.4185351787412417,
          5.770775278497332,
          6.373415627389572,
          3.618380090733419,
          -7.117309956377367,
          5.946637177441103,
          -9.38138021548449,
          5.21132241576781,
          -9.295866809008036,
          -9.19161979573023,
          -10.367304207123308,
          -9.305355620631959,
          4.43735911899491,
          -9.759561223404912,
          -9.135939282118146,
          5.411528039283483,
          4.4883532338250625,
          4.826944944166565,
          5.245650074191112,
          4.0063719779674365,
          4.720797196727951,
          -9.269849844590302,
          -10.282771043283685
         ],
         "yaxis": "y"
        }
       ],
       "layout": {
        "autosize": true,
        "coloraxis": {
         "colorbar": {
          "title": {
           "text": "color"
          }
         },
         "colorscale": [
          [
           0,
           "#0d0887"
          ],
          [
           0.1111111111111111,
           "#46039f"
          ],
          [
           0.2222222222222222,
           "#7201a8"
          ],
          [
           0.3333333333333333,
           "#9c179e"
          ],
          [
           0.4444444444444444,
           "#bd3786"
          ],
          [
           0.5555555555555556,
           "#d8576b"
          ],
          [
           0.6666666666666666,
           "#ed7953"
          ],
          [
           0.7777777777777778,
           "#fb9f3a"
          ],
          [
           0.8888888888888888,
           "#fdca26"
          ],
          [
           1,
           "#f0f921"
          ]
         ]
        },
        "legend": {
         "tracegroupgap": 0
        },
        "margin": {
         "t": 60
        },
        "template": {
         "data": {
          "bar": [
           {
            "error_x": {
             "color": "#2a3f5f"
            },
            "error_y": {
             "color": "#2a3f5f"
            },
            "marker": {
             "line": {
              "color": "#E5ECF6",
              "width": 0.5
             },
             "pattern": {
              "fillmode": "overlay",
              "size": 10,
              "solidity": 0.2
             }
            },
            "type": "bar"
           }
          ],
          "barpolar": [
           {
            "marker": {
             "line": {
              "color": "#E5ECF6",
              "width": 0.5
             },
             "pattern": {
              "fillmode": "overlay",
              "size": 10,
              "solidity": 0.2
             }
            },
            "type": "barpolar"
           }
          ],
          "carpet": [
           {
            "aaxis": {
             "endlinecolor": "#2a3f5f",
             "gridcolor": "white",
             "linecolor": "white",
             "minorgridcolor": "white",
             "startlinecolor": "#2a3f5f"
            },
            "baxis": {
             "endlinecolor": "#2a3f5f",
             "gridcolor": "white",
             "linecolor": "white",
             "minorgridcolor": "white",
             "startlinecolor": "#2a3f5f"
            },
            "type": "carpet"
           }
          ],
          "choropleth": [
           {
            "colorbar": {
             "outlinewidth": 0,
             "ticks": ""
            },
            "type": "choropleth"
           }
          ],
          "contour": [
           {
            "colorbar": {
             "outlinewidth": 0,
             "ticks": ""
            },
            "colorscale": [
             [
              0,
              "#0d0887"
             ],
             [
              0.1111111111111111,
              "#46039f"
             ],
             [
              0.2222222222222222,
              "#7201a8"
             ],
             [
              0.3333333333333333,
              "#9c179e"
             ],
             [
              0.4444444444444444,
              "#bd3786"
             ],
             [
              0.5555555555555556,
              "#d8576b"
             ],
             [
              0.6666666666666666,
              "#ed7953"
             ],
             [
              0.7777777777777778,
              "#fb9f3a"
             ],
             [
              0.8888888888888888,
              "#fdca26"
             ],
             [
              1,
              "#f0f921"
             ]
            ],
            "type": "contour"
           }
          ],
          "contourcarpet": [
           {
            "colorbar": {
             "outlinewidth": 0,
             "ticks": ""
            },
            "type": "contourcarpet"
           }
          ],
          "heatmap": [
           {
            "colorbar": {
             "outlinewidth": 0,
             "ticks": ""
            },
            "colorscale": [
             [
              0,
              "#0d0887"
             ],
             [
              0.1111111111111111,
              "#46039f"
             ],
             [
              0.2222222222222222,
              "#7201a8"
             ],
             [
              0.3333333333333333,
              "#9c179e"
             ],
             [
              0.4444444444444444,
              "#bd3786"
             ],
             [
              0.5555555555555556,
              "#d8576b"
             ],
             [
              0.6666666666666666,
              "#ed7953"
             ],
             [
              0.7777777777777778,
              "#fb9f3a"
             ],
             [
              0.8888888888888888,
              "#fdca26"
             ],
             [
              1,
              "#f0f921"
             ]
            ],
            "type": "heatmap"
           }
          ],
          "heatmapgl": [
           {
            "colorbar": {
             "outlinewidth": 0,
             "ticks": ""
            },
            "colorscale": [
             [
              0,
              "#0d0887"
             ],
             [
              0.1111111111111111,
              "#46039f"
             ],
             [
              0.2222222222222222,
              "#7201a8"
             ],
             [
              0.3333333333333333,
              "#9c179e"
             ],
             [
              0.4444444444444444,
              "#bd3786"
             ],
             [
              0.5555555555555556,
              "#d8576b"
             ],
             [
              0.6666666666666666,
              "#ed7953"
             ],
             [
              0.7777777777777778,
              "#fb9f3a"
             ],
             [
              0.8888888888888888,
              "#fdca26"
             ],
             [
              1,
              "#f0f921"
             ]
            ],
            "type": "heatmapgl"
           }
          ],
          "histogram": [
           {
            "marker": {
             "pattern": {
              "fillmode": "overlay",
              "size": 10,
              "solidity": 0.2
             }
            },
            "type": "histogram"
           }
          ],
          "histogram2d": [
           {
            "colorbar": {
             "outlinewidth": 0,
             "ticks": ""
            },
            "colorscale": [
             [
              0,
              "#0d0887"
             ],
             [
              0.1111111111111111,
              "#46039f"
             ],
             [
              0.2222222222222222,
              "#7201a8"
             ],
             [
              0.3333333333333333,
              "#9c179e"
             ],
             [
              0.4444444444444444,
              "#bd3786"
             ],
             [
              0.5555555555555556,
              "#d8576b"
             ],
             [
              0.6666666666666666,
              "#ed7953"
             ],
             [
              0.7777777777777778,
              "#fb9f3a"
             ],
             [
              0.8888888888888888,
              "#fdca26"
             ],
             [
              1,
              "#f0f921"
             ]
            ],
            "type": "histogram2d"
           }
          ],
          "histogram2dcontour": [
           {
            "colorbar": {
             "outlinewidth": 0,
             "ticks": ""
            },
            "colorscale": [
             [
              0,
              "#0d0887"
             ],
             [
              0.1111111111111111,
              "#46039f"
             ],
             [
              0.2222222222222222,
              "#7201a8"
             ],
             [
              0.3333333333333333,
              "#9c179e"
             ],
             [
              0.4444444444444444,
              "#bd3786"
             ],
             [
              0.5555555555555556,
              "#d8576b"
             ],
             [
              0.6666666666666666,
              "#ed7953"
             ],
             [
              0.7777777777777778,
              "#fb9f3a"
             ],
             [
              0.8888888888888888,
              "#fdca26"
             ],
             [
              1,
              "#f0f921"
             ]
            ],
            "type": "histogram2dcontour"
           }
          ],
          "mesh3d": [
           {
            "colorbar": {
             "outlinewidth": 0,
             "ticks": ""
            },
            "type": "mesh3d"
           }
          ],
          "parcoords": [
           {
            "line": {
             "colorbar": {
              "outlinewidth": 0,
              "ticks": ""
             }
            },
            "type": "parcoords"
           }
          ],
          "pie": [
           {
            "automargin": true,
            "type": "pie"
           }
          ],
          "scatter": [
           {
            "marker": {
             "colorbar": {
              "outlinewidth": 0,
              "ticks": ""
             }
            },
            "type": "scatter"
           }
          ],
          "scatter3d": [
           {
            "line": {
             "colorbar": {
              "outlinewidth": 0,
              "ticks": ""
             }
            },
            "marker": {
             "colorbar": {
              "outlinewidth": 0,
              "ticks": ""
             }
            },
            "type": "scatter3d"
           }
          ],
          "scattercarpet": [
           {
            "marker": {
             "colorbar": {
              "outlinewidth": 0,
              "ticks": ""
             }
            },
            "type": "scattercarpet"
           }
          ],
          "scattergeo": [
           {
            "marker": {
             "colorbar": {
              "outlinewidth": 0,
              "ticks": ""
             }
            },
            "type": "scattergeo"
           }
          ],
          "scattergl": [
           {
            "marker": {
             "colorbar": {
              "outlinewidth": 0,
              "ticks": ""
             }
            },
            "type": "scattergl"
           }
          ],
          "scattermapbox": [
           {
            "marker": {
             "colorbar": {
              "outlinewidth": 0,
              "ticks": ""
             }
            },
            "type": "scattermapbox"
           }
          ],
          "scatterpolar": [
           {
            "marker": {
             "colorbar": {
              "outlinewidth": 0,
              "ticks": ""
             }
            },
            "type": "scatterpolar"
           }
          ],
          "scatterpolargl": [
           {
            "marker": {
             "colorbar": {
              "outlinewidth": 0,
              "ticks": ""
             }
            },
            "type": "scatterpolargl"
           }
          ],
          "scatterternary": [
           {
            "marker": {
             "colorbar": {
              "outlinewidth": 0,
              "ticks": ""
             }
            },
            "type": "scatterternary"
           }
          ],
          "surface": [
           {
            "colorbar": {
             "outlinewidth": 0,
             "ticks": ""
            },
            "colorscale": [
             [
              0,
              "#0d0887"
             ],
             [
              0.1111111111111111,
              "#46039f"
             ],
             [
              0.2222222222222222,
              "#7201a8"
             ],
             [
              0.3333333333333333,
              "#9c179e"
             ],
             [
              0.4444444444444444,
              "#bd3786"
             ],
             [
              0.5555555555555556,
              "#d8576b"
             ],
             [
              0.6666666666666666,
              "#ed7953"
             ],
             [
              0.7777777777777778,
              "#fb9f3a"
             ],
             [
              0.8888888888888888,
              "#fdca26"
             ],
             [
              1,
              "#f0f921"
             ]
            ],
            "type": "surface"
           }
          ],
          "table": [
           {
            "cells": {
             "fill": {
              "color": "#EBF0F8"
             },
             "line": {
              "color": "white"
             }
            },
            "header": {
             "fill": {
              "color": "#C8D4E3"
             },
             "line": {
              "color": "white"
             }
            },
            "type": "table"
           }
          ]
         },
         "layout": {
          "annotationdefaults": {
           "arrowcolor": "#2a3f5f",
           "arrowhead": 0,
           "arrowwidth": 1
          },
          "autotypenumbers": "strict",
          "coloraxis": {
           "colorbar": {
            "outlinewidth": 0,
            "ticks": ""
           }
          },
          "colorscale": {
           "diverging": [
            [
             0,
             "#8e0152"
            ],
            [
             0.1,
             "#c51b7d"
            ],
            [
             0.2,
             "#de77ae"
            ],
            [
             0.3,
             "#f1b6da"
            ],
            [
             0.4,
             "#fde0ef"
            ],
            [
             0.5,
             "#f7f7f7"
            ],
            [
             0.6,
             "#e6f5d0"
            ],
            [
             0.7,
             "#b8e186"
            ],
            [
             0.8,
             "#7fbc41"
            ],
            [
             0.9,
             "#4d9221"
            ],
            [
             1,
             "#276419"
            ]
           ],
           "sequential": [
            [
             0,
             "#0d0887"
            ],
            [
             0.1111111111111111,
             "#46039f"
            ],
            [
             0.2222222222222222,
             "#7201a8"
            ],
            [
             0.3333333333333333,
             "#9c179e"
            ],
            [
             0.4444444444444444,
             "#bd3786"
            ],
            [
             0.5555555555555556,
             "#d8576b"
            ],
            [
             0.6666666666666666,
             "#ed7953"
            ],
            [
             0.7777777777777778,
             "#fb9f3a"
            ],
            [
             0.8888888888888888,
             "#fdca26"
            ],
            [
             1,
             "#f0f921"
            ]
           ],
           "sequentialminus": [
            [
             0,
             "#0d0887"
            ],
            [
             0.1111111111111111,
             "#46039f"
            ],
            [
             0.2222222222222222,
             "#7201a8"
            ],
            [
             0.3333333333333333,
             "#9c179e"
            ],
            [
             0.4444444444444444,
             "#bd3786"
            ],
            [
             0.5555555555555556,
             "#d8576b"
            ],
            [
             0.6666666666666666,
             "#ed7953"
            ],
            [
             0.7777777777777778,
             "#fb9f3a"
            ],
            [
             0.8888888888888888,
             "#fdca26"
            ],
            [
             1,
             "#f0f921"
            ]
           ]
          },
          "colorway": [
           "#636efa",
           "#EF553B",
           "#00cc96",
           "#ab63fa",
           "#FFA15A",
           "#19d3f3",
           "#FF6692",
           "#B6E880",
           "#FF97FF",
           "#FECB52"
          ],
          "font": {
           "color": "#2a3f5f"
          },
          "geo": {
           "bgcolor": "white",
           "lakecolor": "white",
           "landcolor": "#E5ECF6",
           "showlakes": true,
           "showland": true,
           "subunitcolor": "white"
          },
          "hoverlabel": {
           "align": "left"
          },
          "hovermode": "closest",
          "mapbox": {
           "style": "light"
          },
          "paper_bgcolor": "white",
          "plot_bgcolor": "#E5ECF6",
          "polar": {
           "angularaxis": {
            "gridcolor": "white",
            "linecolor": "white",
            "ticks": ""
           },
           "bgcolor": "#E5ECF6",
           "radialaxis": {
            "gridcolor": "white",
            "linecolor": "white",
            "ticks": ""
           }
          },
          "scene": {
           "xaxis": {
            "backgroundcolor": "#E5ECF6",
            "gridcolor": "white",
            "gridwidth": 2,
            "linecolor": "white",
            "showbackground": true,
            "ticks": "",
            "zerolinecolor": "white"
           },
           "yaxis": {
            "backgroundcolor": "#E5ECF6",
            "gridcolor": "white",
            "gridwidth": 2,
            "linecolor": "white",
            "showbackground": true,
            "ticks": "",
            "zerolinecolor": "white"
           },
           "zaxis": {
            "backgroundcolor": "#E5ECF6",
            "gridcolor": "white",
            "gridwidth": 2,
            "linecolor": "white",
            "showbackground": true,
            "ticks": "",
            "zerolinecolor": "white"
           }
          },
          "shapedefaults": {
           "line": {
            "color": "#2a3f5f"
           }
          },
          "ternary": {
           "aaxis": {
            "gridcolor": "white",
            "linecolor": "white",
            "ticks": ""
           },
           "baxis": {
            "gridcolor": "white",
            "linecolor": "white",
            "ticks": ""
           },
           "bgcolor": "#E5ECF6",
           "caxis": {
            "gridcolor": "white",
            "linecolor": "white",
            "ticks": ""
           }
          },
          "title": {
           "x": 0.05
          },
          "xaxis": {
           "automargin": true,
           "gridcolor": "white",
           "linecolor": "white",
           "ticks": "",
           "title": {
            "standoff": 15
           },
           "zerolinecolor": "white",
           "zerolinewidth": 2
          },
          "yaxis": {
           "automargin": true,
           "gridcolor": "white",
           "linecolor": "white",
           "ticks": "",
           "title": {
            "standoff": 15
           },
           "zerolinecolor": "white",
           "zerolinewidth": 2
          }
         }
        },
        "xaxis": {
         "anchor": "y",
         "autorange": true,
         "domain": [
          0,
          1
         ],
         "range": [
          -1.1824245963309363,
          8.481726421799083
         ],
         "title": {
          "text": "x"
         },
         "type": "linear"
        },
        "yaxis": {
         "anchor": "x",
         "autorange": true,
         "domain": [
          0,
          1
         ],
         "range": [
          -14.107288549493937,
          8.902933039426955
         ],
         "title": {
          "text": "y"
         },
         "type": "linear"
        }
       }
      },
      "image/png": "[encoded data removed]",
      "text/html": [
       "<div>                            <div id=\"59c8809d-a86a-490e-a278-d90c024d04d9\" class=\"plotly-graph-div\" style=\"height:525px; width:100%;\"></div>            <script type=\"text/javascript\">                require([\"plotly\"], function(Plotly) {                    window.PLOTLYENV=window.PLOTLYENV || {};                                    if (document.getElementById(\"59c8809d-a86a-490e-a278-d90c024d04d9\")) {                    Plotly.newPlot(                        \"59c8809d-a86a-490e-a278-d90c024d04d9\",                        [{\"hovertemplate\":\"x=%{x}<br>y=%{y}<br>color=%{marker.color}<extra></extra>\",\"legendgroup\":\"\",\"marker\":{\"color\":[1,0,0,0,0,1,1,1,0,1,0,0,1,0,0,0,0,1,0,0,0,0,0,0,1,1,1,1,0,1,0,1,0,1,1,1,0,1,0,0,0,1,0,1,1,1,1,1,0,1,0,1,0,1,1,1,0,1,0,0,0,1,1,1,1,1,0,1,0,1,1,1,0,1,1,1,1,1,0,1,0,1,1,0,0,1,0,1,0,0,0,1,1,1,0,1,0,1,0,1,1,0,1,0,1,0,1,1,0,0,0,0,0,1,0,0,0,0,1,1,1,0,1,0,0,1,0,0,0,0,0,1,1,1,0,1,0,1,0,0,0,0,1,0,0,0,0,1,0,1,0,1,1,1,0,0,0,1,1,1,1,1,1,0,0,1,0,1,1,0,0,1,0,0,1,1,0,0,0,0,0,1,0,1,1,1,1,0,1,0,0,1,1,0,1,0,1,1,0,1,1,1,0,0,1,0,1,1,0,0,1,1,0,0,0,0,0,1,0,0,1,0,1,1,1,1,0,1,0,0,0,1,0,1,0,1,0,0,1,0,1,1,0,0,0,0,0,1,0,0,1,1,0,0,0,1,1,0,0,1,0,0,1,1,1,1,1,0,0,1,1,1,1,1,0,0,1,1,1,1,1,0,1,0,1,0,0,0,0,1,0,0,1,1,1,1,1,1,0,0],\"coloraxis\":\"coloraxis\",\"symbol\":\"circle\"},\"mode\":\"markers\",\"name\":\"\",\"orientation\":\"v\",\"showlegend\":false,\"type\":\"scatter\",\"x\":[1.7322549235326707,5.7798904791387695,4.754389428866573,4.740197250455805,5.67102738559991,3.774100901669833,3.2083660807537684,3.1353502492493126,5.364500835842515,2.224185559273774,4.005532350180685,3.9841139827203,4.218126458442368,6.511639938991015,5.9748409316307445,6.448928972569055,5.826622853587267,2.184356442976803,5.559550362205977,5.360565017623718,5.0933117031970845,5.130429012395707,5.929602046971408,7.830738471272269,2.6837461275241385,2.2060620769904236,2.237148784656473,3.861281452510152,4.289810653503875,3.9211139945618516,5.293839272683414,2.5230585529308978,6.413010682232917,3.6407751146767002,4.490747307239848,1.5407669608277677,5.210622973004398,2.6987722900320157,4.295937578195579,6.766339175292472,5.654230229180127,4.31772583039888,5.69946218543023,1.8454546856492064,2.729279427979611,2.419406680498348,1.323939329229082,3.3197230358132197,6.644561715685967,2.5618842558982102,4.568890350295232,3.8877473486056804,5.937127276732782,3.829653628633772,2.437882468716494,2.0369954869426703,3.4086942126605027,2.4127248129532752,7.7455401829624,5.390030327532704,7.100488410926131,2.7293004779030774,1.2418462311251885,1.6803322143658663,2.8934615974722533,3.4295865562536867,5.643678010452959,3.048270249581629,4.381280327820482,4.535916365846464,2.406462833495537,3.3768434193621655,6.406486993336902,2.733692522070907,1.7817777763968279,3.157967326672788,3.752695376321215,1.3256232257506002,6.086644416561232,3.202154966335329,4.590904361364668,1.689236574491991,1.4693112069312522,6.5501041187443425,4.421696512808824,1.4946267664219774,5.7587628148664365,3.188309943656699,5.035430680028516,4.461347194818156,4.503503600485973,1.5492104955487918,2.4478678481809073,1.7815132964918658,6.312187722939816,3.7008050885923374,5.020683337685827,4.914831201068814,5.862598161867658,2.598015830393521,2.930575433613897,3.131309536372296,2.3519419606210032,4.621821723064965,2.433008399696603,4.713613428507859,1.9898422974492693,2.8156339921091553,5.960297674645794,5.745769286426143,5.345290681517973,6.472595722143184,5.655042995459579,5.34464978743767,5.590317118013352,5.804165951300261,5.063913682179279,5.262337574657519,1.4113749595257754,2.866765309065008,3.252013148706368,6.133243320086554,2.2446612908458228,6.181712823287095,5.140410857675265,3.177236175638968,4.346715481376071,5.8288819588233665,5.991565534991547,4.684588026564511,6.8096450948704375,4.1122184270236275,2.8990910477749567,4.070784084352379,3.881012573223651,1.968344694057913,4.841957708709551,2.526623893041106,5.69248302933547,6.046667366848388,5.930339766545273,5.525562081170163,3.3266270128554263,6.36891327427506,6.3189768968504145,4.6040452675042545,6.534121100117569,1.0845838825702079,3.448684584677012,2.746247707452237,4.303308830110536,-0.14303651862550204,3.557332302018051,2.1001153669577515,6.114317590996444,5.619348849504046,6.910949867171501,3.467649972862284,3.0845671105883508,3.197505434357683,2.4751545811383475,5.352875006504823,2.862384540814901,5.196466221560197,5.189408680811439,1.8411654957257992,7.083129489813211,3.5374831706524574,0.9925187795190282,5.719353590166886,5.138783451684339,1.257211487776121,5.194230609390829,4.156593273532036,3.0696906916171405,2.6776752429844906,5.314140394140759,6.373538943510107,5.633742432725041,7.411798611424308,6.138371881854759,3.2358864912810144,5.155164877369138,2.119646270929044,3.019316275139363,2.210425581271927,1.9093603597021596,7.821116530219454,1.432716066379947,5.495214336077153,4.886533794002218,2.0586598521879718,1.0373780805163468,4.7037921318288,3.5864490123011104,5.282046102307955,1.4039491724259308,1.7895037114317625,4.94431972649944,3.6306759382131943,4.748013368136727,1.0380205624029166,5.700585646095026,6.7709622887008605,3.594285129706738,6.440397496084609,3.4324360296583825,0.9809967697486994,6.6626181915217355,4.786450261106421,2.1804572351208957,1.9025530412149334,4.851495201282473,5.378371540105499,6.734885946198397,5.0249400459631985,3.87910747441739,3.1929070097504217,3.570227384723771,4.401659898289635,2.8417183072778576,6.5935812337390365,2.2487532777349895,2.2874878818194584,3.125031927098621,2.350601206286546,5.859439055288517,1.6883780505090047,6.253411487997185,7.651462504158114,4.486979505572368,2.843259393334098,4.85329950377533,2.333016076524489,5.087272619271484,3.8608826929237736,4.419844303538911,5.543888526361558,4.2008158179238855,6.682885129090074,4.2844219925188565,2.455829804135634,4.7193414182677556,4.472880447718445,3.9180913781717033,5.159095676661351,5.11358410799783,2.20156461556182,5.691924451027039,3.715341668180655,-0.5314366458041224,1.6670998336906895,7.41149745676065,4.862907194138776,4.987386629114905,2.049345690247692,4.161183090603523,6.433274003959742,6.0477488392254,2.2636954979148998,6.526542239348248,4.200576884596865,2.8299796819762806,3.243658153542817,2.8248921193813823,3.207189660792632,3.4576753442150183,5.887301317733785,6.643594424478806,2.3497634660525026,2.7372840982795204,3.291913622919935,2.456439766661556,3.9480137994588587,5.55912116109487,6.156920312474449,2.7065812331084382,2.649056255924788,2.4814426450262577,3.942655980198801,1.642356485633013,5.741166644146653,3.875867620785699,6.268637603717575,3.59771233303743,5.400507528518733,5.377582353996166,5.864778104504611,7.328716906966923,1.1578890191754794,5.430704296268953,5.522176102072637,2.8655375377157273,3.4580611975847044,1.4941103293620575,2.506564005807047,2.69906122666221,2.8702369223710344,5.575373566311807,6.555198018444797],\"xaxis\":\"x\",\"y\":[4.922483149049138,-9.792240498533408,-9.479148930016214,-9.037017085971303,-9.762259835457538,5.348200196177811,5.52692235188079,3.756222116971818,-10.338853973559669,5.463773588949321,-10.26390778743201,-11.193811375650087,4.284389996647671,-9.228021945806328,-8.981761962581379,-9.418150745792238,-9.9225933498975,4.883096109182148,-8.382217138842066,-11.716673121293574,-10.376351783779414,-8.736752403790314,-8.390610410348724,-10.324317751320642,4.069830830048391,4.797057949905864,5.5123462025198116,4.730332263223857,-9.449824134363334,5.70880342099882,-9.875206821424435,4.940749588464789,-9.55673364551285,4.101552606079838,4.420030309130933,4.065131594965206,-8.59588855531253,7.177044088414023,-11.526260693834399,-9.5556513018688,-9.335782354925636,5.699506847387916,-11.203531760627765,4.1476064338753975,5.521862116059653,5.16819994386643,5.476214501717543,4.30257583675257,-9.64148173589456,4.937196517675922,-9.949239099061648,5.98436061747746,-9.17066337161796,5.5853599170546,3.7152498451180955,6.085582879230997,-9.044420299710707,5.790732170164098,-9.276293339624177,-10.431977265856824,-8.421237312643601,6.441732655858473,3.7125807872675054,4.293736177243442,3.6029634661171466,4.246678428300985,-11.579354782553027,4.89216240659103,-10.382969830484214,2.9924411531232673,4.804784853187195,4.371089932850627,-11.98053302620377,4.953036462398988,4.193389903780904,3.3174729441989417,4.513236765175967,6.03560597685668,-9.935832904251841,4.079933814302636,-9.374510284432583,5.388610366433814,5.1859167926439795,-7.912338799504142,-8.993507926181648,5.7172650562804055,-8.449987839730063,7.360202273806122,-8.329787281102398,-8.556686934829266,-9.115209578728926,3.1187194849823174,5.046232024545711,4.399184309284787,-9.320566321181259,4.173188022334216,-8.803185822436355,4.729590530175091,-9.622878894825003,4.454301202586246,6.289000397750668,-10.780890324275488,5.476972617705808,-9.797658651522482,4.2810210053649005,-9.845820491366146,4.317060342436985,4.192042090137095,-8.840986609026046,-9.124058111140252,-10.114257093811458,-11.003517042035364,-9.139823399981623,5.040523150840295,-8.755448528414728,-7.970553038666505,-9.706866703973859,-10.73377327721983,4.756817386769238,5.519312736417394,4.516152102876433,-10.372229939059157,4.220661816961819,-8.705475322254308,-10.44771931220898,5.780345008463975,-9.70803084132211,-9.957722429248838,-9.73238127053899,-8.479385876653904,-9.238727897460787,6.3582242757623,4.860196920181295,5.100744425850616,-9.593344862740492,4.62231492007038,-8.982938742058257,6.034514293278169,-7.199993682100873,-10.653528721279853,-9.3966297982303,-8.186964635718395,2.7994690161192346,-12.564557783873104,-9.573938316036172,-11.171512773659819,-9.34041703616398,4.50734693748722,-11.328333308710878,6.14981006419504,-9.97368895966678,5.085622077090693,3.5892551161610946,4.015072307722152,-11.118029731102153,-9.580936100824031,-10.664765898597246,4.482936909331291,5.263888085066965,5.50956667222154,4.880601818924878,3.87255551951101,5.0208523361891855,-10.714512207245761,-9.527675862655952,5.569266882061685,-8.917071403978527,2.878285777498491,5.652785846266549,-10.055768264297487,-10.944271585917969,5.070785962027567,-10.086689912406838,-9.261571083090304,4.399960789897691,5.123111590656152,-9.94714145995421,-10.607271705089365,-9.730025550137048,-8.137795412143747,-8.666691861332554,5.603528619395627,-8.971756827952332,3.86995441448936,5.918442148229047,5.1946364827140075,5.456866393865428,-8.66750207530154,3.922961677308684,-8.172896708388325,-8.876800992885366,5.81315942614504,5.220875739318222,-9.50082145742022,3.979071440684476,-9.985099364797698,5.730953721498777,6.1341292224698,-9.495373400222453,5.791298332200655,4.385891120085013,5.411014925365603,-10.099870935283223,-9.091445695563682,4.403190428994719,-10.555158835788212,4.9421506510951545,5.592528573177109,-7.119635930750494,-9.271130491252965,4.224457209849797,6.100319566377191,-9.945132147241422,-10.065748352943993,-9.389947733578877,-8.242781728556945,-8.24015450218374,3.5982018215336797,-9.80773471191497,-9.424561849869411,4.926080472600626,-10.156937826099737,4.9252280006746645,6.5362864317394695,5.270146908634119,4.310311919587912,-8.381923638999758,6.462057064811146,-11.539473132813475,-9.467779592617488,-10.074298229696621,4.218247998421317,-10.905408558703426,5.713256631892859,-9.272791076498748,3.2099126502500486,-9.842494637613436,-11.49241790093637,4.3266392798651205,-10.316930514813178,5.215416917203476,4.100655273968308,-9.038296175277436,-8.996920419003109,-8.964360349803357,-10.134270026917449,-9.933842931029464,5.325554059439602,-9.476412487097,-8.97266370031342,6.43878864344074,5.303653016344136,-7.840146864472668,-8.730132256499303,-9.443856844747538,4.612891449345067,5.11632451757731,-9.879387020201913,-10.305046573530866,4.728602377704615,-9.020608486425852,-9.806754149211464,6.334866789755531,4.463202458420826,4.671877480593887,4.980179689330974,4.079769983717181,-8.922587001087336,-9.40231363424292,5.640223257700564,4.809672279258501,5.453311953883435,3.7968731484560996,4.64724561077221,-10.061103027739307,-11.283362503973883,4.60950166052762,3.4185351787412417,5.770775278497332,6.373415627389572,3.618380090733419,-7.117309956377367,5.946637177441103,-9.38138021548449,5.21132241576781,-9.295866809008036,-9.19161979573023,-10.367304207123308,-9.305355620631959,4.43735911899491,-9.759561223404912,-9.135939282118146,5.411528039283483,4.4883532338250625,4.826944944166565,5.245650074191112,4.0063719779674365,4.720797196727951,-9.269849844590302,-10.282771043283685],\"yaxis\":\"y\"}],                        {\"coloraxis\":{\"colorbar\":{\"title\":{\"text\":\"color\"}},\"colorscale\":[[0.0,\"#0d0887\"],[0.1111111111111111,\"#46039f\"],[0.2222222222222222,\"#7201a8\"],[0.3333333333333333,\"#9c179e\"],[0.4444444444444444,\"#bd3786\"],[0.5555555555555556,\"#d8576b\"],[0.6666666666666666,\"#ed7953\"],[0.7777777777777778,\"#fb9f3a\"],[0.8888888888888888,\"#fdca26\"],[1.0,\"#f0f921\"]]},\"legend\":{\"tracegroupgap\":0},\"margin\":{\"t\":60},\"template\":{\"data\":{\"bar\":[{\"error_x\":{\"color\":\"#2a3f5f\"},\"error_y\":{\"color\":\"#2a3f5f\"},\"marker\":{\"line\":{\"color\":\"#E5ECF6\",\"width\":0.5},\"pattern\":{\"fillmode\":\"overlay\",\"size\":10,\"solidity\":0.2}},\"type\":\"bar\"}],\"barpolar\":[{\"marker\":{\"line\":{\"color\":\"#E5ECF6\",\"width\":0.5},\"pattern\":{\"fillmode\":\"overlay\",\"size\":10,\"solidity\":0.2}},\"type\":\"barpolar\"}],\"carpet\":[{\"aaxis\":{\"endlinecolor\":\"#2a3f5f\",\"gridcolor\":\"white\",\"linecolor\":\"white\",\"minorgridcolor\":\"white\",\"startlinecolor\":\"#2a3f5f\"},\"baxis\":{\"endlinecolor\":\"#2a3f5f\",\"gridcolor\":\"white\",\"linecolor\":\"white\",\"minorgridcolor\":\"white\",\"startlinecolor\":\"#2a3f5f\"},\"type\":\"carpet\"}],\"choropleth\":[{\"colorbar\":{\"outlinewidth\":0,\"ticks\":\"\"},\"type\":\"choropleth\"}],\"contour\":[{\"colorbar\":{\"outlinewidth\":0,\"ticks\":\"\"},\"colorscale\":[[0.0,\"#0d0887\"],[0.1111111111111111,\"#46039f\"],[0.2222222222222222,\"#7201a8\"],[0.3333333333333333,\"#9c179e\"],[0.4444444444444444,\"#bd3786\"],[0.5555555555555556,\"#d8576b\"],[0.6666666666666666,\"#ed7953\"],[0.7777777777777778,\"#fb9f3a\"],[0.8888888888888888,\"#fdca26\"],[1.0,\"#f0f921\"]],\"type\":\"contour\"}],\"contourcarpet\":[{\"colorbar\":{\"outlinewidth\":0,\"ticks\":\"\"},\"type\":\"contourcarpet\"}],\"heatmap\":[{\"colorbar\":{\"outlinewidth\":0,\"ticks\":\"\"},\"colorscale\":[[0.0,\"#0d0887\"],[0.1111111111111111,\"#46039f\"],[0.2222222222222222,\"#7201a8\"],[0.3333333333333333,\"#9c179e\"],[0.4444444444444444,\"#bd3786\"],[0.5555555555555556,\"#d8576b\"],[0.6666666666666666,\"#ed7953\"],[0.7777777777777778,\"#fb9f3a\"],[0.8888888888888888,\"#fdca26\"],[1.0,\"#f0f921\"]],\"type\":\"heatmap\"}],\"heatmapgl\":[{\"colorbar\":{\"outlinewidth\":0,\"ticks\":\"\"},\"colorscale\":[[0.0,\"#0d0887\"],[0.1111111111111111,\"#46039f\"],[0.2222222222222222,\"#7201a8\"],[0.3333333333333333,\"#9c179e\"],[0.4444444444444444,\"#bd3786\"],[0.5555555555555556,\"#d8576b\"],[0.6666666666666666,\"#ed7953\"],[0.7777777777777778,\"#fb9f3a\"],[0.8888888888888888,\"#fdca26\"],[1.0,\"#f0f921\"]],\"type\":\"heatmapgl\"}],\"histogram\":[{\"marker\":{\"pattern\":{\"fillmode\":\"overlay\",\"size\":10,\"solidity\":0.2}},\"type\":\"histogram\"}],\"histogram2d\":[{\"colorbar\":{\"outlinewidth\":0,\"ticks\":\"\"},\"colorscale\":[[0.0,\"#0d0887\"],[0.1111111111111111,\"#46039f\"],[0.2222222222222222,\"#7201a8\"],[0.3333333333333333,\"#9c179e\"],[0.4444444444444444,\"#bd3786\"],[0.5555555555555556,\"#d8576b\"],[0.6666666666666666,\"#ed7953\"],[0.7777777777777778,\"#fb9f3a\"],[0.8888888888888888,\"#fdca26\"],[1.0,\"#f0f921\"]],\"type\":\"histogram2d\"}],\"histogram2dcontour\":[{\"colorbar\":{\"outlinewidth\":0,\"ticks\":\"\"},\"colorscale\":[[0.0,\"#0d0887\"],[0.1111111111111111,\"#46039f\"],[0.2222222222222222,\"#7201a8\"],[0.3333333333333333,\"#9c179e\"],[0.4444444444444444,\"#bd3786\"],[0.5555555555555556,\"#d8576b\"],[0.6666666666666666,\"#ed7953\"],[0.7777777777777778,\"#fb9f3a\"],[0.8888888888888888,\"#fdca26\"],[1.0,\"#f0f921\"]],\"type\":\"histogram2dcontour\"}],\"mesh3d\":[{\"colorbar\":{\"outlinewidth\":0,\"ticks\":\"\"},\"type\":\"mesh3d\"}],\"parcoords\":[{\"line\":{\"colorbar\":{\"outlinewidth\":0,\"ticks\":\"\"}},\"type\":\"parcoords\"}],\"pie\":[{\"automargin\":true,\"type\":\"pie\"}],\"scatter\":[{\"marker\":{\"colorbar\":{\"outlinewidth\":0,\"ticks\":\"\"}},\"type\":\"scatter\"}],\"scatter3d\":[{\"line\":{\"colorbar\":{\"outlinewidth\":0,\"ticks\":\"\"}},\"marker\":{\"colorbar\":{\"outlinewidth\":0,\"ticks\":\"\"}},\"type\":\"scatter3d\"}],\"scattercarpet\":[{\"marker\":{\"colorbar\":{\"outlinewidth\":0,\"ticks\":\"\"}},\"type\":\"scattercarpet\"}],\"scattergeo\":[{\"marker\":{\"colorbar\":{\"outlinewidth\":0,\"ticks\":\"\"}},\"type\":\"scattergeo\"}],\"scattergl\":[{\"marker\":{\"colorbar\":{\"outlinewidth\":0,\"ticks\":\"\"}},\"type\":\"scattergl\"}],\"scattermapbox\":[{\"marker\":{\"colorbar\":{\"outlinewidth\":0,\"ticks\":\"\"}},\"type\":\"scattermapbox\"}],\"scatterpolar\":[{\"marker\":{\"colorbar\":{\"outlinewidth\":0,\"ticks\":\"\"}},\"type\":\"scatterpolar\"}],\"scatterpolargl\":[{\"marker\":{\"colorbar\":{\"outlinewidth\":0,\"ticks\":\"\"}},\"type\":\"scatterpolargl\"}],\"scatterternary\":[{\"marker\":{\"colorbar\":{\"outlinewidth\":0,\"ticks\":\"\"}},\"type\":\"scatterternary\"}],\"surface\":[{\"colorbar\":{\"outlinewidth\":0,\"ticks\":\"\"},\"colorscale\":[[0.0,\"#0d0887\"],[0.1111111111111111,\"#46039f\"],[0.2222222222222222,\"#7201a8\"],[0.3333333333333333,\"#9c179e\"],[0.4444444444444444,\"#bd3786\"],[0.5555555555555556,\"#d8576b\"],[0.6666666666666666,\"#ed7953\"],[0.7777777777777778,\"#fb9f3a\"],[0.8888888888888888,\"#fdca26\"],[1.0,\"#f0f921\"]],\"type\":\"surface\"}],\"table\":[{\"cells\":{\"fill\":{\"color\":\"#EBF0F8\"},\"line\":{\"color\":\"white\"}},\"header\":{\"fill\":{\"color\":\"#C8D4E3\"},\"line\":{\"color\":\"white\"}},\"type\":\"table\"}]},\"layout\":{\"annotationdefaults\":{\"arrowcolor\":\"#2a3f5f\",\"arrowhead\":0,\"arrowwidth\":1},\"autotypenumbers\":\"strict\",\"coloraxis\":{\"colorbar\":{\"outlinewidth\":0,\"ticks\":\"\"}},\"colorscale\":{\"diverging\":[[0,\"#8e0152\"],[0.1,\"#c51b7d\"],[0.2,\"#de77ae\"],[0.3,\"#f1b6da\"],[0.4,\"#fde0ef\"],[0.5,\"#f7f7f7\"],[0.6,\"#e6f5d0\"],[0.7,\"#b8e186\"],[0.8,\"#7fbc41\"],[0.9,\"#4d9221\"],[1,\"#276419\"]],\"sequential\":[[0.0,\"#0d0887\"],[0.1111111111111111,\"#46039f\"],[0.2222222222222222,\"#7201a8\"],[0.3333333333333333,\"#9c179e\"],[0.4444444444444444,\"#bd3786\"],[0.5555555555555556,\"#d8576b\"],[0.6666666666666666,\"#ed7953\"],[0.7777777777777778,\"#fb9f3a\"],[0.8888888888888888,\"#fdca26\"],[1.0,\"#f0f921\"]],\"sequentialminus\":[[0.0,\"#0d0887\"],[0.1111111111111111,\"#46039f\"],[0.2222222222222222,\"#7201a8\"],[0.3333333333333333,\"#9c179e\"],[0.4444444444444444,\"#bd3786\"],[0.5555555555555556,\"#d8576b\"],[0.6666666666666666,\"#ed7953\"],[0.7777777777777778,\"#fb9f3a\"],[0.8888888888888888,\"#fdca26\"],[1.0,\"#f0f921\"]]},\"colorway\":[\"#636efa\",\"#EF553B\",\"#00cc96\",\"#ab63fa\",\"#FFA15A\",\"#19d3f3\",\"#FF6692\",\"#B6E880\",\"#FF97FF\",\"#FECB52\"],\"font\":{\"color\":\"#2a3f5f\"},\"geo\":{\"bgcolor\":\"white\",\"lakecolor\":\"white\",\"landcolor\":\"#E5ECF6\",\"showlakes\":true,\"showland\":true,\"subunitcolor\":\"white\"},\"hoverlabel\":{\"align\":\"left\"},\"hovermode\":\"closest\",\"mapbox\":{\"style\":\"light\"},\"paper_bgcolor\":\"white\",\"plot_bgcolor\":\"#E5ECF6\",\"polar\":{\"angularaxis\":{\"gridcolor\":\"white\",\"linecolor\":\"white\",\"ticks\":\"\"},\"bgcolor\":\"#E5ECF6\",\"radialaxis\":{\"gridcolor\":\"white\",\"linecolor\":\"white\",\"ticks\":\"\"}},\"scene\":{\"xaxis\":{\"backgroundcolor\":\"#E5ECF6\",\"gridcolor\":\"white\",\"gridwidth\":2,\"linecolor\":\"white\",\"showbackground\":true,\"ticks\":\"\",\"zerolinecolor\":\"white\"},\"yaxis\":{\"backgroundcolor\":\"#E5ECF6\",\"gridcolor\":\"white\",\"gridwidth\":2,\"linecolor\":\"white\",\"showbackground\":true,\"ticks\":\"\",\"zerolinecolor\":\"white\"},\"zaxis\":{\"backgroundcolor\":\"#E5ECF6\",\"gridcolor\":\"white\",\"gridwidth\":2,\"linecolor\":\"white\",\"showbackground\":true,\"ticks\":\"\",\"zerolinecolor\":\"white\"}},\"shapedefaults\":{\"line\":{\"color\":\"#2a3f5f\"}},\"ternary\":{\"aaxis\":{\"gridcolor\":\"white\",\"linecolor\":\"white\",\"ticks\":\"\"},\"baxis\":{\"gridcolor\":\"white\",\"linecolor\":\"white\",\"ticks\":\"\"},\"bgcolor\":\"#E5ECF6\",\"caxis\":{\"gridcolor\":\"white\",\"linecolor\":\"white\",\"ticks\":\"\"}},\"title\":{\"x\":0.05},\"xaxis\":{\"automargin\":true,\"gridcolor\":\"white\",\"linecolor\":\"white\",\"ticks\":\"\",\"title\":{\"standoff\":15},\"zerolinecolor\":\"white\",\"zerolinewidth\":2},\"yaxis\":{\"automargin\":true,\"gridcolor\":\"white\",\"linecolor\":\"white\",\"ticks\":\"\",\"title\":{\"standoff\":15},\"zerolinecolor\":\"white\",\"zerolinewidth\":2}}},\"xaxis\":{\"anchor\":\"y\",\"domain\":[0.0,1.0],\"title\":{\"text\":\"x\"}},\"yaxis\":{\"anchor\":\"x\",\"domain\":[0.0,1.0],\"title\":{\"text\":\"y\"}}},                        {\"responsive\": true}                    ).then(function(){\n",
       "                            \n",
       "var gd = document.getElementById('59c8809d-a86a-490e-a278-d90c024d04d9');\n",
       "var x = new MutationObserver(function (mutations, observer) {{\n",
       "        var display = window.getComputedStyle(gd).display;\n",
       "        if (!display || display === 'none') {{\n",
       "            console.log([gd, 'removed!']);\n",
       "            Plotly.purge(gd);\n",
       "            observer.disconnect();\n",
       "        }}\n",
       "}});\n",
       "\n",
       "// Listen for the removal of the full notebook cells\n",
       "var notebookContainer = gd.closest('#notebook-container');\n",
       "if (notebookContainer) {{\n",
       "    x.observe(notebookContainer, {childList: true});\n",
       "}}\n",
       "\n",
       "// Listen for the clearing of the current output cell\n",
       "var outputEl = gd.closest('.output');\n",
       "if (outputEl) {{\n",
       "    x.observe(outputEl, {childList: true});\n",
       "}}\n",
       "\n",
       "                        })                };                });            </script>        </div>"
      ]
     },
     "metadata": {},
     "output_type": "display_data"
    }
   ],
   "source": [
    "# Utilizando Plotly Express\n",
    "fig = px.scatter(x = features['X1'], \n",
    "                 y = features['X2'], \n",
    "                 color = y)\n",
    "fig.show()"
   ]
  },
  {
   "cell_type": "markdown",
   "metadata": {},
   "source": [
    "Para graficar con MatPlotLib en 3-D\n",
    "\n",
    "https://matplotlib.org/mpl_toolkits/mplot3d/tutorial.html#scatter-plots"
   ]
  },
  {
   "cell_type": "code",
   "execution_count": 35,
   "metadata": {},
   "outputs": [],
   "source": [
    "from mpl_toolkits.mplot3d import Axes3D"
   ]
  },
  {
   "cell_type": "code",
   "execution_count": 36,
   "metadata": {},
   "outputs": [],
   "source": [
    "# Si se tiene la última versión de Jupyter NB\n",
    "#%matplotlib notebook\n",
    "\n",
    "%matplotlib inline"
   ]
  },
  {
   "cell_type": "code",
   "execution_count": 37,
   "metadata": {},
   "outputs": [
    {
     "data": {
      "text/plain": [
       "<mpl_toolkits.mplot3d.art3d.Path3DCollection at 0x7fe75641ac10>"
      ]
     },
     "execution_count": 37,
     "metadata": {},
     "output_type": "execute_result"
    },
    {
     "data": {
      "image/png": "[encoded data removed]",
      "text/plain": [
       "<Figure size 432x288 with 1 Axes>"
      ]
     },
     "metadata": {
      "needs_background": "light"
     },
     "output_type": "display_data"
    }
   ],
   "source": [
    "fig = plt.figure()\n",
    "ax = fig.add_subplot(111, projection='3d')\n",
    "ax.scatter(features['X1'],\n",
    "           features['X2'],\n",
    "           features['X3'],\n",
    "           c = y)"
   ]
  },
  {
   "cell_type": "code",
   "execution_count": 39,
   "metadata": {},
   "outputs": [
    {
     "data": {
      "application/vnd.plotly.v1+json": {
       "config": {
        "plotlyServerURL": "https://plot.ly"
       },
       "data": [
        {
         "hovertemplate": "x=%{x}<br>y=%{y}<br>z=%{z}<br>color=%{marker.color}<extra></extra>",
         "legendgroup": "",
         "marker": {
          "color": [
           1,
           0,
           0,
           0,
           0,
           1,
           1,
           1,
           0,
           1,
           0,
           0,
           1,
           0,
           0,
           0,
           0,
           1,
           0,
           0,
           0,
           0,
           0,
           0,
           1,
           1,
           1,
           1,
           0,
           1,
           0,
           1,
           0,
           1,
           1,
           1,
           0,
           1,
           0,
           0,
           0,
           1,
           0,
           1,
           1,
           1,
           1,
           1,
           0,
           1,
           0,
           1,
           0,
           1,
           1,
           1,
           0,
           1,
           0,
           0,
           0,
           1,
           1,
           1,
           1,
           1,
           0,
           1,
           0,
           1,
           1,
           1,
           0,
           1,
           1,
           1,
           1,
           1,
           0,
           1,
           0,
           1,
           1,
           0,
           0,
           1,
           0,
           1,
           0,
           0,
           0,
           1,
           1,
           1,
           0,
           1,
           0,
           1,
           0,
           1,
           1,
           0,
           1,
           0,
           1,
           0,
           1,
           1,
           0,
           0,
           0,
           0,
           0,
           1,
           0,
           0,
           0,
           0,
           1,
           1,
           1,
           0,
           1,
           0,
           0,
           1,
           0,
           0,
           0,
           0,
           0,
           1,
           1,
           1,
           0,
           1,
           0,
           1,
           0,
           0,
           0,
           0,
           1,
           0,
           0,
           0,
           0,
           1,
           0,
           1,
           0,
           1,
           1,
           1,
           0,
           0,
           0,
           1,
           1,
           1,
           1,
           1,
           1,
           0,
           0,
           1,
           0,
           1,
           1,
           0,
           0,
           1,
           0,
           0,
           1,
           1,
           0,
           0,
           0,
           0,
           0,
           1,
           0,
           1,
           1,
           1,
           1,
           0,
           1,
           0,
           0,
           1,
           1,
           0,
           1,
           0,
           1,
           1,
           0,
           1,
           1,
           1,
           0,
           0,
           1,
           0,
           1,
           1,
           0,
           0,
           1,
           1,
           0,
           0,
           0,
           0,
           0,
           1,
           0,
           0,
           1,
           0,
           1,
           1,
           1,
           1,
           0,
           1,
           0,
           0,
           0,
           1,
           0,
           1,
           0,
           1,
           0,
           0,
           1,
           0,
           1,
           1,
           0,
           0,
           0,
           0,
           0,
           1,
           0,
           0,
           1,
           1,
           0,
           0,
           0,
           1,
           1,
           0,
           0,
           1,
           0,
           0,
           1,
           1,
           1,
           1,
           1,
           0,
           0,
           1,
           1,
           1,
           1,
           1,
           0,
           0,
           1,
           1,
           1,
           1,
           1,
           0,
           1,
           0,
           1,
           0,
           0,
           0,
           0,
           1,
           0,
           0,
           1,
           1,
           1,
           1,
           1,
           1,
           0,
           0
          ],
          "coloraxis": "coloraxis",
          "symbol": "circle"
         },
         "mode": "markers",
         "name": "",
         "scene": "scene",
         "showlegend": false,
         "type": "scatter3d",
         "x": [
          1.7322549235326707,
          5.7798904791387695,
          4.754389428866573,
          4.740197250455805,
          5.67102738559991,
          3.774100901669833,
          3.2083660807537684,
          3.1353502492493126,
          5.364500835842515,
          2.224185559273774,
          4.005532350180685,
          3.9841139827203,
          4.218126458442368,
          6.511639938991015,
          5.9748409316307445,
          6.448928972569055,
          5.826622853587267,
          2.184356442976803,
          5.559550362205977,
          5.360565017623718,
          5.0933117031970845,
          5.130429012395707,
          5.929602046971408,
          7.830738471272269,
          2.6837461275241385,
          2.2060620769904236,
          2.237148784656473,
          3.861281452510152,
          4.289810653503875,
          3.9211139945618516,
          5.293839272683414,
          2.5230585529308978,
          6.413010682232917,
          3.6407751146767002,
          4.490747307239848,
          1.5407669608277677,
          5.210622973004398,
          2.6987722900320157,
          4.295937578195579,
          6.766339175292472,
          5.654230229180127,
          4.31772583039888,
          5.69946218543023,
          1.8454546856492064,
          2.729279427979611,
          2.419406680498348,
          1.323939329229082,
          3.3197230358132197,
          6.644561715685967,
          2.5618842558982102,
          4.568890350295232,
          3.8877473486056804,
          5.937127276732782,
          3.829653628633772,
          2.437882468716494,
          2.0369954869426703,
          3.4086942126605027,
          2.4127248129532752,
          7.7455401829624,
          5.390030327532704,
          7.100488410926131,
          2.7293004779030774,
          1.2418462311251885,
          1.6803322143658663,
          2.8934615974722533,
          3.4295865562536867,
          5.643678010452959,
          3.048270249581629,
          4.381280327820482,
          4.535916365846464,
          2.406462833495537,
          3.3768434193621655,
          6.406486993336902,
          2.733692522070907,
          1.7817777763968279,
          3.157967326672788,
          3.752695376321215,
          1.3256232257506002,
          6.086644416561232,
          3.202154966335329,
          4.590904361364668,
          1.689236574491991,
          1.4693112069312522,
          6.5501041187443425,
          4.421696512808824,
          1.4946267664219774,
          5.7587628148664365,
          3.188309943656699,
          5.035430680028516,
          4.461347194818156,
          4.503503600485973,
          1.5492104955487918,
          2.4478678481809073,
          1.7815132964918658,
          6.312187722939816,
          3.7008050885923374,
          5.020683337685827,
          4.914831201068814,
          5.862598161867658,
          2.598015830393521,
          2.930575433613897,
          3.131309536372296,
          2.3519419606210032,
          4.621821723064965,
          2.433008399696603,
          4.713613428507859,
          1.9898422974492693,
          2.8156339921091553,
          5.960297674645794,
          5.745769286426143,
          5.345290681517973,
          6.472595722143184,
          5.655042995459579,
          5.34464978743767,
          5.590317118013352,
          5.804165951300261,
          5.063913682179279,
          5.262337574657519,
          1.4113749595257754,
          2.866765309065008,
          3.252013148706368,
          6.133243320086554,
          2.2446612908458228,
          6.181712823287095,
          5.140410857675265,
          3.177236175638968,
          4.346715481376071,
          5.8288819588233665,
          5.991565534991547,
          4.684588026564511,
          6.8096450948704375,
          4.1122184270236275,
          2.8990910477749567,
          4.070784084352379,
          3.881012573223651,
          1.968344694057913,
          4.841957708709551,
          2.526623893041106,
          5.69248302933547,
          6.046667366848388,
          5.930339766545273,
          5.525562081170163,
          3.3266270128554263,
          6.36891327427506,
          6.3189768968504145,
          4.6040452675042545,
          6.534121100117569,
          1.0845838825702079,
          3.448684584677012,
          2.746247707452237,
          4.303308830110536,
          -0.14303651862550204,
          3.557332302018051,
          2.1001153669577515,
          6.114317590996444,
          5.619348849504046,
          6.910949867171501,
          3.467649972862284,
          3.0845671105883508,
          3.197505434357683,
          2.4751545811383475,
          5.352875006504823,
          2.862384540814901,
          5.196466221560197,
          5.189408680811439,
          1.8411654957257992,
          7.083129489813211,
          3.5374831706524574,
          0.9925187795190282,
          5.719353590166886,
          5.138783451684339,
          1.257211487776121,
          5.194230609390829,
          4.156593273532036,
          3.0696906916171405,
          2.6776752429844906,
          5.314140394140759,
          6.373538943510107,
          5.633742432725041,
          7.411798611424308,
          6.138371881854759,
          3.2358864912810144,
          5.155164877369138,
          2.119646270929044,
          3.019316275139363,
          2.210425581271927,
          1.9093603597021596,
          7.821116530219454,
          1.432716066379947,
          5.495214336077153,
          4.886533794002218,
          2.0586598521879718,
          1.0373780805163468,
          4.7037921318288,
          3.5864490123011104,
          5.282046102307955,
          1.4039491724259308,
          1.7895037114317625,
          4.94431972649944,
          3.6306759382131943,
          4.748013368136727,
          1.0380205624029166,
          5.700585646095026,
          6.7709622887008605,
          3.594285129706738,
          6.440397496084609,
          3.4324360296583825,
          0.9809967697486994,
          6.6626181915217355,
          4.786450261106421,
          2.1804572351208957,
          1.9025530412149334,
          4.851495201282473,
          5.378371540105499,
          6.734885946198397,
          5.0249400459631985,
          3.87910747441739,
          3.1929070097504217,
          3.570227384723771,
          4.401659898289635,
          2.8417183072778576,
          6.5935812337390365,
          2.2487532777349895,
          2.2874878818194584,
          3.125031927098621,
          2.350601206286546,
          5.859439055288517,
          1.6883780505090047,
          6.253411487997185,
          7.651462504158114,
          4.486979505572368,
          2.843259393334098,
          4.85329950377533,
          2.333016076524489,
          5.087272619271484,
          3.8608826929237736,
          4.419844303538911,
          5.543888526361558,
          4.2008158179238855,
          6.682885129090074,
          4.2844219925188565,
          2.455829804135634,
          4.7193414182677556,
          4.472880447718445,
          3.9180913781717033,
          5.159095676661351,
          5.11358410799783,
          2.20156461556182,
          5.691924451027039,
          3.715341668180655,
          -0.5314366458041224,
          1.6670998336906895,
          7.41149745676065,
          4.862907194138776,
          4.987386629114905,
          2.049345690247692,
          4.161183090603523,
          6.433274003959742,
          6.0477488392254,
          2.2636954979148998,
          6.526542239348248,
          4.200576884596865,
          2.8299796819762806,
          3.243658153542817,
          2.8248921193813823,
          3.207189660792632,
          3.4576753442150183,
          5.887301317733785,
          6.643594424478806,
          2.3497634660525026,
          2.7372840982795204,
          3.291913622919935,
          2.456439766661556,
          3.9480137994588587,
          5.55912116109487,
          6.156920312474449,
          2.7065812331084382,
          2.649056255924788,
          2.4814426450262577,
          3.942655980198801,
          1.642356485633013,
          5.741166644146653,
          3.875867620785699,
          6.268637603717575,
          3.59771233303743,
          5.400507528518733,
          5.377582353996166,
          5.864778104504611,
          7.328716906966923,
          1.1578890191754794,
          5.430704296268953,
          5.522176102072637,
          2.8655375377157273,
          3.4580611975847044,
          1.4941103293620575,
          2.506564005807047,
          2.69906122666221,
          2.8702369223710344,
          5.575373566311807,
          6.555198018444797
         ],
         "y": [
          4.922483149049138,
          -9.792240498533408,
          -9.479148930016214,
          -9.037017085971303,
          -9.762259835457538,
          5.348200196177811,
          5.52692235188079,
          3.756222116971818,
          -10.338853973559669,
          5.463773588949321,
          -10.26390778743201,
          -11.193811375650087,
          4.284389996647671,
          -9.228021945806328,
          -8.981761962581379,
          -9.418150745792238,
          -9.9225933498975,
          4.883096109182148,
          -8.382217138842066,
          -11.716673121293574,
          -10.376351783779414,
          -8.736752403790314,
          -8.390610410348724,
          -10.324317751320642,
          4.069830830048391,
          4.797057949905864,
          5.5123462025198116,
          4.730332263223857,
          -9.449824134363334,
          5.70880342099882,
          -9.875206821424435,
          4.940749588464789,
          -9.55673364551285,
          4.101552606079838,
          4.420030309130933,
          4.065131594965206,
          -8.59588855531253,
          7.177044088414023,
          -11.526260693834399,
          -9.5556513018688,
          -9.335782354925636,
          5.699506847387916,
          -11.203531760627765,
          4.1476064338753975,
          5.521862116059653,
          5.16819994386643,
          5.476214501717543,
          4.30257583675257,
          -9.64148173589456,
          4.937196517675922,
          -9.949239099061648,
          5.98436061747746,
          -9.17066337161796,
          5.5853599170546,
          3.7152498451180955,
          6.085582879230997,
          -9.044420299710707,
          5.790732170164098,
          -9.276293339624177,
          -10.431977265856824,
          -8.421237312643601,
          6.441732655858473,
          3.7125807872675054,
          4.293736177243442,
          3.6029634661171466,
          4.246678428300985,
          -11.579354782553027,
          4.89216240659103,
          -10.382969830484214,
          2.9924411531232673,
          4.804784853187195,
          4.371089932850627,
          -11.98053302620377,
          4.953036462398988,
          4.193389903780904,
          3.3174729441989417,
          4.513236765175967,
          6.03560597685668,
          -9.935832904251841,
          4.079933814302636,
          -9.374510284432583,
          5.388610366433814,
          5.1859167926439795,
          -7.912338799504142,
          -8.993507926181648,
          5.7172650562804055,
          -8.449987839730063,
          7.360202273806122,
          -8.329787281102398,
          -8.556686934829266,
          -9.115209578728926,
          3.1187194849823174,
          5.046232024545711,
          4.399184309284787,
          -9.320566321181259,
          4.173188022334216,
          -8.803185822436355,
          4.729590530175091,
          -9.622878894825003,
          4.454301202586246,
          6.289000397750668,
          -10.780890324275488,
          5.476972617705808,
          -9.797658651522482,
          4.2810210053649005,
          -9.845820491366146,
          4.317060342436985,
          4.192042090137095,
          -8.840986609026046,
          -9.124058111140252,
          -10.114257093811458,
          -11.003517042035364,
          -9.139823399981623,
          5.040523150840295,
          -8.755448528414728,
          -7.970553038666505,
          -9.706866703973859,
          -10.73377327721983,
          4.756817386769238,
          5.519312736417394,
          4.516152102876433,
          -10.372229939059157,
          4.220661816961819,
          -8.705475322254308,
          -10.44771931220898,
          5.780345008463975,
          -9.70803084132211,
          -9.957722429248838,
          -9.73238127053899,
          -8.479385876653904,
          -9.238727897460787,
          6.3582242757623,
          4.860196920181295,
          5.100744425850616,
          -9.593344862740492,
          4.62231492007038,
          -8.982938742058257,
          6.034514293278169,
          -7.199993682100873,
          -10.653528721279853,
          -9.3966297982303,
          -8.186964635718395,
          2.7994690161192346,
          -12.564557783873104,
          -9.573938316036172,
          -11.171512773659819,
          -9.34041703616398,
          4.50734693748722,
          -11.328333308710878,
          6.14981006419504,
          -9.97368895966678,
          5.085622077090693,
          3.5892551161610946,
          4.015072307722152,
          -11.118029731102153,
          -9.580936100824031,
          -10.664765898597246,
          4.482936909331291,
          5.263888085066965,
          5.50956667222154,
          4.880601818924878,
          3.87255551951101,
          5.0208523361891855,
          -10.714512207245761,
          -9.527675862655952,
          5.569266882061685,
          -8.917071403978527,
          2.878285777498491,
          5.652785846266549,
          -10.055768264297487,
          -10.944271585917969,
          5.070785962027567,
          -10.086689912406838,
          -9.261571083090304,
          4.399960789897691,
          5.123111590656152,
          -9.94714145995421,
          -10.607271705089365,
          -9.730025550137048,
          -8.137795412143747,
          -8.666691861332554,
          5.603528619395627,
          -8.971756827952332,
          3.86995441448936,
          5.918442148229047,
          5.1946364827140075,
          5.456866393865428,
          -8.66750207530154,
          3.922961677308684,
          -8.172896708388325,
          -8.876800992885366,
          5.81315942614504,
          5.220875739318222,
          -9.50082145742022,
          3.979071440684476,
          -9.985099364797698,
          5.730953721498777,
          6.1341292224698,
          -9.495373400222453,
          5.791298332200655,
          4.385891120085013,
          5.411014925365603,
          -10.099870935283223,
          -9.091445695563682,
          4.403190428994719,
          -10.555158835788212,
          4.9421506510951545,
          5.592528573177109,
          -7.119635930750494,
          -9.271130491252965,
          4.224457209849797,
          6.100319566377191,
          -9.945132147241422,
          -10.065748352943993,
          -9.389947733578877,
          -8.242781728556945,
          -8.24015450218374,
          3.5982018215336797,
          -9.80773471191497,
          -9.424561849869411,
          4.926080472600626,
          -10.156937826099737,
          4.9252280006746645,
          6.5362864317394695,
          5.270146908634119,
          4.310311919587912,
          -8.381923638999758,
          6.462057064811146,
          -11.539473132813475,
          -9.467779592617488,
          -10.074298229696621,
          4.218247998421317,
          -10.905408558703426,
          5.713256631892859,
          -9.272791076498748,
          3.2099126502500486,
          -9.842494637613436,
          -11.49241790093637,
          4.3266392798651205,
          -10.316930514813178,
          5.215416917203476,
          4.100655273968308,
          -9.038296175277436,
          -8.996920419003109,
          -8.964360349803357,
          -10.134270026917449,
          -9.933842931029464,
          5.325554059439602,
          -9.476412487097,
          -8.97266370031342,
          6.43878864344074,
          5.303653016344136,
          -7.840146864472668,
          -8.730132256499303,
          -9.443856844747538,
          4.612891449345067,
          5.11632451757731,
          -9.879387020201913,
          -10.305046573530866,
          4.728602377704615,
          -9.020608486425852,
          -9.806754149211464,
          6.334866789755531,
          4.463202458420826,
          4.671877480593887,
          4.980179689330974,
          4.079769983717181,
          -8.922587001087336,
          -9.40231363424292,
          5.640223257700564,
          4.809672279258501,
          5.453311953883435,
          3.7968731484560996,
          4.64724561077221,
          -10.061103027739307,
          -11.283362503973883,
          4.60950166052762,
          3.4185351787412417,
          5.770775278497332,
          6.373415627389572,
          3.618380090733419,
          -7.117309956377367,
          5.946637177441103,
          -9.38138021548449,
          5.21132241576781,
          -9.295866809008036,
          -9.19161979573023,
          -10.367304207123308,
          -9.305355620631959,
          4.43735911899491,
          -9.759561223404912,
          -9.135939282118146,
          5.411528039283483,
          4.4883532338250625,
          4.826944944166565,
          5.245650074191112,
          4.0063719779674365,
          4.720797196727951,
          -9.269849844590302,
          -10.282771043283685
         ],
         "z": [
          2.706849839399938,
          0.6281327087844596,
          0.9079694464765431,
          0.5038257538223936,
          0.6511179479432686,
          -0.31931804459303326,
          -0.8480769834036315,
          0.6059653494949336,
          -2.018168244037392,
          0.7401220570561068,
          0.5288134940893595,
          -0.5890005332865824,
          0.18869530944922425,
          -0.758872056210466,
          -0.9332372163009188,
          0.9550565092637361,
          0.19079432237171562,
          1.9787573241128278,
          2.60596727979128,
          0.6835088855389145,
          0.3026654485851825,
          1.693722925204035,
          -1.7060859307350775,
          -1.1591194155484297,
          -0.13484072060601238,
          0.39052784273374097,
          0.16690463609281317,
          0.18450185928224264,
          0.8077059142577141,
          0.07295967531703869,
          0.638787013499328,
          0.32964629880452445,
          -0.49710402288933153,
          -0.7540697010400628,
          -0.9434064032519315,
          0.48475164718163294,
          -0.11677331646707445,
          1.9017547952605123,
          0.23812695876901832,
          1.9966522853695665,
          -0.993263499973366,
          0.19679950499134005,
          -1.1366445936091856,
          0.000366479605643592,
          1.025984152081572,
          -0.1565979042889875,
          -0.031579143908112575,
          0.6498258334908454,
          2.154846443259472,
          -0.6102588558227414,
          -0.755325340010558,
          -0.34641850351854453,
          0.1470267713241236,
          -0.47944803904109595,
          0.558769406443067,
          1.0248102783372157,
          -0.925874258809907,
          1.8628641384939535,
          -1.1338171615837889,
          0.6104779075384634,
          0.3860303121135517,
          2.084018530338962,
          -0.37651867524923904,
          0.23033634359240704,
          0.6812092925867574,
          1.0351250747739213,
          -0.031160481493099617,
          1.9399323109926203,
          -1.005186917256266,
          -0.7417897046689249,
          0.1871245217641948,
          -0.7328451475428807,
          -1.3829200981158674,
          1.48249549608345,
          0.9614581560918355,
          -2.1412122910809264,
          0.9925734530526948,
          1.1922406372754866,
          -1.0467795376984979,
          1.2927645769293514,
          -1.4675140203361003,
          -0.49409535833912277,
          -0.1625347347726149,
          0.48580873745486103,
          0.39248881107944394,
          0.22149068500354543,
          -0.8551960407780934,
          1.541990408031232,
          0.6663193209198146,
          -0.5382346255173922,
          -0.5685813606701186,
          1.4073382479609386,
          0.6418055114450044,
          -0.905099901810439,
          -0.3911566271858832,
          1.0282931608187034,
          -1.9726051036093835,
          -0.8668850353083267,
          0.7207875987587121,
          -1.2230820379046312,
          1.606779861236061,
          -1.1157099674628352,
          -1.3853785569149153,
          -1.3296600588247933,
          0.04145994288358152,
          -0.41105540321250544,
          -0.7713286047373022,
          0.11047741113032297,
          -0.8046515115064065,
          0.2535480414796537,
          0.6491477464471864,
          0.3589405253750619,
          -1.0804714624711786,
          0.902397757200862,
          0.161781188240493,
          0.8330293241751475,
          0.9757196803436843,
          -0.38823869993016363,
          0.7833160508104224,
          -0.7089537376785922,
          0.586847295403904,
          -1.621347825454474,
          0.677535113895638,
          0.026105480322676483,
          -1.6782836579965759,
          0.33397310118137624,
          -0.5324705255224986,
          2.1177273820227196,
          0.19752398574797547,
          2.3029872653509056,
          0.7290237321354455,
          -0.8630912690663913,
          0.3056315115097357,
          0.24317761384049238,
          0.8641648782095376,
          -1.5609314472141087,
          -0.2518969516247645,
          -0.5781202586473068,
          0.23699563041333727,
          0.20078046900718044,
          0.3278447402697301,
          0.674485186989649,
          -0.17405654125505843,
          0.7801397150660992,
          -0.38325813145045406,
          -0.40931848394745096,
          0.3435391865584499,
          0.1962753160993944,
          -0.982775996932035,
          2.231555243446201,
          -0.9713925659501077,
          -1.522332873870511,
          1.1337029907766036,
          0.5281867344521978,
          0.3934607601553278,
          -0.6305066330018959,
          -1.3982896782716048,
          -0.21931071609607042,
          -0.04567647974128554,
          0.012420990255292875,
          0.0936279847307588,
          1.2408126131652035,
          -1.097693023064908,
          -1.908008821232767,
          -0.3801035020513599,
          -1.666059178570647,
          -2.7369945956467303,
          1.522562110668041,
          0.17800909135852547,
          -0.626805405123199,
          -0.39108896696029627,
          1.7434769471227056,
          1.1300180527493824,
          0.897796311118923,
          0.33086562044846474,
          -1.063048893618331,
          -0.1253808013891206,
          -0.9455881247341669,
          2.0295441849199127,
          -1.0463583859222323,
          -1.3064823050884957,
          -1.632923996816882,
          0.8021293698822711,
          -1.6675367808286456,
          0.6088572918018318,
          0.2864729879605598,
          -0.2057922982750036,
          2.493990185752055,
          -0.5472598883029545,
          0.4967269541347469,
          -1.235614261466594,
          -0.7984279607352327,
          0.7541214332828665,
          -0.7720406439702567,
          -0.034431636973305195,
          0.6884084244168481,
          0.08152335776533699,
          -0.41519111613560106,
          0.05366145791755185,
          -2.1151130977123773,
          -0.27951021452358354,
          1.0627104161410734,
          1.7520144226756424,
          0.6955467245457797,
          0.15366083401816283,
          0.16763824411665035,
          -0.7659300746299967,
          0.9622991701503001,
          0.9028258592331454,
          -0.5379091569515423,
          -1.5496711043545173,
          0.43525292201184523,
          1.2599036895486682,
          -0.4478983519268438,
          0.26620677922249886,
          0.4125801614290498,
          0.9887728450784197,
          0.5138327290356798,
          -0.9282048316241881,
          0.8469038980594052,
          -0.29843574431221986,
          0.029141475737380698,
          0.8890308842265193,
          -1.839260863340729,
          0.8635956020616977,
          -1.0765905044553468,
          -0.580382983225663,
          1.209027284571865,
          1.2017440283185892,
          -0.8204631637242422,
          -1.029577156962552,
          -1.5248555367588408,
          -0.8548599013156002,
          1.6028155369261388,
          0.1854789874674731,
          -0.9940182922196608,
          -0.13190613678378701,
          -1.3350917346306141,
          -0.0892984417103869,
          0.6985664041829249,
          -1.40912568010266,
          0.8709070168048411,
          1.58581239401606,
          0.9296578406361021,
          -0.5508760030855312,
          0.942044977340326,
          -0.9753493500596645,
          -1.0548505975739644,
          2.165421117012678,
          -1.2672401758233451,
          -0.8028431714973141,
          -0.25347938278107685,
          0.09069874396718668,
          1.3217153465920728,
          0.7941285064681898,
          1.3597119775466715,
          0.7719700393250232,
          0.2942166265326114,
          -1.3915190611130732,
          0.14748647106358997,
          -0.729466336942255,
          -0.7201097480739456,
          -0.28525676642496123,
          2.090539149200246,
          1.0040561480091232,
          1.0319158600110228,
          -1.0811182770358438,
          -0.00035496108900161965,
          -0.21988154841914037,
          0.2927951308453091,
          0.8343545216262672,
          -0.14043183108525809,
          0.11914496240080452,
          0.6657145861587476,
          0.4075864497857779,
          0.8078427433410449,
          -2.736464445063238,
          -0.9851528548352678,
          -0.1552757504931956,
          -1.0132280125006923,
          -1.0874358897562575,
          -2.567766921174143,
          0.6610291979302003,
          -0.33292080038923216,
          -0.9286022737931389,
          1.715950166352582,
          -0.46875628568514655,
          0.8600970357844115,
          0.23008704402132232,
          0.6186579932288591,
          -2.052562921769063,
          -0.16664611600310902,
          -0.4458727825776645,
          0.6858737647681736,
          2.7850096677486076,
          1.5237504578803855,
          1.2902299309450938,
          -1.4783193644514252,
          0.2142341936452114,
          -0.24050994802670836
         ]
        }
       ],
       "layout": {
        "coloraxis": {
         "colorbar": {
          "title": {
           "text": "color"
          }
         },
         "colorscale": [
          [
           0,
           "#0d0887"
          ],
          [
           0.1111111111111111,
           "#46039f"
          ],
          [
           0.2222222222222222,
           "#7201a8"
          ],
          [
           0.3333333333333333,
           "#9c179e"
          ],
          [
           0.4444444444444444,
           "#bd3786"
          ],
          [
           0.5555555555555556,
           "#d8576b"
          ],
          [
           0.6666666666666666,
           "#ed7953"
          ],
          [
           0.7777777777777778,
           "#fb9f3a"
          ],
          [
           0.8888888888888888,
           "#fdca26"
          ],
          [
           1,
           "#f0f921"
          ]
         ]
        },
        "height": 400,
        "legend": {
         "tracegroupgap": 0
        },
        "margin": {
         "t": 60
        },
        "scene": {
         "aspectmode": "auto",
         "aspectratio": {
          "x": 0.859771198986826,
          "y": 2.0485979550144826,
          "z": 0.567754221823767
         },
         "domain": {
          "x": [
           0,
           1
          ],
          "y": [
           0,
           1
          ]
         },
         "xaxis": {
          "title": {
           "text": "x"
          },
          "type": "linear"
         },
         "yaxis": {
          "title": {
           "text": "y"
          },
          "type": "linear"
         },
         "zaxis": {
          "title": {
           "text": "z"
          },
          "type": "linear"
         }
        },
        "template": {
         "data": {
          "bar": [
           {
            "error_x": {
             "color": "#2a3f5f"
            },
            "error_y": {
             "color": "#2a3f5f"
            },
            "marker": {
             "line": {
              "color": "#E5ECF6",
              "width": 0.5
             },
             "pattern": {
              "fillmode": "overlay",
              "size": 10,
              "solidity": 0.2
             }
            },
            "type": "bar"
           }
          ],
          "barpolar": [
           {
            "marker": {
             "line": {
              "color": "#E5ECF6",
              "width": 0.5
             },
             "pattern": {
              "fillmode": "overlay",
              "size": 10,
              "solidity": 0.2
             }
            },
            "type": "barpolar"
           }
          ],
          "carpet": [
           {
            "aaxis": {
             "endlinecolor": "#2a3f5f",
             "gridcolor": "white",
             "linecolor": "white",
             "minorgridcolor": "white",
             "startlinecolor": "#2a3f5f"
            },
            "baxis": {
             "endlinecolor": "#2a3f5f",
             "gridcolor": "white",
             "linecolor": "white",
             "minorgridcolor": "white",
             "startlinecolor": "#2a3f5f"
            },
            "type": "carpet"
           }
          ],
          "choropleth": [
           {
            "colorbar": {
             "outlinewidth": 0,
             "ticks": ""
            },
            "type": "choropleth"
           }
          ],
          "contour": [
           {
            "colorbar": {
             "outlinewidth": 0,
             "ticks": ""
            },
            "colorscale": [
             [
              0,
              "#0d0887"
             ],
             [
              0.1111111111111111,
              "#46039f"
             ],
             [
              0.2222222222222222,
              "#7201a8"
             ],
             [
              0.3333333333333333,
              "#9c179e"
             ],
             [
              0.4444444444444444,
              "#bd3786"
             ],
             [
              0.5555555555555556,
              "#d8576b"
             ],
             [
              0.6666666666666666,
              "#ed7953"
             ],
             [
              0.7777777777777778,
              "#fb9f3a"
             ],
             [
              0.8888888888888888,
              "#fdca26"
             ],
             [
              1,
              "#f0f921"
             ]
            ],
            "type": "contour"
           }
          ],
          "contourcarpet": [
           {
            "colorbar": {
             "outlinewidth": 0,
             "ticks": ""
            },
            "type": "contourcarpet"
           }
          ],
          "heatmap": [
           {
            "colorbar": {
             "outlinewidth": 0,
             "ticks": ""
            },
            "colorscale": [
             [
              0,
              "#0d0887"
             ],
             [
              0.1111111111111111,
              "#46039f"
             ],
             [
              0.2222222222222222,
              "#7201a8"
             ],
             [
              0.3333333333333333,
              "#9c179e"
             ],
             [
              0.4444444444444444,
              "#bd3786"
             ],
             [
              0.5555555555555556,
              "#d8576b"
             ],
             [
              0.6666666666666666,
              "#ed7953"
             ],
             [
              0.7777777777777778,
              "#fb9f3a"
             ],
             [
              0.8888888888888888,
              "#fdca26"
             ],
             [
              1,
              "#f0f921"
             ]
            ],
            "type": "heatmap"
           }
          ],
          "heatmapgl": [
           {
            "colorbar": {
             "outlinewidth": 0,
             "ticks": ""
            },
            "colorscale": [
             [
              0,
              "#0d0887"
             ],
             [
              0.1111111111111111,
              "#46039f"
             ],
             [
              0.2222222222222222,
              "#7201a8"
             ],
             [
              0.3333333333333333,
              "#9c179e"
             ],
             [
              0.4444444444444444,
              "#bd3786"
             ],
             [
              0.5555555555555556,
              "#d8576b"
             ],
             [
              0.6666666666666666,
              "#ed7953"
             ],
             [
              0.7777777777777778,
              "#fb9f3a"
             ],
             [
              0.8888888888888888,
              "#fdca26"
             ],
             [
              1,
              "#f0f921"
             ]
            ],
            "type": "heatmapgl"
           }
          ],
          "histogram": [
           {
            "marker": {
             "pattern": {
              "fillmode": "overlay",
              "size": 10,
              "solidity": 0.2
             }
            },
            "type": "histogram"
           }
          ],
          "histogram2d": [
           {
            "colorbar": {
             "outlinewidth": 0,
             "ticks": ""
            },
            "colorscale": [
             [
              0,
              "#0d0887"
             ],
             [
              0.1111111111111111,
              "#46039f"
             ],
             [
              0.2222222222222222,
              "#7201a8"
             ],
             [
              0.3333333333333333,
              "#9c179e"
             ],
             [
              0.4444444444444444,
              "#bd3786"
             ],
             [
              0.5555555555555556,
              "#d8576b"
             ],
             [
              0.6666666666666666,
              "#ed7953"
             ],
             [
              0.7777777777777778,
              "#fb9f3a"
             ],
             [
              0.8888888888888888,
              "#fdca26"
             ],
             [
              1,
              "#f0f921"
             ]
            ],
            "type": "histogram2d"
           }
          ],
          "histogram2dcontour": [
           {
            "colorbar": {
             "outlinewidth": 0,
             "ticks": ""
            },
            "colorscale": [
             [
              0,
              "#0d0887"
             ],
             [
              0.1111111111111111,
              "#46039f"
             ],
             [
              0.2222222222222222,
              "#7201a8"
             ],
             [
              0.3333333333333333,
              "#9c179e"
             ],
             [
              0.4444444444444444,
              "#bd3786"
             ],
             [
              0.5555555555555556,
              "#d8576b"
             ],
             [
              0.6666666666666666,
              "#ed7953"
             ],
             [
              0.7777777777777778,
              "#fb9f3a"
             ],
             [
              0.8888888888888888,
              "#fdca26"
             ],
             [
              1,
              "#f0f921"
             ]
            ],
            "type": "histogram2dcontour"
           }
          ],
          "mesh3d": [
           {
            "colorbar": {
             "outlinewidth": 0,
             "ticks": ""
            },
            "type": "mesh3d"
           }
          ],
          "parcoords": [
           {
            "line": {
             "colorbar": {
              "outlinewidth": 0,
              "ticks": ""
             }
            },
            "type": "parcoords"
           }
          ],
          "pie": [
           {
            "automargin": true,
            "type": "pie"
           }
          ],
          "scatter": [
           {
            "marker": {
             "colorbar": {
              "outlinewidth": 0,
              "ticks": ""
             }
            },
            "type": "scatter"
           }
          ],
          "scatter3d": [
           {
            "line": {
             "colorbar": {
              "outlinewidth": 0,
              "ticks": ""
             }
            },
            "marker": {
             "colorbar": {
              "outlinewidth": 0,
              "ticks": ""
             }
            },
            "type": "scatter3d"
           }
          ],
          "scattercarpet": [
           {
            "marker": {
             "colorbar": {
              "outlinewidth": 0,
              "ticks": ""
             }
            },
            "type": "scattercarpet"
           }
          ],
          "scattergeo": [
           {
            "marker": {
             "colorbar": {
              "outlinewidth": 0,
              "ticks": ""
             }
            },
            "type": "scattergeo"
           }
          ],
          "scattergl": [
           {
            "marker": {
             "colorbar": {
              "outlinewidth": 0,
              "ticks": ""
             }
            },
            "type": "scattergl"
           }
          ],
          "scattermapbox": [
           {
            "marker": {
             "colorbar": {
              "outlinewidth": 0,
              "ticks": ""
             }
            },
            "type": "scattermapbox"
           }
          ],
          "scatterpolar": [
           {
            "marker": {
             "colorbar": {
              "outlinewidth": 0,
              "ticks": ""
             }
            },
            "type": "scatterpolar"
           }
          ],
          "scatterpolargl": [
           {
            "marker": {
             "colorbar": {
              "outlinewidth": 0,
              "ticks": ""
             }
            },
            "type": "scatterpolargl"
           }
          ],
          "scatterternary": [
           {
            "marker": {
             "colorbar": {
              "outlinewidth": 0,
              "ticks": ""
             }
            },
            "type": "scatterternary"
           }
          ],
          "surface": [
           {
            "colorbar": {
             "outlinewidth": 0,
             "ticks": ""
            },
            "colorscale": [
             [
              0,
              "#0d0887"
             ],
             [
              0.1111111111111111,
              "#46039f"
             ],
             [
              0.2222222222222222,
              "#7201a8"
             ],
             [
              0.3333333333333333,
              "#9c179e"
             ],
             [
              0.4444444444444444,
              "#bd3786"
             ],
             [
              0.5555555555555556,
              "#d8576b"
             ],
             [
              0.6666666666666666,
              "#ed7953"
             ],
             [
              0.7777777777777778,
              "#fb9f3a"
             ],
             [
              0.8888888888888888,
              "#fdca26"
             ],
             [
              1,
              "#f0f921"
             ]
            ],
            "type": "surface"
           }
          ],
          "table": [
           {
            "cells": {
             "fill": {
              "color": "#EBF0F8"
             },
             "line": {
              "color": "white"
             }
            },
            "header": {
             "fill": {
              "color": "#C8D4E3"
             },
             "line": {
              "color": "white"
             }
            },
            "type": "table"
           }
          ]
         },
         "layout": {
          "annotationdefaults": {
           "arrowcolor": "#2a3f5f",
           "arrowhead": 0,
           "arrowwidth": 1
          },
          "autotypenumbers": "strict",
          "coloraxis": {
           "colorbar": {
            "outlinewidth": 0,
            "ticks": ""
           }
          },
          "colorscale": {
           "diverging": [
            [
             0,
             "#8e0152"
            ],
            [
             0.1,
             "#c51b7d"
            ],
            [
             0.2,
             "#de77ae"
            ],
            [
             0.3,
             "#f1b6da"
            ],
            [
             0.4,
             "#fde0ef"
            ],
            [
             0.5,
             "#f7f7f7"
            ],
            [
             0.6,
             "#e6f5d0"
            ],
            [
             0.7,
             "#b8e186"
            ],
            [
             0.8,
             "#7fbc41"
            ],
            [
             0.9,
             "#4d9221"
            ],
            [
             1,
             "#276419"
            ]
           ],
           "sequential": [
            [
             0,
             "#0d0887"
            ],
            [
             0.1111111111111111,
             "#46039f"
            ],
            [
             0.2222222222222222,
             "#7201a8"
            ],
            [
             0.3333333333333333,
             "#9c179e"
            ],
            [
             0.4444444444444444,
             "#bd3786"
            ],
            [
             0.5555555555555556,
             "#d8576b"
            ],
            [
             0.6666666666666666,
             "#ed7953"
            ],
            [
             0.7777777777777778,
             "#fb9f3a"
            ],
            [
             0.8888888888888888,
             "#fdca26"
            ],
            [
             1,
             "#f0f921"
            ]
           ],
           "sequentialminus": [
            [
             0,
             "#0d0887"
            ],
            [
             0.1111111111111111,
             "#46039f"
            ],
            [
             0.2222222222222222,
             "#7201a8"
            ],
            [
             0.3333333333333333,
             "#9c179e"
            ],
            [
             0.4444444444444444,
             "#bd3786"
            ],
            [
             0.5555555555555556,
             "#d8576b"
            ],
            [
             0.6666666666666666,
             "#ed7953"
            ],
            [
             0.7777777777777778,
             "#fb9f3a"
            ],
            [
             0.8888888888888888,
             "#fdca26"
            ],
            [
             1,
             "#f0f921"
            ]
           ]
          },
          "colorway": [
           "#636efa",
           "#EF553B",
           "#00cc96",
           "#ab63fa",
           "#FFA15A",
           "#19d3f3",
           "#FF6692",
           "#B6E880",
           "#FF97FF",
           "#FECB52"
          ],
          "font": {
           "color": "#2a3f5f"
          },
          "geo": {
           "bgcolor": "white",
           "lakecolor": "white",
           "landcolor": "#E5ECF6",
           "showlakes": true,
           "showland": true,
           "subunitcolor": "white"
          },
          "hoverlabel": {
           "align": "left"
          },
          "hovermode": "closest",
          "mapbox": {
           "style": "light"
          },
          "paper_bgcolor": "white",
          "plot_bgcolor": "#E5ECF6",
          "polar": {
           "angularaxis": {
            "gridcolor": "white",
            "linecolor": "white",
            "ticks": ""
           },
           "bgcolor": "#E5ECF6",
           "radialaxis": {
            "gridcolor": "white",
            "linecolor": "white",
            "ticks": ""
           }
          },
          "scene": {
           "xaxis": {
            "backgroundcolor": "#E5ECF6",
            "gridcolor": "white",
            "gridwidth": 2,
            "linecolor": "white",
            "showbackground": true,
            "ticks": "",
            "zerolinecolor": "white"
           },
           "yaxis": {
            "backgroundcolor": "#E5ECF6",
            "gridcolor": "white",
            "gridwidth": 2,
            "linecolor": "white",
            "showbackground": true,
            "ticks": "",
            "zerolinecolor": "white"
           },
           "zaxis": {
            "backgroundcolor": "#E5ECF6",
            "gridcolor": "white",
            "gridwidth": 2,
            "linecolor": "white",
            "showbackground": true,
            "ticks": "",
            "zerolinecolor": "white"
           }
          },
          "shapedefaults": {
           "line": {
            "color": "#2a3f5f"
           }
          },
          "ternary": {
           "aaxis": {
            "gridcolor": "white",
            "linecolor": "white",
            "ticks": ""
           },
           "baxis": {
            "gridcolor": "white",
            "linecolor": "white",
            "ticks": ""
           },
           "bgcolor": "#E5ECF6",
           "caxis": {
            "gridcolor": "white",
            "linecolor": "white",
            "ticks": ""
           }
          },
          "title": {
           "x": 0.05
          },
          "xaxis": {
           "automargin": true,
           "gridcolor": "white",
           "linecolor": "white",
           "ticks": "",
           "title": {
            "standoff": 15
           },
           "zerolinecolor": "white",
           "zerolinewidth": 2
          },
          "yaxis": {
           "automargin": true,
           "gridcolor": "white",
           "linecolor": "white",
           "ticks": "",
           "title": {
            "standoff": 15
           },
           "zerolinecolor": "white",
           "zerolinewidth": 2
          }
         }
        },
        "width": 400
       }
      },
      "text/html": [
       "<div>                            <div id=\"cc999977-5fda-44d0-bbf5-34be3be740cd\" class=\"plotly-graph-div\" style=\"height:400px; width:400px;\"></div>            <script type=\"text/javascript\">                require([\"plotly\"], function(Plotly) {                    window.PLOTLYENV=window.PLOTLYENV || {};                                    if (document.getElementById(\"cc999977-5fda-44d0-bbf5-34be3be740cd\")) {                    Plotly.newPlot(                        \"cc999977-5fda-44d0-bbf5-34be3be740cd\",                        [{\"hovertemplate\":\"x=%{x}<br>y=%{y}<br>z=%{z}<br>color=%{marker.color}<extra></extra>\",\"legendgroup\":\"\",\"marker\":{\"color\":[1,0,0,0,0,1,1,1,0,1,0,0,1,0,0,0,0,1,0,0,0,0,0,0,1,1,1,1,0,1,0,1,0,1,1,1,0,1,0,0,0,1,0,1,1,1,1,1,0,1,0,1,0,1,1,1,0,1,0,0,0,1,1,1,1,1,0,1,0,1,1,1,0,1,1,1,1,1,0,1,0,1,1,0,0,1,0,1,0,0,0,1,1,1,0,1,0,1,0,1,1,0,1,0,1,0,1,1,0,0,0,0,0,1,0,0,0,0,1,1,1,0,1,0,0,1,0,0,0,0,0,1,1,1,0,1,0,1,0,0,0,0,1,0,0,0,0,1,0,1,0,1,1,1,0,0,0,1,1,1,1,1,1,0,0,1,0,1,1,0,0,1,0,0,1,1,0,0,0,0,0,1,0,1,1,1,1,0,1,0,0,1,1,0,1,0,1,1,0,1,1,1,0,0,1,0,1,1,0,0,1,1,0,0,0,0,0,1,0,0,1,0,1,1,1,1,0,1,0,0,0,1,0,1,0,1,0,0,1,0,1,1,0,0,0,0,0,1,0,0,1,1,0,0,0,1,1,0,0,1,0,0,1,1,1,1,1,0,0,1,1,1,1,1,0,0,1,1,1,1,1,0,1,0,1,0,0,0,0,1,0,0,1,1,1,1,1,1,0,0],\"coloraxis\":\"coloraxis\",\"symbol\":\"circle\"},\"mode\":\"markers\",\"name\":\"\",\"scene\":\"scene\",\"showlegend\":false,\"type\":\"scatter3d\",\"x\":[1.7322549235326707,5.7798904791387695,4.754389428866573,4.740197250455805,5.67102738559991,3.774100901669833,3.2083660807537684,3.1353502492493126,5.364500835842515,2.224185559273774,4.005532350180685,3.9841139827203,4.218126458442368,6.511639938991015,5.9748409316307445,6.448928972569055,5.826622853587267,2.184356442976803,5.559550362205977,5.360565017623718,5.0933117031970845,5.130429012395707,5.929602046971408,7.830738471272269,2.6837461275241385,2.2060620769904236,2.237148784656473,3.861281452510152,4.289810653503875,3.9211139945618516,5.293839272683414,2.5230585529308978,6.413010682232917,3.6407751146767002,4.490747307239848,1.5407669608277677,5.210622973004398,2.6987722900320157,4.295937578195579,6.766339175292472,5.654230229180127,4.31772583039888,5.69946218543023,1.8454546856492064,2.729279427979611,2.419406680498348,1.323939329229082,3.3197230358132197,6.644561715685967,2.5618842558982102,4.568890350295232,3.8877473486056804,5.937127276732782,3.829653628633772,2.437882468716494,2.0369954869426703,3.4086942126605027,2.4127248129532752,7.7455401829624,5.390030327532704,7.100488410926131,2.7293004779030774,1.2418462311251885,1.6803322143658663,2.8934615974722533,3.4295865562536867,5.643678010452959,3.048270249581629,4.381280327820482,4.535916365846464,2.406462833495537,3.3768434193621655,6.406486993336902,2.733692522070907,1.7817777763968279,3.157967326672788,3.752695376321215,1.3256232257506002,6.086644416561232,3.202154966335329,4.590904361364668,1.689236574491991,1.4693112069312522,6.5501041187443425,4.421696512808824,1.4946267664219774,5.7587628148664365,3.188309943656699,5.035430680028516,4.461347194818156,4.503503600485973,1.5492104955487918,2.4478678481809073,1.7815132964918658,6.312187722939816,3.7008050885923374,5.020683337685827,4.914831201068814,5.862598161867658,2.598015830393521,2.930575433613897,3.131309536372296,2.3519419606210032,4.621821723064965,2.433008399696603,4.713613428507859,1.9898422974492693,2.8156339921091553,5.960297674645794,5.745769286426143,5.345290681517973,6.472595722143184,5.655042995459579,5.34464978743767,5.590317118013352,5.804165951300261,5.063913682179279,5.262337574657519,1.4113749595257754,2.866765309065008,3.252013148706368,6.133243320086554,2.2446612908458228,6.181712823287095,5.140410857675265,3.177236175638968,4.346715481376071,5.8288819588233665,5.991565534991547,4.684588026564511,6.8096450948704375,4.1122184270236275,2.8990910477749567,4.070784084352379,3.881012573223651,1.968344694057913,4.841957708709551,2.526623893041106,5.69248302933547,6.046667366848388,5.930339766545273,5.525562081170163,3.3266270128554263,6.36891327427506,6.3189768968504145,4.6040452675042545,6.534121100117569,1.0845838825702079,3.448684584677012,2.746247707452237,4.303308830110536,-0.14303651862550204,3.557332302018051,2.1001153669577515,6.114317590996444,5.619348849504046,6.910949867171501,3.467649972862284,3.0845671105883508,3.197505434357683,2.4751545811383475,5.352875006504823,2.862384540814901,5.196466221560197,5.189408680811439,1.8411654957257992,7.083129489813211,3.5374831706524574,0.9925187795190282,5.719353590166886,5.138783451684339,1.257211487776121,5.194230609390829,4.156593273532036,3.0696906916171405,2.6776752429844906,5.314140394140759,6.373538943510107,5.633742432725041,7.411798611424308,6.138371881854759,3.2358864912810144,5.155164877369138,2.119646270929044,3.019316275139363,2.210425581271927,1.9093603597021596,7.821116530219454,1.432716066379947,5.495214336077153,4.886533794002218,2.0586598521879718,1.0373780805163468,4.7037921318288,3.5864490123011104,5.282046102307955,1.4039491724259308,1.7895037114317625,4.94431972649944,3.6306759382131943,4.748013368136727,1.0380205624029166,5.700585646095026,6.7709622887008605,3.594285129706738,6.440397496084609,3.4324360296583825,0.9809967697486994,6.6626181915217355,4.786450261106421,2.1804572351208957,1.9025530412149334,4.851495201282473,5.378371540105499,6.734885946198397,5.0249400459631985,3.87910747441739,3.1929070097504217,3.570227384723771,4.401659898289635,2.8417183072778576,6.5935812337390365,2.2487532777349895,2.2874878818194584,3.125031927098621,2.350601206286546,5.859439055288517,1.6883780505090047,6.253411487997185,7.651462504158114,4.486979505572368,2.843259393334098,4.85329950377533,2.333016076524489,5.087272619271484,3.8608826929237736,4.419844303538911,5.543888526361558,4.2008158179238855,6.682885129090074,4.2844219925188565,2.455829804135634,4.7193414182677556,4.472880447718445,3.9180913781717033,5.159095676661351,5.11358410799783,2.20156461556182,5.691924451027039,3.715341668180655,-0.5314366458041224,1.6670998336906895,7.41149745676065,4.862907194138776,4.987386629114905,2.049345690247692,4.161183090603523,6.433274003959742,6.0477488392254,2.2636954979148998,6.526542239348248,4.200576884596865,2.8299796819762806,3.243658153542817,2.8248921193813823,3.207189660792632,3.4576753442150183,5.887301317733785,6.643594424478806,2.3497634660525026,2.7372840982795204,3.291913622919935,2.456439766661556,3.9480137994588587,5.55912116109487,6.156920312474449,2.7065812331084382,2.649056255924788,2.4814426450262577,3.942655980198801,1.642356485633013,5.741166644146653,3.875867620785699,6.268637603717575,3.59771233303743,5.400507528518733,5.377582353996166,5.864778104504611,7.328716906966923,1.1578890191754794,5.430704296268953,5.522176102072637,2.8655375377157273,3.4580611975847044,1.4941103293620575,2.506564005807047,2.69906122666221,2.8702369223710344,5.575373566311807,6.555198018444797],\"y\":[4.922483149049138,-9.792240498533408,-9.479148930016214,-9.037017085971303,-9.762259835457538,5.348200196177811,5.52692235188079,3.756222116971818,-10.338853973559669,5.463773588949321,-10.26390778743201,-11.193811375650087,4.284389996647671,-9.228021945806328,-8.981761962581379,-9.418150745792238,-9.9225933498975,4.883096109182148,-8.382217138842066,-11.716673121293574,-10.376351783779414,-8.736752403790314,-8.390610410348724,-10.324317751320642,4.069830830048391,4.797057949905864,5.5123462025198116,4.730332263223857,-9.449824134363334,5.70880342099882,-9.875206821424435,4.940749588464789,-9.55673364551285,4.101552606079838,4.420030309130933,4.065131594965206,-8.59588855531253,7.177044088414023,-11.526260693834399,-9.5556513018688,-9.335782354925636,5.699506847387916,-11.203531760627765,4.1476064338753975,5.521862116059653,5.16819994386643,5.476214501717543,4.30257583675257,-9.64148173589456,4.937196517675922,-9.949239099061648,5.98436061747746,-9.17066337161796,5.5853599170546,3.7152498451180955,6.085582879230997,-9.044420299710707,5.790732170164098,-9.276293339624177,-10.431977265856824,-8.421237312643601,6.441732655858473,3.7125807872675054,4.293736177243442,3.6029634661171466,4.246678428300985,-11.579354782553027,4.89216240659103,-10.382969830484214,2.9924411531232673,4.804784853187195,4.371089932850627,-11.98053302620377,4.953036462398988,4.193389903780904,3.3174729441989417,4.513236765175967,6.03560597685668,-9.935832904251841,4.079933814302636,-9.374510284432583,5.388610366433814,5.1859167926439795,-7.912338799504142,-8.993507926181648,5.7172650562804055,-8.449987839730063,7.360202273806122,-8.329787281102398,-8.556686934829266,-9.115209578728926,3.1187194849823174,5.046232024545711,4.399184309284787,-9.320566321181259,4.173188022334216,-8.803185822436355,4.729590530175091,-9.622878894825003,4.454301202586246,6.289000397750668,-10.780890324275488,5.476972617705808,-9.797658651522482,4.2810210053649005,-9.845820491366146,4.317060342436985,4.192042090137095,-8.840986609026046,-9.124058111140252,-10.114257093811458,-11.003517042035364,-9.139823399981623,5.040523150840295,-8.755448528414728,-7.970553038666505,-9.706866703973859,-10.73377327721983,4.756817386769238,5.519312736417394,4.516152102876433,-10.372229939059157,4.220661816961819,-8.705475322254308,-10.44771931220898,5.780345008463975,-9.70803084132211,-9.957722429248838,-9.73238127053899,-8.479385876653904,-9.238727897460787,6.3582242757623,4.860196920181295,5.100744425850616,-9.593344862740492,4.62231492007038,-8.982938742058257,6.034514293278169,-7.199993682100873,-10.653528721279853,-9.3966297982303,-8.186964635718395,2.7994690161192346,-12.564557783873104,-9.573938316036172,-11.171512773659819,-9.34041703616398,4.50734693748722,-11.328333308710878,6.14981006419504,-9.97368895966678,5.085622077090693,3.5892551161610946,4.015072307722152,-11.118029731102153,-9.580936100824031,-10.664765898597246,4.482936909331291,5.263888085066965,5.50956667222154,4.880601818924878,3.87255551951101,5.0208523361891855,-10.714512207245761,-9.527675862655952,5.569266882061685,-8.917071403978527,2.878285777498491,5.652785846266549,-10.055768264297487,-10.944271585917969,5.070785962027567,-10.086689912406838,-9.261571083090304,4.399960789897691,5.123111590656152,-9.94714145995421,-10.607271705089365,-9.730025550137048,-8.137795412143747,-8.666691861332554,5.603528619395627,-8.971756827952332,3.86995441448936,5.918442148229047,5.1946364827140075,5.456866393865428,-8.66750207530154,3.922961677308684,-8.172896708388325,-8.876800992885366,5.81315942614504,5.220875739318222,-9.50082145742022,3.979071440684476,-9.985099364797698,5.730953721498777,6.1341292224698,-9.495373400222453,5.791298332200655,4.385891120085013,5.411014925365603,-10.099870935283223,-9.091445695563682,4.403190428994719,-10.555158835788212,4.9421506510951545,5.592528573177109,-7.119635930750494,-9.271130491252965,4.224457209849797,6.100319566377191,-9.945132147241422,-10.065748352943993,-9.389947733578877,-8.242781728556945,-8.24015450218374,3.5982018215336797,-9.80773471191497,-9.424561849869411,4.926080472600626,-10.156937826099737,4.9252280006746645,6.5362864317394695,5.270146908634119,4.310311919587912,-8.381923638999758,6.462057064811146,-11.539473132813475,-9.467779592617488,-10.074298229696621,4.218247998421317,-10.905408558703426,5.713256631892859,-9.272791076498748,3.2099126502500486,-9.842494637613436,-11.49241790093637,4.3266392798651205,-10.316930514813178,5.215416917203476,4.100655273968308,-9.038296175277436,-8.996920419003109,-8.964360349803357,-10.134270026917449,-9.933842931029464,5.325554059439602,-9.476412487097,-8.97266370031342,6.43878864344074,5.303653016344136,-7.840146864472668,-8.730132256499303,-9.443856844747538,4.612891449345067,5.11632451757731,-9.879387020201913,-10.305046573530866,4.728602377704615,-9.020608486425852,-9.806754149211464,6.334866789755531,4.463202458420826,4.671877480593887,4.980179689330974,4.079769983717181,-8.922587001087336,-9.40231363424292,5.640223257700564,4.809672279258501,5.453311953883435,3.7968731484560996,4.64724561077221,-10.061103027739307,-11.283362503973883,4.60950166052762,3.4185351787412417,5.770775278497332,6.373415627389572,3.618380090733419,-7.117309956377367,5.946637177441103,-9.38138021548449,5.21132241576781,-9.295866809008036,-9.19161979573023,-10.367304207123308,-9.305355620631959,4.43735911899491,-9.759561223404912,-9.135939282118146,5.411528039283483,4.4883532338250625,4.826944944166565,5.245650074191112,4.0063719779674365,4.720797196727951,-9.269849844590302,-10.282771043283685],\"z\":[2.706849839399938,0.6281327087844596,0.9079694464765431,0.5038257538223936,0.6511179479432686,-0.31931804459303326,-0.8480769834036315,0.6059653494949336,-2.018168244037392,0.7401220570561068,0.5288134940893595,-0.5890005332865824,0.18869530944922425,-0.758872056210466,-0.9332372163009188,0.9550565092637361,0.19079432237171562,1.9787573241128278,2.60596727979128,0.6835088855389145,0.3026654485851825,1.693722925204035,-1.7060859307350775,-1.1591194155484297,-0.13484072060601238,0.39052784273374097,0.16690463609281317,0.18450185928224264,0.8077059142577141,0.07295967531703869,0.638787013499328,0.32964629880452445,-0.49710402288933153,-0.7540697010400628,-0.9434064032519315,0.48475164718163294,-0.11677331646707445,1.9017547952605123,0.23812695876901832,1.9966522853695665,-0.993263499973366,0.19679950499134005,-1.1366445936091856,0.000366479605643592,1.025984152081572,-0.1565979042889875,-0.031579143908112575,0.6498258334908454,2.154846443259472,-0.6102588558227414,-0.755325340010558,-0.34641850351854453,0.1470267713241236,-0.47944803904109595,0.558769406443067,1.0248102783372157,-0.925874258809907,1.8628641384939535,-1.1338171615837889,0.6104779075384634,0.3860303121135517,2.084018530338962,-0.37651867524923904,0.23033634359240704,0.6812092925867574,1.0351250747739213,-0.031160481493099617,1.9399323109926203,-1.005186917256266,-0.7417897046689249,0.1871245217641948,-0.7328451475428807,-1.3829200981158674,1.48249549608345,0.9614581560918355,-2.1412122910809264,0.9925734530526948,1.1922406372754866,-1.0467795376984979,1.2927645769293514,-1.4675140203361003,-0.49409535833912277,-0.1625347347726149,0.48580873745486103,0.39248881107944394,0.22149068500354543,-0.8551960407780934,1.541990408031232,0.6663193209198146,-0.5382346255173922,-0.5685813606701186,1.4073382479609386,0.6418055114450044,-0.905099901810439,-0.3911566271858832,1.0282931608187034,-1.9726051036093835,-0.8668850353083267,0.7207875987587121,-1.2230820379046312,1.606779861236061,-1.1157099674628352,-1.3853785569149153,-1.3296600588247933,0.04145994288358152,-0.41105540321250544,-0.7713286047373022,0.11047741113032297,-0.8046515115064065,0.2535480414796537,0.6491477464471864,0.3589405253750619,-1.0804714624711786,0.902397757200862,0.161781188240493,0.8330293241751475,0.9757196803436843,-0.38823869993016363,0.7833160508104224,-0.7089537376785922,0.586847295403904,-1.621347825454474,0.677535113895638,0.026105480322676483,-1.6782836579965759,0.33397310118137624,-0.5324705255224986,2.1177273820227196,0.19752398574797547,2.3029872653509056,0.7290237321354455,-0.8630912690663913,0.3056315115097357,0.24317761384049238,0.8641648782095376,-1.5609314472141087,-0.2518969516247645,-0.5781202586473068,0.23699563041333727,0.20078046900718044,0.3278447402697301,0.674485186989649,-0.17405654125505843,0.7801397150660992,-0.38325813145045406,-0.40931848394745096,0.3435391865584499,0.1962753160993944,-0.982775996932035,2.231555243446201,-0.9713925659501077,-1.522332873870511,1.1337029907766036,0.5281867344521978,0.3934607601553278,-0.6305066330018959,-1.3982896782716048,-0.21931071609607042,-0.04567647974128554,0.012420990255292875,0.0936279847307588,1.2408126131652035,-1.097693023064908,-1.908008821232767,-0.3801035020513599,-1.666059178570647,-2.7369945956467303,1.522562110668041,0.17800909135852547,-0.626805405123199,-0.39108896696029627,1.7434769471227056,1.1300180527493824,0.897796311118923,0.33086562044846474,-1.063048893618331,-0.1253808013891206,-0.9455881247341669,2.0295441849199127,-1.0463583859222323,-1.3064823050884957,-1.632923996816882,0.8021293698822711,-1.6675367808286456,0.6088572918018318,0.2864729879605598,-0.2057922982750036,2.493990185752055,-0.5472598883029545,0.4967269541347469,-1.235614261466594,-0.7984279607352327,0.7541214332828665,-0.7720406439702567,-0.034431636973305195,0.6884084244168481,0.08152335776533699,-0.41519111613560106,0.05366145791755185,-2.1151130977123773,-0.27951021452358354,1.0627104161410734,1.7520144226756424,0.6955467245457797,0.15366083401816283,0.16763824411665035,-0.7659300746299967,0.9622991701503001,0.9028258592331454,-0.5379091569515423,-1.5496711043545173,0.43525292201184523,1.2599036895486682,-0.4478983519268438,0.26620677922249886,0.4125801614290498,0.9887728450784197,0.5138327290356798,-0.9282048316241881,0.8469038980594052,-0.29843574431221986,0.029141475737380698,0.8890308842265193,-1.839260863340729,0.8635956020616977,-1.0765905044553468,-0.580382983225663,1.209027284571865,1.2017440283185892,-0.8204631637242422,-1.029577156962552,-1.5248555367588408,-0.8548599013156002,1.6028155369261388,0.1854789874674731,-0.9940182922196608,-0.13190613678378701,-1.3350917346306141,-0.0892984417103869,0.6985664041829249,-1.40912568010266,0.8709070168048411,1.58581239401606,0.9296578406361021,-0.5508760030855312,0.942044977340326,-0.9753493500596645,-1.0548505975739644,2.165421117012678,-1.2672401758233451,-0.8028431714973141,-0.25347938278107685,0.09069874396718668,1.3217153465920728,0.7941285064681898,1.3597119775466715,0.7719700393250232,0.2942166265326114,-1.3915190611130732,0.14748647106358997,-0.729466336942255,-0.7201097480739456,-0.28525676642496123,2.090539149200246,1.0040561480091232,1.0319158600110228,-1.0811182770358438,-0.00035496108900161965,-0.21988154841914037,0.2927951308453091,0.8343545216262672,-0.14043183108525809,0.11914496240080452,0.6657145861587476,0.4075864497857779,0.8078427433410449,-2.736464445063238,-0.9851528548352678,-0.1552757504931956,-1.0132280125006923,-1.0874358897562575,-2.567766921174143,0.6610291979302003,-0.33292080038923216,-0.9286022737931389,1.715950166352582,-0.46875628568514655,0.8600970357844115,0.23008704402132232,0.6186579932288591,-2.052562921769063,-0.16664611600310902,-0.4458727825776645,0.6858737647681736,2.7850096677486076,1.5237504578803855,1.2902299309450938,-1.4783193644514252,0.2142341936452114,-0.24050994802670836]}],                        {\"coloraxis\":{\"colorbar\":{\"title\":{\"text\":\"color\"}},\"colorscale\":[[0.0,\"#0d0887\"],[0.1111111111111111,\"#46039f\"],[0.2222222222222222,\"#7201a8\"],[0.3333333333333333,\"#9c179e\"],[0.4444444444444444,\"#bd3786\"],[0.5555555555555556,\"#d8576b\"],[0.6666666666666666,\"#ed7953\"],[0.7777777777777778,\"#fb9f3a\"],[0.8888888888888888,\"#fdca26\"],[1.0,\"#f0f921\"]]},\"height\":400,\"legend\":{\"tracegroupgap\":0},\"margin\":{\"t\":60},\"scene\":{\"domain\":{\"x\":[0.0,1.0],\"y\":[0.0,1.0]},\"xaxis\":{\"title\":{\"text\":\"x\"}},\"yaxis\":{\"title\":{\"text\":\"y\"}},\"zaxis\":{\"title\":{\"text\":\"z\"}}},\"template\":{\"data\":{\"bar\":[{\"error_x\":{\"color\":\"#2a3f5f\"},\"error_y\":{\"color\":\"#2a3f5f\"},\"marker\":{\"line\":{\"color\":\"#E5ECF6\",\"width\":0.5},\"pattern\":{\"fillmode\":\"overlay\",\"size\":10,\"solidity\":0.2}},\"type\":\"bar\"}],\"barpolar\":[{\"marker\":{\"line\":{\"color\":\"#E5ECF6\",\"width\":0.5},\"pattern\":{\"fillmode\":\"overlay\",\"size\":10,\"solidity\":0.2}},\"type\":\"barpolar\"}],\"carpet\":[{\"aaxis\":{\"endlinecolor\":\"#2a3f5f\",\"gridcolor\":\"white\",\"linecolor\":\"white\",\"minorgridcolor\":\"white\",\"startlinecolor\":\"#2a3f5f\"},\"baxis\":{\"endlinecolor\":\"#2a3f5f\",\"gridcolor\":\"white\",\"linecolor\":\"white\",\"minorgridcolor\":\"white\",\"startlinecolor\":\"#2a3f5f\"},\"type\":\"carpet\"}],\"choropleth\":[{\"colorbar\":{\"outlinewidth\":0,\"ticks\":\"\"},\"type\":\"choropleth\"}],\"contour\":[{\"colorbar\":{\"outlinewidth\":0,\"ticks\":\"\"},\"colorscale\":[[0.0,\"#0d0887\"],[0.1111111111111111,\"#46039f\"],[0.2222222222222222,\"#7201a8\"],[0.3333333333333333,\"#9c179e\"],[0.4444444444444444,\"#bd3786\"],[0.5555555555555556,\"#d8576b\"],[0.6666666666666666,\"#ed7953\"],[0.7777777777777778,\"#fb9f3a\"],[0.8888888888888888,\"#fdca26\"],[1.0,\"#f0f921\"]],\"type\":\"contour\"}],\"contourcarpet\":[{\"colorbar\":{\"outlinewidth\":0,\"ticks\":\"\"},\"type\":\"contourcarpet\"}],\"heatmap\":[{\"colorbar\":{\"outlinewidth\":0,\"ticks\":\"\"},\"colorscale\":[[0.0,\"#0d0887\"],[0.1111111111111111,\"#46039f\"],[0.2222222222222222,\"#7201a8\"],[0.3333333333333333,\"#9c179e\"],[0.4444444444444444,\"#bd3786\"],[0.5555555555555556,\"#d8576b\"],[0.6666666666666666,\"#ed7953\"],[0.7777777777777778,\"#fb9f3a\"],[0.8888888888888888,\"#fdca26\"],[1.0,\"#f0f921\"]],\"type\":\"heatmap\"}],\"heatmapgl\":[{\"colorbar\":{\"outlinewidth\":0,\"ticks\":\"\"},\"colorscale\":[[0.0,\"#0d0887\"],[0.1111111111111111,\"#46039f\"],[0.2222222222222222,\"#7201a8\"],[0.3333333333333333,\"#9c179e\"],[0.4444444444444444,\"#bd3786\"],[0.5555555555555556,\"#d8576b\"],[0.6666666666666666,\"#ed7953\"],[0.7777777777777778,\"#fb9f3a\"],[0.8888888888888888,\"#fdca26\"],[1.0,\"#f0f921\"]],\"type\":\"heatmapgl\"}],\"histogram\":[{\"marker\":{\"pattern\":{\"fillmode\":\"overlay\",\"size\":10,\"solidity\":0.2}},\"type\":\"histogram\"}],\"histogram2d\":[{\"colorbar\":{\"outlinewidth\":0,\"ticks\":\"\"},\"colorscale\":[[0.0,\"#0d0887\"],[0.1111111111111111,\"#46039f\"],[0.2222222222222222,\"#7201a8\"],[0.3333333333333333,\"#9c179e\"],[0.4444444444444444,\"#bd3786\"],[0.5555555555555556,\"#d8576b\"],[0.6666666666666666,\"#ed7953\"],[0.7777777777777778,\"#fb9f3a\"],[0.8888888888888888,\"#fdca26\"],[1.0,\"#f0f921\"]],\"type\":\"histogram2d\"}],\"histogram2dcontour\":[{\"colorbar\":{\"outlinewidth\":0,\"ticks\":\"\"},\"colorscale\":[[0.0,\"#0d0887\"],[0.1111111111111111,\"#46039f\"],[0.2222222222222222,\"#7201a8\"],[0.3333333333333333,\"#9c179e\"],[0.4444444444444444,\"#bd3786\"],[0.5555555555555556,\"#d8576b\"],[0.6666666666666666,\"#ed7953\"],[0.7777777777777778,\"#fb9f3a\"],[0.8888888888888888,\"#fdca26\"],[1.0,\"#f0f921\"]],\"type\":\"histogram2dcontour\"}],\"mesh3d\":[{\"colorbar\":{\"outlinewidth\":0,\"ticks\":\"\"},\"type\":\"mesh3d\"}],\"parcoords\":[{\"line\":{\"colorbar\":{\"outlinewidth\":0,\"ticks\":\"\"}},\"type\":\"parcoords\"}],\"pie\":[{\"automargin\":true,\"type\":\"pie\"}],\"scatter\":[{\"marker\":{\"colorbar\":{\"outlinewidth\":0,\"ticks\":\"\"}},\"type\":\"scatter\"}],\"scatter3d\":[{\"line\":{\"colorbar\":{\"outlinewidth\":0,\"ticks\":\"\"}},\"marker\":{\"colorbar\":{\"outlinewidth\":0,\"ticks\":\"\"}},\"type\":\"scatter3d\"}],\"scattercarpet\":[{\"marker\":{\"colorbar\":{\"outlinewidth\":0,\"ticks\":\"\"}},\"type\":\"scattercarpet\"}],\"scattergeo\":[{\"marker\":{\"colorbar\":{\"outlinewidth\":0,\"ticks\":\"\"}},\"type\":\"scattergeo\"}],\"scattergl\":[{\"marker\":{\"colorbar\":{\"outlinewidth\":0,\"ticks\":\"\"}},\"type\":\"scattergl\"}],\"scattermapbox\":[{\"marker\":{\"colorbar\":{\"outlinewidth\":0,\"ticks\":\"\"}},\"type\":\"scattermapbox\"}],\"scatterpolar\":[{\"marker\":{\"colorbar\":{\"outlinewidth\":0,\"ticks\":\"\"}},\"type\":\"scatterpolar\"}],\"scatterpolargl\":[{\"marker\":{\"colorbar\":{\"outlinewidth\":0,\"ticks\":\"\"}},\"type\":\"scatterpolargl\"}],\"scatterternary\":[{\"marker\":{\"colorbar\":{\"outlinewidth\":0,\"ticks\":\"\"}},\"type\":\"scatterternary\"}],\"surface\":[{\"colorbar\":{\"outlinewidth\":0,\"ticks\":\"\"},\"colorscale\":[[0.0,\"#0d0887\"],[0.1111111111111111,\"#46039f\"],[0.2222222222222222,\"#7201a8\"],[0.3333333333333333,\"#9c179e\"],[0.4444444444444444,\"#bd3786\"],[0.5555555555555556,\"#d8576b\"],[0.6666666666666666,\"#ed7953\"],[0.7777777777777778,\"#fb9f3a\"],[0.8888888888888888,\"#fdca26\"],[1.0,\"#f0f921\"]],\"type\":\"surface\"}],\"table\":[{\"cells\":{\"fill\":{\"color\":\"#EBF0F8\"},\"line\":{\"color\":\"white\"}},\"header\":{\"fill\":{\"color\":\"#C8D4E3\"},\"line\":{\"color\":\"white\"}},\"type\":\"table\"}]},\"layout\":{\"annotationdefaults\":{\"arrowcolor\":\"#2a3f5f\",\"arrowhead\":0,\"arrowwidth\":1},\"autotypenumbers\":\"strict\",\"coloraxis\":{\"colorbar\":{\"outlinewidth\":0,\"ticks\":\"\"}},\"colorscale\":{\"diverging\":[[0,\"#8e0152\"],[0.1,\"#c51b7d\"],[0.2,\"#de77ae\"],[0.3,\"#f1b6da\"],[0.4,\"#fde0ef\"],[0.5,\"#f7f7f7\"],[0.6,\"#e6f5d0\"],[0.7,\"#b8e186\"],[0.8,\"#7fbc41\"],[0.9,\"#4d9221\"],[1,\"#276419\"]],\"sequential\":[[0.0,\"#0d0887\"],[0.1111111111111111,\"#46039f\"],[0.2222222222222222,\"#7201a8\"],[0.3333333333333333,\"#9c179e\"],[0.4444444444444444,\"#bd3786\"],[0.5555555555555556,\"#d8576b\"],[0.6666666666666666,\"#ed7953\"],[0.7777777777777778,\"#fb9f3a\"],[0.8888888888888888,\"#fdca26\"],[1.0,\"#f0f921\"]],\"sequentialminus\":[[0.0,\"#0d0887\"],[0.1111111111111111,\"#46039f\"],[0.2222222222222222,\"#7201a8\"],[0.3333333333333333,\"#9c179e\"],[0.4444444444444444,\"#bd3786\"],[0.5555555555555556,\"#d8576b\"],[0.6666666666666666,\"#ed7953\"],[0.7777777777777778,\"#fb9f3a\"],[0.8888888888888888,\"#fdca26\"],[1.0,\"#f0f921\"]]},\"colorway\":[\"#636efa\",\"#EF553B\",\"#00cc96\",\"#ab63fa\",\"#FFA15A\",\"#19d3f3\",\"#FF6692\",\"#B6E880\",\"#FF97FF\",\"#FECB52\"],\"font\":{\"color\":\"#2a3f5f\"},\"geo\":{\"bgcolor\":\"white\",\"lakecolor\":\"white\",\"landcolor\":\"#E5ECF6\",\"showlakes\":true,\"showland\":true,\"subunitcolor\":\"white\"},\"hoverlabel\":{\"align\":\"left\"},\"hovermode\":\"closest\",\"mapbox\":{\"style\":\"light\"},\"paper_bgcolor\":\"white\",\"plot_bgcolor\":\"#E5ECF6\",\"polar\":{\"angularaxis\":{\"gridcolor\":\"white\",\"linecolor\":\"white\",\"ticks\":\"\"},\"bgcolor\":\"#E5ECF6\",\"radialaxis\":{\"gridcolor\":\"white\",\"linecolor\":\"white\",\"ticks\":\"\"}},\"scene\":{\"xaxis\":{\"backgroundcolor\":\"#E5ECF6\",\"gridcolor\":\"white\",\"gridwidth\":2,\"linecolor\":\"white\",\"showbackground\":true,\"ticks\":\"\",\"zerolinecolor\":\"white\"},\"yaxis\":{\"backgroundcolor\":\"#E5ECF6\",\"gridcolor\":\"white\",\"gridwidth\":2,\"linecolor\":\"white\",\"showbackground\":true,\"ticks\":\"\",\"zerolinecolor\":\"white\"},\"zaxis\":{\"backgroundcolor\":\"#E5ECF6\",\"gridcolor\":\"white\",\"gridwidth\":2,\"linecolor\":\"white\",\"showbackground\":true,\"ticks\":\"\",\"zerolinecolor\":\"white\"}},\"shapedefaults\":{\"line\":{\"color\":\"#2a3f5f\"}},\"ternary\":{\"aaxis\":{\"gridcolor\":\"white\",\"linecolor\":\"white\",\"ticks\":\"\"},\"baxis\":{\"gridcolor\":\"white\",\"linecolor\":\"white\",\"ticks\":\"\"},\"bgcolor\":\"#E5ECF6\",\"caxis\":{\"gridcolor\":\"white\",\"linecolor\":\"white\",\"ticks\":\"\"}},\"title\":{\"x\":0.05},\"xaxis\":{\"automargin\":true,\"gridcolor\":\"white\",\"linecolor\":\"white\",\"ticks\":\"\",\"title\":{\"standoff\":15},\"zerolinecolor\":\"white\",\"zerolinewidth\":2},\"yaxis\":{\"automargin\":true,\"gridcolor\":\"white\",\"linecolor\":\"white\",\"ticks\":\"\",\"title\":{\"standoff\":15},\"zerolinecolor\":\"white\",\"zerolinewidth\":2}}},\"width\":400},                        {\"responsive\": true}                    ).then(function(){\n",
       "                            \n",
       "var gd = document.getElementById('cc999977-5fda-44d0-bbf5-34be3be740cd');\n",
       "var x = new MutationObserver(function (mutations, observer) {{\n",
       "        var display = window.getComputedStyle(gd).display;\n",
       "        if (!display || display === 'none') {{\n",
       "            console.log([gd, 'removed!']);\n",
       "            Plotly.purge(gd);\n",
       "            observer.disconnect();\n",
       "        }}\n",
       "}});\n",
       "\n",
       "// Listen for the removal of the full notebook cells\n",
       "var notebookContainer = gd.closest('#notebook-container');\n",
       "if (notebookContainer) {{\n",
       "    x.observe(notebookContainer, {childList: true});\n",
       "}}\n",
       "\n",
       "// Listen for the clearing of the current output cell\n",
       "var outputEl = gd.closest('.output');\n",
       "if (outputEl) {{\n",
       "    x.observe(outputEl, {childList: true});\n",
       "}}\n",
       "\n",
       "                        })                };                });            </script>        </div>"
      ]
     },
     "metadata": {},
     "output_type": "display_data"
    }
   ],
   "source": [
    "fig = px.scatter_3d(x = features['X1'], \n",
    "                    y = features['X2'], \n",
    "                    z = features['X3'],\n",
    "                    color = y,\n",
    "                    width = 400, height = 400)\n",
    "fig.show()"
   ]
  },
  {
   "cell_type": "markdown",
   "metadata": {},
   "source": [
    "# Codificador y Decodificador"
   ]
  },
  {
   "cell_type": "code",
   "execution_count": 40,
   "metadata": {
    "tags": []
   },
   "outputs": [],
   "source": [
    "from tensorflow.keras.models import Sequential\n",
    "from tensorflow.keras.layers import Dense"
   ]
  },
  {
   "cell_type": "markdown",
   "metadata": {},
   "source": [
    "Se utilizará el optimizador *Stochastic Gradient Descent* porque permite \"jugar\" con la tasa de aprendizaje *lr* (learning rate)"
   ]
  },
  {
   "cell_type": "code",
   "execution_count": 41,
   "metadata": {},
   "outputs": [],
   "source": [
    "from tensorflow.keras.optimizers import SGD"
   ]
  },
  {
   "cell_type": "code",
   "execution_count": 42,
   "metadata": {},
   "outputs": [],
   "source": [
    "# 3 --> 2\n",
    "codificador = Sequential()\n",
    "codificador.add(Dense(units = 2,\n",
    "                      activation = 'relu',\n",
    "                      input_shape = [3]))"
   ]
  },
  {
   "cell_type": "code",
   "execution_count": 43,
   "metadata": {},
   "outputs": [],
   "source": [
    "# 2 ---> 3\n",
    "decodificador = Sequential()\n",
    "decodificador.add(Dense(units = 3,\n",
    "                        activation = 'relu',\n",
    "                        input_shape = [2]))"
   ]
  },
  {
   "cell_type": "code",
   "execution_count": 44,
   "metadata": {},
   "outputs": [],
   "source": [
    "# Autocodificador\n",
    "# 3 ---> 2 ----> 3\n",
    "autocodificador = Sequential([codificador,\n",
    "                              decodificador])\n",
    "autocodificador.compile(loss = \"mse\",\n",
    "                        optimizer = SGD(lr = 1.5))"
   ]
  },
  {
   "cell_type": "code",
   "execution_count": 45,
   "metadata": {},
   "outputs": [],
   "source": [
    "from sklearn.preprocessing import MinMaxScaler"
   ]
  },
  {
   "cell_type": "markdown",
   "metadata": {},
   "source": [
    "Nota:  se usarán todos los datos!  No tiene sentido usar datos de entrenamiento y de prueba ya que no hay una respuesta correcta en esto."
   ]
  },
  {
   "cell_type": "code",
   "execution_count": 46,
   "metadata": {},
   "outputs": [],
   "source": [
    "escalador = MinMaxScaler()\n",
    "datos_escalados = escalador.fit_transform(features)"
   ]
  },
  {
   "cell_type": "code",
   "execution_count": 47,
   "metadata": {},
   "outputs": [],
   "source": [
    "#datos_escalados"
   ]
  },
  {
   "cell_type": "code",
   "execution_count": 48,
   "metadata": {},
   "outputs": [
    {
     "name": "stdout",
     "output_type": "stream",
     "text": [
      "Train on 300 samples\n",
      "Epoch 1/5\n",
      "300/300 [==============================] - 0s 1ms/sample - loss: 0.1524\n",
      "Epoch 2/5\n",
      "300/300 [==============================] - 0s 63us/sample - loss: 0.1036\n",
      "Epoch 3/5\n",
      "300/300 [==============================] - 0s 69us/sample - loss: 0.1052\n",
      "Epoch 4/5\n",
      "300/300 [==============================] - 0s 69us/sample - loss: 0.1030\n",
      "Epoch 5/5\n",
      "300/300 [==============================] - 0s 64us/sample - loss: 0.1029\n"
     ]
    },
    {
     "data": {
      "text/plain": [
       "<tensorflow.python.keras.callbacks.History at 0x7fe75671ca90>"
      ]
     },
     "execution_count": 48,
     "metadata": {},
     "output_type": "execute_result"
    }
   ],
   "source": [
    "autocodificador.fit(datos_escalados,\n",
    "                    datos_escalados,\n",
    "                    epochs = 5)"
   ]
  },
  {
   "cell_type": "code",
   "execution_count": 49,
   "metadata": {},
   "outputs": [],
   "source": [
    "codificado_2dim = codificador.predict(datos_escalados)"
   ]
  },
  {
   "cell_type": "code",
   "execution_count": 50,
   "metadata": {},
   "outputs": [
    {
     "data": {
      "text/plain": [
       "(300, 2)"
      ]
     },
     "execution_count": 50,
     "metadata": {},
     "output_type": "execute_result"
    }
   ],
   "source": [
    "codificado_2dim.shape"
   ]
  },
  {
   "cell_type": "code",
   "execution_count": 51,
   "metadata": {},
   "outputs": [
    {
     "data": {
      "text/plain": [
       "<matplotlib.collections.PathCollection at 0x7fe756a90890>"
      ]
     },
     "execution_count": 51,
     "metadata": {},
     "output_type": "execute_result"
    },
    {
     "data": {
      "image/png": "[encoded data removed]",
      "text/plain": [
       "<Figure size 432x288 with 1 Axes>"
      ]
     },
     "metadata": {
      "needs_background": "light"
     },
     "output_type": "display_data"
    }
   ],
   "source": [
    "plt.scatter(codificado_2dim[:, 0],\n",
    "            codificado_2dim[:, 1],\n",
    "            c = y)"
   ]
  },
  {
   "cell_type": "code",
   "execution_count": 52,
   "metadata": {},
   "outputs": [
    {
     "data": {
      "application/vnd.plotly.v1+json": {
       "config": {
        "plotlyServerURL": "https://plot.ly"
       },
       "data": [
        {
         "hovertemplate": "x=%{x}<br>y=%{y}<br>color=%{marker.color}<extra></extra>",
         "legendgroup": "",
         "marker": {
          "color": [
           1,
           0,
           0,
           0,
           0,
           1,
           1,
           1,
           0,
           1,
           0,
           0,
           1,
           0,
           0,
           0,
           0,
           1,
           0,
           0,
           0,
           0,
           0,
           0,
           1,
           1,
           1,
           1,
           0,
           1,
           0,
           1,
           0,
           1,
           1,
           1,
           0,
           1,
           0,
           0,
           0,
           1,
           0,
           1,
           1,
           1,
           1,
           1,
           0,
           1,
           0,
           1,
           0,
           1,
           1,
           1,
           0,
           1,
           0,
           0,
           0,
           1,
           1,
           1,
           1,
           1,
           0,
           1,
           0,
           1,
           1,
           1,
           0,
           1,
           1,
           1,
           1,
           1,
           0,
           1,
           0,
           1,
           1,
           0,
           0,
           1,
           0,
           1,
           0,
           0,
           0,
           1,
           1,
           1,
           0,
           1,
           0,
           1,
           0,
           1,
           1,
           0,
           1,
           0,
           1,
           0,
           1,
           1,
           0,
           0,
           0,
           0,
           0,
           1,
           0,
           0,
           0,
           0,
           1,
           1,
           1,
           0,
           1,
           0,
           0,
           1,
           0,
           0,
           0,
           0,
           0,
           1,
           1,
           1,
           0,
           1,
           0,
           1,
           0,
           0,
           0,
           0,
           1,
           0,
           0,
           0,
           0,
           1,
           0,
           1,
           0,
           1,
           1,
           1,
           0,
           0,
           0,
           1,
           1,
           1,
           1,
           1,
           1,
           0,
           0,
           1,
           0,
           1,
           1,
           0,
           0,
           1,
           0,
           0,
           1,
           1,
           0,
           0,
           0,
           0,
           0,
           1,
           0,
           1,
           1,
           1,
           1,
           0,
           1,
           0,
           0,
           1,
           1,
           0,
           1,
           0,
           1,
           1,
           0,
           1,
           1,
           1,
           0,
           0,
           1,
           0,
           1,
           1,
           0,
           0,
           1,
           1,
           0,
           0,
           0,
           0,
           0,
           1,
           0,
           0,
           1,
           0,
           1,
           1,
           1,
           1,
           0,
           1,
           0,
           0,
           0,
           1,
           0,
           1,
           0,
           1,
           0,
           0,
           1,
           0,
           1,
           1,
           0,
           0,
           0,
           0,
           0,
           1,
           0,
           0,
           1,
           1,
           0,
           0,
           0,
           1,
           1,
           0,
           0,
           1,
           0,
           0,
           1,
           1,
           1,
           1,
           1,
           0,
           0,
           1,
           1,
           1,
           1,
           1,
           0,
           0,
           1,
           1,
           1,
           1,
           1,
           0,
           1,
           0,
           1,
           0,
           0,
           0,
           0,
           1,
           0,
           0,
           1,
           1,
           1,
           1,
           1,
           1,
           0,
           0
          ],
          "coloraxis": "coloraxis",
          "symbol": "circle"
         },
         "mode": "markers",
         "name": "",
         "orientation": "v",
         "showlegend": false,
         "type": "scatter",
         "x": [
          0,
          0,
          0,
          0,
          0,
          0,
          0,
          0,
          0,
          0,
          0,
          0,
          0,
          0,
          0,
          0,
          0,
          0,
          0,
          0,
          0,
          0,
          0,
          0,
          0,
          0,
          0,
          0,
          0,
          0,
          0,
          0,
          0,
          0,
          0,
          0,
          0,
          0,
          0,
          0,
          0,
          0,
          0,
          0,
          0,
          0,
          0,
          0,
          0,
          0,
          0,
          0,
          0,
          0,
          0,
          0,
          0,
          0,
          0,
          0,
          0,
          0,
          0,
          0,
          0,
          0,
          0,
          0,
          0,
          0,
          0,
          0,
          0,
          0,
          0,
          0,
          0,
          0,
          0,
          0,
          0,
          0,
          0,
          0,
          0,
          0,
          0,
          0,
          0,
          0,
          0,
          0,
          0,
          0,
          0,
          0,
          0,
          0,
          0,
          0,
          0,
          0,
          0,
          0,
          0,
          0,
          0,
          0,
          0,
          0,
          0,
          0,
          0,
          0,
          0,
          0,
          0,
          0,
          0,
          0,
          0,
          0,
          0,
          0,
          0,
          0,
          0,
          0,
          0,
          0,
          0,
          0,
          0,
          0,
          0,
          0,
          0,
          0,
          0,
          0,
          0,
          0,
          0,
          0,
          0,
          0,
          0,
          0,
          0,
          0,
          0,
          0.060264017432928085,
          0,
          0,
          0,
          0,
          0,
          0,
          0,
          0,
          0,
          0,
          0,
          0,
          0,
          0,
          0,
          0,
          0,
          0,
          0,
          0,
          0,
          0,
          0,
          0,
          0,
          0,
          0,
          0,
          0,
          0,
          0,
          0,
          0,
          0,
          0,
          0,
          0,
          0,
          0,
          0,
          0,
          0,
          0,
          0,
          0,
          0,
          0,
          0,
          0,
          0,
          0,
          0,
          0,
          0,
          0,
          0,
          0,
          0,
          0,
          0,
          0,
          0,
          0,
          0,
          0,
          0,
          0,
          0,
          0,
          0,
          0,
          0,
          0,
          0,
          0,
          0,
          0,
          0,
          0,
          0,
          0,
          0,
          0,
          0,
          0,
          0,
          0,
          0,
          0,
          0,
          0,
          0,
          0,
          0,
          0,
          0,
          0,
          0,
          0.028583403676748276,
          0,
          0,
          0,
          0,
          0,
          0,
          0,
          0,
          0,
          0,
          0,
          0,
          0,
          0,
          0,
          0,
          0,
          0,
          0,
          0,
          0,
          0,
          0,
          0,
          0,
          0,
          0,
          0,
          0,
          0,
          0,
          0,
          0,
          0,
          0,
          0,
          0,
          0,
          0,
          0,
          0,
          0,
          0,
          0,
          0,
          0,
          0,
          0,
          0
         ],
         "xaxis": "x",
         "y": [
          1.2876248359680176,
          0.027850233018398285,
          0.1314047873020172,
          0.1383635550737381,
          0.03831136226654053,
          1.0196655988693237,
          1.042785882949829,
          1.0156118869781494,
          0,
          1.1869137287139893,
          0.11737170815467834,
          0.0072889551520347595,
          0.9512445330619812,
          0,
          0,
          0.020334094762802124,
          0,
          1.217421293258667,
          0.22646605968475342,
          0,
          0.024154558777809143,
          0.18912701308727264,
          0,
          0,
          1.0282068252563477,
          1.1309082508087158,
          1.1600735187530518,
          1.0022215843200684,
          0.16020195186138153,
          1.050699234008789,
          0.057028770446777344,
          1.114495873451233,
          0,
          0.9328274130821228,
          0.8835322260856628,
          1.1380589008331299,
          0.1008937656879425,
          1.3145060539245605,
          0.007572203874588013,
          0.04261995851993561,
          0,
          1.028975248336792,
          0,
          1.097550392150879,
          1.1698553562164307,
          1.1107308864593506,
          1.211029052734375,
          1.0375903844833374,
          0.05388369411230087,
          1.0643212795257568,
          0.03257831186056137,
          1.048304557800293,
          0.029771730303764343,
          1.0218842029571533,
          1.0589849948883057,
          1.251166582107544,
          0.15799187123775482,
          1.249821662902832,
          0,
          0.015829674899578094,
          0.006015785038471222,
          1.2778122425079346,
          1.094407081604004,
          1.1292214393615723,
          1.0269887447357178,
          1.0460562705993652,
          0,
          1.1563236713409424,
          0.007162213325500488,
          0.8056078553199768,
          1.1072912216186523,
          0.9681673645973206,
          0,
          1.158667802810669,
          1.1530203819274902,
          0.849748969078064,
          1.037454605102539,
          1.3057610988616943,
          0,
          1.0648069381713867,
          0.029429808259010315,
          1.1573131084442139,
          1.1771247386932373,
          0.0793398767709732,
          0.15735572576522827,
          1.2263104915618896,
          0.03456103801727295,
          1.273486852645874,
          0.16822347044944763,
          0.13378973305225372,
          0.09611691534519196,
          1.127570629119873,
          1.141669750213623,
          1.0713889598846436,
          0,
          1.0226023197174072,
          0.008325688540935516,
          0.8765031099319458,
          0.036874741315841675,
          1.0022640228271484,
          1.2308118343353271,
          0.0642804205417633,
          1.0719523429870605,
          0.009049765765666962,
          1.0669643878936768,
          0.046051785349845886,
          1.058838963508606,
          1.0387074947357178,
          0,
          0.0511234849691391,
          0.039771176874637604,
          0,
          0,
          0.9543118476867676,
          0.07918024063110352,
          0.14487634599208832,
          0.09987913072109222,
          0,
          1.203174352645874,
          1.0729312896728516,
          1.0518085956573486,
          0,
          1.108381748199463,
          0.03447161614894867,
          0,
          1.11947762966156,
          0.07349055260419846,
          0.08955121040344238,
          0,
          0.26589083671569824,
          0,
          1.0290521383285522,
          1.082516074180603,
          1.012740135192871,
          0.1827443540096283,
          1.0387678146362305,
          0.09653545171022415,
          1.1336679458618164,
          0.16846002638339996,
          0,
          0.0258907750248909,
          0.14327143132686615,
          0.9062294960021973,
          0,
          0,
          0,
          0,
          1.1813764572143555,
          0.016466744244098663,
          1.2666926383972168,
          0.03860244154930115,
          1.2141444683074951,
          1.0030710697174072,
          1.0986219644546509,
          0,
          0,
          0,
          0.9943819642066956,
          1.0760509967803955,
          1.085789680480957,
          1.1023536920547485,
          0.9012694358825684,
          1.0240190029144287,
          0,
          0.033668600022792816,
          1.0986123085021973,
          0,
          0.9816985130310059,
          1.2549753189086914,
          0,
          0,
          1.2808067798614502,
          0.0760372132062912,
          0.18513895571231842,
          1.0446139574050903,
          1.0446072816848755,
          0.01290537416934967,
          0,
          0.11214534938335419,
          0,
          0,
          1.0059621334075928,
          0.128584086894989,
          0.9781844615936279,
          1.1524326801300049,
          1.1490297317504883,
          1.1606698036193848,
          0.04761531949043274,
          1.0851500034332275,
          0.1372632086277008,
          0.0502866730093956,
          1.1417441368103027,
          1.2551565170288086,
          0.0490998700261116,
          0.9654930830001831,
          0.05380072444677353,
          1.226348638534546,
          1.1987159252166748,
          0.07434290647506714,
          0.9656047224998474,
          0.8971239328384399,
          1.2819492816925049,
          0.07155966013669968,
          0.004471704363822937,
          0.9996499419212341,
          0,
          0.9966423511505127,
          1.2916383743286133,
          0.13971255719661713,
          0.06883440166711807,
          1.0010063648223877,
          1.2316746711730957,
          0.11467229574918747,
          0,
          0,
          0.16136127710342407,
          0.2696632742881775,
          0.9975981116294861,
          0.10129537433385849,
          0.15594974160194397,
          1.0600131750106812,
          0,
          1.1606621742248535,
          1.116605520248413,
          1.1193677186965942,
          1.018158197402954,
          0.04547989368438721,
          1.3069193363189697,
          0,
          0,
          0.016999870538711548,
          0.9560949206352234,
          0,
          1.2376370429992676,
          0.08434216678142548,
          0.8524953722953796,
          0.08058728277683258,
          0,
          0.940970242023468,
          0,
          0.921687126159668,
          1.0963797569274902,
          0.19415628910064697,
          0.18063820898532867,
          0.14642736315727234,
          0.06617762893438339,
          0,
          1.0899581909179688,
          0.13005170226097107,
          0.12390458583831787,
          1.3576881885528564,
          1.165891170501709,
          0.004249796271324158,
          0.18928954005241394,
          0.11168129742145538,
          1.179530382156372,
          1.0340222120285034,
          0,
          0,
          1.1106274127960205,
          0,
          0.0682733803987503,
          1.1453142166137695,
          1.1248764991760254,
          1.111570119857788,
          1.1049050092697144,
          0.9277291297912598,
          0.04056145250797272,
          0,
          1.1662352085113525,
          1.117285132408142,
          1.0682311058044434,
          1.04044508934021,
          1.0154924392700195,
          0.01600981503725052,
          0,
          0.9278696775436401,
          0.9490752816200256,
          1.142366647720337,
          1.0341179370880127,
          1.0253703594207764,
          0.02892640233039856,
          1.0975589752197266,
          0,
          0.9930575489997864,
          0.13831745088100433,
          0.03620526194572449,
          0,
          0,
          1.1933948993682861,
          0,
          0.044726260006427765,
          1.0798366069793701,
          1.0409009456634521,
          1.3023240566253662,
          1.1938459873199463,
          1.0950591564178467,
          0.9864753484725952,
          0.0522427037358284,
          0
         ],
         "yaxis": "y"
        }
       ],
       "layout": {
        "autosize": true,
        "coloraxis": {
         "colorbar": {
          "title": {
           "text": "color"
          }
         },
         "colorscale": [
          [
           0,
           "#0d0887"
          ],
          [
           0.1111111111111111,
           "#46039f"
          ],
          [
           0.2222222222222222,
           "#7201a8"
          ],
          [
           0.3333333333333333,
           "#9c179e"
          ],
          [
           0.4444444444444444,
           "#bd3786"
          ],
          [
           0.5555555555555556,
           "#d8576b"
          ],
          [
           0.6666666666666666,
           "#ed7953"
          ],
          [
           0.7777777777777778,
           "#fb9f3a"
          ],
          [
           0.8888888888888888,
           "#fdca26"
          ],
          [
           1,
           "#f0f921"
          ]
         ]
        },
        "legend": {
         "tracegroupgap": 0
        },
        "margin": {
         "t": 60
        },
        "template": {
         "data": {
          "bar": [
           {
            "error_x": {
             "color": "#2a3f5f"
            },
            "error_y": {
             "color": "#2a3f5f"
            },
            "marker": {
             "line": {
              "color": "#E5ECF6",
              "width": 0.5
             },
             "pattern": {
              "fillmode": "overlay",
              "size": 10,
              "solidity": 0.2
             }
            },
            "type": "bar"
           }
          ],
          "barpolar": [
           {
            "marker": {
             "line": {
              "color": "#E5ECF6",
              "width": 0.5
             },
             "pattern": {
              "fillmode": "overlay",
              "size": 10,
              "solidity": 0.2
             }
            },
            "type": "barpolar"
           }
          ],
          "carpet": [
           {
            "aaxis": {
             "endlinecolor": "#2a3f5f",
             "gridcolor": "white",
             "linecolor": "white",
             "minorgridcolor": "white",
             "startlinecolor": "#2a3f5f"
            },
            "baxis": {
             "endlinecolor": "#2a3f5f",
             "gridcolor": "white",
             "linecolor": "white",
             "minorgridcolor": "white",
             "startlinecolor": "#2a3f5f"
            },
            "type": "carpet"
           }
          ],
          "choropleth": [
           {
            "colorbar": {
             "outlinewidth": 0,
             "ticks": ""
            },
            "type": "choropleth"
           }
          ],
          "contour": [
           {
            "colorbar": {
             "outlinewidth": 0,
             "ticks": ""
            },
            "colorscale": [
             [
              0,
              "#0d0887"
             ],
             [
              0.1111111111111111,
              "#46039f"
             ],
             [
              0.2222222222222222,
              "#7201a8"
             ],
             [
              0.3333333333333333,
              "#9c179e"
             ],
             [
              0.4444444444444444,
              "#bd3786"
             ],
             [
              0.5555555555555556,
              "#d8576b"
             ],
             [
              0.6666666666666666,
              "#ed7953"
             ],
             [
              0.7777777777777778,
              "#fb9f3a"
             ],
             [
              0.8888888888888888,
              "#fdca26"
             ],
             [
              1,
              "#f0f921"
             ]
            ],
            "type": "contour"
           }
          ],
          "contourcarpet": [
           {
            "colorbar": {
             "outlinewidth": 0,
             "ticks": ""
            },
            "type": "contourcarpet"
           }
          ],
          "heatmap": [
           {
            "colorbar": {
             "outlinewidth": 0,
             "ticks": ""
            },
            "colorscale": [
             [
              0,
              "#0d0887"
             ],
             [
              0.1111111111111111,
              "#46039f"
             ],
             [
              0.2222222222222222,
              "#7201a8"
             ],
             [
              0.3333333333333333,
              "#9c179e"
             ],
             [
              0.4444444444444444,
              "#bd3786"
             ],
             [
              0.5555555555555556,
              "#d8576b"
             ],
             [
              0.6666666666666666,
              "#ed7953"
             ],
             [
              0.7777777777777778,
              "#fb9f3a"
             ],
             [
              0.8888888888888888,
              "#fdca26"
             ],
             [
              1,
              "#f0f921"
             ]
            ],
            "type": "heatmap"
           }
          ],
          "heatmapgl": [
           {
            "colorbar": {
             "outlinewidth": 0,
             "ticks": ""
            },
            "colorscale": [
             [
              0,
              "#0d0887"
             ],
             [
              0.1111111111111111,
              "#46039f"
             ],
             [
              0.2222222222222222,
              "#7201a8"
             ],
             [
              0.3333333333333333,
              "#9c179e"
             ],
             [
              0.4444444444444444,
              "#bd3786"
             ],
             [
              0.5555555555555556,
              "#d8576b"
             ],
             [
              0.6666666666666666,
              "#ed7953"
             ],
             [
              0.7777777777777778,
              "#fb9f3a"
             ],
             [
              0.8888888888888888,
              "#fdca26"
             ],
             [
              1,
              "#f0f921"
             ]
            ],
            "type": "heatmapgl"
           }
          ],
          "histogram": [
           {
            "marker": {
             "pattern": {
              "fillmode": "overlay",
              "size": 10,
              "solidity": 0.2
             }
            },
            "type": "histogram"
           }
          ],
          "histogram2d": [
           {
            "colorbar": {
             "outlinewidth": 0,
             "ticks": ""
            },
            "colorscale": [
             [
              0,
              "#0d0887"
             ],
             [
              0.1111111111111111,
              "#46039f"
             ],
             [
              0.2222222222222222,
              "#7201a8"
             ],
             [
              0.3333333333333333,
              "#9c179e"
             ],
             [
              0.4444444444444444,
              "#bd3786"
             ],
             [
              0.5555555555555556,
              "#d8576b"
             ],
             [
              0.6666666666666666,
              "#ed7953"
             ],
             [
              0.7777777777777778,
              "#fb9f3a"
             ],
             [
              0.8888888888888888,
              "#fdca26"
             ],
             [
              1,
              "#f0f921"
             ]
            ],
            "type": "histogram2d"
           }
          ],
          "histogram2dcontour": [
           {
            "colorbar": {
             "outlinewidth": 0,
             "ticks": ""
            },
            "colorscale": [
             [
              0,
              "#0d0887"
             ],
             [
              0.1111111111111111,
              "#46039f"
             ],
             [
              0.2222222222222222,
              "#7201a8"
             ],
             [
              0.3333333333333333,
              "#9c179e"
             ],
             [
              0.4444444444444444,
              "#bd3786"
             ],
             [
              0.5555555555555556,
              "#d8576b"
             ],
             [
              0.6666666666666666,
              "#ed7953"
             ],
             [
              0.7777777777777778,
              "#fb9f3a"
             ],
             [
              0.8888888888888888,
              "#fdca26"
             ],
             [
              1,
              "#f0f921"
             ]
            ],
            "type": "histogram2dcontour"
           }
          ],
          "mesh3d": [
           {
            "colorbar": {
             "outlinewidth": 0,
             "ticks": ""
            },
            "type": "mesh3d"
           }
          ],
          "parcoords": [
           {
            "line": {
             "colorbar": {
              "outlinewidth": 0,
              "ticks": ""
             }
            },
            "type": "parcoords"
           }
          ],
          "pie": [
           {
            "automargin": true,
            "type": "pie"
           }
          ],
          "scatter": [
           {
            "marker": {
             "colorbar": {
              "outlinewidth": 0,
              "ticks": ""
             }
            },
            "type": "scatter"
           }
          ],
          "scatter3d": [
           {
            "line": {
             "colorbar": {
              "outlinewidth": 0,
              "ticks": ""
             }
            },
            "marker": {
             "colorbar": {
              "outlinewidth": 0,
              "ticks": ""
             }
            },
            "type": "scatter3d"
           }
          ],
          "scattercarpet": [
           {
            "marker": {
             "colorbar": {
              "outlinewidth": 0,
              "ticks": ""
             }
            },
            "type": "scattercarpet"
           }
          ],
          "scattergeo": [
           {
            "marker": {
             "colorbar": {
              "outlinewidth": 0,
              "ticks": ""
             }
            },
            "type": "scattergeo"
           }
          ],
          "scattergl": [
           {
            "marker": {
             "colorbar": {
              "outlinewidth": 0,
              "ticks": ""
             }
            },
            "type": "scattergl"
           }
          ],
          "scattermapbox": [
           {
            "marker": {
             "colorbar": {
              "outlinewidth": 0,
              "ticks": ""
             }
            },
            "type": "scattermapbox"
           }
          ],
          "scatterpolar": [
           {
            "marker": {
             "colorbar": {
              "outlinewidth": 0,
              "ticks": ""
             }
            },
            "type": "scatterpolar"
           }
          ],
          "scatterpolargl": [
           {
            "marker": {
             "colorbar": {
              "outlinewidth": 0,
              "ticks": ""
             }
            },
            "type": "scatterpolargl"
           }
          ],
          "scatterternary": [
           {
            "marker": {
             "colorbar": {
              "outlinewidth": 0,
              "ticks": ""
             }
            },
            "type": "scatterternary"
           }
          ],
          "surface": [
           {
            "colorbar": {
             "outlinewidth": 0,
             "ticks": ""
            },
            "colorscale": [
             [
              0,
              "#0d0887"
             ],
             [
              0.1111111111111111,
              "#46039f"
             ],
             [
              0.2222222222222222,
              "#7201a8"
             ],
             [
              0.3333333333333333,
              "#9c179e"
             ],
             [
              0.4444444444444444,
              "#bd3786"
             ],
             [
              0.5555555555555556,
              "#d8576b"
             ],
             [
              0.6666666666666666,
              "#ed7953"
             ],
             [
              0.7777777777777778,
              "#fb9f3a"
             ],
             [
              0.8888888888888888,
              "#fdca26"
             ],
             [
              1,
              "#f0f921"
             ]
            ],
            "type": "surface"
           }
          ],
          "table": [
           {
            "cells": {
             "fill": {
              "color": "#EBF0F8"
             },
             "line": {
              "color": "white"
             }
            },
            "header": {
             "fill": {
              "color": "#C8D4E3"
             },
             "line": {
              "color": "white"
             }
            },
            "type": "table"
           }
          ]
         },
         "layout": {
          "annotationdefaults": {
           "arrowcolor": "#2a3f5f",
           "arrowhead": 0,
           "arrowwidth": 1
          },
          "autotypenumbers": "strict",
          "coloraxis": {
           "colorbar": {
            "outlinewidth": 0,
            "ticks": ""
           }
          },
          "colorscale": {
           "diverging": [
            [
             0,
             "#8e0152"
            ],
            [
             0.1,
             "#c51b7d"
            ],
            [
             0.2,
             "#de77ae"
            ],
            [
             0.3,
             "#f1b6da"
            ],
            [
             0.4,
             "#fde0ef"
            ],
            [
             0.5,
             "#f7f7f7"
            ],
            [
             0.6,
             "#e6f5d0"
            ],
            [
             0.7,
             "#b8e186"
            ],
            [
             0.8,
             "#7fbc41"
            ],
            [
             0.9,
             "#4d9221"
            ],
            [
             1,
             "#276419"
            ]
           ],
           "sequential": [
            [
             0,
             "#0d0887"
            ],
            [
             0.1111111111111111,
             "#46039f"
            ],
            [
             0.2222222222222222,
             "#7201a8"
            ],
            [
             0.3333333333333333,
             "#9c179e"
            ],
            [
             0.4444444444444444,
             "#bd3786"
            ],
            [
             0.5555555555555556,
             "#d8576b"
            ],
            [
             0.6666666666666666,
             "#ed7953"
            ],
            [
             0.7777777777777778,
             "#fb9f3a"
            ],
            [
             0.8888888888888888,
             "#fdca26"
            ],
            [
             1,
             "#f0f921"
            ]
           ],
           "sequentialminus": [
            [
             0,
             "#0d0887"
            ],
            [
             0.1111111111111111,
             "#46039f"
            ],
            [
             0.2222222222222222,
             "#7201a8"
            ],
            [
             0.3333333333333333,
             "#9c179e"
            ],
            [
             0.4444444444444444,
             "#bd3786"
            ],
            [
             0.5555555555555556,
             "#d8576b"
            ],
            [
             0.6666666666666666,
             "#ed7953"
            ],
            [
             0.7777777777777778,
             "#fb9f3a"
            ],
            [
             0.8888888888888888,
             "#fdca26"
            ],
            [
             1,
             "#f0f921"
            ]
           ]
          },
          "colorway": [
           "#636efa",
           "#EF553B",
           "#00cc96",
           "#ab63fa",
           "#FFA15A",
           "#19d3f3",
           "#FF6692",
           "#B6E880",
           "#FF97FF",
           "#FECB52"
          ],
          "font": {
           "color": "#2a3f5f"
          },
          "geo": {
           "bgcolor": "white",
           "lakecolor": "white",
           "landcolor": "#E5ECF6",
           "showlakes": true,
           "showland": true,
           "subunitcolor": "white"
          },
          "hoverlabel": {
           "align": "left"
          },
          "hovermode": "closest",
          "mapbox": {
           "style": "light"
          },
          "paper_bgcolor": "white",
          "plot_bgcolor": "#E5ECF6",
          "polar": {
           "angularaxis": {
            "gridcolor": "white",
            "linecolor": "white",
            "ticks": ""
           },
           "bgcolor": "#E5ECF6",
           "radialaxis": {
            "gridcolor": "white",
            "linecolor": "white",
            "ticks": ""
           }
          },
          "scene": {
           "xaxis": {
            "backgroundcolor": "#E5ECF6",
            "gridcolor": "white",
            "gridwidth": 2,
            "linecolor": "white",
            "showbackground": true,
            "ticks": "",
            "zerolinecolor": "white"
           },
           "yaxis": {
            "backgroundcolor": "#E5ECF6",
            "gridcolor": "white",
            "gridwidth": 2,
            "linecolor": "white",
            "showbackground": true,
            "ticks": "",
            "zerolinecolor": "white"
           },
           "zaxis": {
            "backgroundcolor": "#E5ECF6",
            "gridcolor": "white",
            "gridwidth": 2,
            "linecolor": "white",
            "showbackground": true,
            "ticks": "",
            "zerolinecolor": "white"
           }
          },
          "shapedefaults": {
           "line": {
            "color": "#2a3f5f"
           }
          },
          "ternary": {
           "aaxis": {
            "gridcolor": "white",
            "linecolor": "white",
            "ticks": ""
           },
           "baxis": {
            "gridcolor": "white",
            "linecolor": "white",
            "ticks": ""
           },
           "bgcolor": "#E5ECF6",
           "caxis": {
            "gridcolor": "white",
            "linecolor": "white",
            "ticks": ""
           }
          },
          "title": {
           "x": 0.05
          },
          "xaxis": {
           "automargin": true,
           "gridcolor": "white",
           "linecolor": "white",
           "ticks": "",
           "title": {
            "standoff": 15
           },
           "zerolinecolor": "white",
           "zerolinewidth": 2
          },
          "yaxis": {
           "automargin": true,
           "gridcolor": "white",
           "linecolor": "white",
           "ticks": "",
           "title": {
            "standoff": 15
           },
           "zerolinecolor": "white",
           "zerolinewidth": 2
          }
         }
        },
        "xaxis": {
         "anchor": "y",
         "autorange": true,
         "domain": [
          0,
          1
         ],
         "range": [
          -0.0046915005545698435,
          0.06495551798749793
         ],
         "title": {
          "text": "x"
         },
         "type": "linear"
        },
        "yaxis": {
         "anchor": "x",
         "autorange": true,
         "domain": [
          0,
          1
         ],
         "range": [
          -0.10512283874621854,
          1.462811027299075
         ],
         "title": {
          "text": "y"
         },
         "type": "linear"
        }
       }
      },
      "image/png": "[encoded data removed]",
      "text/html": [
       "<div>                            <div id=\"96c994db-77cc-45e3-8a83-f97e05b9eed0\" class=\"plotly-graph-div\" style=\"height:525px; width:100%;\"></div>            <script type=\"text/javascript\">                require([\"plotly\"], function(Plotly) {                    window.PLOTLYENV=window.PLOTLYENV || {};                                    if (document.getElementById(\"96c994db-77cc-45e3-8a83-f97e05b9eed0\")) {                    Plotly.newPlot(                        \"96c994db-77cc-45e3-8a83-f97e05b9eed0\",                        [{\"hovertemplate\":\"x=%{x}<br>y=%{y}<br>color=%{marker.color}<extra></extra>\",\"legendgroup\":\"\",\"marker\":{\"color\":[1,0,0,0,0,1,1,1,0,1,0,0,1,0,0,0,0,1,0,0,0,0,0,0,1,1,1,1,0,1,0,1,0,1,1,1,0,1,0,0,0,1,0,1,1,1,1,1,0,1,0,1,0,1,1,1,0,1,0,0,0,1,1,1,1,1,0,1,0,1,1,1,0,1,1,1,1,1,0,1,0,1,1,0,0,1,0,1,0,0,0,1,1,1,0,1,0,1,0,1,1,0,1,0,1,0,1,1,0,0,0,0,0,1,0,0,0,0,1,1,1,0,1,0,0,1,0,0,0,0,0,1,1,1,0,1,0,1,0,0,0,0,1,0,0,0,0,1,0,1,0,1,1,1,0,0,0,1,1,1,1,1,1,0,0,1,0,1,1,0,0,1,0,0,1,1,0,0,0,0,0,1,0,1,1,1,1,0,1,0,0,1,1,0,1,0,1,1,0,1,1,1,0,0,1,0,1,1,0,0,1,1,0,0,0,0,0,1,0,0,1,0,1,1,1,1,0,1,0,0,0,1,0,1,0,1,0,0,1,0,1,1,0,0,0,0,0,1,0,0,1,1,0,0,0,1,1,0,0,1,0,0,1,1,1,1,1,0,0,1,1,1,1,1,0,0,1,1,1,1,1,0,1,0,1,0,0,0,0,1,0,0,1,1,1,1,1,1,0,0],\"coloraxis\":\"coloraxis\",\"symbol\":\"circle\"},\"mode\":\"markers\",\"name\":\"\",\"orientation\":\"v\",\"showlegend\":false,\"type\":\"scatter\",\"x\":[-0.0,-0.0,-0.0,-0.0,-0.0,-0.0,-0.0,-0.0,-0.0,-0.0,-0.0,-0.0,-0.0,-0.0,-0.0,-0.0,-0.0,-0.0,-0.0,-0.0,-0.0,-0.0,-0.0,-0.0,-0.0,-0.0,-0.0,-0.0,-0.0,-0.0,-0.0,-0.0,-0.0,-0.0,-0.0,-0.0,-0.0,-0.0,-0.0,-0.0,-0.0,-0.0,-0.0,-0.0,-0.0,-0.0,-0.0,-0.0,-0.0,-0.0,-0.0,-0.0,-0.0,-0.0,-0.0,-0.0,-0.0,-0.0,-0.0,-0.0,-0.0,-0.0,-0.0,-0.0,-0.0,-0.0,-0.0,-0.0,-0.0,-0.0,-0.0,-0.0,-0.0,-0.0,-0.0,-0.0,-0.0,-0.0,-0.0,-0.0,-0.0,-0.0,-0.0,-0.0,-0.0,-0.0,-0.0,-0.0,-0.0,-0.0,-0.0,-0.0,-0.0,-0.0,-0.0,-0.0,-0.0,-0.0,-0.0,-0.0,-0.0,-0.0,-0.0,-0.0,-0.0,-0.0,-0.0,-0.0,-0.0,-0.0,-0.0,-0.0,-0.0,-0.0,-0.0,-0.0,-0.0,-0.0,-0.0,-0.0,-0.0,-0.0,-0.0,-0.0,-0.0,-0.0,-0.0,-0.0,-0.0,-0.0,-0.0,-0.0,-0.0,-0.0,-0.0,-0.0,-0.0,-0.0,-0.0,-0.0,-0.0,-0.0,-0.0,-0.0,-0.0,-0.0,-0.0,-0.0,-0.0,-0.0,-0.0,0.060264017432928085,-0.0,-0.0,-0.0,-0.0,-0.0,-0.0,-0.0,-0.0,-0.0,-0.0,-0.0,-0.0,-0.0,-0.0,-0.0,-0.0,-0.0,-0.0,-0.0,-0.0,-0.0,-0.0,-0.0,-0.0,-0.0,-0.0,-0.0,-0.0,-0.0,-0.0,-0.0,-0.0,-0.0,-0.0,-0.0,-0.0,-0.0,-0.0,-0.0,-0.0,-0.0,-0.0,-0.0,-0.0,-0.0,-0.0,-0.0,-0.0,-0.0,-0.0,-0.0,-0.0,-0.0,-0.0,-0.0,-0.0,-0.0,-0.0,-0.0,-0.0,-0.0,-0.0,-0.0,-0.0,-0.0,-0.0,-0.0,-0.0,-0.0,-0.0,-0.0,-0.0,-0.0,-0.0,-0.0,-0.0,-0.0,-0.0,-0.0,-0.0,-0.0,-0.0,-0.0,-0.0,-0.0,-0.0,-0.0,-0.0,-0.0,-0.0,-0.0,-0.0,-0.0,-0.0,-0.0,-0.0,-0.0,-0.0,0.028583403676748276,-0.0,-0.0,-0.0,-0.0,-0.0,-0.0,-0.0,-0.0,-0.0,-0.0,-0.0,-0.0,-0.0,-0.0,-0.0,-0.0,-0.0,-0.0,-0.0,-0.0,-0.0,-0.0,-0.0,-0.0,-0.0,-0.0,-0.0,-0.0,-0.0,-0.0,-0.0,-0.0,-0.0,-0.0,-0.0,-0.0,-0.0,-0.0,-0.0,-0.0,-0.0,-0.0,-0.0,-0.0,-0.0,-0.0,-0.0,-0.0,-0.0],\"xaxis\":\"x\",\"y\":[1.2876248359680176,0.027850233018398285,0.1314047873020172,0.1383635550737381,0.03831136226654053,1.0196655988693237,1.042785882949829,1.0156118869781494,-0.0,1.1869137287139893,0.11737170815467834,0.0072889551520347595,0.9512445330619812,-0.0,-0.0,0.020334094762802124,-0.0,1.217421293258667,0.22646605968475342,-0.0,0.024154558777809143,0.18912701308727264,-0.0,-0.0,1.0282068252563477,1.1309082508087158,1.1600735187530518,1.0022215843200684,0.16020195186138153,1.050699234008789,0.057028770446777344,1.114495873451233,-0.0,0.9328274130821228,0.8835322260856628,1.1380589008331299,0.1008937656879425,1.3145060539245605,0.007572203874588013,0.04261995851993561,-0.0,1.028975248336792,-0.0,1.097550392150879,1.1698553562164307,1.1107308864593506,1.211029052734375,1.0375903844833374,0.05388369411230087,1.0643212795257568,0.03257831186056137,1.048304557800293,0.029771730303764343,1.0218842029571533,1.0589849948883057,1.251166582107544,0.15799187123775482,1.249821662902832,-0.0,0.015829674899578094,0.006015785038471222,1.2778122425079346,1.094407081604004,1.1292214393615723,1.0269887447357178,1.0460562705993652,-0.0,1.1563236713409424,0.007162213325500488,0.8056078553199768,1.1072912216186523,0.9681673645973206,-0.0,1.158667802810669,1.1530203819274902,0.849748969078064,1.037454605102539,1.3057610988616943,-0.0,1.0648069381713867,0.029429808259010315,1.1573131084442139,1.1771247386932373,0.0793398767709732,0.15735572576522827,1.2263104915618896,0.03456103801727295,1.273486852645874,0.16822347044944763,0.13378973305225372,0.09611691534519196,1.127570629119873,1.141669750213623,1.0713889598846436,-0.0,1.0226023197174072,0.008325688540935516,0.8765031099319458,0.036874741315841675,1.0022640228271484,1.2308118343353271,0.0642804205417633,1.0719523429870605,0.009049765765666962,1.0669643878936768,0.046051785349845886,1.058838963508606,1.0387074947357178,-0.0,0.0511234849691391,0.039771176874637604,-0.0,-0.0,0.9543118476867676,0.07918024063110352,0.14487634599208832,0.09987913072109222,-0.0,1.203174352645874,1.0729312896728516,1.0518085956573486,-0.0,1.108381748199463,0.03447161614894867,-0.0,1.11947762966156,0.07349055260419846,0.08955121040344238,-0.0,0.26589083671569824,-0.0,1.0290521383285522,1.082516074180603,1.012740135192871,0.1827443540096283,1.0387678146362305,0.09653545171022415,1.1336679458618164,0.16846002638339996,-0.0,0.0258907750248909,0.14327143132686615,0.9062294960021973,-0.0,-0.0,-0.0,-0.0,1.1813764572143555,0.016466744244098663,1.2666926383972168,0.03860244154930115,1.2141444683074951,1.0030710697174072,1.0986219644546509,-0.0,-0.0,-0.0,0.9943819642066956,1.0760509967803955,1.085789680480957,1.1023536920547485,0.9012694358825684,1.0240190029144287,-0.0,0.033668600022792816,1.0986123085021973,-0.0,0.9816985130310059,1.2549753189086914,-0.0,-0.0,1.2808067798614502,0.0760372132062912,0.18513895571231842,1.0446139574050903,1.0446072816848755,0.01290537416934967,-0.0,0.11214534938335419,-0.0,-0.0,1.0059621334075928,0.128584086894989,0.9781844615936279,1.1524326801300049,1.1490297317504883,1.1606698036193848,0.04761531949043274,1.0851500034332275,0.1372632086277008,0.0502866730093956,1.1417441368103027,1.2551565170288086,0.0490998700261116,0.9654930830001831,0.05380072444677353,1.226348638534546,1.1987159252166748,0.07434290647506714,0.9656047224998474,0.8971239328384399,1.2819492816925049,0.07155966013669968,0.004471704363822937,0.9996499419212341,-0.0,0.9966423511505127,1.2916383743286133,0.13971255719661713,0.06883440166711807,1.0010063648223877,1.2316746711730957,0.11467229574918747,-0.0,-0.0,0.16136127710342407,0.2696632742881775,0.9975981116294861,0.10129537433385849,0.15594974160194397,1.0600131750106812,-0.0,1.1606621742248535,1.116605520248413,1.1193677186965942,1.018158197402954,0.04547989368438721,1.3069193363189697,-0.0,-0.0,0.016999870538711548,0.9560949206352234,-0.0,1.2376370429992676,0.08434216678142548,0.8524953722953796,0.08058728277683258,-0.0,0.940970242023468,-0.0,0.921687126159668,1.0963797569274902,0.19415628910064697,0.18063820898532867,0.14642736315727234,0.06617762893438339,-0.0,1.0899581909179688,0.13005170226097107,0.12390458583831787,1.3576881885528564,1.165891170501709,0.004249796271324158,0.18928954005241394,0.11168129742145538,1.179530382156372,1.0340222120285034,-0.0,-0.0,1.1106274127960205,-0.0,0.0682733803987503,1.1453142166137695,1.1248764991760254,1.111570119857788,1.1049050092697144,0.9277291297912598,0.04056145250797272,-0.0,1.1662352085113525,1.117285132408142,1.0682311058044434,1.04044508934021,1.0154924392700195,0.01600981503725052,-0.0,0.9278696775436401,0.9490752816200256,1.142366647720337,1.0341179370880127,1.0253703594207764,0.02892640233039856,1.0975589752197266,-0.0,0.9930575489997864,0.13831745088100433,0.03620526194572449,-0.0,-0.0,1.1933948993682861,-0.0,0.044726260006427765,1.0798366069793701,1.0409009456634521,1.3023240566253662,1.1938459873199463,1.0950591564178467,0.9864753484725952,0.0522427037358284,-0.0],\"yaxis\":\"y\"}],                        {\"coloraxis\":{\"colorbar\":{\"title\":{\"text\":\"color\"}},\"colorscale\":[[0.0,\"#0d0887\"],[0.1111111111111111,\"#46039f\"],[0.2222222222222222,\"#7201a8\"],[0.3333333333333333,\"#9c179e\"],[0.4444444444444444,\"#bd3786\"],[0.5555555555555556,\"#d8576b\"],[0.6666666666666666,\"#ed7953\"],[0.7777777777777778,\"#fb9f3a\"],[0.8888888888888888,\"#fdca26\"],[1.0,\"#f0f921\"]]},\"legend\":{\"tracegroupgap\":0},\"margin\":{\"t\":60},\"template\":{\"data\":{\"bar\":[{\"error_x\":{\"color\":\"#2a3f5f\"},\"error_y\":{\"color\":\"#2a3f5f\"},\"marker\":{\"line\":{\"color\":\"#E5ECF6\",\"width\":0.5},\"pattern\":{\"fillmode\":\"overlay\",\"size\":10,\"solidity\":0.2}},\"type\":\"bar\"}],\"barpolar\":[{\"marker\":{\"line\":{\"color\":\"#E5ECF6\",\"width\":0.5},\"pattern\":{\"fillmode\":\"overlay\",\"size\":10,\"solidity\":0.2}},\"type\":\"barpolar\"}],\"carpet\":[{\"aaxis\":{\"endlinecolor\":\"#2a3f5f\",\"gridcolor\":\"white\",\"linecolor\":\"white\",\"minorgridcolor\":\"white\",\"startlinecolor\":\"#2a3f5f\"},\"baxis\":{\"endlinecolor\":\"#2a3f5f\",\"gridcolor\":\"white\",\"linecolor\":\"white\",\"minorgridcolor\":\"white\",\"startlinecolor\":\"#2a3f5f\"},\"type\":\"carpet\"}],\"choropleth\":[{\"colorbar\":{\"outlinewidth\":0,\"ticks\":\"\"},\"type\":\"choropleth\"}],\"contour\":[{\"colorbar\":{\"outlinewidth\":0,\"ticks\":\"\"},\"colorscale\":[[0.0,\"#0d0887\"],[0.1111111111111111,\"#46039f\"],[0.2222222222222222,\"#7201a8\"],[0.3333333333333333,\"#9c179e\"],[0.4444444444444444,\"#bd3786\"],[0.5555555555555556,\"#d8576b\"],[0.6666666666666666,\"#ed7953\"],[0.7777777777777778,\"#fb9f3a\"],[0.8888888888888888,\"#fdca26\"],[1.0,\"#f0f921\"]],\"type\":\"contour\"}],\"contourcarpet\":[{\"colorbar\":{\"outlinewidth\":0,\"ticks\":\"\"},\"type\":\"contourcarpet\"}],\"heatmap\":[{\"colorbar\":{\"outlinewidth\":0,\"ticks\":\"\"},\"colorscale\":[[0.0,\"#0d0887\"],[0.1111111111111111,\"#46039f\"],[0.2222222222222222,\"#7201a8\"],[0.3333333333333333,\"#9c179e\"],[0.4444444444444444,\"#bd3786\"],[0.5555555555555556,\"#d8576b\"],[0.6666666666666666,\"#ed7953\"],[0.7777777777777778,\"#fb9f3a\"],[0.8888888888888888,\"#fdca26\"],[1.0,\"#f0f921\"]],\"type\":\"heatmap\"}],\"heatmapgl\":[{\"colorbar\":{\"outlinewidth\":0,\"ticks\":\"\"},\"colorscale\":[[0.0,\"#0d0887\"],[0.1111111111111111,\"#46039f\"],[0.2222222222222222,\"#7201a8\"],[0.3333333333333333,\"#9c179e\"],[0.4444444444444444,\"#bd3786\"],[0.5555555555555556,\"#d8576b\"],[0.6666666666666666,\"#ed7953\"],[0.7777777777777778,\"#fb9f3a\"],[0.8888888888888888,\"#fdca26\"],[1.0,\"#f0f921\"]],\"type\":\"heatmapgl\"}],\"histogram\":[{\"marker\":{\"pattern\":{\"fillmode\":\"overlay\",\"size\":10,\"solidity\":0.2}},\"type\":\"histogram\"}],\"histogram2d\":[{\"colorbar\":{\"outlinewidth\":0,\"ticks\":\"\"},\"colorscale\":[[0.0,\"#0d0887\"],[0.1111111111111111,\"#46039f\"],[0.2222222222222222,\"#7201a8\"],[0.3333333333333333,\"#9c179e\"],[0.4444444444444444,\"#bd3786\"],[0.5555555555555556,\"#d8576b\"],[0.6666666666666666,\"#ed7953\"],[0.7777777777777778,\"#fb9f3a\"],[0.8888888888888888,\"#fdca26\"],[1.0,\"#f0f921\"]],\"type\":\"histogram2d\"}],\"histogram2dcontour\":[{\"colorbar\":{\"outlinewidth\":0,\"ticks\":\"\"},\"colorscale\":[[0.0,\"#0d0887\"],[0.1111111111111111,\"#46039f\"],[0.2222222222222222,\"#7201a8\"],[0.3333333333333333,\"#9c179e\"],[0.4444444444444444,\"#bd3786\"],[0.5555555555555556,\"#d8576b\"],[0.6666666666666666,\"#ed7953\"],[0.7777777777777778,\"#fb9f3a\"],[0.8888888888888888,\"#fdca26\"],[1.0,\"#f0f921\"]],\"type\":\"histogram2dcontour\"}],\"mesh3d\":[{\"colorbar\":{\"outlinewidth\":0,\"ticks\":\"\"},\"type\":\"mesh3d\"}],\"parcoords\":[{\"line\":{\"colorbar\":{\"outlinewidth\":0,\"ticks\":\"\"}},\"type\":\"parcoords\"}],\"pie\":[{\"automargin\":true,\"type\":\"pie\"}],\"scatter\":[{\"marker\":{\"colorbar\":{\"outlinewidth\":0,\"ticks\":\"\"}},\"type\":\"scatter\"}],\"scatter3d\":[{\"line\":{\"colorbar\":{\"outlinewidth\":0,\"ticks\":\"\"}},\"marker\":{\"colorbar\":{\"outlinewidth\":0,\"ticks\":\"\"}},\"type\":\"scatter3d\"}],\"scattercarpet\":[{\"marker\":{\"colorbar\":{\"outlinewidth\":0,\"ticks\":\"\"}},\"type\":\"scattercarpet\"}],\"scattergeo\":[{\"marker\":{\"colorbar\":{\"outlinewidth\":0,\"ticks\":\"\"}},\"type\":\"scattergeo\"}],\"scattergl\":[{\"marker\":{\"colorbar\":{\"outlinewidth\":0,\"ticks\":\"\"}},\"type\":\"scattergl\"}],\"scattermapbox\":[{\"marker\":{\"colorbar\":{\"outlinewidth\":0,\"ticks\":\"\"}},\"type\":\"scattermapbox\"}],\"scatterpolar\":[{\"marker\":{\"colorbar\":{\"outlinewidth\":0,\"ticks\":\"\"}},\"type\":\"scatterpolar\"}],\"scatterpolargl\":[{\"marker\":{\"colorbar\":{\"outlinewidth\":0,\"ticks\":\"\"}},\"type\":\"scatterpolargl\"}],\"scatterternary\":[{\"marker\":{\"colorbar\":{\"outlinewidth\":0,\"ticks\":\"\"}},\"type\":\"scatterternary\"}],\"surface\":[{\"colorbar\":{\"outlinewidth\":0,\"ticks\":\"\"},\"colorscale\":[[0.0,\"#0d0887\"],[0.1111111111111111,\"#46039f\"],[0.2222222222222222,\"#7201a8\"],[0.3333333333333333,\"#9c179e\"],[0.4444444444444444,\"#bd3786\"],[0.5555555555555556,\"#d8576b\"],[0.6666666666666666,\"#ed7953\"],[0.7777777777777778,\"#fb9f3a\"],[0.8888888888888888,\"#fdca26\"],[1.0,\"#f0f921\"]],\"type\":\"surface\"}],\"table\":[{\"cells\":{\"fill\":{\"color\":\"#EBF0F8\"},\"line\":{\"color\":\"white\"}},\"header\":{\"fill\":{\"color\":\"#C8D4E3\"},\"line\":{\"color\":\"white\"}},\"type\":\"table\"}]},\"layout\":{\"annotationdefaults\":{\"arrowcolor\":\"#2a3f5f\",\"arrowhead\":0,\"arrowwidth\":1},\"autotypenumbers\":\"strict\",\"coloraxis\":{\"colorbar\":{\"outlinewidth\":0,\"ticks\":\"\"}},\"colorscale\":{\"diverging\":[[0,\"#8e0152\"],[0.1,\"#c51b7d\"],[0.2,\"#de77ae\"],[0.3,\"#f1b6da\"],[0.4,\"#fde0ef\"],[0.5,\"#f7f7f7\"],[0.6,\"#e6f5d0\"],[0.7,\"#b8e186\"],[0.8,\"#7fbc41\"],[0.9,\"#4d9221\"],[1,\"#276419\"]],\"sequential\":[[0.0,\"#0d0887\"],[0.1111111111111111,\"#46039f\"],[0.2222222222222222,\"#7201a8\"],[0.3333333333333333,\"#9c179e\"],[0.4444444444444444,\"#bd3786\"],[0.5555555555555556,\"#d8576b\"],[0.6666666666666666,\"#ed7953\"],[0.7777777777777778,\"#fb9f3a\"],[0.8888888888888888,\"#fdca26\"],[1.0,\"#f0f921\"]],\"sequentialminus\":[[0.0,\"#0d0887\"],[0.1111111111111111,\"#46039f\"],[0.2222222222222222,\"#7201a8\"],[0.3333333333333333,\"#9c179e\"],[0.4444444444444444,\"#bd3786\"],[0.5555555555555556,\"#d8576b\"],[0.6666666666666666,\"#ed7953\"],[0.7777777777777778,\"#fb9f3a\"],[0.8888888888888888,\"#fdca26\"],[1.0,\"#f0f921\"]]},\"colorway\":[\"#636efa\",\"#EF553B\",\"#00cc96\",\"#ab63fa\",\"#FFA15A\",\"#19d3f3\",\"#FF6692\",\"#B6E880\",\"#FF97FF\",\"#FECB52\"],\"font\":{\"color\":\"#2a3f5f\"},\"geo\":{\"bgcolor\":\"white\",\"lakecolor\":\"white\",\"landcolor\":\"#E5ECF6\",\"showlakes\":true,\"showland\":true,\"subunitcolor\":\"white\"},\"hoverlabel\":{\"align\":\"left\"},\"hovermode\":\"closest\",\"mapbox\":{\"style\":\"light\"},\"paper_bgcolor\":\"white\",\"plot_bgcolor\":\"#E5ECF6\",\"polar\":{\"angularaxis\":{\"gridcolor\":\"white\",\"linecolor\":\"white\",\"ticks\":\"\"},\"bgcolor\":\"#E5ECF6\",\"radialaxis\":{\"gridcolor\":\"white\",\"linecolor\":\"white\",\"ticks\":\"\"}},\"scene\":{\"xaxis\":{\"backgroundcolor\":\"#E5ECF6\",\"gridcolor\":\"white\",\"gridwidth\":2,\"linecolor\":\"white\",\"showbackground\":true,\"ticks\":\"\",\"zerolinecolor\":\"white\"},\"yaxis\":{\"backgroundcolor\":\"#E5ECF6\",\"gridcolor\":\"white\",\"gridwidth\":2,\"linecolor\":\"white\",\"showbackground\":true,\"ticks\":\"\",\"zerolinecolor\":\"white\"},\"zaxis\":{\"backgroundcolor\":\"#E5ECF6\",\"gridcolor\":\"white\",\"gridwidth\":2,\"linecolor\":\"white\",\"showbackground\":true,\"ticks\":\"\",\"zerolinecolor\":\"white\"}},\"shapedefaults\":{\"line\":{\"color\":\"#2a3f5f\"}},\"ternary\":{\"aaxis\":{\"gridcolor\":\"white\",\"linecolor\":\"white\",\"ticks\":\"\"},\"baxis\":{\"gridcolor\":\"white\",\"linecolor\":\"white\",\"ticks\":\"\"},\"bgcolor\":\"#E5ECF6\",\"caxis\":{\"gridcolor\":\"white\",\"linecolor\":\"white\",\"ticks\":\"\"}},\"title\":{\"x\":0.05},\"xaxis\":{\"automargin\":true,\"gridcolor\":\"white\",\"linecolor\":\"white\",\"ticks\":\"\",\"title\":{\"standoff\":15},\"zerolinecolor\":\"white\",\"zerolinewidth\":2},\"yaxis\":{\"automargin\":true,\"gridcolor\":\"white\",\"linecolor\":\"white\",\"ticks\":\"\",\"title\":{\"standoff\":15},\"zerolinecolor\":\"white\",\"zerolinewidth\":2}}},\"xaxis\":{\"anchor\":\"y\",\"domain\":[0.0,1.0],\"title\":{\"text\":\"x\"}},\"yaxis\":{\"anchor\":\"x\",\"domain\":[0.0,1.0],\"title\":{\"text\":\"y\"}}},                        {\"responsive\": true}                    ).then(function(){\n",
       "                            \n",
       "var gd = document.getElementById('96c994db-77cc-45e3-8a83-f97e05b9eed0');\n",
       "var x = new MutationObserver(function (mutations, observer) {{\n",
       "        var display = window.getComputedStyle(gd).display;\n",
       "        if (!display || display === 'none') {{\n",
       "            console.log([gd, 'removed!']);\n",
       "            Plotly.purge(gd);\n",
       "            observer.disconnect();\n",
       "        }}\n",
       "}});\n",
       "\n",
       "// Listen for the removal of the full notebook cells\n",
       "var notebookContainer = gd.closest('#notebook-container');\n",
       "if (notebookContainer) {{\n",
       "    x.observe(notebookContainer, {childList: true});\n",
       "}}\n",
       "\n",
       "// Listen for the clearing of the current output cell\n",
       "var outputEl = gd.closest('.output');\n",
       "if (outputEl) {{\n",
       "    x.observe(outputEl, {childList: true});\n",
       "}}\n",
       "\n",
       "                        })                };                });            </script>        </div>"
      ]
     },
     "metadata": {},
     "output_type": "display_data"
    }
   ],
   "source": [
    "fig = px.scatter(x = codificado_2dim[:, 0], \n",
    "                 y = codificado_2dim[:, 1], \n",
    "                 color = y)\n",
    "fig.show()"
   ]
  },
  {
   "cell_type": "code",
   "execution_count": null,
   "metadata": {},
   "outputs": [],
   "source": []
  },
  {
   "cell_type": "code",
   "execution_count": null,
   "metadata": {},
   "outputs": [],
   "source": []
  }
 ],
 "metadata": {
  "kernelspec": {
   "display_name": "Python 3 (ipykernel)",
   "language": "python",
   "name": "python3"
  },
  "language_info": {
   "codemirror_mode": {
    "name": "ipython",
    "version": 3
   },
   "file_extension": ".py",
   "mimetype": "text/x-python",
   "name": "python",
   "nbconvert_exporter": "python",
   "pygments_lexer": "ipython3",
   "version": "3.7.7"
  }
 },
 "nbformat": 4,
 "nbformat_minor": 4
}
