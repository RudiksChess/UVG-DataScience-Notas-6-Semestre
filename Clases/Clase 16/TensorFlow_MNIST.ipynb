{
  "nbformat": 4,
  "nbformat_minor": 0,
  "metadata": {
    "kernelspec": {
      "display_name": "Python 3",
      "language": "python",
      "name": "python3"
    },
    "language_info": {
      "codemirror_mode": {
        "name": "ipython",
        "version": 3
      },
      "file_extension": ".py",
      "mimetype": "text/x-python",
      "name": "python",
      "nbconvert_exporter": "python",
      "pygments_lexer": "ipython3",
      "version": "3.7.11"
    },
    "colab": {
      "name": "TensorFlow_MNIST.ipynb",
      "provenance": [],
      "include_colab_link": true
    }
  },
  "cells": [
    {
      "cell_type": "markdown",
      "metadata": {
        "id": "view-in-github",
        "colab_type": "text"
      },
      "source": [
        "<a href=\"https://colab.research.google.com/github/RudiksChess/UVG-DataScience-Notas-6-Semestre/blob/main/Clases/Clase%2016/TensorFlow_MNIST.ipynb\" target=\"_parent\"><img src=\"https://colab.research.google.com/assets/colab-badge.svg\" alt=\"Open In Colab\"/></a>"
      ]
    },
    {
      "cell_type": "markdown",
      "metadata": {
        "id": "c37gUlM4vxhE"
      },
      "source": [
        "# Red Neuronal Profunda (DNN) para clasificación MNIST\n",
        "\n",
        "Aplicaremos todos nuestros conocimientos para crear una DNN.  El problema que vamos a trabajar se conoce como el \"Hola Mundo\" del aprtendizaje profundo porque para la mayoría de estudiantes este es el primer algoritmo de aprendizaje profundo que ven. \n",
        "\n",
        "El conjunto de datos se llama MNIST y se refiere al reconocimiento de dígitos escritos a mano.  Pueden encontrar más información en el sitio web de Yann LeCun (Director of AI Research, Facebook).  El es uno de los pioneros de todo este tema, así como de otras metodologías más complejas como las Redes Neurales Convolucionales (CNN) que se utilizan hoy día-\n",
        "\n",
        "El conjunto de datos tiene 70,000 imágenes (28x28 pixels) de dígitos escritos a mano (1 dígito por imagen).\n",
        "\n",
        "La meta es escribir un algoritmo que detecta qué dígito ha sido escrito.  Como solo hay 10 dígitos (0 al 9), este es un problema de clasificación con 10 clases.\n",
        "\n",
        "Nuestra meta será construir una RN con 2 capas escondidas."
      ]
    },
    {
      "cell_type": "markdown",
      "metadata": {
        "id": "mghiNqotvxhG"
      },
      "source": [
        "## Importar los paquetes relevantes\n",
        "\n",
        "TensorFlow incluye un proveedor de datos de MNIST que utilizaremos acá.  Viene con el módulo **\"tensorflow-datasets\"** por lo que si no lo ha instalado aún, debe hacerlo:\n",
        "\n",
        "pip install tensorflow-datasets\n",
        "\n",
        "ó\n",
        "\n",
        "conda install tensorflow-datasets\n",
        "\n",
        "Estos conjuntos de datos se almacenarán en su directorio C:\\Users\\usuario\\tensorflow_datasets|...\n",
        "\n",
        "La prrimera vez que baje un conjunto de datosm se almacenará en la carpeta respectiva.  Cada vez subsiguiente, automáticamente cargará la copia en su computadora"
      ]
    },
    {
      "cell_type": "code",
      "metadata": {
        "id": "-FZUjYDRvxhH"
      },
      "source": [
        "import numpy as np\n",
        "import tensorflow as tf\n",
        "import tensorflow_datasets as tfds"
      ],
      "execution_count": 1,
      "outputs": []
    },
    {
      "cell_type": "markdown",
      "metadata": {
        "id": "PlS6B7LevxhI"
      },
      "source": [
        "## Datos\n",
        "\n",
        "Es donde pre-procesamos nuestros datos.\n",
        "\n",
        "**tfd.load** carga un conjunto de datos (o si es la primera vez, los baja y luego los carga).  En este caso estamos interesados en el conjunto de datos MNIST.  El único argumento obligatorio es el nombre del conjunto de datos.  Hay otros que pueden ser útiles, por ejemplo:\n",
        "\n",
        "**with_info = True** nos provee con una tupla que contiene información sobre la versión, features, número de observaciones (muestras)\n",
        "\n",
        "**as_supervised = True** cargará el conjunto de datos en una estructura de 2 tuplas (entrada, meta).  Si se usa **False**, retorna un diccionario, obviamente preferimos tener de una vez nuestra entrada y meta separados."
      ]
    },
    {
      "cell_type": "code",
      "metadata": {
        "id": "EzVjny_-vxhI"
      },
      "source": [
        "datos_mnist, info_mnist = tfds.load(name='mnist',\n",
        "                                    shuffle_files = False,\n",
        "                                    with_info=True, \n",
        "                                    as_supervised=True)"
      ],
      "execution_count": 2,
      "outputs": []
    },
    {
      "cell_type": "markdown",
      "metadata": {
        "id": "9P5UQc5EvxhJ"
      },
      "source": [
        "Una vez se ha cargado el conjunto de datos, se pueden, fácilmente, extraer los conjuntos de entrenamiento y prueba."
      ]
    },
    {
      "cell_type": "code",
      "metadata": {
        "id": "hH4CVpVQvxhJ"
      },
      "source": [
        "entreno_mnist, prueba_mnist = datos_mnist['train'], datos_mnist['test']"
      ],
      "execution_count": 3,
      "outputs": []
    },
    {
      "cell_type": "markdown",
      "metadata": {
        "id": "CI_rm4Q1vxhK"
      },
      "source": [
        "Por default, TF2 tiene conjuntos de datos de entrenamiento y de prueba, pero no tiene un conjunto de validación, por lo que debemos dividirlo por nuestra cuenta\n",
        "\n",
        "Empezamos por definir el número de muestras de validación, como un porcentaje de las muestras de entrenamiento.  Aqui es donde también usamos **mnist_info** (no tenemos que contar las observaciones)"
      ]
    },
    {
      "cell_type": "code",
      "metadata": {
        "id": "kPuBABdIvxhK"
      },
      "source": [
        "num_obs_validacion = 0.02 * info_mnist.splits['train'].num_examples"
      ],
      "execution_count": 4,
      "outputs": []
    },
    {
      "cell_type": "markdown",
      "metadata": {
        "id": "wPqL_4WEvxhL"
      },
      "source": [
        "Difundimos (convertimos) este número a entero ya que un float puede causar problemas en el camino"
      ]
    },
    {
      "cell_type": "code",
      "metadata": {
        "id": "kgRNkq4SvxhL"
      },
      "source": [
        "num_obs_validacion = tf.cast(num_obs_validacion, tf.int64)"
      ],
      "execution_count": 5,
      "outputs": []
    },
    {
      "cell_type": "markdown",
      "metadata": {
        "id": "vG1vEetivxhL"
      },
      "source": [
        "Usaremos una variable dedicada para el número de muestras de prueba"
      ]
    },
    {
      "cell_type": "code",
      "metadata": {
        "id": "m0EGKAcQvxhM"
      },
      "source": [
        "num_obs_prueba = info_mnist.splits['test'].num_examples"
      ],
      "execution_count": 6,
      "outputs": []
    },
    {
      "cell_type": "code",
      "metadata": {
        "id": "MCfl9t5EvxhM"
      },
      "source": [
        "num_obs_prueba = tf.cast(num_obs_prueba, tf.int64)"
      ],
      "execution_count": 7,
      "outputs": []
    },
    {
      "cell_type": "markdown",
      "metadata": {
        "id": "iOmiEn16vxhM"
      },
      "source": [
        "Normalmente preferimos \"escalar\" nuestros datos en alguna forma para que el resultado sea numéricamente más estable.  En este caso simplemente preferimos tener entradas entre 0 y 1, por lo que definimos una función, que reciba la imagen MNIST y su etiqueta, para hacerlo.\n",
        "\n",
        "Como los posibles valores de las entradas son entre 0 y 255 (256 posibles tonos de gris), al dividirlos por 255 obtenemos el resultado deseado."
      ]
    },
    {
      "cell_type": "code",
      "metadata": {
        "id": "d-uKLeIYvxhN"
      },
      "source": [
        "def escalar(imagen, etiqueta):\n",
        "    imagen = tf.cast(imagen, tf.float32)\n",
        "    imagen /= 255.\n",
        "    return imagen, etiqueta"
      ],
      "execution_count": 8,
      "outputs": []
    },
    {
      "cell_type": "markdown",
      "metadata": {
        "id": "MLirw9MbvxhN"
      },
      "source": [
        "El método .map() nos permite aplicar una transormación \"customizada\" a un conjunto de datos.  Ya hemos decidido que obtendremos los datos de validación a partir de *mnist_train*"
      ]
    },
    {
      "cell_type": "code",
      "metadata": {
        "tags": [],
        "id": "JbcpY7BTvxhO"
      },
      "source": [
        "datos_entrenamiento_y_validacion_escalados = entreno_mnist.map(escalar)"
      ],
      "execution_count": 9,
      "outputs": []
    },
    {
      "cell_type": "markdown",
      "metadata": {
        "id": "SMaif3BlvxhO"
      },
      "source": [
        "Finalmente, escalaremos y convertiremos los datos de pruebas en tandas.  Los escalamos para que tengan la misma magnitud que los datos de entrenamiento y validación.\n",
        "\n",
        "No hay necesidad de \"barajearlo\" ya que no estaremos entrenando con los datos de prueba.  Habra una sola tanda, igual al tamaño de los datos de prueba."
      ]
    },
    {
      "cell_type": "code",
      "metadata": {
        "id": "K0wxy-7jvxhO"
      },
      "source": [
        "datos_prueba = prueba_mnist.map(escalar)"
      ],
      "execution_count": 10,
      "outputs": []
    },
    {
      "cell_type": "markdown",
      "metadata": {
        "id": "7O-9lgTlvxhP"
      },
      "source": [
        "Si \"barajearemos\" los datos de entrenamiento y validación.\n",
        "\n",
        "El parámetro **TAMANIO_BUFFER** se utiliza para casos que tengan conjuntos de datos grandes.  En este caso no es posible \"barajear\" el conjunto completo de un solo porque no cabe en la memoria.  En vez, TF2 solo almacena los datos en memoria **TAMANIO_BUFFERE** muestras a la vez, y los \"barajea\".\n",
        "\n",
        "si TAMANIO_BUFFER = 1 => no hay \"barajeo\"\n",
        "si TAMANIO_BUFFER >= número de muestras => el \"barajeo\" se hace uniformemente\n",
        "\n",
        "para un TAMANIO_BUFFER intermedio - se hace una otimización computacional para aproximar un \"barajeo\" uniforme.\n",
        "\n",
        "Afortunadamente, hay un método de \"barajeo\" disponible y solo necesitamos especificar el tamaño del buffer."
      ]
    },
    {
      "cell_type": "code",
      "metadata": {
        "id": "U1b6zxxZvxhP"
      },
      "source": [
        "TAMANIO_BUFFER = 10000"
      ],
      "execution_count": 11,
      "outputs": []
    },
    {
      "cell_type": "code",
      "metadata": {
        "id": "Zs66THfCvxhP"
      },
      "source": [
        "datos_entrenamiento_y_validacion_barajeados = datos_entrenamiento_y_validacion_escalados.shuffle(TAMANIO_BUFFER)"
      ],
      "execution_count": 12,
      "outputs": []
    },
    {
      "cell_type": "markdown",
      "metadata": {
        "id": "05VNjhPqvxhQ"
      },
      "source": [
        "Una vez se han \"escalado\" y \"barajeado\" los datos, podemos proceder a extraer los datos de entrenamiento y de validación.\n",
        "\n",
        "Nuestros datos de validación serán el 10% del conjunto de entrenamiento, que ya se calculó utilizando el método **.take()**.\n",
        "\n",
        "Finalmente, creamos una tanda con un tamaño de tanda igual al total de muestras de validación."
      ]
    },
    {
      "cell_type": "code",
      "metadata": {
        "id": "kwAPOcJ5vxhQ"
      },
      "source": [
        "datos_validacion = datos_entrenamiento_y_validacion_barajeados.take(num_obs_validacion)"
      ],
      "execution_count": 13,
      "outputs": []
    },
    {
      "cell_type": "markdown",
      "metadata": {
        "id": "F6CGElEvvxhQ"
      },
      "source": [
        "Similarmente, los datos de entrenamiento son todos los demás por lo que nos salteamos tantas muestras como las hay en el conjunto de validación."
      ]
    },
    {
      "cell_type": "code",
      "metadata": {
        "id": "hbsWo5w6vxhR"
      },
      "source": [
        "datos_entreno = datos_entrenamiento_y_validacion_barajeados.skip(num_obs_validacion)"
      ],
      "execution_count": 14,
      "outputs": []
    },
    {
      "cell_type": "markdown",
      "metadata": {
        "id": "kzsjo_eMvxhR"
      },
      "source": [
        "Establecemos el tamaño de las tandas.\n",
        "\n",
        "También podemos aprovechar el momento para separar los datos de entrenamiento y de prueba.\n",
        "\n",
        "Estos sería muy útil cuando entrenemos, ya que podemos iterar sobre las diferentes tandas"
      ]
    },
    {
      "cell_type": "code",
      "metadata": {
        "id": "Joqux4pQvxhR"
      },
      "source": [
        "TAMANIO_TANDA = 100\n",
        "\n",
        "datos_entreno = datos_entreno.batch(TAMANIO_TANDA)\n",
        "\n",
        "datos_validacion = datos_validacion.batch(num_obs_validacion)\n",
        "\n",
        "datos_prueba = datos_prueba.batch(num_obs_prueba)"
      ],
      "execution_count": 15,
      "outputs": []
    },
    {
      "cell_type": "markdown",
      "metadata": {
        "id": "0HRN5qj3vxhS"
      },
      "source": [
        "Toma la siguiente tanda (es la única tanda) ya que, como configuramos **as_supervized = True**, obtuvimos una estructura de 2 tuplas "
      ]
    },
    {
      "cell_type": "code",
      "metadata": {
        "id": "S7WvJ4M0vxhS"
      },
      "source": [
        "entradas_validacion, metas_validacion = next(iter(datos_validacion))"
      ],
      "execution_count": 16,
      "outputs": []
    },
    {
      "cell_type": "markdown",
      "metadata": {
        "id": "CkulZtNcvxhS"
      },
      "source": [
        "## Modelo"
      ]
    },
    {
      "cell_type": "markdown",
      "metadata": {
        "id": "rRmAOdgMvxhT"
      },
      "source": [
        "### Delineamos el modelo\n",
        "\n",
        "Cuando pensamos sobre un algoritmo de aprenzaje profundo, casi siempre solo lo imaginamos.  Asi que hagámoslo.  :)"
      ]
    },
    {
      "cell_type": "code",
      "metadata": {
        "tags": [],
        "id": "lymaq598vxhT"
      },
      "source": [
        "tamanio_entrada = 784\n",
        "tamanio_salida = 10"
      ],
      "execution_count": 17,
      "outputs": []
    },
    {
      "cell_type": "markdown",
      "metadata": {
        "id": "N9gerzO0vxhT"
      },
      "source": [
        "Usaremos el mismo ancho para ambas capas escondidas.  No es una necesidad!"
      ]
    },
    {
      "cell_type": "code",
      "metadata": {
        "id": "BsJqPMZvvxhU"
      },
      "source": [
        "tamanio_capa_escondida = 200"
      ],
      "execution_count": 18,
      "outputs": []
    },
    {
      "cell_type": "markdown",
      "metadata": {
        "id": "PwLUF7V-vxhU"
      },
      "source": [
        "# Definimos cómo se verá el modelo\n",
        "\n",
        "La primera capa (la de entrada):  cada observación es de 28x28x1 píxeles, por lo tanto es un tensor de rango 3.\n",
        "\n",
        "Como aún no hemos aprendido sobre CNNs, no sabemos como alimentar este tipo de entrada a nuestro red, por lo tanto hay que \"aplanar\" las imágenes.  Hay un método conveniente **Flatten** que toma nuestro tensor de 28x28x1 a un (None), o (28x28x1) = (784,) vector.  Esto nos permite crear una red de alimentación hacia adelante.\n",
        "\n",
        "    \n",
        "**tf.keras.layers.Dense** básicamente implementa:  output = activation(dot(input, weight) + bias).  Requiere varios argumentos, pero los más importantes para nosotros son el ancho de la capa escondida y la función de activación.\n",
        "\n",
        "La capa final no es diferente, solo nos aseguramos de activarla con **softmax**\n"
      ]
    },
    {
      "cell_type": "code",
      "metadata": {
        "id": "mbkZWwtOvxhU",
        "outputId": "d96df003-ba3a-414d-e66f-950e0dc826c3",
        "colab": {
          "base_uri": "https://localhost:8080/",
          "height": 54
        }
      },
      "source": [
        "modelo = tf.keras.Sequential([\n",
        "\n",
        "    tf.keras.layers.Flatten(input_shape=(28, 28, 1)), # capa entrada\n",
        "    \n",
        "    tf.keras.layers.Dense(tamanio_capa_escondida, activation='relu'), # 1era capa escondida\n",
        "    tf.keras.layers.Dense(tamanio_capa_escondida, activation='tanh'), # 2nda capa escondida\n",
        "    \n",
        "\n",
        "    tf.keras.layers.Dense(tamanio_salida, activation='softmax') # capa salida\n",
        "])\n",
        "\n",
        "\"\"\"\n",
        "tf.keras.layers.Dense(tamanio_capa_escondida, activation='relu'), # 3era capa escondida\n",
        "    tf.keras.layers.Dense(tamanio_capa_escondida, activation='relu'), # 4ta capa escondida\n",
        "    tf.keras.layers.Dense(tamanio_capa_escondida, activation='relu'), # 5ta capa escondida \"\"\""
      ],
      "execution_count": 19,
      "outputs": [
        {
          "output_type": "execute_result",
          "data": {
            "application/vnd.google.colaboratory.intrinsic+json": {
              "type": "string"
            },
            "text/plain": [
              "\"\\ntf.keras.layers.Dense(tamanio_capa_escondida, activation='relu'), # 3era capa escondida\\n    tf.keras.layers.Dense(tamanio_capa_escondida, activation='relu'), # 4ta capa escondida\\n    tf.keras.layers.Dense(tamanio_capa_escondida, activation='relu'), # 5ta capa escondida \""
            ]
          },
          "metadata": {},
          "execution_count": 19
        }
      ]
    },
    {
      "cell_type": "markdown",
      "metadata": {
        "id": "-bpMp4nQvxhV"
      },
      "source": [
        "### Seleccionar el optimizador y la función de pérdida"
      ]
    },
    {
      "cell_type": "markdown",
      "metadata": {
        "id": "zGKcv-T7vxhV"
      },
      "source": [
        "Definimos el optimizador que nos gustaría utilizar, la función de pérdida, y las métricas que nos interesa obtener en cada interacción"
      ]
    },
    {
      "cell_type": "code",
      "metadata": {
        "id": "MI9mVcB1vxhV"
      },
      "source": [
        "modelo.compile(optimizer='adam', loss='sparse_categorical_crossentropy', metrics=['accuracy'])"
      ],
      "execution_count": 20,
      "outputs": []
    },
    {
      "cell_type": "markdown",
      "metadata": {
        "id": "o72wphElvxhW"
      },
      "source": [
        "### Entrenamiento\n",
        "\n",
        "Acá es donde entrenamos el modelo que hemos construído\n",
        "\n",
        "Determinamos el número máximo de épocas.\n",
        "\n",
        "Ajustamos el modelo , especificando:\n",
        "\n",
        "* los datos de entrenamiento\n",
        "* el número total de épocas\n",
        "* y los datos de validación que creamos en el formato (entradas, metas)"
      ]
    },
    {
      "cell_type": "code",
      "metadata": {
        "id": "pUDOzqETUs5m"
      },
      "source": [
        "import time"
      ],
      "execution_count": 21,
      "outputs": []
    },
    {
      "cell_type": "code",
      "metadata": {
        "id": "CFvj1LmgUwQQ"
      },
      "source": [
        "start = time.time()"
      ],
      "execution_count": 22,
      "outputs": []
    },
    {
      "cell_type": "code",
      "metadata": {
        "id": "Nrrd3kFfvxhW",
        "colab": {
          "base_uri": "https://localhost:8080/"
        },
        "outputId": "14b91841-5ece-431b-ef7d-3e96b6eee773"
      },
      "source": [
        "NUMERO_EPOCAS = 5\n",
        "\n",
        "modelo.fit(datos_entreno, \n",
        "          epochs = NUMERO_EPOCAS, \n",
        "          validation_data = (entradas_validacion, metas_validacion),\n",
        "          validation_steps = 10,\n",
        "          verbose = 2)"
      ],
      "execution_count": 23,
      "outputs": [
        {
          "output_type": "stream",
          "name": "stdout",
          "text": [
            "Epoch 1/5\n",
            "588/588 - 9s - loss: 0.2468 - accuracy: 0.9277 - val_loss: 0.1047 - val_accuracy: 0.9717\n",
            "Epoch 2/5\n",
            "588/588 - 5s - loss: 0.0926 - accuracy: 0.9719 - val_loss: 0.0637 - val_accuracy: 0.9808\n",
            "Epoch 3/5\n",
            "588/588 - 5s - loss: 0.0628 - accuracy: 0.9805 - val_loss: 0.0402 - val_accuracy: 0.9875\n",
            "Epoch 4/5\n",
            "588/588 - 5s - loss: 0.0447 - accuracy: 0.9865 - val_loss: 0.0232 - val_accuracy: 0.9950\n",
            "Epoch 5/5\n",
            "588/588 - 5s - loss: 0.0338 - accuracy: 0.9890 - val_loss: 0.0220 - val_accuracy: 0.9933\n"
          ]
        },
        {
          "output_type": "execute_result",
          "data": {
            "text/plain": [
              "<keras.callbacks.History at 0x7fc7806df210>"
            ]
          },
          "metadata": {},
          "execution_count": 23
        }
      ]
    },
    {
      "cell_type": "code",
      "metadata": {
        "id": "9EN6OTZgvxhX",
        "colab": {
          "base_uri": "https://localhost:8080/"
        },
        "outputId": "8523c7d4-208b-4c5b-ef00-c59ea7098fbf"
      },
      "source": [
        "end = time.time()\n",
        "print(end - start)"
      ],
      "execution_count": 24,
      "outputs": [
        {
          "output_type": "stream",
          "name": "stdout",
          "text": [
            "31.183070182800293\n"
          ]
        }
      ]
    }
  ]
}