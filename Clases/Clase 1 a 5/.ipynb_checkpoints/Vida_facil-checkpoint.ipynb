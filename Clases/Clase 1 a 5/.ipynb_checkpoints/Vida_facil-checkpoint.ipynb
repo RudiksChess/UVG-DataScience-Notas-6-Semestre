{
 "cells": [
  {
   "cell_type": "markdown",
   "id": "76658bdc",
   "metadata": {},
   "source": [
    "### Importar las librerías a utilizar"
   ]
  },
  {
   "cell_type": "code",
   "execution_count": null,
   "id": "526bf020",
   "metadata": {},
   "outputs": [],
   "source": []
  },
  {
   "cell_type": "code",
   "execution_count": 2,
   "id": "1b63a35b",
   "metadata": {
    "tags": []
   },
   "outputs": [
    {
     "ename": "ModuleNotFoundError",
     "evalue": "No module named 'quickda'",
     "output_type": "error",
     "traceback": [
      "\u001b[0;31m---------------------------------------------------------------------------\u001b[0m",
      "\u001b[0;31mModuleNotFoundError\u001b[0m                       Traceback (most recent call last)",
      "\u001b[0;32m<ipython-input-2-8242be2e5374>\u001b[0m in \u001b[0;36m<module>\u001b[0;34m\u001b[0m\n\u001b[1;32m      5\u001b[0m \u001b[0mget_ipython\u001b[0m\u001b[0;34m(\u001b[0m\u001b[0;34m)\u001b[0m\u001b[0;34m.\u001b[0m\u001b[0mrun_line_magic\u001b[0m\u001b[0;34m(\u001b[0m\u001b[0;34m'matplotlib'\u001b[0m\u001b[0;34m,\u001b[0m \u001b[0;34m'inline'\u001b[0m\u001b[0;34m)\u001b[0m\u001b[0;34m\u001b[0m\u001b[0;34m\u001b[0m\u001b[0m\n\u001b[1;32m      6\u001b[0m \u001b[0;34m\u001b[0m\u001b[0m\n\u001b[0;32m----> 7\u001b[0;31m \u001b[0;32mfrom\u001b[0m \u001b[0mquickda\u001b[0m\u001b[0;34m.\u001b[0m\u001b[0mexplore_data\u001b[0m \u001b[0;32mimport\u001b[0m \u001b[0;34m*\u001b[0m\u001b[0;34m\u001b[0m\u001b[0;34m\u001b[0m\u001b[0m\n\u001b[0m\u001b[1;32m      8\u001b[0m \u001b[0;32mfrom\u001b[0m \u001b[0mquickda\u001b[0m\u001b[0;34m.\u001b[0m\u001b[0mclean_data\u001b[0m \u001b[0;32mimport\u001b[0m \u001b[0;34m*\u001b[0m\u001b[0;34m\u001b[0m\u001b[0;34m\u001b[0m\u001b[0m\n\u001b[1;32m      9\u001b[0m \u001b[0;32mfrom\u001b[0m \u001b[0mquickda\u001b[0m\u001b[0;34m.\u001b[0m\u001b[0mexplore_numeric\u001b[0m \u001b[0;32mimport\u001b[0m \u001b[0;34m*\u001b[0m\u001b[0;34m\u001b[0m\u001b[0;34m\u001b[0m\u001b[0m\n",
      "\u001b[0;31mModuleNotFoundError\u001b[0m: No module named 'quickda'"
     ]
    }
   ],
   "source": [
    "import pandas as pd\n",
    "from pandas_profiling import ProfileReport\n",
    "import matplotlib.pyplot as plt\n",
    "import seaborn as sns\n",
    "%matplotlib inline\n",
    "\n",
    "from quickda.explore_data import *\n",
    "from quickda.clean_data import *\n",
    "from quickda.explore_numeric import *\n",
    "from quickda.explore_categoric import *\n",
    "from quickda.explore_numeric_categoric import *\n",
    "from quickda.explore_time_series import *"
   ]
  },
  {
   "cell_type": "markdown",
   "id": "8a6fc844",
   "metadata": {},
   "source": [
    "### Leer archivo de datos"
   ]
  },
  {
   "cell_type": "code",
   "execution_count": null,
   "id": "f93ab332",
   "metadata": {},
   "outputs": [],
   "source": [
    "datos = pd.read_csv(\"titanic3.csv\")"
   ]
  },
  {
   "cell_type": "code",
   "execution_count": null,
   "id": "c116dd2b",
   "metadata": {},
   "outputs": [],
   "source": [
    "datos.head()"
   ]
  },
  {
   "cell_type": "code",
   "execution_count": null,
   "id": "a235c38f-132b-4b3b-b7fa-55454871dfde",
   "metadata": {},
   "outputs": [],
   "source": [
    "datos.info()"
   ]
  },
  {
   "cell_type": "code",
   "execution_count": null,
   "id": "c5c10d2f",
   "metadata": {},
   "outputs": [],
   "source": [
    "datos.shape"
   ]
  },
  {
   "cell_type": "markdown",
   "id": "37c59742",
   "metadata": {},
   "source": [
    "## Ejemplos de uso de Seaborn para explorar los datos"
   ]
  },
  {
   "cell_type": "code",
   "execution_count": null,
   "id": "45e60a93",
   "metadata": {},
   "outputs": [],
   "source": [
    "sns.displot(datos['pclass'], kde = True)"
   ]
  },
  {
   "cell_type": "code",
   "execution_count": null,
   "id": "2624b559",
   "metadata": {},
   "outputs": [],
   "source": [
    "sns.countplot(x = 'sex', data = datos)"
   ]
  },
  {
   "cell_type": "markdown",
   "id": "05eb9852",
   "metadata": {},
   "source": [
    "### Pura Magia"
   ]
  },
  {
   "cell_type": "code",
   "execution_count": null,
   "id": "a582339e",
   "metadata": {
    "scrolled": true
   },
   "outputs": [],
   "source": [
    "profile = ProfileReport(datos)\n",
    "profile"
   ]
  },
  {
   "cell_type": "markdown",
   "id": "1c9bced2",
   "metadata": {},
   "source": [
    "Toda la información que nos da este reporte, la podemos obtener directamente con instrucciones de Pandas...obviamente, es mucho más simple dar una sola instrucción.\n",
    "\n",
    "### Conocemos los datos y ahora qué hacer para prepararlos (limpiarlos)?\n",
    "\n",
    "Pandas tiene todas las instrucciones para:\n",
    "1.  estandarizar los nombres de las variables\n",
    "2.  eliminar datos faltantes\n",
    "3.  eliminar registros duplicados\n",
    "4.  crear nuevas variables\n",
    "5.  etc.\n",
    "\n",
    "Sin embargo, si somos amantes de la ley del menor esfuerzo, hay otro paquete que nos facilita muchas cosas:\n",
    "\n",
    "### QuickDA!\n",
    "\n",
    "Demos un vistazo rápido a los datos:"
   ]
  },
  {
   "cell_type": "code",
   "execution_count": null,
   "id": "86cce9bb-6408-4e02-87e4-436285b309a3",
   "metadata": {},
   "outputs": [],
   "source": [
    "explore(datos, method=\"summarize\")   # method es opcional, de hecho el default es \"summarize\""
   ]
  },
  {
   "cell_type": "markdown",
   "id": "dfa912b6-0926-42c4-9a55-7cf572267bb4",
   "metadata": {},
   "source": [
    "###  Eliminar columnas"
   ]
  },
  {
   "cell_type": "code",
   "execution_count": null,
   "id": "17d401ca-25fe-415d-a127-6d4bbbae90f1",
   "metadata": {},
   "outputs": [],
   "source": [
    "columnas_a_eliminar = ['body']\n",
    "datos = clean(datos, method = 'dropcols', columns = columnas_a_eliminar)"
   ]
  },
  {
   "cell_type": "markdown",
   "id": "b24ef2b6-46c7-4c8e-877e-2177e0162702",
   "metadata": {},
   "source": [
    "### Cambiar el tipo de algunos datos"
   ]
  },
  {
   "cell_type": "code",
   "execution_count": null,
   "id": "65ca7586-012d-4ac3-bc32-5961a8f3a9ce",
   "metadata": {},
   "outputs": [],
   "source": [
    "#to_datetime = []\n",
    "#to_numeric = []\n",
    "to_categoric = [\"name\", \"sex\", \"survived\",\n",
    "                \"ticket\", \"boat\", \"cabin\",\n",
    "                \"embarked\", \"home.dest\", \"pclass\"]"
   ]
  },
  {
   "cell_type": "code",
   "execution_count": null,
   "id": "505caca2-7ab7-4fd0-922e-91e265ea4a45",
   "metadata": {},
   "outputs": [],
   "source": [
    "#datos = clean(datos, method = 'dtypes', columns = to_datetime,             \n",
    "#            dtype='datetime')\n",
    "#datos = clean(datos, method = 'dtypes', columns = to_numeric,             \n",
    "#            dtype='numeric')\n",
    "datos = clean(datos, method = 'dtypes', columns = to_categoric, \n",
    "              dtype='category')"
   ]
  },
  {
   "cell_type": "markdown",
   "id": "fb48de7a-3fe1-48de-bdd6-ac7188a3ae49",
   "metadata": {},
   "source": [
    "### Vistazo rápido a los datos "
   ]
  },
  {
   "cell_type": "code",
   "execution_count": null,
   "id": "919990a0",
   "metadata": {},
   "outputs": [],
   "source": [
    "explore(datos, method=\"summarize\")   # method es opcional, de hecho el default es \"summarize\""
   ]
  },
  {
   "cell_type": "markdown",
   "id": "4a3c6c1c",
   "metadata": {},
   "source": [
    "Esta instrucción nos da la misma información que los métodos .info() y .describe()"
   ]
  },
  {
   "cell_type": "markdown",
   "id": "da0b0bde",
   "metadata": {},
   "source": [
    "### Estandarizar los nombres de las columnas:"
   ]
  },
  {
   "cell_type": "code",
   "execution_count": null,
   "id": "c310accc",
   "metadata": {},
   "outputs": [],
   "source": [
    "datos = clean(datos, method = \"standardize\")"
   ]
  },
  {
   "cell_type": "markdown",
   "id": "9d2c971c",
   "metadata": {},
   "source": [
    "### Eliminar filas duplicadas"
   ]
  },
  {
   "cell_type": "code",
   "execution_count": 3,
   "id": "df511900",
   "metadata": {},
   "outputs": [
    {
     "ename": "NameError",
     "evalue": "name 'clean' is not defined",
     "output_type": "error",
     "traceback": [
      "\u001b[0;31m---------------------------------------------------------------------------\u001b[0m",
      "\u001b[0;31mNameError\u001b[0m                                 Traceback (most recent call last)",
      "\u001b[0;32m<ipython-input-3-7e5f7db291a8>\u001b[0m in \u001b[0;36m<module>\u001b[0;34m\u001b[0m\n\u001b[0;32m----> 1\u001b[0;31m \u001b[0mdatos\u001b[0m \u001b[0;34m=\u001b[0m \u001b[0mclean\u001b[0m\u001b[0;34m(\u001b[0m\u001b[0mdatos\u001b[0m\u001b[0;34m,\u001b[0m \u001b[0mmethod\u001b[0m \u001b[0;34m=\u001b[0m \u001b[0;34m\"duplicates\"\u001b[0m\u001b[0;34m)\u001b[0m\u001b[0;34m\u001b[0m\u001b[0;34m\u001b[0m\u001b[0m\n\u001b[0m",
      "\u001b[0;31mNameError\u001b[0m: name 'clean' is not defined"
     ]
    }
   ],
   "source": [
    "datos = clean(datos, method = \"duplicates\")"
   ]
  },
  {
   "cell_type": "markdown",
   "id": "d696e494",
   "metadata": {},
   "source": [
    "### Ojo!  la función clean() devuelve un dataframe nuevo, **NO** cambia el original"
   ]
  },
  {
   "cell_type": "markdown",
   "id": "5cc5e01f",
   "metadata": {},
   "source": [
    "### Reemplazar valores con otro"
   ]
  },
  {
   "cell_type": "code",
   "execution_count": null,
   "id": "828f92de",
   "metadata": {},
   "outputs": [],
   "source": [
    "datos = clean(datos, method = \"replaceval\",       \n",
    "      columns = [],     #  Si no se dan columnas, lo hace en todas\n",
    "      to_replace = \"\",  # Si no se da el valor que debe ser reemplazado, no cambia nada\n",
    "      value = np.nan)   # Si no se da el valor con que se reemplazará, utiliza el valor nulo"
   ]
  },
  {
   "cell_type": "markdown",
   "id": "da085141",
   "metadata": {},
   "source": [
    "### Reemplazar valores faltantes"
   ]
  },
  {
   "cell_type": "code",
   "execution_count": null,
   "id": "a8d5179e",
   "metadata": {
    "tags": []
   },
   "outputs": [],
   "source": [
    "clean(datos, method = \"fillmissing\")  # Utiliza el método de interpolación"
   ]
  },
  {
   "cell_type": "markdown",
   "id": "fba20d8d",
   "metadata": {},
   "source": [
    "### Eliminar filas con valores faltantes"
   ]
  },
  {
   "cell_type": "code",
   "execution_count": null,
   "id": "60f7bf18",
   "metadata": {},
   "outputs": [],
   "source": [
    "clean(datos, method = \"dropmissing\")"
   ]
  },
  {
   "cell_type": "markdown",
   "id": "9d3107dc-4a60-4b6e-acf2-cf4f5f4540ca",
   "metadata": {},
   "source": [
    "### Explorar los datos numéricos"
   ]
  },
  {
   "cell_type": "code",
   "execution_count": null,
   "id": "1617a0df-0659-4e16-aff2-be85de3f8ae9",
   "metadata": {},
   "outputs": [],
   "source": [
    "eda_num(datos)"
   ]
  },
  {
   "cell_type": "markdown",
   "id": "3fcb1094-c740-41fa-9712-e25db8e1715a",
   "metadata": {},
   "source": [
    "### Explorar los datos categóricos"
   ]
  },
  {
   "cell_type": "code",
   "execution_count": null,
   "id": "3e9785d3-dd4f-4649-a074-eef7fa68edba",
   "metadata": {
    "tags": []
   },
   "outputs": [],
   "source": [
    "eda_cat(datos, x = \"survived\")"
   ]
  },
  {
   "cell_type": "code",
   "execution_count": null,
   "id": "7b7608aa-32a2-495d-bf48-00fa767f9d4a",
   "metadata": {},
   "outputs": [],
   "source": [
    "eda_cat(datos, x='survived', y='sex')"
   ]
  },
  {
   "cell_type": "markdown",
   "id": "15c0203a",
   "metadata": {},
   "source": [
    "### Reducir la cardinalidad"
   ]
  },
  {
   "cell_type": "code",
   "execution_count": null,
   "id": "69724afe",
   "metadata": {},
   "outputs": [],
   "source": [
    "clean(datos, method = \"cardinality\",       \n",
    "      columns = [],    #  Si no se dan columnas, no hay cambios\n",
    "      value = np.nan,  #  Si no se da un valor, reemplaza los valores que cumplen con el mínimo\n",
    "                       #     porcentaje de frecuencia de el \"treshold\", con el valor \"other\"\n",
    "      threshold = 0)   #  Si no se da un valor, no hay cambios \n",
    "                       #     (valores pueden ser entre 0 y 1, inclusivos)"
   ]
  },
  {
   "cell_type": "markdown",
   "id": "d2a4dae6",
   "metadata": {},
   "source": [
    "### Eliminar datos atípicos"
   ]
  },
  {
   "cell_type": "code",
   "execution_count": null,
   "id": "14ab8a1b",
   "metadata": {},
   "outputs": [],
   "source": [
    "clean(datos, method=\"outliers\", \n",
    "      columns=[])   #  Si no se da un valor, se hará en todas las columnas numéricas"
   ]
  },
  {
   "cell_type": "markdown",
   "id": "f56da87b-54de-489b-850b-937489b9edfb",
   "metadata": {},
   "source": [
    "### Si queremos obtener el mismo reporte del ProfileReport():"
   ]
  },
  {
   "cell_type": "code",
   "execution_count": null,
   "id": "fee2b7a5-0706-4f48-8ed5-fd2d24c2cd05",
   "metadata": {},
   "outputs": [],
   "source": [
    "explore(datos, method = \"profile\", report_name = \"Reporte de Datos Tutorial\", \n",
    "        is_large_dataset = False)  # Si es muy grande poner True ahorra muchos cálculos"
   ]
  },
  {
   "cell_type": "markdown",
   "id": "cd97b571-e704-4d7a-b8eb-e01aec07c683",
   "metadata": {},
   "source": [
    "### Matriz de correlación"
   ]
  },
  {
   "cell_type": "code",
   "execution_count": null,
   "id": "b34fa766-05d9-4b0a-9c18-3e37ac2457e6",
   "metadata": {
    "tags": []
   },
   "outputs": [],
   "source": [
    "eda_num(datos, method='correlation')"
   ]
  },
  {
   "cell_type": "markdown",
   "id": "88a67c1c-5e23-4106-80d2-dcc6cb3a24f2",
   "metadata": {},
   "source": [
    "### Punteo de potencial de predicción"
   ]
  },
  {
   "cell_type": "code",
   "execution_count": null,
   "id": "c3540cdc-42eb-4597-9a7b-5cebec9f9a05",
   "metadata": {},
   "outputs": [],
   "source": [
    "x = \"survived\"\n",
    "eda_numcat(datos, x, \n",
    "           method = \"pps\") # pps es el valor default"
   ]
  },
  {
   "cell_type": "code",
   "execution_count": null,
   "id": "dfdcc095-38a1-40a2-835f-eeafb88be7d8",
   "metadata": {},
   "outputs": [],
   "source": []
  }
 ],
 "metadata": {
  "kernelspec": {
   "display_name": "Python 3",
   "language": "python",
   "name": "python3"
  },
  "language_info": {
   "codemirror_mode": {
    "name": "ipython",
    "version": 3
   },
   "file_extension": ".py",
   "mimetype": "text/x-python",
   "name": "python",
   "nbconvert_exporter": "python",
   "pygments_lexer": "ipython3",
   "version": "3.7.10"
  }
 },
 "nbformat": 4,
 "nbformat_minor": 5
}
