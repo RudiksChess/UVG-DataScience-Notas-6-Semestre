{
 "cells": [
  {
   "cell_type": "markdown",
   "metadata": {},
   "source": [
    "# Elementos básicos del cluster analysis"
   ]
  },
  {
   "cell_type": "markdown",
   "metadata": {},
   "source": [
    "En este \"notebook\" exploramos lo básico de cluster analysis con k-means"
   ]
  },
  {
   "cell_type": "markdown",
   "metadata": {},
   "source": [
    "## Importar las librerías relevantes"
   ]
  },
  {
   "cell_type": "code",
   "execution_count": 1,
   "metadata": {},
   "outputs": [],
   "source": [
    "import pandas as pd\n",
    "import numpy as np\n",
    "import plotly.express as px\n",
    "import matplotlib.pyplot as plt\n",
    "import seaborn as sns\n",
    "# Utilizar los estilos de Seaborn\n",
    "sns.set()\n",
    "# Importar el módulo KMeans para usar k-means clustering con sklearn\n",
    "from sklearn.cluster import KMeans"
   ]
  },
  {
   "cell_type": "markdown",
   "metadata": {},
   "source": [
    "## cargar los datos"
   ]
  },
  {
   "cell_type": "code",
   "execution_count": 12,
   "metadata": {},
   "outputs": [],
   "source": [
    "datos = pd.read_csv('Paises_Mundo.csv')"
   ]
  },
  {
   "cell_type": "code",
   "execution_count": 13,
   "metadata": {
    "scrolled": true
   },
   "outputs": [
    {
     "data": {
      "text/html": [
       "<div>\n",
       "<style scoped>\n",
       "    .dataframe tbody tr th:only-of-type {\n",
       "        vertical-align: middle;\n",
       "    }\n",
       "\n",
       "    .dataframe tbody tr th {\n",
       "        vertical-align: top;\n",
       "    }\n",
       "\n",
       "    .dataframe thead th {\n",
       "        text-align: right;\n",
       "    }\n",
       "</style>\n",
       "<table border=\"1\" class=\"dataframe\">\n",
       "  <thead>\n",
       "    <tr style=\"text-align: right;\">\n",
       "      <th></th>\n",
       "      <th>Country</th>\n",
       "      <th>Longitude</th>\n",
       "      <th>Latitude</th>\n",
       "    </tr>\n",
       "  </thead>\n",
       "  <tbody>\n",
       "    <tr>\n",
       "      <th>0</th>\n",
       "      <td>Aruba</td>\n",
       "      <td>-69.982677</td>\n",
       "      <td>12.520880</td>\n",
       "    </tr>\n",
       "    <tr>\n",
       "      <th>1</th>\n",
       "      <td>Afghanistan</td>\n",
       "      <td>66.004734</td>\n",
       "      <td>33.835231</td>\n",
       "    </tr>\n",
       "    <tr>\n",
       "      <th>2</th>\n",
       "      <td>Angola</td>\n",
       "      <td>17.537368</td>\n",
       "      <td>-12.293361</td>\n",
       "    </tr>\n",
       "    <tr>\n",
       "      <th>3</th>\n",
       "      <td>Anguilla</td>\n",
       "      <td>-63.064989</td>\n",
       "      <td>18.223959</td>\n",
       "    </tr>\n",
       "    <tr>\n",
       "      <th>4</th>\n",
       "      <td>Albania</td>\n",
       "      <td>20.049834</td>\n",
       "      <td>41.142450</td>\n",
       "    </tr>\n",
       "    <tr>\n",
       "      <th>...</th>\n",
       "      <td>...</td>\n",
       "      <td>...</td>\n",
       "      <td>...</td>\n",
       "    </tr>\n",
       "    <tr>\n",
       "      <th>236</th>\n",
       "      <td>Samoa</td>\n",
       "      <td>-172.164851</td>\n",
       "      <td>-13.753243</td>\n",
       "    </tr>\n",
       "    <tr>\n",
       "      <th>237</th>\n",
       "      <td>Yemen</td>\n",
       "      <td>47.586762</td>\n",
       "      <td>15.909280</td>\n",
       "    </tr>\n",
       "    <tr>\n",
       "      <th>238</th>\n",
       "      <td>South Africa</td>\n",
       "      <td>25.083901</td>\n",
       "      <td>-29.000341</td>\n",
       "    </tr>\n",
       "    <tr>\n",
       "      <th>239</th>\n",
       "      <td>Zambia</td>\n",
       "      <td>27.774759</td>\n",
       "      <td>-13.458242</td>\n",
       "    </tr>\n",
       "    <tr>\n",
       "      <th>240</th>\n",
       "      <td>Zimbabwe</td>\n",
       "      <td>29.851441</td>\n",
       "      <td>-19.004204</td>\n",
       "    </tr>\n",
       "  </tbody>\n",
       "</table>\n",
       "<p>241 rows × 3 columns</p>\n",
       "</div>"
      ],
      "text/plain": [
       "          Country   Longitude   Latitude\n",
       "0           Aruba  -69.982677  12.520880\n",
       "1     Afghanistan   66.004734  33.835231\n",
       "2          Angola   17.537368 -12.293361\n",
       "3        Anguilla  -63.064989  18.223959\n",
       "4         Albania   20.049834  41.142450\n",
       "..            ...         ...        ...\n",
       "236         Samoa -172.164851 -13.753243\n",
       "237         Yemen   47.586762  15.909280\n",
       "238  South Africa   25.083901 -29.000341\n",
       "239        Zambia   27.774759 -13.458242\n",
       "240      Zimbabwe   29.851441 -19.004204\n",
       "\n",
       "[241 rows x 3 columns]"
      ]
     },
     "execution_count": 13,
     "metadata": {},
     "output_type": "execute_result"
    }
   ],
   "source": [
    "# Darle un vistazo a los datos\n",
    "datos"
   ]
  },
  {
   "cell_type": "markdown",
   "metadata": {},
   "source": [
    "## Graficar los datos"
   ]
  },
  {
   "cell_type": "code",
   "execution_count": 14,
   "metadata": {},
   "outputs": [
    {
     "data": {
      "text/plain": [
       "<function matplotlib.pyplot.show(close=None, block=None)>"
      ]
     },
     "execution_count": 14,
     "metadata": {},
     "output_type": "execute_result"
    },
    {
     "data": {
      "image/png": "[encoded data removed]",
      "text/plain": [
       "<Figure size 432x288 with 1 Axes>"
      ]
     },
     "metadata": {},
     "output_type": "display_data"
    }
   ],
   "source": [
    "# Utilizar el código más simple posible para crear una gráfica de dispersión usando longitud y latitud\n",
    "# Nótese que para obtener un resultado que se asemeje al mapa mundi, debemos usar la longitud como y, y la latitud como x\n",
    "\n",
    "plt.scatter(datos['Longitude'],datos['Latitude'])\n",
    "\n",
    "# Fijar límites a los ejes, a semejanza del mapa mundi\n",
    "\n",
    "plt.xlim(-180,180)\n",
    "plt.ylim(-90,90)\n",
    "plt.show"
   ]
  },
  {
   "cell_type": "markdown",
   "metadata": {},
   "source": [
    "## Elegir las características (features) para agrupar por ubicación"
   ]
  },
  {
   "cell_type": "code",
   "execution_count": 15,
   "metadata": {},
   "outputs": [
    {
     "data": {
      "text/html": [
       "<div>\n",
       "<style scoped>\n",
       "    .dataframe tbody tr th:only-of-type {\n",
       "        vertical-align: middle;\n",
       "    }\n",
       "\n",
       "    .dataframe tbody tr th {\n",
       "        vertical-align: top;\n",
       "    }\n",
       "\n",
       "    .dataframe thead th {\n",
       "        text-align: right;\n",
       "    }\n",
       "</style>\n",
       "<table border=\"1\" class=\"dataframe\">\n",
       "  <thead>\n",
       "    <tr style=\"text-align: right;\">\n",
       "      <th></th>\n",
       "      <th>Latitude</th>\n",
       "      <th>Longitude</th>\n",
       "    </tr>\n",
       "  </thead>\n",
       "  <tbody>\n",
       "    <tr>\n",
       "      <th>0</th>\n",
       "      <td>12.520880</td>\n",
       "      <td>-69.982677</td>\n",
       "    </tr>\n",
       "    <tr>\n",
       "      <th>1</th>\n",
       "      <td>33.835231</td>\n",
       "      <td>66.004734</td>\n",
       "    </tr>\n",
       "    <tr>\n",
       "      <th>2</th>\n",
       "      <td>-12.293361</td>\n",
       "      <td>17.537368</td>\n",
       "    </tr>\n",
       "    <tr>\n",
       "      <th>3</th>\n",
       "      <td>18.223959</td>\n",
       "      <td>-63.064989</td>\n",
       "    </tr>\n",
       "    <tr>\n",
       "      <th>4</th>\n",
       "      <td>41.142450</td>\n",
       "      <td>20.049834</td>\n",
       "    </tr>\n",
       "    <tr>\n",
       "      <th>...</th>\n",
       "      <td>...</td>\n",
       "      <td>...</td>\n",
       "    </tr>\n",
       "    <tr>\n",
       "      <th>236</th>\n",
       "      <td>-13.753243</td>\n",
       "      <td>-172.164851</td>\n",
       "    </tr>\n",
       "    <tr>\n",
       "      <th>237</th>\n",
       "      <td>15.909280</td>\n",
       "      <td>47.586762</td>\n",
       "    </tr>\n",
       "    <tr>\n",
       "      <th>238</th>\n",
       "      <td>-29.000341</td>\n",
       "      <td>25.083901</td>\n",
       "    </tr>\n",
       "    <tr>\n",
       "      <th>239</th>\n",
       "      <td>-13.458242</td>\n",
       "      <td>27.774759</td>\n",
       "    </tr>\n",
       "    <tr>\n",
       "      <th>240</th>\n",
       "      <td>-19.004204</td>\n",
       "      <td>29.851441</td>\n",
       "    </tr>\n",
       "  </tbody>\n",
       "</table>\n",
       "<p>241 rows × 2 columns</p>\n",
       "</div>"
      ],
      "text/plain": [
       "      Latitude   Longitude\n",
       "0    12.520880  -69.982677\n",
       "1    33.835231   66.004734\n",
       "2   -12.293361   17.537368\n",
       "3    18.223959  -63.064989\n",
       "4    41.142450   20.049834\n",
       "..         ...         ...\n",
       "236 -13.753243 -172.164851\n",
       "237  15.909280   47.586762\n",
       "238 -29.000341   25.083901\n",
       "239 -13.458242   27.774759\n",
       "240 -19.004204   29.851441\n",
       "\n",
       "[241 rows x 2 columns]"
      ]
     },
     "execution_count": 15,
     "metadata": {},
     "output_type": "execute_result"
    }
   ],
   "source": [
    "x = datos.filter([\"Latitude\", \"Longitude\"])\n",
    "x"
   ]
  },
  {
   "cell_type": "markdown",
   "metadata": {},
   "source": [
    "## Clustering"
   ]
  },
  {
   "cell_type": "markdown",
   "metadata": {},
   "source": [
    "Esta es la parte donde empieza el agrupamiento"
   ]
  },
  {
   "cell_type": "code",
   "execution_count": 16,
   "metadata": {},
   "outputs": [],
   "source": [
    "# Crear un objeto (que llamaremos kmeans)\n",
    "# El número en los paréntesis es K, el número de grupos que deseamos\n",
    "\n",
    "kmeans = KMeans(2)"
   ]
  },
  {
   "cell_type": "code",
   "execution_count": 17,
   "metadata": {},
   "outputs": [
    {
     "data": {
      "text/plain": [
       "KMeans(n_clusters=2)"
      ]
     },
     "execution_count": 17,
     "metadata": {},
     "output_type": "execute_result"
    }
   ],
   "source": [
    "# Ajustar o afinar el modelo con los datos de entrada (y el número de clusters especificados)\n",
    "\n",
    "kmeans.fit(x)"
   ]
  },
  {
   "cell_type": "markdown",
   "metadata": {},
   "source": [
    "## Resultados del Clustering"
   ]
  },
  {
   "cell_type": "markdown",
   "metadata": {},
   "source": [
    "Hay muchas formas de realizar esta parte, esta es una de las más ilustrativas"
   ]
  },
  {
   "cell_type": "code",
   "execution_count": 18,
   "metadata": {},
   "outputs": [
    {
     "data": {
      "text/plain": [
       "array([1, 0, 0, 1, 0, 0, 0, 0, 1, 0, 1, 0, 0, 0, 1, 0, 0, 0, 0, 0, 0, 0,\n",
       "       0, 0, 0, 1, 1, 0, 1, 0, 1, 1, 1, 1, 1, 0, 0, 0, 0, 0, 1, 0, 0, 0,\n",
       "       0, 0, 1, 1, 0, 1, 1, 1, 1, 1, 0, 0, 0, 0, 0, 1, 0, 1, 0, 1, 0, 0,\n",
       "       0, 0, 0, 0, 0, 1, 0, 0, 0, 0, 0, 0, 0, 0, 0, 0, 0, 0, 0, 1, 1, 1,\n",
       "       0, 1, 0, 0, 1, 0, 1, 0, 0, 0, 0, 0, 0, 0, 0, 0, 0, 0, 0, 1, 0, 0,\n",
       "       0, 0, 0, 0, 0, 0, 1, 1, 0, 0, 0, 0, 0, 0, 0, 1, 0, 0, 0, 0, 0, 0,\n",
       "       0, 1, 0, 0, 0, 0, 0, 1, 0, 0, 0, 0, 0, 0, 0, 0, 0, 0, 1, 0, 0, 0,\n",
       "       0, 0, 0, 0, 0, 1, 1, 0, 0, 0, 0, 0, 0, 0, 1, 1, 1, 0, 0, 0, 0, 1,\n",
       "       0, 0, 1, 0, 1, 0, 0, 0, 0, 0, 0, 0, 0, 0, 0, 1, 0, 0, 0, 1, 0, 0,\n",
       "       0, 1, 0, 0, 1, 0, 0, 0, 0, 1, 0, 0, 1, 0, 0, 0, 0, 0, 0, 1, 1, 0,\n",
       "       0, 0, 0, 0, 0, 1, 1, 0, 0, 1, 1, 1, 1, 0, 0, 1, 1, 0, 0, 0, 0],\n",
       "      dtype=int32)"
      ]
     },
     "execution_count": 18,
     "metadata": {},
     "output_type": "execute_result"
    }
   ],
   "source": [
    "# Crear una variable que contenga los clusters que se han predicho para cada observación\n",
    "\n",
    "clusters_identificados = kmeans.fit_predict(x)\n",
    "\n",
    "# Revisar los resultados\n",
    "\n",
    "clusters_identificados"
   ]
  },
  {
   "cell_type": "code",
   "execution_count": 19,
   "metadata": {},
   "outputs": [
    {
     "data": {
      "text/html": [
       "<div>\n",
       "<style scoped>\n",
       "    .dataframe tbody tr th:only-of-type {\n",
       "        vertical-align: middle;\n",
       "    }\n",
       "\n",
       "    .dataframe tbody tr th {\n",
       "        vertical-align: top;\n",
       "    }\n",
       "\n",
       "    .dataframe thead th {\n",
       "        text-align: right;\n",
       "    }\n",
       "</style>\n",
       "<table border=\"1\" class=\"dataframe\">\n",
       "  <thead>\n",
       "    <tr style=\"text-align: right;\">\n",
       "      <th></th>\n",
       "      <th>Country</th>\n",
       "      <th>Longitude</th>\n",
       "      <th>Latitude</th>\n",
       "      <th>Cluster</th>\n",
       "    </tr>\n",
       "  </thead>\n",
       "  <tbody>\n",
       "    <tr>\n",
       "      <th>0</th>\n",
       "      <td>Aruba</td>\n",
       "      <td>-69.982677</td>\n",
       "      <td>12.520880</td>\n",
       "      <td>1</td>\n",
       "    </tr>\n",
       "    <tr>\n",
       "      <th>1</th>\n",
       "      <td>Afghanistan</td>\n",
       "      <td>66.004734</td>\n",
       "      <td>33.835231</td>\n",
       "      <td>0</td>\n",
       "    </tr>\n",
       "    <tr>\n",
       "      <th>2</th>\n",
       "      <td>Angola</td>\n",
       "      <td>17.537368</td>\n",
       "      <td>-12.293361</td>\n",
       "      <td>0</td>\n",
       "    </tr>\n",
       "    <tr>\n",
       "      <th>3</th>\n",
       "      <td>Anguilla</td>\n",
       "      <td>-63.064989</td>\n",
       "      <td>18.223959</td>\n",
       "      <td>1</td>\n",
       "    </tr>\n",
       "    <tr>\n",
       "      <th>4</th>\n",
       "      <td>Albania</td>\n",
       "      <td>20.049834</td>\n",
       "      <td>41.142450</td>\n",
       "      <td>0</td>\n",
       "    </tr>\n",
       "    <tr>\n",
       "      <th>...</th>\n",
       "      <td>...</td>\n",
       "      <td>...</td>\n",
       "      <td>...</td>\n",
       "      <td>...</td>\n",
       "    </tr>\n",
       "    <tr>\n",
       "      <th>236</th>\n",
       "      <td>Samoa</td>\n",
       "      <td>-172.164851</td>\n",
       "      <td>-13.753243</td>\n",
       "      <td>1</td>\n",
       "    </tr>\n",
       "    <tr>\n",
       "      <th>237</th>\n",
       "      <td>Yemen</td>\n",
       "      <td>47.586762</td>\n",
       "      <td>15.909280</td>\n",
       "      <td>0</td>\n",
       "    </tr>\n",
       "    <tr>\n",
       "      <th>238</th>\n",
       "      <td>South Africa</td>\n",
       "      <td>25.083901</td>\n",
       "      <td>-29.000341</td>\n",
       "      <td>0</td>\n",
       "    </tr>\n",
       "    <tr>\n",
       "      <th>239</th>\n",
       "      <td>Zambia</td>\n",
       "      <td>27.774759</td>\n",
       "      <td>-13.458242</td>\n",
       "      <td>0</td>\n",
       "    </tr>\n",
       "    <tr>\n",
       "      <th>240</th>\n",
       "      <td>Zimbabwe</td>\n",
       "      <td>29.851441</td>\n",
       "      <td>-19.004204</td>\n",
       "      <td>0</td>\n",
       "    </tr>\n",
       "  </tbody>\n",
       "</table>\n",
       "<p>241 rows × 4 columns</p>\n",
       "</div>"
      ],
      "text/plain": [
       "          Country   Longitude   Latitude  Cluster\n",
       "0           Aruba  -69.982677  12.520880        1\n",
       "1     Afghanistan   66.004734  33.835231        0\n",
       "2          Angola   17.537368 -12.293361        0\n",
       "3        Anguilla  -63.064989  18.223959        1\n",
       "4         Albania   20.049834  41.142450        0\n",
       "..            ...         ...        ...      ...\n",
       "236         Samoa -172.164851 -13.753243        1\n",
       "237         Yemen   47.586762  15.909280        0\n",
       "238  South Africa   25.083901 -29.000341        0\n",
       "239        Zambia   27.774759 -13.458242        0\n",
       "240      Zimbabwe   29.851441 -19.004204        0\n",
       "\n",
       "[241 rows x 4 columns]"
      ]
     },
     "execution_count": 19,
     "metadata": {},
     "output_type": "execute_result"
    }
   ],
   "source": [
    "# Crear una copia de los datos\n",
    "\n",
    "datos_con_clusters = datos.copy()\n",
    "\n",
    "# Crear una nueva serie, que tenga el cluster identificado para cada observación\n",
    "\n",
    "datos_con_clusters['Cluster'] = clusters_identificados\n",
    "\n",
    "# Revisar el resultado\n",
    "\n",
    "datos_con_clusters"
   ]
  },
  {
   "cell_type": "markdown",
   "metadata": {},
   "source": [
    "### Uso de Plotly Express para generar gráfica interactiva"
   ]
  },
  {
   "cell_type": "code",
   "execution_count": 20,
   "metadata": {},
   "outputs": [
    {
     "data": {
      "application/vnd.plotly.v1+json": {
       "config": {
        "plotlyServerURL": "https://plot.ly"
       },
       "data": [
        {
         "customdata": [
          [
           "Aruba"
          ],
          [
           "Anguilla"
          ],
          [
           "Argentina"
          ],
          [
           "American Samoa"
          ],
          [
           "Antigua and Barb."
          ],
          [
           "Canada"
          ],
          [
           "Bahamas"
          ],
          [
           "St-BarthÃ©lemy"
          ],
          [
           "Belize"
          ],
          [
           "Bermuda"
          ],
          [
           "Bolivia"
          ],
          [
           "Brazil"
          ],
          [
           "Barbados"
          ],
          [
           "Chile"
          ],
          [
           "Cook Is."
          ],
          [
           "Colombia"
          ],
          [
           "Cape Verde"
          ],
          [
           "Costa Rica"
          ],
          [
           "Cuba"
          ],
          [
           "CuraÃ§ao"
          ],
          [
           "Cayman Is."
          ],
          [
           "Dominica"
          ],
          [
           "Dominican Rep."
          ],
          [
           "Ecuador"
          ],
          [
           "Falkland Is."
          ],
          [
           "Grenada"
          ],
          [
           "Greenland"
          ],
          [
           "Guatemala"
          ],
          [
           "Guyana"
          ],
          [
           "Honduras"
          ],
          [
           "Haiti"
          ],
          [
           "Jamaica"
          ],
          [
           "Kiribati"
          ],
          [
           "St. Kitts and Nevis"
          ],
          [
           "Saint Lucia"
          ],
          [
           "St-Martin"
          ],
          [
           "Mexico"
          ],
          [
           "Montserrat"
          ],
          [
           "Nicaragua"
          ],
          [
           "Niue"
          ],
          [
           "Panama"
          ],
          [
           "Pitcairn Is."
          ],
          [
           "Peru"
          ],
          [
           "Puerto Rico"
          ],
          [
           "Paraguay"
          ],
          [
           "Fr. Polynesia"
          ],
          [
           "S. Geo. and S. Sandw. Is."
          ],
          [
           "El Salvador"
          ],
          [
           "St. Pierre and Miquelon"
          ],
          [
           "Suriname"
          ],
          [
           "Sint Maarten"
          ],
          [
           "Turks and Caicos Is."
          ],
          [
           "Tonga"
          ],
          [
           "Trinidad and Tobago"
          ],
          [
           "Uruguay"
          ],
          [
           "United States"
          ],
          [
           "St. Vin. and Gren."
          ],
          [
           "Venezuela"
          ],
          [
           "British Virgin Is."
          ],
          [
           "U.S. Virgin Is."
          ],
          [
           "Wallis and Futuna Is."
          ],
          [
           "Samoa"
          ]
         ],
         "hovertemplate": "Cluster=1<br>Longitude=%{x}<br>Latitude=%{y}<br>Country=%{customdata[0]}<extra></extra>",
         "legendgroup": "1",
         "marker": {
          "color": "#636efa",
          "symbol": "circle"
         },
         "mode": "markers",
         "name": "1",
         "orientation": "v",
         "showlegend": true,
         "type": "scatter",
         "x": [
          -69.98267711,
          -63.06498927,
          -65.17980692,
          -170.7180258,
          -61.79469343,
          -98.30777028,
          -76.62843038,
          -62.84067779,
          -88.71010486,
          -64.7545589,
          -64.68538645,
          -53.09783113,
          -59.559797,
          -71.38256213,
          -159.7872422,
          -73.08114582,
          -23.9598882,
          -84.19208768,
          -79.01605384,
          -68.97119369,
          -80.91213321,
          -61.357726,
          -70.50568896,
          -78.75201922,
          -59.35238956,
          -61.68220189,
          -41.34191127,
          -90.36482009,
          -58.98202459,
          -86.6151661,
          -72.68527509,
          -77.31482593,
          -45.61110513,
          -62.68755265,
          -60.96969923,
          -63.05972851,
          -102.5234517,
          -62.18518546,
          -85.0305297,
          -169.8699468,
          -80.11915156,
          -128.317042,
          -74.38242685,
          -66.47307604,
          -58.40013703,
          -144.9049439,
          -36.43318388,
          -88.87164469,
          -56.30319779,
          -55.9123457,
          -63.05713363,
          -71.97387881,
          -174.8098734,
          -61.26567923,
          -56.01807053,
          -112.4616737,
          -61.20129695,
          -66.18184123,
          -64.47146992,
          -64.80301538,
          -177.3483483,
          -172.1648506
         ],
         "xaxis": "x",
         "y": [
          12.52088038,
          18.2239595,
          -35.3813488,
          -14.30445997,
          17.2774996,
          61.36206324,
          24.29036702,
          17.89880451,
          17.20027509,
          32.31367802,
          -16.70814787,
          -10.78777702,
          13.18145428,
          -37.73070989,
          -21.21927288,
          3.91383431,
          15.95523324,
          9.97634464,
          21.62289528,
          12.19551675,
          19.42896497,
          15.4394702,
          18.89433082,
          -1.42381612,
          -51.74483954,
          12.11725044,
          74.71051289,
          15.69403664,
          4.79378034,
          14.82688165,
          18.93502563,
          18.15694878,
          0.86001503,
          17.2645995,
          13.89479481,
          18.08888611,
          23.94753724,
          16.73941406,
          12.84709429,
          -19.04945708,
          8.51750797,
          -24.36500535,
          -9.15280381,
          18.22813055,
          -23.22823913,
          -14.72227409,
          -54.46488248,
          13.73943744,
          46.91918789,
          4.13055413,
          18.05081728,
          21.83047572,
          -20.42843174,
          10.45733408,
          -32.79951534,
          45.6795472,
          13.22472269,
          7.12422421,
          18.52585755,
          17.95500624,
          -13.88737039,
          -13.75324346
         ],
         "yaxis": "y"
        },
        {
         "customdata": [
          [
           "Afghanistan"
          ],
          [
           "Angola"
          ],
          [
           "Albania"
          ],
          [
           "Aland"
          ],
          [
           "Andorra"
          ],
          [
           "United Arab Emirates"
          ],
          [
           "Armenia"
          ],
          [
           "Antarctica"
          ],
          [
           "Ashmore and Cartier Is."
          ],
          [
           "Fr. S. Antarctic Lands"
          ],
          [
           "Australia"
          ],
          [
           "Austria"
          ],
          [
           "Azerbaijan"
          ],
          [
           "Burundi"
          ],
          [
           "Belgium"
          ],
          [
           "Benin"
          ],
          [
           "Burkina Faso"
          ],
          [
           "Bangladesh"
          ],
          [
           "Bulgaria"
          ],
          [
           "Bahrain"
          ],
          [
           "Bosnia and Herz."
          ],
          [
           "Belarus"
          ],
          [
           "Brunei"
          ],
          [
           "Bhutan"
          ],
          [
           "Botswana"
          ],
          [
           "Central African Rep."
          ],
          [
           "Switzerland"
          ],
          [
           "China"
          ],
          [
           "CÃ´te d'Ivoire"
          ],
          [
           "Cameroon"
          ],
          [
           "Dem. Rep. Congo"
          ],
          [
           "Congo"
          ],
          [
           "Comoros"
          ],
          [
           "N. Cyprus"
          ],
          [
           "Cyprus"
          ],
          [
           "Czech Rep."
          ],
          [
           "Germany"
          ],
          [
           "Djibouti"
          ],
          [
           "Denmark"
          ],
          [
           "Algeria"
          ],
          [
           "Egypt"
          ],
          [
           "Eritrea"
          ],
          [
           "Spain"
          ],
          [
           "Estonia"
          ],
          [
           "Ethiopia"
          ],
          [
           "Finland"
          ],
          [
           "Fiji"
          ],
          [
           "France"
          ],
          [
           "Faeroe Is."
          ],
          [
           "Micronesia"
          ],
          [
           "Gabon"
          ],
          [
           "United Kingdom"
          ],
          [
           "Georgia"
          ],
          [
           "Guernsey"
          ],
          [
           "Ghana"
          ],
          [
           "Guinea"
          ],
          [
           "Gambia"
          ],
          [
           "Guinea-Bissau"
          ],
          [
           "Eq. Guinea"
          ],
          [
           "Greece"
          ],
          [
           "Guam"
          ],
          [
           "Hong Kong"
          ],
          [
           "Heard I. and McDonald Is."
          ],
          [
           "Croatia"
          ],
          [
           "Hungary"
          ],
          [
           "Indonesia"
          ],
          [
           "Isle of Man"
          ],
          [
           "India"
          ],
          [
           "Indian Ocean Ter."
          ],
          [
           "Br. Indian Ocean Ter."
          ],
          [
           "Ireland"
          ],
          [
           "Iran"
          ],
          [
           "Iraq"
          ],
          [
           "Iceland"
          ],
          [
           "Israel"
          ],
          [
           "Italy"
          ],
          [
           "Jersey"
          ],
          [
           "Jordan"
          ],
          [
           "Japan"
          ],
          [
           "Siachen Glacier"
          ],
          [
           "Kazakhstan"
          ],
          [
           "Kenya"
          ],
          [
           "Kyrgyzstan"
          ],
          [
           "Cambodia"
          ],
          [
           "Korea"
          ],
          [
           "Kosovo"
          ],
          [
           "Kuwait"
          ],
          [
           "Lao PDR"
          ],
          [
           "Lebanon"
          ],
          [
           "Liberia"
          ],
          [
           "Libya"
          ],
          [
           "Liechtenstein"
          ],
          [
           "Sri Lanka"
          ],
          [
           "Lesotho"
          ],
          [
           "Lithuania"
          ],
          [
           "Luxembourg"
          ],
          [
           "Latvia"
          ],
          [
           "Macao"
          ],
          [
           "Morocco"
          ],
          [
           "Monaco"
          ],
          [
           "Moldova"
          ],
          [
           "Madagascar"
          ],
          [
           "Maldives"
          ],
          [
           "Marshall Is."
          ],
          [
           "Macedonia"
          ],
          [
           "Mali"
          ],
          [
           "Malta"
          ],
          [
           "Myanmar"
          ],
          [
           "Montenegro"
          ],
          [
           "Mongolia"
          ],
          [
           "N. Mariana Is."
          ],
          [
           "Mozambique"
          ],
          [
           "Mauritania"
          ],
          [
           "Mauritius"
          ],
          [
           "Malawi"
          ],
          [
           "Malaysia"
          ],
          [
           "Namibia"
          ],
          [
           "New Caledonia"
          ],
          [
           "Niger"
          ],
          [
           "Norfolk Island"
          ],
          [
           "Nigeria"
          ],
          [
           "Netherlands"
          ],
          [
           "Norway"
          ],
          [
           "Nepal"
          ],
          [
           "Nauru"
          ],
          [
           "New Zealand"
          ],
          [
           "Oman"
          ],
          [
           "Pakistan"
          ],
          [
           "Philippines"
          ],
          [
           "Palau"
          ],
          [
           "Papua New Guinea"
          ],
          [
           "Poland"
          ],
          [
           "Dem. Rep. Korea"
          ],
          [
           "Portugal"
          ],
          [
           "Palestine"
          ],
          [
           "Qatar"
          ],
          [
           "Romania"
          ],
          [
           "Russia"
          ],
          [
           "Rwanda"
          ],
          [
           "W. Sahara"
          ],
          [
           "Saudi Arabia"
          ],
          [
           "Sudan"
          ],
          [
           "S. Sudan"
          ],
          [
           "Senegal"
          ],
          [
           "Singapore"
          ],
          [
           "Saint Helena"
          ],
          [
           "Solomon Is."
          ],
          [
           "Sierra Leone"
          ],
          [
           "San Marino"
          ],
          [
           "Somaliland"
          ],
          [
           "Somalia"
          ],
          [
           "Serbia"
          ],
          [
           "SÃ£o TomÃ© and Principe"
          ],
          [
           "Slovakia"
          ],
          [
           "Slovenia"
          ],
          [
           "Sweden"
          ],
          [
           "Swaziland"
          ],
          [
           "Seychelles"
          ],
          [
           "Syria"
          ],
          [
           "Chad"
          ],
          [
           "Togo"
          ],
          [
           "Thailand"
          ],
          [
           "Tajikistan"
          ],
          [
           "Turkmenistan"
          ],
          [
           "Timor-Leste"
          ],
          [
           "Tunisia"
          ],
          [
           "Turkey"
          ],
          [
           "Taiwan"
          ],
          [
           "Tanzania"
          ],
          [
           "Uganda"
          ],
          [
           "Ukraine"
          ],
          [
           "Uzbekistan"
          ],
          [
           "Vatican"
          ],
          [
           "Vietnam"
          ],
          [
           "Vanuatu"
          ],
          [
           "Yemen"
          ],
          [
           "South Africa"
          ],
          [
           "Zambia"
          ],
          [
           "Zimbabwe"
          ]
         ],
         "hovertemplate": "Cluster=0<br>Longitude=%{x}<br>Latitude=%{y}<br>Country=%{customdata[0]}<extra></extra>",
         "legendgroup": "0",
         "marker": {
          "color": "#EF553B",
          "symbol": "circle"
         },
         "mode": "markers",
         "name": "0",
         "orientation": "v",
         "showlegend": true,
         "type": "scatter",
         "x": [
          66.00473366,
          17.53736768,
          20.04983396,
          19.95328768,
          1.56054378,
          54.3001671,
          44.92993276,
          19.92108951,
          123.5838379,
          69.22666758,
          134.4910001,
          14.1264761,
          47.54599879,
          29.87512156,
          4.64065114,
          2.32785254,
          -1.75456601,
          90.23812743,
          25.21552909,
          50.54196932,
          17.76876733,
          28.03209307,
          114.7220304,
          90.40188155,
          23.79853368,
          20.46826831,
          8.20867471,
          103.8190735,
          -5.5692157,
          12.73964156,
          23.64396107,
          15.21965762,
          43.68253968,
          33.5684813,
          33.0060022,
          15.31240163,
          10.38578051,
          42.5606754,
          10.02800992,
          2.61732301,
          29.86190099,
          38.84617011,
          -3.64755047,
          25.54248537,
          39.60080098,
          26.2746656,
          165.4519543,
          -2.76172945,
          -6.88095423,
          153.2394379,
          11.7886287,
          -2.86563164,
          43.50780252,
          -2.57239064,
          -1.21676566,
          -10.94066612,
          -15.39601295,
          -14.94972445,
          10.34137924,
          22.95555794,
          144.7679102,
          114.1138045,
          73.5205171,
          16.40412899,
          19.39559116,
          117.2401137,
          -4.53873952,
          79.6119761,
          104.851898,
          72.44541229,
          -8.13793569,
          54.27407004,
          43.74353149,
          -18.57396167,
          35.00444693,
          12.07001339,
          -2.12689938,
          36.77136104,
          138.0308956,
          77.18011865,
          67.29149357,
          37.79593973,
          74.54165513,
          104.9069433,
          127.8391609,
          20.87249811,
          47.58700459,
          103.7377241,
          35.88016072,
          -9.32207573,
          18.00866169,
          9.53574312,
          80.70108238,
          28.22723131,
          23.88719355,
          6.07182201,
          24.91235983,
          113.5093212,
          -8.45615795,
          7.40627677,
          28.45673372,
          46.70473674,
          73.45713004,
          170.3397612,
          21.68211346,
          -3.54269065,
          14.40523316,
          96.48843321,
          19.23883939,
          103.0529977,
          145.6196965,
          35.53367543,
          -10.34779815,
          57.57120551,
          34.28935599,
          109.6976228,
          17.20963567,
          165.6849237,
          9.38545882,
          167.9492168,
          8.08943895,
          5.28144793,
          15.34834656,
          83.9158264,
          166.9325682,
          171.4849235,
          56.09166155,
          69.33957937,
          122.8839325,
          134.4080797,
          145.2074475,
          19.39012835,
          127.1924797,
          -8.50104361,
          35.19628705,
          51.18479632,
          24.97293039,
          96.68656112,
          29.91988515,
          -12.21982755,
          44.53686271,
          29.94046812,
          30.24790002,
          -14.4734924,
          103.8172559,
          -9.54779416,
          159.6328767,
          -11.79271247,
          12.45922334,
          46.25198395,
          45.70714487,
          20.78958334,
          6.72429658,
          19.47905218,
          14.80444238,
          16.74558049,
          31.4819369,
          55.47603279,
          38.50788204,
          18.64492513,
          0.96232845,
          101.0028813,
          71.01362631,
          59.37100021,
          125.8443898,
          9.55288359,
          35.16895346,
          120.9542728,
          34.81309981,
          32.36907971,
          31.38326469,
          63.14001528,
          12.43387177,
          106.299147,
          167.6864464,
          47.58676189,
          25.08390093,
          27.77475946,
          29.8514412
         ],
         "xaxis": "x",
         "y": [
          33.83523073,
          -12.29336054,
          41.14244989,
          60.21488688,
          42.54229102,
          23.90528188,
          40.28952569,
          -80.50857913,
          -12.42993164,
          -49.24895485,
          -25.73288704,
          47.58549439,
          40.28827235,
          -3.35939666,
          50.63981576,
          9.6417597,
          12.26953846,
          23.86731158,
          42.76890318,
          26.04205135,
          44.17450125,
          53.53131377,
          4.51968958,
          27.41106589,
          -22.18403213,
          6.56823297,
          46.79785878,
          36.56176546,
          7.6284262,
          5.69109849,
          -2.87746289,
          -0.83787463,
          -11.87783444,
          35.26277486,
          34.91667211,
          49.73341233,
          51.10698181,
          11.74871806,
          55.98125296,
          28.15893849,
          26.49593311,
          15.36186618,
          40.24448698,
          58.67192972,
          8.62278679,
          64.49884603,
          -17.42858032,
          42.17344011,
          62.05385403,
          7.45246814,
          -0.58660025,
          54.12387156,
          42.16855755,
          49.46809761,
          7.95345644,
          10.43621593,
          13.44965244,
          12.04744948,
          1.70555135,
          39.07469623,
          13.44165626,
          22.39827737,
          -53.08724656,
          45.08047631,
          47.16277506,
          -2.21505456,
          54.22418911,
          22.88578212,
          -10.6478515,
          -7.33059751,
          53.1754487,
          32.57503292,
          33.03970582,
          64.99575386,
          31.46110101,
          42.79662641,
          49.21837377,
          31.24579091,
          37.59230135,
          35.39236325,
          48.15688067,
          0.59988022,
          41.46221943,
          12.72004786,
          36.38523983,
          42.57078707,
          29.33431262,
          18.50217433,
          33.92306631,
          6.45278492,
          27.03094495,
          47.13665835,
          7.61266509,
          -29.58003188,
          55.32610984,
          49.76725361,
          56.85085163,
          22.22311688,
          29.83762955,
          43.75274627,
          47.19498804,
          -19.37189587,
          3.7287092,
          7.00376358,
          41.59530893,
          17.34581581,
          35.92149632,
          21.18566599,
          42.78890259,
          46.82681544,
          15.82927563,
          -17.27381643,
          20.25736706,
          -20.27768704,
          -13.21808088,
          3.78986846,
          -22.13032568,
          -21.29991806,
          17.41912493,
          -29.0514609,
          9.59411452,
          52.1007899,
          68.75015572,
          28.24891365,
          -0.51912639,
          -41.81113557,
          20.60515333,
          29.9497515,
          11.77536778,
          7.28742784,
          -6.46416646,
          52.12759564,
          40.15350311,
          39.59550671,
          31.91613893,
          25.30601188,
          45.85243127,
          61.98052209,
          -1.99033832,
          24.22956739,
          24.12245841,
          15.99035669,
          7.30877945,
          14.36624173,
          1.35876087,
          -12.40355951,
          -8.92178022,
          8.56329593,
          43.94186747,
          9.73345496,
          4.75062876,
          44.2215032,
          0.44391445,
          48.70547528,
          46.11554772,
          62.77966519,
          -26.55843045,
          -4.66099094,
          35.02547389,
          15.33333758,
          8.52531356,
          15.11815794,
          38.5304539,
          39.11554137,
          -8.82889162,
          34.11956246,
          39.0616029,
          23.7539928,
          -6.27565408,
          1.27469299,
          48.99656673,
          41.75554225,
          41.90174985,
          16.6460167,
          -16.22640909,
          15.90928005,
          -29.00034095,
          -13.45824152,
          -19.00420419
         ],
         "yaxis": "y"
        }
       ],
       "layout": {
        "autosize": true,
        "legend": {
         "title": {
          "text": "Cluster"
         },
         "tracegroupgap": 0
        },
        "margin": {
         "t": 60
        },
        "template": {
         "data": {
          "bar": [
           {
            "error_x": {
             "color": "#2a3f5f"
            },
            "error_y": {
             "color": "#2a3f5f"
            },
            "marker": {
             "line": {
              "color": "#E5ECF6",
              "width": 0.5
             },
             "pattern": {
              "fillmode": "overlay",
              "size": 10,
              "solidity": 0.2
             }
            },
            "type": "bar"
           }
          ],
          "barpolar": [
           {
            "marker": {
             "line": {
              "color": "#E5ECF6",
              "width": 0.5
             },
             "pattern": {
              "fillmode": "overlay",
              "size": 10,
              "solidity": 0.2
             }
            },
            "type": "barpolar"
           }
          ],
          "carpet": [
           {
            "aaxis": {
             "endlinecolor": "#2a3f5f",
             "gridcolor": "white",
             "linecolor": "white",
             "minorgridcolor": "white",
             "startlinecolor": "#2a3f5f"
            },
            "baxis": {
             "endlinecolor": "#2a3f5f",
             "gridcolor": "white",
             "linecolor": "white",
             "minorgridcolor": "white",
             "startlinecolor": "#2a3f5f"
            },
            "type": "carpet"
           }
          ],
          "choropleth": [
           {
            "colorbar": {
             "outlinewidth": 0,
             "ticks": ""
            },
            "type": "choropleth"
           }
          ],
          "contour": [
           {
            "colorbar": {
             "outlinewidth": 0,
             "ticks": ""
            },
            "colorscale": [
             [
              0,
              "#0d0887"
             ],
             [
              0.1111111111111111,
              "#46039f"
             ],
             [
              0.2222222222222222,
              "#7201a8"
             ],
             [
              0.3333333333333333,
              "#9c179e"
             ],
             [
              0.4444444444444444,
              "#bd3786"
             ],
             [
              0.5555555555555556,
              "#d8576b"
             ],
             [
              0.6666666666666666,
              "#ed7953"
             ],
             [
              0.7777777777777778,
              "#fb9f3a"
             ],
             [
              0.8888888888888888,
              "#fdca26"
             ],
             [
              1,
              "#f0f921"
             ]
            ],
            "type": "contour"
           }
          ],
          "contourcarpet": [
           {
            "colorbar": {
             "outlinewidth": 0,
             "ticks": ""
            },
            "type": "contourcarpet"
           }
          ],
          "heatmap": [
           {
            "colorbar": {
             "outlinewidth": 0,
             "ticks": ""
            },
            "colorscale": [
             [
              0,
              "#0d0887"
             ],
             [
              0.1111111111111111,
              "#46039f"
             ],
             [
              0.2222222222222222,
              "#7201a8"
             ],
             [
              0.3333333333333333,
              "#9c179e"
             ],
             [
              0.4444444444444444,
              "#bd3786"
             ],
             [
              0.5555555555555556,
              "#d8576b"
             ],
             [
              0.6666666666666666,
              "#ed7953"
             ],
             [
              0.7777777777777778,
              "#fb9f3a"
             ],
             [
              0.8888888888888888,
              "#fdca26"
             ],
             [
              1,
              "#f0f921"
             ]
            ],
            "type": "heatmap"
           }
          ],
          "heatmapgl": [
           {
            "colorbar": {
             "outlinewidth": 0,
             "ticks": ""
            },
            "colorscale": [
             [
              0,
              "#0d0887"
             ],
             [
              0.1111111111111111,
              "#46039f"
             ],
             [
              0.2222222222222222,
              "#7201a8"
             ],
             [
              0.3333333333333333,
              "#9c179e"
             ],
             [
              0.4444444444444444,
              "#bd3786"
             ],
             [
              0.5555555555555556,
              "#d8576b"
             ],
             [
              0.6666666666666666,
              "#ed7953"
             ],
             [
              0.7777777777777778,
              "#fb9f3a"
             ],
             [
              0.8888888888888888,
              "#fdca26"
             ],
             [
              1,
              "#f0f921"
             ]
            ],
            "type": "heatmapgl"
           }
          ],
          "histogram": [
           {
            "marker": {
             "pattern": {
              "fillmode": "overlay",
              "size": 10,
              "solidity": 0.2
             }
            },
            "type": "histogram"
           }
          ],
          "histogram2d": [
           {
            "colorbar": {
             "outlinewidth": 0,
             "ticks": ""
            },
            "colorscale": [
             [
              0,
              "#0d0887"
             ],
             [
              0.1111111111111111,
              "#46039f"
             ],
             [
              0.2222222222222222,
              "#7201a8"
             ],
             [
              0.3333333333333333,
              "#9c179e"
             ],
             [
              0.4444444444444444,
              "#bd3786"
             ],
             [
              0.5555555555555556,
              "#d8576b"
             ],
             [
              0.6666666666666666,
              "#ed7953"
             ],
             [
              0.7777777777777778,
              "#fb9f3a"
             ],
             [
              0.8888888888888888,
              "#fdca26"
             ],
             [
              1,
              "#f0f921"
             ]
            ],
            "type": "histogram2d"
           }
          ],
          "histogram2dcontour": [
           {
            "colorbar": {
             "outlinewidth": 0,
             "ticks": ""
            },
            "colorscale": [
             [
              0,
              "#0d0887"
             ],
             [
              0.1111111111111111,
              "#46039f"
             ],
             [
              0.2222222222222222,
              "#7201a8"
             ],
             [
              0.3333333333333333,
              "#9c179e"
             ],
             [
              0.4444444444444444,
              "#bd3786"
             ],
             [
              0.5555555555555556,
              "#d8576b"
             ],
             [
              0.6666666666666666,
              "#ed7953"
             ],
             [
              0.7777777777777778,
              "#fb9f3a"
             ],
             [
              0.8888888888888888,
              "#fdca26"
             ],
             [
              1,
              "#f0f921"
             ]
            ],
            "type": "histogram2dcontour"
           }
          ],
          "mesh3d": [
           {
            "colorbar": {
             "outlinewidth": 0,
             "ticks": ""
            },
            "type": "mesh3d"
           }
          ],
          "parcoords": [
           {
            "line": {
             "colorbar": {
              "outlinewidth": 0,
              "ticks": ""
             }
            },
            "type": "parcoords"
           }
          ],
          "pie": [
           {
            "automargin": true,
            "type": "pie"
           }
          ],
          "scatter": [
           {
            "marker": {
             "colorbar": {
              "outlinewidth": 0,
              "ticks": ""
             }
            },
            "type": "scatter"
           }
          ],
          "scatter3d": [
           {
            "line": {
             "colorbar": {
              "outlinewidth": 0,
              "ticks": ""
             }
            },
            "marker": {
             "colorbar": {
              "outlinewidth": 0,
              "ticks": ""
             }
            },
            "type": "scatter3d"
           }
          ],
          "scattercarpet": [
           {
            "marker": {
             "colorbar": {
              "outlinewidth": 0,
              "ticks": ""
             }
            },
            "type": "scattercarpet"
           }
          ],
          "scattergeo": [
           {
            "marker": {
             "colorbar": {
              "outlinewidth": 0,
              "ticks": ""
             }
            },
            "type": "scattergeo"
           }
          ],
          "scattergl": [
           {
            "marker": {
             "colorbar": {
              "outlinewidth": 0,
              "ticks": ""
             }
            },
            "type": "scattergl"
           }
          ],
          "scattermapbox": [
           {
            "marker": {
             "colorbar": {
              "outlinewidth": 0,
              "ticks": ""
             }
            },
            "type": "scattermapbox"
           }
          ],
          "scatterpolar": [
           {
            "marker": {
             "colorbar": {
              "outlinewidth": 0,
              "ticks": ""
             }
            },
            "type": "scatterpolar"
           }
          ],
          "scatterpolargl": [
           {
            "marker": {
             "colorbar": {
              "outlinewidth": 0,
              "ticks": ""
             }
            },
            "type": "scatterpolargl"
           }
          ],
          "scatterternary": [
           {
            "marker": {
             "colorbar": {
              "outlinewidth": 0,
              "ticks": ""
             }
            },
            "type": "scatterternary"
           }
          ],
          "surface": [
           {
            "colorbar": {
             "outlinewidth": 0,
             "ticks": ""
            },
            "colorscale": [
             [
              0,
              "#0d0887"
             ],
             [
              0.1111111111111111,
              "#46039f"
             ],
             [
              0.2222222222222222,
              "#7201a8"
             ],
             [
              0.3333333333333333,
              "#9c179e"
             ],
             [
              0.4444444444444444,
              "#bd3786"
             ],
             [
              0.5555555555555556,
              "#d8576b"
             ],
             [
              0.6666666666666666,
              "#ed7953"
             ],
             [
              0.7777777777777778,
              "#fb9f3a"
             ],
             [
              0.8888888888888888,
              "#fdca26"
             ],
             [
              1,
              "#f0f921"
             ]
            ],
            "type": "surface"
           }
          ],
          "table": [
           {
            "cells": {
             "fill": {
              "color": "#EBF0F8"
             },
             "line": {
              "color": "white"
             }
            },
            "header": {
             "fill": {
              "color": "#C8D4E3"
             },
             "line": {
              "color": "white"
             }
            },
            "type": "table"
           }
          ]
         },
         "layout": {
          "annotationdefaults": {
           "arrowcolor": "#2a3f5f",
           "arrowhead": 0,
           "arrowwidth": 1
          },
          "autotypenumbers": "strict",
          "coloraxis": {
           "colorbar": {
            "outlinewidth": 0,
            "ticks": ""
           }
          },
          "colorscale": {
           "diverging": [
            [
             0,
             "#8e0152"
            ],
            [
             0.1,
             "#c51b7d"
            ],
            [
             0.2,
             "#de77ae"
            ],
            [
             0.3,
             "#f1b6da"
            ],
            [
             0.4,
             "#fde0ef"
            ],
            [
             0.5,
             "#f7f7f7"
            ],
            [
             0.6,
             "#e6f5d0"
            ],
            [
             0.7,
             "#b8e186"
            ],
            [
             0.8,
             "#7fbc41"
            ],
            [
             0.9,
             "#4d9221"
            ],
            [
             1,
             "#276419"
            ]
           ],
           "sequential": [
            [
             0,
             "#0d0887"
            ],
            [
             0.1111111111111111,
             "#46039f"
            ],
            [
             0.2222222222222222,
             "#7201a8"
            ],
            [
             0.3333333333333333,
             "#9c179e"
            ],
            [
             0.4444444444444444,
             "#bd3786"
            ],
            [
             0.5555555555555556,
             "#d8576b"
            ],
            [
             0.6666666666666666,
             "#ed7953"
            ],
            [
             0.7777777777777778,
             "#fb9f3a"
            ],
            [
             0.8888888888888888,
             "#fdca26"
            ],
            [
             1,
             "#f0f921"
            ]
           ],
           "sequentialminus": [
            [
             0,
             "#0d0887"
            ],
            [
             0.1111111111111111,
             "#46039f"
            ],
            [
             0.2222222222222222,
             "#7201a8"
            ],
            [
             0.3333333333333333,
             "#9c179e"
            ],
            [
             0.4444444444444444,
             "#bd3786"
            ],
            [
             0.5555555555555556,
             "#d8576b"
            ],
            [
             0.6666666666666666,
             "#ed7953"
            ],
            [
             0.7777777777777778,
             "#fb9f3a"
            ],
            [
             0.8888888888888888,
             "#fdca26"
            ],
            [
             1,
             "#f0f921"
            ]
           ]
          },
          "colorway": [
           "#636efa",
           "#EF553B",
           "#00cc96",
           "#ab63fa",
           "#FFA15A",
           "#19d3f3",
           "#FF6692",
           "#B6E880",
           "#FF97FF",
           "#FECB52"
          ],
          "font": {
           "color": "#2a3f5f"
          },
          "geo": {
           "bgcolor": "white",
           "lakecolor": "white",
           "landcolor": "#E5ECF6",
           "showlakes": true,
           "showland": true,
           "subunitcolor": "white"
          },
          "hoverlabel": {
           "align": "left"
          },
          "hovermode": "closest",
          "mapbox": {
           "style": "light"
          },
          "paper_bgcolor": "white",
          "plot_bgcolor": "#E5ECF6",
          "polar": {
           "angularaxis": {
            "gridcolor": "white",
            "linecolor": "white",
            "ticks": ""
           },
           "bgcolor": "#E5ECF6",
           "radialaxis": {
            "gridcolor": "white",
            "linecolor": "white",
            "ticks": ""
           }
          },
          "scene": {
           "xaxis": {
            "backgroundcolor": "#E5ECF6",
            "gridcolor": "white",
            "gridwidth": 2,
            "linecolor": "white",
            "showbackground": true,
            "ticks": "",
            "zerolinecolor": "white"
           },
           "yaxis": {
            "backgroundcolor": "#E5ECF6",
            "gridcolor": "white",
            "gridwidth": 2,
            "linecolor": "white",
            "showbackground": true,
            "ticks": "",
            "zerolinecolor": "white"
           },
           "zaxis": {
            "backgroundcolor": "#E5ECF6",
            "gridcolor": "white",
            "gridwidth": 2,
            "linecolor": "white",
            "showbackground": true,
            "ticks": "",
            "zerolinecolor": "white"
           }
          },
          "shapedefaults": {
           "line": {
            "color": "#2a3f5f"
           }
          },
          "ternary": {
           "aaxis": {
            "gridcolor": "white",
            "linecolor": "white",
            "ticks": ""
           },
           "baxis": {
            "gridcolor": "white",
            "linecolor": "white",
            "ticks": ""
           },
           "bgcolor": "#E5ECF6",
           "caxis": {
            "gridcolor": "white",
            "linecolor": "white",
            "ticks": ""
           }
          },
          "title": {
           "x": 0.05
          },
          "xaxis": {
           "automargin": true,
           "gridcolor": "white",
           "linecolor": "white",
           "ticks": "",
           "title": {
            "standoff": 15
           },
           "zerolinecolor": "white",
           "zerolinewidth": 2
          },
          "yaxis": {
           "automargin": true,
           "gridcolor": "white",
           "linecolor": "white",
           "ticks": "",
           "title": {
            "standoff": 15
           },
           "zerolinecolor": "white",
           "zerolinewidth": 2
          }
         }
        },
        "xaxis": {
         "anchor": "y",
         "domain": [
          0,
          1
         ],
         "range": [
          -180,
          180
         ],
         "title": {
          "text": "Longitude"
         },
         "type": "linear"
        },
        "yaxis": {
         "anchor": "x",
         "domain": [
          0,
          1
         ],
         "range": [
          -90,
          90
         ],
         "title": {
          "text": "Latitude"
         },
         "type": "linear"
        }
       }
      },
      "image/png": "[encoded data removed]",
      "text/html": [
       "<div>                            <div id=\"a32435fa-bf10-43a7-96ef-ebf375c3c89c\" class=\"plotly-graph-div\" style=\"height:525px; width:100%;\"></div>            <script type=\"text/javascript\">                require([\"plotly\"], function(Plotly) {                    window.PLOTLYENV=window.PLOTLYENV || {};                                    if (document.getElementById(\"a32435fa-bf10-43a7-96ef-ebf375c3c89c\")) {                    Plotly.newPlot(                        \"a32435fa-bf10-43a7-96ef-ebf375c3c89c\",                        [{\"customdata\":[[\"Aruba\"],[\"Anguilla\"],[\"Argentina\"],[\"American Samoa\"],[\"Antigua and Barb.\"],[\"Canada\"],[\"Bahamas\"],[\"St-Barth\\u00c3\\u00a9lemy\"],[\"Belize\"],[\"Bermuda\"],[\"Bolivia\"],[\"Brazil\"],[\"Barbados\"],[\"Chile\"],[\"Cook Is.\"],[\"Colombia\"],[\"Cape Verde\"],[\"Costa Rica\"],[\"Cuba\"],[\"Cura\\u00c3\\u00a7ao\"],[\"Cayman Is.\"],[\"Dominica\"],[\"Dominican Rep.\"],[\"Ecuador\"],[\"Falkland Is.\"],[\"Grenada\"],[\"Greenland\"],[\"Guatemala\"],[\"Guyana\"],[\"Honduras\"],[\"Haiti\"],[\"Jamaica\"],[\"Kiribati\"],[\"St. Kitts and Nevis\"],[\"Saint Lucia\"],[\"St-Martin\"],[\"Mexico\"],[\"Montserrat\"],[\"Nicaragua\"],[\"Niue\"],[\"Panama\"],[\"Pitcairn Is.\"],[\"Peru\"],[\"Puerto Rico\"],[\"Paraguay\"],[\"Fr. Polynesia\"],[\"S. Geo. and S. Sandw. Is.\"],[\"El Salvador\"],[\"St. Pierre and Miquelon\"],[\"Suriname\"],[\"Sint Maarten\"],[\"Turks and Caicos Is.\"],[\"Tonga\"],[\"Trinidad and Tobago\"],[\"Uruguay\"],[\"United States\"],[\"St. Vin. and Gren.\"],[\"Venezuela\"],[\"British Virgin Is.\"],[\"U.S. Virgin Is.\"],[\"Wallis and Futuna Is.\"],[\"Samoa\"]],\"hovertemplate\":\"Cluster=1<br>Longitude=%{x}<br>Latitude=%{y}<br>Country=%{customdata[0]}<extra></extra>\",\"legendgroup\":\"1\",\"marker\":{\"color\":\"#636efa\",\"symbol\":\"circle\"},\"mode\":\"markers\",\"name\":\"1\",\"orientation\":\"v\",\"showlegend\":true,\"type\":\"scatter\",\"x\":[-69.98267711,-63.06498927,-65.17980692,-170.7180258,-61.79469343,-98.30777028,-76.62843038,-62.84067779,-88.71010486,-64.7545589,-64.68538645,-53.09783113,-59.559797,-71.38256213,-159.7872422,-73.08114582,-23.9598882,-84.19208768,-79.01605384,-68.97119369,-80.91213321,-61.357726,-70.50568896,-78.75201922,-59.35238956,-61.68220189,-41.34191127,-90.36482009,-58.98202459,-86.6151661,-72.68527509,-77.31482593,-45.61110513,-62.68755265,-60.96969923,-63.05972851,-102.5234517,-62.18518546,-85.0305297,-169.8699468,-80.11915156,-128.317042,-74.38242685,-66.47307604,-58.40013703,-144.9049439,-36.43318388,-88.87164469,-56.30319779,-55.9123457,-63.05713363,-71.97387881,-174.8098734,-61.26567923,-56.01807053,-112.4616737,-61.20129695,-66.18184123,-64.47146992,-64.80301538,-177.3483483,-172.1648506],\"xaxis\":\"x\",\"y\":[12.52088038,18.2239595,-35.3813488,-14.30445997,17.2774996,61.36206324,24.29036702,17.89880451,17.20027509,32.31367802,-16.70814787,-10.78777702,13.18145428,-37.73070989,-21.21927288,3.91383431,15.95523324,9.97634464,21.62289528,12.19551675,19.42896497,15.4394702,18.89433082,-1.42381612,-51.74483954,12.11725044,74.71051289,15.69403664,4.79378034,14.82688165,18.93502563,18.15694878,0.86001503,17.2645995,13.89479481,18.08888611,23.94753724,16.73941406,12.84709429,-19.04945708,8.51750797,-24.36500535,-9.15280381,18.22813055,-23.22823913,-14.72227409,-54.46488248,13.73943744,46.91918789,4.13055413,18.05081728,21.83047572,-20.42843174,10.45733408,-32.79951534,45.6795472,13.22472269,7.12422421,18.52585755,17.95500624,-13.88737039,-13.75324346],\"yaxis\":\"y\"},{\"customdata\":[[\"Afghanistan\"],[\"Angola\"],[\"Albania\"],[\"Aland\"],[\"Andorra\"],[\"United Arab Emirates\"],[\"Armenia\"],[\"Antarctica\"],[\"Ashmore and Cartier Is.\"],[\"Fr. S. Antarctic Lands\"],[\"Australia\"],[\"Austria\"],[\"Azerbaijan\"],[\"Burundi\"],[\"Belgium\"],[\"Benin\"],[\"Burkina Faso\"],[\"Bangladesh\"],[\"Bulgaria\"],[\"Bahrain\"],[\"Bosnia and Herz.\"],[\"Belarus\"],[\"Brunei\"],[\"Bhutan\"],[\"Botswana\"],[\"Central African Rep.\"],[\"Switzerland\"],[\"China\"],[\"C\\u00c3\\u00b4te d'Ivoire\"],[\"Cameroon\"],[\"Dem. Rep. Congo\"],[\"Congo\"],[\"Comoros\"],[\"N. Cyprus\"],[\"Cyprus\"],[\"Czech Rep.\"],[\"Germany\"],[\"Djibouti\"],[\"Denmark\"],[\"Algeria\"],[\"Egypt\"],[\"Eritrea\"],[\"Spain\"],[\"Estonia\"],[\"Ethiopia\"],[\"Finland\"],[\"Fiji\"],[\"France\"],[\"Faeroe Is.\"],[\"Micronesia\"],[\"Gabon\"],[\"United Kingdom\"],[\"Georgia\"],[\"Guernsey\"],[\"Ghana\"],[\"Guinea\"],[\"Gambia\"],[\"Guinea-Bissau\"],[\"Eq. Guinea\"],[\"Greece\"],[\"Guam\"],[\"Hong Kong\"],[\"Heard I. and McDonald Is.\"],[\"Croatia\"],[\"Hungary\"],[\"Indonesia\"],[\"Isle of Man\"],[\"India\"],[\"Indian Ocean Ter.\"],[\"Br. Indian Ocean Ter.\"],[\"Ireland\"],[\"Iran\"],[\"Iraq\"],[\"Iceland\"],[\"Israel\"],[\"Italy\"],[\"Jersey\"],[\"Jordan\"],[\"Japan\"],[\"Siachen Glacier\"],[\"Kazakhstan\"],[\"Kenya\"],[\"Kyrgyzstan\"],[\"Cambodia\"],[\"Korea\"],[\"Kosovo\"],[\"Kuwait\"],[\"Lao PDR\"],[\"Lebanon\"],[\"Liberia\"],[\"Libya\"],[\"Liechtenstein\"],[\"Sri Lanka\"],[\"Lesotho\"],[\"Lithuania\"],[\"Luxembourg\"],[\"Latvia\"],[\"Macao\"],[\"Morocco\"],[\"Monaco\"],[\"Moldova\"],[\"Madagascar\"],[\"Maldives\"],[\"Marshall Is.\"],[\"Macedonia\"],[\"Mali\"],[\"Malta\"],[\"Myanmar\"],[\"Montenegro\"],[\"Mongolia\"],[\"N. Mariana Is.\"],[\"Mozambique\"],[\"Mauritania\"],[\"Mauritius\"],[\"Malawi\"],[\"Malaysia\"],[\"Namibia\"],[\"New Caledonia\"],[\"Niger\"],[\"Norfolk Island\"],[\"Nigeria\"],[\"Netherlands\"],[\"Norway\"],[\"Nepal\"],[\"Nauru\"],[\"New Zealand\"],[\"Oman\"],[\"Pakistan\"],[\"Philippines\"],[\"Palau\"],[\"Papua New Guinea\"],[\"Poland\"],[\"Dem. Rep. Korea\"],[\"Portugal\"],[\"Palestine\"],[\"Qatar\"],[\"Romania\"],[\"Russia\"],[\"Rwanda\"],[\"W. Sahara\"],[\"Saudi Arabia\"],[\"Sudan\"],[\"S. Sudan\"],[\"Senegal\"],[\"Singapore\"],[\"Saint Helena\"],[\"Solomon Is.\"],[\"Sierra Leone\"],[\"San Marino\"],[\"Somaliland\"],[\"Somalia\"],[\"Serbia\"],[\"S\\u00c3\\u00a3o Tom\\u00c3\\u00a9 and Principe\"],[\"Slovakia\"],[\"Slovenia\"],[\"Sweden\"],[\"Swaziland\"],[\"Seychelles\"],[\"Syria\"],[\"Chad\"],[\"Togo\"],[\"Thailand\"],[\"Tajikistan\"],[\"Turkmenistan\"],[\"Timor-Leste\"],[\"Tunisia\"],[\"Turkey\"],[\"Taiwan\"],[\"Tanzania\"],[\"Uganda\"],[\"Ukraine\"],[\"Uzbekistan\"],[\"Vatican\"],[\"Vietnam\"],[\"Vanuatu\"],[\"Yemen\"],[\"South Africa\"],[\"Zambia\"],[\"Zimbabwe\"]],\"hovertemplate\":\"Cluster=0<br>Longitude=%{x}<br>Latitude=%{y}<br>Country=%{customdata[0]}<extra></extra>\",\"legendgroup\":\"0\",\"marker\":{\"color\":\"#EF553B\",\"symbol\":\"circle\"},\"mode\":\"markers\",\"name\":\"0\",\"orientation\":\"v\",\"showlegend\":true,\"type\":\"scatter\",\"x\":[66.00473366,17.53736768,20.04983396,19.95328768,1.56054378,54.3001671,44.92993276,19.92108951,123.5838379,69.22666758,134.4910001,14.1264761,47.54599879,29.87512156,4.64065114,2.32785254,-1.75456601,90.23812743,25.21552909,50.54196932,17.76876733,28.03209307,114.7220304,90.40188155,23.79853368,20.46826831,8.20867471,103.8190735,-5.5692157,12.73964156,23.64396107,15.21965762,43.68253968,33.5684813,33.0060022,15.31240163,10.38578051,42.5606754,10.02800992,2.61732301,29.86190099,38.84617011,-3.64755047,25.54248537,39.60080098,26.2746656,165.4519543,-2.76172945,-6.88095423,153.2394379,11.7886287,-2.86563164,43.50780252,-2.57239064,-1.21676566,-10.94066612,-15.39601295,-14.94972445,10.34137924,22.95555794,144.7679102,114.1138045,73.5205171,16.40412899,19.39559116,117.2401137,-4.53873952,79.6119761,104.851898,72.44541229,-8.13793569,54.27407004,43.74353149,-18.57396167,35.00444693,12.07001339,-2.12689938,36.77136104,138.0308956,77.18011865,67.29149357,37.79593973,74.54165513,104.9069433,127.8391609,20.87249811,47.58700459,103.7377241,35.88016072,-9.32207573,18.00866169,9.53574312,80.70108238,28.22723131,23.88719355,6.07182201,24.91235983,113.5093212,-8.45615795,7.40627677,28.45673372,46.70473674,73.45713004,170.3397612,21.68211346,-3.54269065,14.40523316,96.48843321,19.23883939,103.0529977,145.6196965,35.53367543,-10.34779815,57.57120551,34.28935599,109.6976228,17.20963567,165.6849237,9.38545882,167.9492168,8.08943895,5.28144793,15.34834656,83.9158264,166.9325682,171.4849235,56.09166155,69.33957937,122.8839325,134.4080797,145.2074475,19.39012835,127.1924797,-8.50104361,35.19628705,51.18479632,24.97293039,96.68656112,29.91988515,-12.21982755,44.53686271,29.94046812,30.24790002,-14.4734924,103.8172559,-9.54779416,159.6328767,-11.79271247,12.45922334,46.25198395,45.70714487,20.78958334,6.72429658,19.47905218,14.80444238,16.74558049,31.4819369,55.47603279,38.50788204,18.64492513,0.96232845,101.0028813,71.01362631,59.37100021,125.8443898,9.55288359,35.16895346,120.9542728,34.81309981,32.36907971,31.38326469,63.14001528,12.43387177,106.299147,167.6864464,47.58676189,25.08390093,27.77475946,29.8514412],\"xaxis\":\"x\",\"y\":[33.83523073,-12.29336054,41.14244989,60.21488688,42.54229102,23.90528188,40.28952569,-80.50857913,-12.42993164,-49.24895485,-25.73288704,47.58549439,40.28827235,-3.35939666,50.63981576,9.6417597,12.26953846,23.86731158,42.76890318,26.04205135,44.17450125,53.53131377,4.51968958,27.41106589,-22.18403213,6.56823297,46.79785878,36.56176546,7.6284262,5.69109849,-2.87746289,-0.83787463,-11.87783444,35.26277486,34.91667211,49.73341233,51.10698181,11.74871806,55.98125296,28.15893849,26.49593311,15.36186618,40.24448698,58.67192972,8.62278679,64.49884603,-17.42858032,42.17344011,62.05385403,7.45246814,-0.58660025,54.12387156,42.16855755,49.46809761,7.95345644,10.43621593,13.44965244,12.04744948,1.70555135,39.07469623,13.44165626,22.39827737,-53.08724656,45.08047631,47.16277506,-2.21505456,54.22418911,22.88578212,-10.6478515,-7.33059751,53.1754487,32.57503292,33.03970582,64.99575386,31.46110101,42.79662641,49.21837377,31.24579091,37.59230135,35.39236325,48.15688067,0.59988022,41.46221943,12.72004786,36.38523983,42.57078707,29.33431262,18.50217433,33.92306631,6.45278492,27.03094495,47.13665835,7.61266509,-29.58003188,55.32610984,49.76725361,56.85085163,22.22311688,29.83762955,43.75274627,47.19498804,-19.37189587,3.7287092,7.00376358,41.59530893,17.34581581,35.92149632,21.18566599,42.78890259,46.82681544,15.82927563,-17.27381643,20.25736706,-20.27768704,-13.21808088,3.78986846,-22.13032568,-21.29991806,17.41912493,-29.0514609,9.59411452,52.1007899,68.75015572,28.24891365,-0.51912639,-41.81113557,20.60515333,29.9497515,11.77536778,7.28742784,-6.46416646,52.12759564,40.15350311,39.59550671,31.91613893,25.30601188,45.85243127,61.98052209,-1.99033832,24.22956739,24.12245841,15.99035669,7.30877945,14.36624173,1.35876087,-12.40355951,-8.92178022,8.56329593,43.94186747,9.73345496,4.75062876,44.2215032,0.44391445,48.70547528,46.11554772,62.77966519,-26.55843045,-4.66099094,35.02547389,15.33333758,8.52531356,15.11815794,38.5304539,39.11554137,-8.82889162,34.11956246,39.0616029,23.7539928,-6.27565408,1.27469299,48.99656673,41.75554225,41.90174985,16.6460167,-16.22640909,15.90928005,-29.00034095,-13.45824152,-19.00420419],\"yaxis\":\"y\"}],                        {\"legend\":{\"title\":{\"text\":\"Cluster\"},\"tracegroupgap\":0},\"margin\":{\"t\":60},\"template\":{\"data\":{\"bar\":[{\"error_x\":{\"color\":\"#2a3f5f\"},\"error_y\":{\"color\":\"#2a3f5f\"},\"marker\":{\"line\":{\"color\":\"#E5ECF6\",\"width\":0.5},\"pattern\":{\"fillmode\":\"overlay\",\"size\":10,\"solidity\":0.2}},\"type\":\"bar\"}],\"barpolar\":[{\"marker\":{\"line\":{\"color\":\"#E5ECF6\",\"width\":0.5},\"pattern\":{\"fillmode\":\"overlay\",\"size\":10,\"solidity\":0.2}},\"type\":\"barpolar\"}],\"carpet\":[{\"aaxis\":{\"endlinecolor\":\"#2a3f5f\",\"gridcolor\":\"white\",\"linecolor\":\"white\",\"minorgridcolor\":\"white\",\"startlinecolor\":\"#2a3f5f\"},\"baxis\":{\"endlinecolor\":\"#2a3f5f\",\"gridcolor\":\"white\",\"linecolor\":\"white\",\"minorgridcolor\":\"white\",\"startlinecolor\":\"#2a3f5f\"},\"type\":\"carpet\"}],\"choropleth\":[{\"colorbar\":{\"outlinewidth\":0,\"ticks\":\"\"},\"type\":\"choropleth\"}],\"contour\":[{\"colorbar\":{\"outlinewidth\":0,\"ticks\":\"\"},\"colorscale\":[[0.0,\"#0d0887\"],[0.1111111111111111,\"#46039f\"],[0.2222222222222222,\"#7201a8\"],[0.3333333333333333,\"#9c179e\"],[0.4444444444444444,\"#bd3786\"],[0.5555555555555556,\"#d8576b\"],[0.6666666666666666,\"#ed7953\"],[0.7777777777777778,\"#fb9f3a\"],[0.8888888888888888,\"#fdca26\"],[1.0,\"#f0f921\"]],\"type\":\"contour\"}],\"contourcarpet\":[{\"colorbar\":{\"outlinewidth\":0,\"ticks\":\"\"},\"type\":\"contourcarpet\"}],\"heatmap\":[{\"colorbar\":{\"outlinewidth\":0,\"ticks\":\"\"},\"colorscale\":[[0.0,\"#0d0887\"],[0.1111111111111111,\"#46039f\"],[0.2222222222222222,\"#7201a8\"],[0.3333333333333333,\"#9c179e\"],[0.4444444444444444,\"#bd3786\"],[0.5555555555555556,\"#d8576b\"],[0.6666666666666666,\"#ed7953\"],[0.7777777777777778,\"#fb9f3a\"],[0.8888888888888888,\"#fdca26\"],[1.0,\"#f0f921\"]],\"type\":\"heatmap\"}],\"heatmapgl\":[{\"colorbar\":{\"outlinewidth\":0,\"ticks\":\"\"},\"colorscale\":[[0.0,\"#0d0887\"],[0.1111111111111111,\"#46039f\"],[0.2222222222222222,\"#7201a8\"],[0.3333333333333333,\"#9c179e\"],[0.4444444444444444,\"#bd3786\"],[0.5555555555555556,\"#d8576b\"],[0.6666666666666666,\"#ed7953\"],[0.7777777777777778,\"#fb9f3a\"],[0.8888888888888888,\"#fdca26\"],[1.0,\"#f0f921\"]],\"type\":\"heatmapgl\"}],\"histogram\":[{\"marker\":{\"pattern\":{\"fillmode\":\"overlay\",\"size\":10,\"solidity\":0.2}},\"type\":\"histogram\"}],\"histogram2d\":[{\"colorbar\":{\"outlinewidth\":0,\"ticks\":\"\"},\"colorscale\":[[0.0,\"#0d0887\"],[0.1111111111111111,\"#46039f\"],[0.2222222222222222,\"#7201a8\"],[0.3333333333333333,\"#9c179e\"],[0.4444444444444444,\"#bd3786\"],[0.5555555555555556,\"#d8576b\"],[0.6666666666666666,\"#ed7953\"],[0.7777777777777778,\"#fb9f3a\"],[0.8888888888888888,\"#fdca26\"],[1.0,\"#f0f921\"]],\"type\":\"histogram2d\"}],\"histogram2dcontour\":[{\"colorbar\":{\"outlinewidth\":0,\"ticks\":\"\"},\"colorscale\":[[0.0,\"#0d0887\"],[0.1111111111111111,\"#46039f\"],[0.2222222222222222,\"#7201a8\"],[0.3333333333333333,\"#9c179e\"],[0.4444444444444444,\"#bd3786\"],[0.5555555555555556,\"#d8576b\"],[0.6666666666666666,\"#ed7953\"],[0.7777777777777778,\"#fb9f3a\"],[0.8888888888888888,\"#fdca26\"],[1.0,\"#f0f921\"]],\"type\":\"histogram2dcontour\"}],\"mesh3d\":[{\"colorbar\":{\"outlinewidth\":0,\"ticks\":\"\"},\"type\":\"mesh3d\"}],\"parcoords\":[{\"line\":{\"colorbar\":{\"outlinewidth\":0,\"ticks\":\"\"}},\"type\":\"parcoords\"}],\"pie\":[{\"automargin\":true,\"type\":\"pie\"}],\"scatter\":[{\"marker\":{\"colorbar\":{\"outlinewidth\":0,\"ticks\":\"\"}},\"type\":\"scatter\"}],\"scatter3d\":[{\"line\":{\"colorbar\":{\"outlinewidth\":0,\"ticks\":\"\"}},\"marker\":{\"colorbar\":{\"outlinewidth\":0,\"ticks\":\"\"}},\"type\":\"scatter3d\"}],\"scattercarpet\":[{\"marker\":{\"colorbar\":{\"outlinewidth\":0,\"ticks\":\"\"}},\"type\":\"scattercarpet\"}],\"scattergeo\":[{\"marker\":{\"colorbar\":{\"outlinewidth\":0,\"ticks\":\"\"}},\"type\":\"scattergeo\"}],\"scattergl\":[{\"marker\":{\"colorbar\":{\"outlinewidth\":0,\"ticks\":\"\"}},\"type\":\"scattergl\"}],\"scattermapbox\":[{\"marker\":{\"colorbar\":{\"outlinewidth\":0,\"ticks\":\"\"}},\"type\":\"scattermapbox\"}],\"scatterpolar\":[{\"marker\":{\"colorbar\":{\"outlinewidth\":0,\"ticks\":\"\"}},\"type\":\"scatterpolar\"}],\"scatterpolargl\":[{\"marker\":{\"colorbar\":{\"outlinewidth\":0,\"ticks\":\"\"}},\"type\":\"scatterpolargl\"}],\"scatterternary\":[{\"marker\":{\"colorbar\":{\"outlinewidth\":0,\"ticks\":\"\"}},\"type\":\"scatterternary\"}],\"surface\":[{\"colorbar\":{\"outlinewidth\":0,\"ticks\":\"\"},\"colorscale\":[[0.0,\"#0d0887\"],[0.1111111111111111,\"#46039f\"],[0.2222222222222222,\"#7201a8\"],[0.3333333333333333,\"#9c179e\"],[0.4444444444444444,\"#bd3786\"],[0.5555555555555556,\"#d8576b\"],[0.6666666666666666,\"#ed7953\"],[0.7777777777777778,\"#fb9f3a\"],[0.8888888888888888,\"#fdca26\"],[1.0,\"#f0f921\"]],\"type\":\"surface\"}],\"table\":[{\"cells\":{\"fill\":{\"color\":\"#EBF0F8\"},\"line\":{\"color\":\"white\"}},\"header\":{\"fill\":{\"color\":\"#C8D4E3\"},\"line\":{\"color\":\"white\"}},\"type\":\"table\"}]},\"layout\":{\"annotationdefaults\":{\"arrowcolor\":\"#2a3f5f\",\"arrowhead\":0,\"arrowwidth\":1},\"autotypenumbers\":\"strict\",\"coloraxis\":{\"colorbar\":{\"outlinewidth\":0,\"ticks\":\"\"}},\"colorscale\":{\"diverging\":[[0,\"#8e0152\"],[0.1,\"#c51b7d\"],[0.2,\"#de77ae\"],[0.3,\"#f1b6da\"],[0.4,\"#fde0ef\"],[0.5,\"#f7f7f7\"],[0.6,\"#e6f5d0\"],[0.7,\"#b8e186\"],[0.8,\"#7fbc41\"],[0.9,\"#4d9221\"],[1,\"#276419\"]],\"sequential\":[[0.0,\"#0d0887\"],[0.1111111111111111,\"#46039f\"],[0.2222222222222222,\"#7201a8\"],[0.3333333333333333,\"#9c179e\"],[0.4444444444444444,\"#bd3786\"],[0.5555555555555556,\"#d8576b\"],[0.6666666666666666,\"#ed7953\"],[0.7777777777777778,\"#fb9f3a\"],[0.8888888888888888,\"#fdca26\"],[1.0,\"#f0f921\"]],\"sequentialminus\":[[0.0,\"#0d0887\"],[0.1111111111111111,\"#46039f\"],[0.2222222222222222,\"#7201a8\"],[0.3333333333333333,\"#9c179e\"],[0.4444444444444444,\"#bd3786\"],[0.5555555555555556,\"#d8576b\"],[0.6666666666666666,\"#ed7953\"],[0.7777777777777778,\"#fb9f3a\"],[0.8888888888888888,\"#fdca26\"],[1.0,\"#f0f921\"]]},\"colorway\":[\"#636efa\",\"#EF553B\",\"#00cc96\",\"#ab63fa\",\"#FFA15A\",\"#19d3f3\",\"#FF6692\",\"#B6E880\",\"#FF97FF\",\"#FECB52\"],\"font\":{\"color\":\"#2a3f5f\"},\"geo\":{\"bgcolor\":\"white\",\"lakecolor\":\"white\",\"landcolor\":\"#E5ECF6\",\"showlakes\":true,\"showland\":true,\"subunitcolor\":\"white\"},\"hoverlabel\":{\"align\":\"left\"},\"hovermode\":\"closest\",\"mapbox\":{\"style\":\"light\"},\"paper_bgcolor\":\"white\",\"plot_bgcolor\":\"#E5ECF6\",\"polar\":{\"angularaxis\":{\"gridcolor\":\"white\",\"linecolor\":\"white\",\"ticks\":\"\"},\"bgcolor\":\"#E5ECF6\",\"radialaxis\":{\"gridcolor\":\"white\",\"linecolor\":\"white\",\"ticks\":\"\"}},\"scene\":{\"xaxis\":{\"backgroundcolor\":\"#E5ECF6\",\"gridcolor\":\"white\",\"gridwidth\":2,\"linecolor\":\"white\",\"showbackground\":true,\"ticks\":\"\",\"zerolinecolor\":\"white\"},\"yaxis\":{\"backgroundcolor\":\"#E5ECF6\",\"gridcolor\":\"white\",\"gridwidth\":2,\"linecolor\":\"white\",\"showbackground\":true,\"ticks\":\"\",\"zerolinecolor\":\"white\"},\"zaxis\":{\"backgroundcolor\":\"#E5ECF6\",\"gridcolor\":\"white\",\"gridwidth\":2,\"linecolor\":\"white\",\"showbackground\":true,\"ticks\":\"\",\"zerolinecolor\":\"white\"}},\"shapedefaults\":{\"line\":{\"color\":\"#2a3f5f\"}},\"ternary\":{\"aaxis\":{\"gridcolor\":\"white\",\"linecolor\":\"white\",\"ticks\":\"\"},\"baxis\":{\"gridcolor\":\"white\",\"linecolor\":\"white\",\"ticks\":\"\"},\"bgcolor\":\"#E5ECF6\",\"caxis\":{\"gridcolor\":\"white\",\"linecolor\":\"white\",\"ticks\":\"\"}},\"title\":{\"x\":0.05},\"xaxis\":{\"automargin\":true,\"gridcolor\":\"white\",\"linecolor\":\"white\",\"ticks\":\"\",\"title\":{\"standoff\":15},\"zerolinecolor\":\"white\",\"zerolinewidth\":2},\"yaxis\":{\"automargin\":true,\"gridcolor\":\"white\",\"linecolor\":\"white\",\"ticks\":\"\",\"title\":{\"standoff\":15},\"zerolinecolor\":\"white\",\"zerolinewidth\":2}}},\"xaxis\":{\"anchor\":\"y\",\"domain\":[0.0,1.0],\"range\":[-180,180],\"title\":{\"text\":\"Longitude\"}},\"yaxis\":{\"anchor\":\"x\",\"domain\":[0.0,1.0],\"range\":[-90,90],\"title\":{\"text\":\"Latitude\"}}},                        {\"responsive\": true}                    ).then(function(){\n",
       "                            \n",
       "var gd = document.getElementById('a32435fa-bf10-43a7-96ef-ebf375c3c89c');\n",
       "var x = new MutationObserver(function (mutations, observer) {{\n",
       "        var display = window.getComputedStyle(gd).display;\n",
       "        if (!display || display === 'none') {{\n",
       "            console.log([gd, 'removed!']);\n",
       "            Plotly.purge(gd);\n",
       "            observer.disconnect();\n",
       "        }}\n",
       "}});\n",
       "\n",
       "// Listen for the removal of the full notebook cells\n",
       "var notebookContainer = gd.closest('#notebook-container');\n",
       "if (notebookContainer) {{\n",
       "    x.observe(notebookContainer, {childList: true});\n",
       "}}\n",
       "\n",
       "// Listen for the clearing of the current output cell\n",
       "var outputEl = gd.closest('.output');\n",
       "if (outputEl) {{\n",
       "    x.observe(outputEl, {childList: true});\n",
       "}}\n",
       "\n",
       "                        })                };                });            </script>        </div>"
      ]
     },
     "metadata": {},
     "output_type": "display_data"
    }
   ],
   "source": [
    "#Graficar los datos utilizando la longitud y latitud\n",
    "# color es un argumento que se puede codificar con una variable\n",
    "# Todos los puntos en cada cluster tendran el mismo color\n",
    "\n",
    "datos_con_clusters[\"Cluster\"] = datos_con_clusters[\"Cluster\"].astype(\"category\")\n",
    "\n",
    "fig = px.scatter(datos_con_clusters, \n",
    "                 x = \"Longitude\", \n",
    "                 y = \"Latitude\", \n",
    "                 color = \"Cluster\",\n",
    "#                 size='', \n",
    "                 hover_data = ['Country']\n",
    "                )\n",
    "fig.update_xaxes(range=[-180, 180])\n",
    "fig.update_yaxes(range=[-90, 90])\n",
    "\n",
    "fig.show()"
   ]
  },
  {
   "cell_type": "markdown",
   "metadata": {},
   "source": [
    "### Y, si queremos con tres grupos???\n",
    "\n",
    "Lo único que hay que hacer es cambiar el 2 por el 3 y repetir todos los pasos"
   ]
  },
  {
   "cell_type": "code",
   "execution_count": null,
   "metadata": {},
   "outputs": [],
   "source": []
  }
 ],
 "metadata": {
  "kernelspec": {
   "display_name": "Python 3",
   "language": "python",
   "name": "python3"
  },
  "language_info": {
   "codemirror_mode": {
    "name": "ipython",
    "version": 3
   },
   "file_extension": ".py",
   "mimetype": "text/x-python",
   "name": "python",
   "nbconvert_exporter": "python",
   "pygments_lexer": "ipython3",
   "version": "3.7.10"
  }
 },
 "nbformat": 4,
 "nbformat_minor": 4
}
