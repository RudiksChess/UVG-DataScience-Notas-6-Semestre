{
 "cells": [
  {
   "cell_type": "markdown",
   "id": "d74a5940-e2ac-47c7-a041-db9c0e5941d6",
   "metadata": {},
   "source": [
    "## Elementos básicos de Clustering\n",
    "\n",
    "Hasta ahora, para hacer el K_Means Clustering, hemos asignado el número de clusters (K) al azar.  Esto está bien para entender mejor el algoritmo pero debiera haber una forma automatizada de hacerlo...y lo hay.  Hay varias formas, pero utilizaremos el método del codo o \"elbow\"."
   ]
  },
  {
   "cell_type": "markdown",
   "id": "a1bab1d9-16fe-498b-8d1a-d071073fc303",
   "metadata": {},
   "source": [
    "## Importación de librerías relevantes"
   ]
  },
  {
   "cell_type": "code",
   "execution_count": null,
   "id": "755f0a62-4711-4a26-844f-9e340ea19743",
   "metadata": {},
   "outputs": [],
   "source": [
    "import pandas as pd\n",
    "import plotly.express as px\n",
    "from kneed import KneeLocator\n",
    "from sklearn.datasets import make_blobs\n",
    "from sklearn.cluster import KMeans\n",
    "from sklearn.preprocessing import StandardScaler"
   ]
  },
  {
   "cell_type": "markdown",
   "id": "7119e0e2-1fc3-4139-8bbf-59ebb0a1530e",
   "metadata": {},
   "source": [
    "## Generación de datos sintéticos\n",
    "\n",
    "Para ver cómo es el metodo, necesitamos unos datos. \n",
    "\n",
    "Generamos algunos datos utilizando una función de \"conveniencia\" que provee sklearn **make_blobs()**.  Esta función utiliza estos parámetros:\n",
    "\n",
    "* **n_samples**    el número total de observaciones que se desean generar.\n",
    "* **centers**      el número de centroides a generar.\n",
    "* **cluster_std**  la desviación standard.\n",
    "\n",
    "**make_blobs()** devuelve una tupla de dos valores:\n",
    "\n",
    "* Un arreglo NumPy bi-dimensional con los valores x - y para cada una de las observaciones.\n",
    "* Un arreglo NumPy uni-dimensional con las etiquetas del cluster al que pertenece cada observación."
   ]
  },
  {
   "cell_type": "code",
   "execution_count": null,
   "id": "68709cfa-d3f9-4aad-a9d0-c564a9b17499",
   "metadata": {},
   "outputs": [],
   "source": [
    "features, etiquetas = make_blobs(\n",
    "    n_samples=200,\n",
    "    centers=3,\n",
    "    cluster_std=2.75,\n",
    "    random_state=42\n",
    ")"
   ]
  },
  {
   "cell_type": "markdown",
   "id": "d42b379a-a6be-4814-86c1-f910f061031d",
   "metadata": {},
   "source": [
    "Verificación de los datos generados"
   ]
  },
  {
   "cell_type": "code",
   "execution_count": null,
   "id": "acb03684-86a2-45f6-b722-d2e6d03f05cc",
   "metadata": {},
   "outputs": [],
   "source": [
    "features[:5]"
   ]
  },
  {
   "cell_type": "code",
   "execution_count": null,
   "id": "992d8549-0cbb-416c-970c-6eca85f064f3",
   "metadata": {},
   "outputs": [],
   "source": [
    "etiquetas[:5]"
   ]
  },
  {
   "cell_type": "markdown",
   "id": "c7a4c3f1-71fa-4c08-a98c-d0f91c80ff9c",
   "metadata": {},
   "source": [
    "Es buena práctica estandarizar los datos"
   ]
  },
  {
   "cell_type": "code",
   "execution_count": null,
   "id": "71eb739c-0328-4c32-8de3-5af294f2f490",
   "metadata": {},
   "outputs": [],
   "source": [
    "escalador = StandardScaler()\n",
    "datos_escalados = escalador.fit_transform(features)\n",
    "datos_escalados[:5]"
   ]
  },
  {
   "cell_type": "markdown",
   "id": "d26b9910-a2d1-4169-b56e-98cac8848c5f",
   "metadata": {},
   "source": [
    "## Iteraciones de K-Means\n",
    "\n",
    "Cada vez que se ejecuta el método de K-Means, al terminar, calcula el valor de la suma de los errores cuadrados, o SSE (por sus siglas en inglés).  Para ejecutar el método \"elbow\", repetimos el K-Means varias veces, variando el valor de K, y registramos el SSE para cada K.\n",
    "\n",
    "El instanciador de KMeans() puede manejar varios parámetros, entre ellos:\n",
    "\n",
    "* **init**:  controla la técnica de inicialización.  El valor default es \"random\" pero se puede utilizar \"k-means++\" si se desea que converja más rápido\n",
    "* **n-clusters**:  el número de clusters que deseamos\n",
    "* **n_init**:  permite fijar cuantas veces se repite el proceso con cada valor de k.  Al terminar devuelve el valor más bajo de SSE que haya encontrado.  Valor default = 10\n",
    "* **max_iter**:  el máximo número de iteraciones para cada K, si no ha habido convergencia\n",
    "* **random_state**:  un valor semilla para que pueda ser reproducible el proceso"
   ]
  },
  {
   "cell_type": "code",
   "execution_count": null,
   "id": "5a13691d-c1a5-4335-8859-56cbaf896c8f",
   "metadata": {},
   "outputs": [],
   "source": [
    "kmeans_kwargs = {\n",
    "    \"init\": \"random\",\n",
    "    \"n_init\": 10,\n",
    "    \"max_iter\": 300,\n",
    "    \"random_state\": 42,\n",
    "}\n",
    "\n",
    "# Creamos una lista para almacenar los valores de SSE\n",
    "sse = []\n",
    "for k in range(1, 11):\n",
    "    kmeans = KMeans(n_clusters=k, **kmeans_kwargs)\n",
    "    kmeans.fit(datos_escalados)\n",
    "    sse.append(kmeans.inertia_)"
   ]
  },
  {
   "cell_type": "markdown",
   "id": "0f16071e-312c-423b-bca5-f7bdb618e7fc",
   "metadata": {},
   "source": [
    "## Ajustamos con nuestro datos"
   ]
  },
  {
   "cell_type": "code",
   "execution_count": null,
   "id": "3ec12255-e0f9-46d4-aa03-170c8c972c8e",
   "metadata": {},
   "outputs": [],
   "source": [
    "kmeans.fit(datos_escalados)"
   ]
  },
  {
   "cell_type": "markdown",
   "id": "b5ec2ca9-a709-4a3a-89f3-923347f739b7",
   "metadata": {},
   "source": [
    "## Estadísticas generadas por kmeans\n",
    "\n",
    "Las estadísticas de la corrida, de las indicadadas en **n_init**, que haya generado el valor más bajo de SSE, se pueden obtener como un atributo de kmeans, luego de correr el .fit. "
   ]
  },
  {
   "cell_type": "code",
   "execution_count": null,
   "id": "b949c7df-25c3-4517-a84c-b74463f2191f",
   "metadata": {},
   "outputs": [],
   "source": [
    "# El valor más bajo de SSE\n",
    "kmeans.inertia_"
   ]
  },
  {
   "cell_type": "code",
   "execution_count": null,
   "id": "c8da0e14-7767-46d8-911e-b295607c3186",
   "metadata": {},
   "outputs": [],
   "source": [
    "# las ubicaciones finales de los centroides\n",
    "kmeans.cluster_centers_"
   ]
  },
  {
   "cell_type": "code",
   "execution_count": null,
   "id": "34b9b960-0259-4d7e-ae7d-dbca2ba007a3",
   "metadata": {},
   "outputs": [],
   "source": [
    "# El número de iteraciones que fueron necesarias para converger en esa corrida\n",
    "kmeans.n_iter_"
   ]
  },
  {
   "cell_type": "markdown",
   "id": "fe4b0a74-1ec4-4092-8991-bea1f43a4999",
   "metadata": {},
   "source": [
    "Finalmente, las asignaciones de clusters se almacenan en un arreglo NumPy uni-dimensional, en kmeans.labels_.\n",
    "\n",
    "Si queremos ver las primeras 5 etiquetas:"
   ]
  },
  {
   "cell_type": "code",
   "execution_count": null,
   "id": "fe2fbd04-e9b8-4d04-ad90-dcab8d4a9f6b",
   "metadata": {},
   "outputs": [],
   "source": [
    "kmeans.labels_[:5]"
   ]
  },
  {
   "cell_type": "markdown",
   "id": "8797b55f-154b-451c-81d2-e4612579aa06",
   "metadata": {},
   "source": [
    "## Selección del número más adecuado de K"
   ]
  },
  {
   "cell_type": "code",
   "execution_count": null,
   "id": "5da14d6d-3cc7-4976-8b49-a49487e33434",
   "metadata": {},
   "outputs": [],
   "source": [
    "kmeans_kwargs = {\n",
    "    \"init\": \"random\",\n",
    "    \"n_init\": 10,\n",
    "    \"max_iter\": 300,\n",
    "    \"random_state\": 42,\n",
    "}\n",
    "\n",
    "# Creamos una lista para almacenar los valores de SSE\n",
    "sse = []\n",
    "for k in range(1, 11):\n",
    "    kmeans = KMeans(n_clusters=k, **kmeans_kwargs)\n",
    "    kmeans.fit(datos_escalados)\n",
    "    sse.append(kmeans.inertia_)"
   ]
  },
  {
   "cell_type": "markdown",
   "id": "0686b348-6503-41ca-b72f-1cde7ec9b527",
   "metadata": {},
   "source": [
    "Veamos los SEE"
   ]
  },
  {
   "cell_type": "code",
   "execution_count": null,
   "id": "c8dde0ef-a0d4-476e-bf1d-9d7e5cf0a28b",
   "metadata": {},
   "outputs": [],
   "source": [
    "sse"
   ]
  },
  {
   "cell_type": "markdown",
   "id": "a3ca59cf-5968-4746-a267-36067ee4b27b",
   "metadata": {},
   "source": [
    "Vemos que van en orden descendente para cada valor de K ascendente.\n",
    "\n",
    "Grafiquémos los SSE vrs el valor de K"
   ]
  },
  {
   "cell_type": "code",
   "execution_count": null,
   "id": "5c335e73-8923-4bc2-9ba4-bbe42029a4b4",
   "metadata": {},
   "outputs": [],
   "source": [
    "datos_SSE = pd.DataFrame(range(1, 11), columns = [\"K\"])\n",
    "datos_SSE[\"SSE\"] = sse\n",
    "sse"
   ]
  },
  {
   "cell_type": "code",
   "execution_count": null,
   "id": "90b54f30-9a06-4490-a8f9-95d42237968d",
   "metadata": {},
   "outputs": [],
   "source": [
    "fig = px.line(datos_SSE, x = \"K\" , y = \"SSE\", title='SSE vrs K')\n",
    "fig.show()"
   ]
  },
  {
   "cell_type": "markdown",
   "id": "a8fd4b23-1218-4c68-9274-ce7ae0b19e62",
   "metadata": {},
   "source": [
    "En este caso es bastante fácil determinar cuál es el mejor valor de K.  Podría ser K = 2 pero aun hay bastante cambio entre K = 2 y K =3.  Después de K = 3 el cambio es muy poco así que seleccionamos K = 3 como el número óptimo de clusters (obviamente...así diseñamos este conjunto de datos.\n",
    "\n",
    "No siempre es tan obvio, y para eso podemos utilizar la librería **kneed** para determinarlo automáticamente."
   ]
  },
  {
   "cell_type": "code",
   "execution_count": null,
   "id": "8557cceb-37e5-4daa-93b1-9005ebf5f738",
   "metadata": {},
   "outputs": [],
   "source": [
    "kl = KneeLocator(\n",
    "    range(1, 11), sse, curve=\"convex\", direction=\"decreasing\"\n",
    ")\n",
    "\n",
    "kl.elbow"
   ]
  },
  {
   "cell_type": "markdown",
   "id": "0210621b-53b6-4b65-af51-669de14d5120",
   "metadata": {},
   "source": [
    "## Reconocimientos\n",
    "\n",
    "Este tutorial es una adaptación de la guía que aparece en:  https://realpython.com/k-means-clustering-python/\n",
    "\n",
    "**K-Means Clustering in Python: A Practical Guide**\n",
    "by Kevin Arvai \n",
    "\n",
    "Traducción libre por Luis R. Furlán\n",
    "Agosto de 2021"
   ]
  },
  {
   "cell_type": "code",
   "execution_count": null,
   "id": "fd7a65ea-7a89-4d19-b86b-90de998b407f",
   "metadata": {},
   "outputs": [],
   "source": []
  }
 ],
 "metadata": {
  "kernelspec": {
   "display_name": "Python 3",
   "language": "python",
   "name": "python3"
  },
  "language_info": {
   "codemirror_mode": {
    "name": "ipython",
    "version": 3
   },
   "file_extension": ".py",
   "mimetype": "text/x-python",
   "name": "python",
   "nbconvert_exporter": "python",
   "pygments_lexer": "ipython3",
   "version": "3.8.10"
  }
 },
 "nbformat": 4,
 "nbformat_minor": 5
}
