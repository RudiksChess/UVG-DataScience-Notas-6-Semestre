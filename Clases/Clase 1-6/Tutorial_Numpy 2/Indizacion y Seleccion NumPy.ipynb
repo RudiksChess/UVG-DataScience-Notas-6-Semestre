{
 "cells": [
  {
   "cell_type": "markdown",
   "metadata": {},
   "source": [
    "# Indización y selección con NumPy\n",
    "\n",
    "En esta sesión veremos cómo seleccionar elementos y grupos de elementos de un arreglo."
   ]
  },
  {
   "cell_type": "code",
   "execution_count": null,
   "metadata": {},
   "outputs": [],
   "source": [
    "import numpy as np"
   ]
  },
  {
   "cell_type": "code",
   "execution_count": null,
   "metadata": {},
   "outputs": [],
   "source": [
    "#Crear un arreglo de ejemplo\n",
    "arreglo = np.arange(0,11)"
   ]
  },
  {
   "cell_type": "code",
   "execution_count": null,
   "metadata": {},
   "outputs": [],
   "source": [
    "#Desplegarlo\n",
    "arreglo"
   ]
  },
  {
   "cell_type": "markdown",
   "metadata": {},
   "source": [
    "## Indización y selección con corchetes cuadrados\n",
    "La forma más simple de escoger uno o varios elementos de un arreglo es muy similar al uso de listas en Python:"
   ]
  },
  {
   "cell_type": "code",
   "execution_count": null,
   "metadata": {},
   "outputs": [],
   "source": [
    "#Obtener un valor por medio de su índice\n",
    "arreglo[8]"
   ]
  },
  {
   "cell_type": "code",
   "execution_count": null,
   "metadata": {},
   "outputs": [],
   "source": [
    "#Obtener valores usando un rango de índices\n",
    "arreglo[1:5]"
   ]
  },
  {
   "cell_type": "code",
   "execution_count": null,
   "metadata": {},
   "outputs": [],
   "source": [
    "#Obtener valores usando un rango de índices (otro ejemplo)\n",
    "arreglo[0:5]"
   ]
  },
  {
   "cell_type": "markdown",
   "metadata": {},
   "source": [
    "## Difusión (Broadcasting)\n",
    "\n",
    "Los arreglos de Numpy difieren de una lista normal de Python por su habilidad para difundirse:"
   ]
  },
  {
   "cell_type": "code",
   "execution_count": null,
   "metadata": {},
   "outputs": [],
   "source": [
    "#Asignar un valor a través de un rango de índices (Difusión)\n",
    "arreglo[0:5]=100\n",
    "\n",
    "#Mostrarlo\n",
    "arreglo"
   ]
  },
  {
   "cell_type": "code",
   "execution_count": null,
   "metadata": {},
   "outputs": [],
   "source": [
    "# Re-establecer el arreglo, veremos porqué en un momento\n",
    "arreglo = np.arange(0,11)\n",
    "\n",
    "#Mostrarlo\n",
    "arreglo"
   ]
  },
  {
   "cell_type": "code",
   "execution_count": null,
   "metadata": {},
   "outputs": [],
   "source": [
    "#Nota importante sobre rodajas (Slices)\n",
    "rodaja_de_arreglo = arreglo[0:6]\n",
    "\n",
    "#Mostrar sección\n",
    "rodaja_de_arreglo"
   ]
  },
  {
   "cell_type": "code",
   "execution_count": null,
   "metadata": {},
   "outputs": [],
   "source": [
    "#Modifiquemos la sección\n",
    "rodaja_de_arreglo[:]=99\n",
    "\n",
    "#Mostrar la sección de nuevo\n",
    "rodaja_de_arreglo"
   ]
  },
  {
   "cell_type": "markdown",
   "metadata": {},
   "source": [
    "Nótese que los cambios también ocurren en el arreglo original!"
   ]
  },
  {
   "cell_type": "code",
   "execution_count": null,
   "metadata": {},
   "outputs": [],
   "source": [
    "arreglo"
   ]
  },
  {
   "cell_type": "markdown",
   "metadata": {},
   "source": [
    "Los datos no son copiados, es una vista del arreglo original!  Esto evita problemas de memoria!"
   ]
  },
  {
   "cell_type": "code",
   "execution_count": null,
   "metadata": {},
   "outputs": [],
   "source": [
    "#Para obtener una copia, hay que ser explícitos\n",
    "copia_arreglo = arreglo.copy()\n",
    "\n",
    "copia_arreglo"
   ]
  },
  {
   "cell_type": "markdown",
   "metadata": {},
   "source": [
    "## Indización de un arreglo en 2D (matrices)\n",
    "\n",
    "El formato general es **arreglo_2d[fila][col]** o **arreglo_2d[fila,col]**. Por claridad y más parecido a la forma matemática, se recomienda la notación con coma."
   ]
  },
  {
   "cell_type": "code",
   "execution_count": null,
   "metadata": {},
   "outputs": [],
   "source": [
    "arreglo_2d = np.array(([5,10,15],[20,25,30],[35,40,45]))\n",
    "\n",
    "#Mostrarlo\n",
    "arreglo_2d"
   ]
  },
  {
   "cell_type": "code",
   "execution_count": null,
   "metadata": {},
   "outputs": [],
   "source": [
    "#Obtener una fila\n",
    "arreglo_2d[1]\n"
   ]
  },
  {
   "cell_type": "code",
   "execution_count": null,
   "metadata": {},
   "outputs": [],
   "source": [
    "# El formato es arreglo_2d[fila][col] o arreglo_2d[fila,col]\n",
    "\n",
    "# Para obtener el valor de un elementno individual\n",
    "arreglo_2d[1][0]"
   ]
  },
  {
   "cell_type": "code",
   "execution_count": null,
   "metadata": {},
   "outputs": [],
   "source": [
    "# En la forma preferida\n",
    "arreglo_2d[1,0]"
   ]
  },
  {
   "cell_type": "code",
   "execution_count": null,
   "metadata": {},
   "outputs": [],
   "source": [
    "# Secciones de arreglos 2D\n",
    "\n",
    "#Obtener la forma de(2,2) de la esquina superior derecha\n",
    "arreglo_2d[:2,1:]"
   ]
  },
  {
   "cell_type": "code",
   "execution_count": null,
   "metadata": {},
   "outputs": [],
   "source": [
    "#Obtener la forma de la fila de abajo\n",
    "arreglo_2d[2]"
   ]
  },
  {
   "cell_type": "code",
   "execution_count": null,
   "metadata": {},
   "outputs": [],
   "source": [
    "#Otra forma\n",
    "arreglo_2d[2,:]"
   ]
  },
  {
   "cell_type": "markdown",
   "metadata": {},
   "source": [
    "### Indización \"elegante\" (Fancy)\n",
    "\n",
    "La indización \"elegante\" permite seleccionar filas o columnas enteras en desorden.  Para mostrar esto, rápidamente armamos un arreglo numpy:"
   ]
  },
  {
   "cell_type": "code",
   "execution_count": null,
   "metadata": {},
   "outputs": [],
   "source": [
    "#Crear el arreglo o matriz\n",
    "arreglo2d = np.zeros((10,10))\n",
    "arreglo2d"
   ]
  },
  {
   "cell_type": "code",
   "execution_count": null,
   "metadata": {},
   "outputs": [],
   "source": [
    "#Longitud del arreglo\n",
    "longitud_arreglo = arreglo2d.shape[1]\n",
    "longitud_arreglo"
   ]
  },
  {
   "cell_type": "code",
   "execution_count": null,
   "metadata": {},
   "outputs": [],
   "source": [
    "#Crear otro arreglo\n",
    "\n",
    "for i in range(longitud_arreglo):\n",
    "    arreglo2d[i] = i\n",
    "    \n",
    "arreglo2d"
   ]
  },
  {
   "cell_type": "markdown",
   "metadata": {},
   "source": [
    "La indización elegante permite hacer lo siguiente"
   ]
  },
  {
   "cell_type": "code",
   "execution_count": null,
   "metadata": {},
   "outputs": [],
   "source": [
    "arreglo2d[[2,4,6,8]]"
   ]
  },
  {
   "cell_type": "code",
   "execution_count": null,
   "metadata": {},
   "outputs": [],
   "source": [
    "#Y lo permite hacer en cualquier orden\n",
    "arreglo2d[[6,4,2,7]]"
   ]
  },
  {
   "cell_type": "markdown",
   "metadata": {},
   "source": [
    "## Más ayuda con la indización\n",
    "Al principio, la indización de una matriz 2d puede parecer un poco confusa, especialmente cuando empezamos a aggregar \"en incrementos de\".   Intenten buscar imágenes de Google sobre Indización de NumPy para encontrar imágenes útiles como esta:\n",
    "\n",
    "<img src= 'numpy_indexing.png' width=500/>"
   ]
  },
  {
   "cell_type": "markdown",
   "metadata": {},
   "source": [
    "## Selección\n",
    "\n",
    "Repasemos brevemente cómo usar los corchetes para hacer selecciones basadas en operadores de comparación."
   ]
  },
  {
   "cell_type": "code",
   "execution_count": null,
   "metadata": {},
   "outputs": [],
   "source": [
    "arreglo = np.arange(1,11)\n",
    "arreglo"
   ]
  },
  {
   "cell_type": "code",
   "execution_count": null,
   "metadata": {},
   "outputs": [],
   "source": [
    "arreglo > 4"
   ]
  },
  {
   "cell_type": "code",
   "execution_count": null,
   "metadata": {},
   "outputs": [],
   "source": [
    "arreglo_booleano = arreglo>4"
   ]
  },
  {
   "cell_type": "code",
   "execution_count": null,
   "metadata": {},
   "outputs": [],
   "source": [
    "arreglo_booleano"
   ]
  },
  {
   "cell_type": "code",
   "execution_count": null,
   "metadata": {},
   "outputs": [],
   "source": [
    "arreglo[arreglo_booleano]"
   ]
  },
  {
   "cell_type": "code",
   "execution_count": null,
   "metadata": {},
   "outputs": [],
   "source": [
    "arreglo[arreglo>2]"
   ]
  },
  {
   "cell_type": "code",
   "execution_count": null,
   "metadata": {},
   "outputs": [],
   "source": [
    "x = 2\n",
    "arreglo[arreglo>x]"
   ]
  },
  {
   "cell_type": "markdown",
   "metadata": {},
   "source": [
    "# Buen trabajo!\n"
   ]
  }
 ],
 "metadata": {
  "celltoolbar": "Slideshow",
  "kernelspec": {
   "display_name": "Python 3",
   "language": "python",
   "name": "python3"
  },
  "language_info": {
   "codemirror_mode": {
    "name": "ipython",
    "version": 3
   },
   "file_extension": ".py",
   "mimetype": "text/x-python",
   "name": "python",
   "nbconvert_exporter": "python",
   "pygments_lexer": "ipython3",
   "version": "3.8.5"
  }
 },
 "nbformat": 4,
 "nbformat_minor": 4
}
