{
 "cells": [
  {
   "cell_type": "markdown",
   "metadata": {},
   "source": [
    "# Imágenes a escala gris"
   ]
  },
  {
   "cell_type": "markdown",
   "metadata": {},
   "source": [
    "Una imagen a escala gris es una que es desplegada en tonos de gris - no hay colores.  Una imagen se representa como un arreglo de 2 dimensiones, donde cada elemento del arreglo es un tono de gris.  El tono de gris se representa por un entero de 0 a 255 inclusivo.  Un 0 representa negro, un 255 representa blanco.  Un gris a medio camino entre negro y blanco es 127.  Así que una imagen de 9 X 10 cuya fila superior es blanco y se va desvaneciendo hacia el negro, para abajo, se puede representar como:\n",
    "\n",
    "```\n",
    "[ [255, 255, 255, 255, 255, 255, 255, 255, 255, 255],\n",
    "  [223, 223, 223, 223, 223, 223, 223, 223, 223, 223],\n",
    "  [191, 191, 191, 191, 191, 191, 191, 191, 191, 191],\n",
    "  [159, 159, 159, 159, 159, 159, 159, 159, 159, 159],\n",
    "  [128, 128, 128, 128, 128, 128, 128, 128, 128, 128],\n",
    "  [ 96,  96,  96,  96,  96,  96,  96,  96,  96,  96],\n",
    "  [ 64,  64,  64,  64,  64,  64,  64,  64,  64,  64],\n",
    "  [ 32,  32,  32,  32,  32,  32,  32,  32,  32,  32],\n",
    "  [  0,   0,   0,   0,   0,   0,   0,   0,   0,   0]\n",
    "]\n",
    "```"
   ]
  },
  {
   "cell_type": "markdown",
   "metadata": {},
   "source": [
    "Podemos trabajar con imágenes en Python, pero hay alguna librerías que necesitamos.  La primera es [Pillow](https://python-pillow.org/) que sabe cómo trabajar con imágenes. La segunda es [numpy](http://www.numpy.org/) que puede trabajar con arreglos multi-dimensionales. "
   ]
  },
  {
   "cell_type": "code",
   "execution_count": null,
   "metadata": {},
   "outputs": [],
   "source": [
    "from PIL import Image \n",
    "import numpy as np "
   ]
  },
  {
   "cell_type": "markdown",
   "metadata": {},
   "source": [
    "Primero, vamos a crear una imagen de escala gris.  Tendrá 9 X 10 pixeles, con tres bandas horizontales:  una negra, una gris, y una blanca.  Lo haremos en dos pasos.  Primero crear un arreglo bi-dimensional de ) X 10.  El valor en cada posición es el valor en la escala gris-\n"
   ]
  },
  {
   "cell_type": "code",
   "execution_count": null,
   "metadata": {},
   "outputs": [],
   "source": [
    "imagen_bn = np.array([[0,  0,  0,  0,  0,  0,  0,  0,  0,  0  ],\n",
    "                     [0,  0,  0,  0,  0,  0,  0,  0,  0,  0  ],\n",
    "                     [0,  0,  0,  0,  0,  0,  0,  0,  0,  0  ],\n",
    "                     [127,127,127,127,127,127,127,127,127,127],\n",
    "                     [127,127,127,127,127,127,127,127,127,127],\n",
    "                     [127,127,127,127,127,127,127,127,127,127],\n",
    "                     [255,255,255,255,255,255,255,255,255,255],\n",
    "                     [255,255,255,255,255,255,255,255,255,255],\n",
    "                     [255,255,255,255,255,255,255,255,255,255]\n",
    "                    ])\n"
   ]
  },
  {
   "cell_type": "code",
   "execution_count": null,
   "metadata": {},
   "outputs": [],
   "source": [
    "imagen_bn = imagen_bn.astype(np.uint8)"
   ]
  },
  {
   "cell_type": "markdown",
   "metadata": {},
   "source": [
    "Luego, convertimos este arreglo bi-dimensiona a una imagen y la desplegamos.  Es bastante pequeña así que para ver algo, habrá que agrandarla:\n",
    "\n"
   ]
  },
  {
   "cell_type": "code",
   "execution_count": null,
   "metadata": {},
   "outputs": [],
   "source": [
    "img = Image.fromarray(imagen_bn)\n",
    "img.show()"
   ]
  },
  {
   "cell_type": "markdown",
   "metadata": {},
   "source": [
    "## Imágenes a color"
   ]
  },
  {
   "cell_type": "markdown",
   "metadata": {},
   "source": [
    "Existen diferentes formas de representar el color en una imagen.  Una de las más comunes es utilizar el [modelo de color RGB](https://en.wikipedia.org/wiki/RGB_color_model).  En este modelo, cada pixel se represeta por la intensidad de cada uno de los tres colores primarios:  Rojo, Verde y Azul (RGB).  La tupla `[255, 0, 0]` corresponde al color rojo en su máxima intensidad.\n",
    "\n",
    "El amarillo puro consta de partes iguales de rojo y verde. Un pixel amarillo de máxima intensidad se representa por `[255, 255, 0]`.  Para lograr un amarillo de menor intensidad, solo hay que reducir los números `[127, 127, 0]`.\n",
    "\n",
    "Negro representa la ausencia de color, `[0,0,0]`; blanco es la máxima intensidad de todos los colores, `[255, 255, 255]`; y el gris queda en un punto intermedio, `[127, 127, 127]`.\n",
    "\n",
    "Para representa una imagen de color utilizando el modo RGB, se utiliza un arreglo tri-dimensional.  Las primeras dos dimensiones son la altura y el ancho, al igual que una imagen en escala gris o blanco y negro.  La tercera dimensión es la tupla de tres elementos representando la intensidad de RGB.  A continuación tenemos una imagen de 9 X 10 pixeles, con bandas horizontales de rojo, amarillo y verde.  \n",
    "\n",
    "To represent a colour image using RGB mode, we use a 3-dimensional array. The first two dimensions are height and width, the same as with greyscale. The third dimension is the 3-tuple representing the RGB colour intensity. Following is a 9X10 pixel image, with horizontal bands of red, yellow and green. (el `Image.fromarray` requiere que los valores sean enteros positivos, por eso se especifica el parámetro `dtype`.)"
   ]
  },
  {
   "cell_type": "code",
   "execution_count": null,
   "metadata": {},
   "outputs": [],
   "source": [
    "rojo_amarillo_verde = np.array([[[255,0,0],  [255,0,0],  [255,0,0],  [255,0,0],  [255,0,0],  [255,0,0],  [255,0,0],  [255,0,0],  [255,0,0],  [255,0,0]],\n",
    "                             [[255,0,0],  [255,0,0],  [255,0,0],  [255,0,0],  [255,0,0],  [255,0,0],  [255,0,0],  [255,0,0],  [255,0,0],  [255,0,0]],\n",
    "                             [[255,0,0],  [255,0,0],  [255,0,0],  [255,0,0],  [255,0,0],  [255,0,0],  [255,0,0],  [255,0,0],  [255,0,0],  [255,0,0]],\n",
    "                             [[255,255,0],[255,255,0],[255,255,0],[255,255,0],[255,255,0],[255,255,0],[255,255,0],[255,255,0],[255,255,0],[255,255,0]],\n",
    "                             [[255,255,0],[255,255,0],[255,255,0],[255,255,0],[255,255,0],[255,255,0],[255,255,0],[255,255,0],[255,255,0],[255,255,0]],\n",
    "                             [[255,255,0],[255,255,0],[255,255,0],[255,255,0],[255,255,0],[255,255,0],[255,255,0],[255,255,0],[255,255,0],[255,255,0]],\n",
    "                             [[0,255,0],  [0,255,0],  [0,255,0],  [0,255,0],  [0,255,0],  [0,255,0],  [0,255,0],  [0,255,0],  [0,255,0],  [0,255,0]],\n",
    "                             [[0,255,0],  [0,255,0],  [0,255,0],  [0,255,0],  [0,255,0],  [0,255,0],  [0,255,0],  [0,255,0],  [0,255,0],  [0,255,0]],\n",
    "                             [[0,255,0],  [0,255,0],  [0,255,0],  [0,255,0],  [0,255,0],  [0,255,0],  [0,255,0],  [0,255,0],  [0,255,0],  [0,255,0]]\n",
    "                            ], dtype='uint8')\n",
    "img = Image.fromarray(rojo_amarillo_verde)  # Convertir del arreglo tri-dimensional a una imagen RGB\n",
    "img.show()                                  # Desplegar la imagen"
   ]
  },
  {
   "cell_type": "markdown",
   "metadata": {
    "tags": []
   },
   "source": [
    "# Procesamiento de imágenes"
   ]
  },
  {
   "cell_type": "markdown",
   "metadata": {},
   "source": [
    "Una vez tenemos una imagen representada como un arreglo `numpy`, podemos procesarla para crear diferentes efectos. Para cargar una imagen del disco y convertira a un arreglo, hay que hacer lo siguiente: "
   ]
  },
  {
   "cell_type": "code",
   "execution_count": null,
   "metadata": {},
   "outputs": [],
   "source": [
    "imagen_entrada = Image.open('bday.jpg')      # Leer la imagen del disco.\n",
    "arreglo_imagen_1 = np.array(imagen_entrada)  # Convertir la imagen a un arreglo tri-dimensional"
   ]
  },
  {
   "cell_type": "markdown",
   "metadata": {},
   "source": [
    "Si lo único que queremos hacer es desplegar esta imagen, la convertimos, de vuelta, de un arreglo a una imagen y la desplegamos: "
   ]
  },
  {
   "cell_type": "code",
   "execution_count": null,
   "metadata": {},
   "outputs": [],
   "source": [
    "imagen_salida = Image.fromarray(arreglo_imagen_1)\n",
    "imagen_salida.show()"
   ]
  },
  {
   "cell_type": "markdown",
   "metadata": {},
   "source": [
    "Ahora supongamos que solamente queremos la parte verde de la imagen.  Podemos hacer esto fijando las intensidades del rojo y azul en 0.\n",
    "\n",
    "Now suppose we want just the green part of the image. We can do this by setting the red and blue intensities to 0. Hacerlo a pie es bastante tedioso. Por ejemplo, para cambiar solo el pixel de la esquina superior izquierda habría que hacer asi:\n",
    "\n",
    "```python\n",
    "arreglo_imagen_1[0, 0, 2] = 0\n",
    "```\n",
    "(**Recordar**: como los indices en Python empiezan en 0, el índice de la intensidad azul es 2 aunque correspomnda al tercer elemento de la tupla.)\n",
    "\n",
    "Afortunadamente, este es el fuerte de `numpy` y hay unas herramientas bastantes poderosas para trabajar con arreglos.  Así que uutilizando el concepto de \"`: - rodajas`\" podemos, en una sola instrucción cambiar el arreglo completo:\n",
    "\n",
    "```python\n",
    "arreglo_imagen_1[:,:,2] = 0\n",
    "```"
   ]
  },
  {
   "cell_type": "code",
   "execution_count": null,
   "metadata": {},
   "outputs": [],
   "source": [
    "arreglo_imagen_1[:,:,0] = 0  # Convertir el Rojo en cada pixel a 0\n",
    "arreglo_imagen_1[:,:,2] = 0  # Convertir el Azul en cada pixel a 0\n",
    "\n",
    "imagen_salida = Image.fromarray(arreglo_imagen_1) \n",
    "imagen_salida.show()"
   ]
  },
  {
   "cell_type": "markdown",
   "metadata": {},
   "source": [
    "Ahora intentemos rotar la imagen.  Una rotación de 90<sup>o</sup> se puede lograr intercambiando todas las filas y columnas.  En Algebra Lineal esto no es más que una transposición del arreglo, y claro `numpy` tiene como hacerlo.\n",
    "\n",
    "Lo que deseamos hacer es intercambiar las primeras dos dimensiones, en terminología  `numpy`, queremos transponer el `eje 0` y el  `eje 1`. :"
   ]
  },
  {
   "cell_type": "code",
   "execution_count": null,
   "metadata": {},
   "outputs": [],
   "source": [
    "arreglo_imagen_2 = np.array(imagen_entrada) \n",
    "\n",
    "# Transponer los primeros dos ejes (filas y columnas) del arreglo\n",
    "arreglo_imagen_2 = arreglo_imagen_2.transpose(1,0,2)\n",
    "\n",
    "imagen_salida = Image.fromarray(arreglo_imagen_2)\n",
    "imagen_salida.show()                      \n"
   ]
  },
  {
   "cell_type": "markdown",
   "metadata": {},
   "source": [
    "Para un ejercicio final en procesamiento de imágenes, tomémos nuestra imagen RGB y convirtámosla a una imagen en escala gris (blanco y negro).  Una forma de hacer esto es reemplazar la tupla RGB con el promedio de las intensidades de los colores.  Por ejemplo, si un pixel tiene el valor `(75, 122, 201)` este será reemplazado con el entero `(75 + 122 + 201) // 3`, que es `132`."
   ]
  },
  {
   "cell_type": "code",
   "execution_count": null,
   "metadata": {},
   "outputs": [],
   "source": [
    "arreglo_imagen_3 = np.array(imagen_entrada)\n",
    "\n",
    "arreglo_imagen_3 = np.sum(arreglo_imagen_3, axis = 2) // 3\n",
    "\n",
    "arreglo_imagen_3 = arreglo_imagen_3.astype(np.uint8) \n",
    "\n",
    "imagen_salida = Image.fromarray(arreglo_imagen_3) \n",
    "imagen_salida.show()                      "
   ]
  },
  {
   "cell_type": "code",
   "execution_count": null,
   "metadata": {},
   "outputs": [],
   "source": []
  }
 ],
 "metadata": {
  "kernelspec": {
   "display_name": "Python 3",
   "language": "python",
   "name": "python3"
  },
  "language_info": {
   "codemirror_mode": {
    "name": "ipython",
    "version": 3
   },
   "file_extension": ".py",
   "mimetype": "text/x-python",
   "name": "python",
   "nbconvert_exporter": "python",
   "pygments_lexer": "ipython3",
   "version": "3.7.11"
  }
 },
 "nbformat": 4,
 "nbformat_minor": 4
}
