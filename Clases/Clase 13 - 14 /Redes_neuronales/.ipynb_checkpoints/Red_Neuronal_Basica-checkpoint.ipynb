{
  "nbformat": 4,
  "nbformat_minor": 0,
  "metadata": {
    "anaconda-cloud": {},
    "kernelspec": {
      "display_name": "Python 3",
      "language": "python",
      "name": "python3"
    },
    "language_info": {
      "codemirror_mode": {
        "name": "ipython",
        "version": 3
      },
      "file_extension": ".py",
      "mimetype": "text/x-python",
      "name": "python",
      "nbconvert_exporter": "python",
      "pygments_lexer": "ipython3",
      "version": "3.7.10"
    },
    "colab": {
      "name": "Red_Neuronal_Basica.ipynb",
      "provenance": []
    }
  },
  "cells": [
    {
      "cell_type": "markdown",
      "metadata": {
        "id": "4AYa5RXblU03"
      },
      "source": [
        "# Regresión Lineal Simple. Ejemplo minimalista"
      ]
    },
    {
      "cell_type": "markdown",
      "metadata": {
        "id": "VjP0pGw6lU04"
      },
      "source": [
        "### Importar las librerías relevantes"
      ]
    },
    {
      "cell_type": "code",
      "metadata": {
        "tags": [],
        "id": "A4RmA_OXlU05"
      },
      "source": [
        "import pandas as pd\n",
        "import numpy as np\n",
        "import plotly.express as px\n",
        "import matplotlib.pyplot as plt\n",
        "from mpl_toolkits.mplot3d import Axes3D  # Para graficar en 3-D\n",
        "import time\n",
        "import seaborn as sns"
      ],
      "execution_count": 26,
      "outputs": []
    },
    {
      "cell_type": "code",
      "metadata": {
        "id": "u4TD5w8y8B_i"
      },
      "source": [
        "start = time.time()"
      ],
      "execution_count": 30,
      "outputs": []
    },
    {
      "cell_type": "markdown",
      "metadata": {
        "id": "5DcwCSHtlU06"
      },
      "source": [
        "### Generar datos al azar para entrenar al modelo\n",
        "\n",
        "Trabajaremos con dos variables de entrada, las x1 y x2 en nuestros ejemplos anteriores. Se generan al azar a partir de una distribución uniforme.\n",
        "\n",
        "Se creará una matriz con estas dos variables.  La matriz X del modelo lineal y = x * w + b"
      ]
    },
    {
      "cell_type": "code",
      "metadata": {
        "jupyter": {
          "outputs_hidden": false
        },
        "id": "J1z0_oxWlU06",
        "outputId": "b10d9296-17a2-4077-a9aa-0ba5bfc3aa02",
        "colab": {
          "base_uri": "https://localhost:8080/"
        }
      },
      "source": [
        "# Por facilidad, declaramos una variable que indique el tamaño del conjunto \n",
        "#      de datos de entrenamiento.\n",
        "observaciones = 1000000\n",
        "x1 = np.random.uniform(low=-10, high=10, size=(observaciones,1))\n",
        "x2 = np.random.uniform(-10, 10, (observaciones,1))\n",
        "\n",
        "entradas = np.column_stack((x1,x2))\n",
        "\n",
        "# Verificar la forma de la matriz \n",
        "# Debiera ser n x k, donde n es el número de observaciones, y k es el número de variables.\n",
        "print (entradas.shape)"
      ],
      "execution_count": 15,
      "outputs": [
        {
          "output_type": "stream",
          "text": [
            "(1000000, 2)\n"
          ],
          "name": "stdout"
        }
      ]
    },
    {
      "cell_type": "markdown",
      "metadata": {
        "id": "SP0A5EhElU07"
      },
      "source": [
        "### Generar las metas a las que debemos apuntar\n",
        "\n",
        "Inventaremos una función f(x1, x2) = 2 * x1 - 3 * x2 + 5 + <ruido pequeño>.  El ruido es para hacerlo más realista.\n",
        "\n",
        "Utilizaremos la metodología de ML, y veremos si el algoritmo la ha aprendido.  "
      ]
    },
    {
      "cell_type": "code",
      "metadata": {
        "jupyter": {
          "outputs_hidden": false
        },
        "id": "loGBM5PGlU08",
        "outputId": "4d458c06-2973-45f6-eebe-27291ca1df83",
        "colab": {
          "base_uri": "https://localhost:8080/"
        }
      },
      "source": [
        "ruido = np.random.uniform(-1, 1, (observaciones,1))\n",
        "\n",
        "targets = 2 * x1 - 3 * x2 + 5 + ruido\n",
        "\n",
        "# Veamos las dimensiones. Deben ser n x m, donde m es el número de variables de salida.\n",
        "print (targets.shape)"
      ],
      "execution_count": 16,
      "outputs": [
        {
          "output_type": "stream",
          "text": [
            "(1000000, 1)\n"
          ],
          "name": "stdout"
        }
      ]
    },
    {
      "cell_type": "markdown",
      "metadata": {
        "id": "bdyYjF_AlU08"
      },
      "source": [
        "### Graficar los datos a usar para el entrenamiento\n",
        "\n",
        "La idea es ver que haya una fuerte tendencia que nuestro modelo debe aprender a reproducir.\n"
      ]
    },
    {
      "cell_type": "code",
      "metadata": {
        "id": "3O25PfgblU09",
        "outputId": "75afb813-0984-4a6c-f2be-3e7119f49258",
        "colab": {
          "base_uri": "https://localhost:8080/"
        }
      },
      "source": [
        "print(x1.shape)\n",
        "print(x2.shape)\n",
        "print(targets.shape)"
      ],
      "execution_count": 17,
      "outputs": [
        {
          "output_type": "stream",
          "text": [
            "(1000000, 1)\n",
            "(1000000, 1)\n",
            "(1000000, 1)\n"
          ],
          "name": "stdout"
        }
      ]
    },
    {
      "cell_type": "code",
      "metadata": {
        "id": "S54OmB9ylU0-",
        "outputId": "cfa7ef53-f6eb-469d-9a99-e815eed0e0fd",
        "colab": {
          "base_uri": "https://localhost:8080/",
          "height": 285
        }
      },
      "source": [
        "fig = plt.figure()\n",
        "ax = fig.add_subplot(111, projection = '3d')\n",
        "\n",
        "x1N = x1.reshape(observaciones,)\n",
        "x2N = x2.reshape(observaciones,)\n",
        "targetsN = targets.reshape(observaciones,)\n",
        "\n",
        "\n",
        "ax.scatter(x1N, x2N, targetsN )\n",
        "\n",
        "plt.show()\n",
        "\"\"\"\n",
        "x1N = x1.reshape(observaciones,)\n",
        "x2N = x2.reshape(observaciones,)\n",
        "targetsN = targets.reshape(observaciones,)\n",
        "\n",
        "fig = px.scatter_3d(x = x1N, y = x2N, z = targetsN)\n",
        "\n",
        "fig.update_layout(\n",
        "    width = 500,\n",
        "    height = 500,)\n",
        "\n",
        "fig.show()\"\"\""
      ],
      "execution_count": 29,
      "outputs": [
        {
          "output_type": "display_data",
          "data": {
            "image/png": "[encoded data removed]",
            "text/plain": [
              "<Figure size 432x288 with 1 Axes>"
            ]
          },
          "metadata": {
            "needs_background": "light"
          }
        },
        {
          "output_type": "execute_result",
          "data": {
            "application/vnd.google.colaboratory.intrinsic+json": {
              "type": "string"
            },
            "text/plain": [
              "'\\nx1N = x1.reshape(observaciones,)\\nx2N = x2.reshape(observaciones,)\\ntargetsN = targets.reshape(observaciones,)\\n\\nfig = px.scatter_3d(x = x1N, y = x2N, z = targetsN)\\n\\nfig.update_layout(\\n    width = 500,\\n    height = 500,)\\n\\nfig.show()'"
            ]
          },
          "metadata": {},
          "execution_count": 29
        }
      ]
    },
    {
      "cell_type": "markdown",
      "metadata": {
        "id": "x2_Lp_iVlU0_"
      },
      "source": [
        "### Inicializar variables\n",
        "\n",
        "Inicializaremos los pesos y sesgos, al azar, dentre de un rango inicial pequeño.  Es posible \"jugar\" con este valor pero no es recomendable ya que el uso de rangos iniciales altos inhibe el aprendizaje por parte del algoritmo\n",
        "\n",
        "Los pesos son de dimensiones k x m, donde k es el numero de variables de entrada y m es el número de variables de salida.  \n",
        "\n",
        "Como solo hay una salida, el sesgo es de tamaño 1, y es un escalar"
      ]
    },
    {
      "cell_type": "code",
      "metadata": {
        "jupyter": {
          "outputs_hidden": false
        },
        "id": "uXG1MKaTlU0_",
        "outputId": "6f263ed7-7c01-4528-ec8f-691f9c60a903",
        "colab": {
          "base_uri": "https://localhost:8080/"
        }
      },
      "source": [
        "rango_inicial = 0.1\n",
        "\n",
        "weights = np.random.uniform(low = -rango_inicial, high = rango_inicial, size=(2, 1))\n",
        "\n",
        "biases = np.random.uniform(low = -rango_inicial, high = rango_inicial, size=1)\n",
        "\n",
        "#Veamos cómo fueron inicializados.\n",
        "print (weights)\n",
        "print (biases)"
      ],
      "execution_count": 19,
      "outputs": [
        {
          "output_type": "stream",
          "text": [
            "[[ 0.05775604]\n",
            " [-0.00236994]]\n",
            "[0.01724977]\n"
          ],
          "name": "stdout"
        }
      ]
    },
    {
      "cell_type": "code",
      "metadata": {
        "id": "8_eptMzUlU1A",
        "outputId": "a5d71c71-7ff6-434a-b11e-82d1e3824ade",
        "colab": {
          "base_uri": "https://localhost:8080/"
        }
      },
      "source": [
        "weights.shape"
      ],
      "execution_count": 20,
      "outputs": [
        {
          "output_type": "execute_result",
          "data": {
            "text/plain": [
              "(2, 1)"
            ]
          },
          "metadata": {},
          "execution_count": 20
        }
      ]
    },
    {
      "cell_type": "markdown",
      "metadata": {
        "id": "LkgkqaYnlU1A"
      },
      "source": [
        "### Asignar la tasa de aprendizaje (Eta)\n",
        "\n",
        "Se asigna un a tasa de aprendizaje pequeña.  Para este ejemplo funciona bien 0.02.  Vale la pena \"jugar\" con este valor para ver los resultados de hacerlo."
      ]
    },
    {
      "cell_type": "code",
      "metadata": {
        "jupyter": {
          "outputs_hidden": false
        },
        "id": "_YNwUkvNlU1B"
      },
      "source": [
        "eta = 0.001"
      ],
      "execution_count": 21,
      "outputs": []
    },
    {
      "cell_type": "markdown",
      "metadata": {
        "id": "Yos9l0QBlU1B"
      },
      "source": [
        "### Entrenar el modelo\n",
        "\n",
        "Usaremos un valor de 100 para iterar sobre el conjunto de datos de entrenamiento.  Ese valor funciona bastante bien con la tasa de aprendizaje de 0.02.  Cómo saber el número adecuado de iteraciones es algo que veremos en futuras sesiones, pero generalmente una tasa de aprendizaje baja requiere de más iteraciones que una más alta.  Sin embargo hay que tener en mente que una tasa de aprendizaje alta puede causar que la pérdida \"Loss\" diverja a infinito, en vez de converger a cero (0)\n",
        "\n",
        "Usaremos la función de pérdida L2-norm, pero dividido por 2, Para se consistente con la clase.  Es más, también lo dividiremos por el número de observaciones para obtener un promedio de pérdida por observación.  Hablamos en clase sobre la posiilidad de modificar esta función una vez no se pierda la característica de ser más baja para los resultados mejores, y vice versa.\n",
        "\n",
        "Imprimimos la función de pérdida (loss) en cada iteración, para ver si está decreciendo como se desea.\n",
        "\n",
        "Otro pequeño truco es escalar las deltas de la misma manera que se hizo con la función de pérdida.  De esta forma la tasa de aprendizaje es independiente del número de muestras (samples u observaciones).  De nuevo esto no cambia el principio, solo hace más fácil la selección de una tasa única de aprendizaje. \n",
        "\n",
        "Finalmente aplicamos la regla de actualización del decenso de gradiente.\n",
        "\n",
        "Ojo!  los pesos son 2x1, la tasa de aprendizaje es 1x1 (escalar), las entradas son 1000x2, y las deltas escaladas son 1000x1.  Necesitamos obtener la transpuesta de las entradas para que no hayan problemas de dimensión en las operaciones. \n",
        "\n"
      ]
    },
    {
      "cell_type": "code",
      "metadata": {
        "jupyter": {
          "outputs_hidden": false
        },
        "scrolled": true,
        "id": "S9qSDiUalU1C"
      },
      "source": [
        "for i in range (6000):\n",
        "    \n",
        "    # Esta es la ecuacion del modelo lineal: y = xw + b \n",
        "    salidas = np.dot(entradas, weights) + biases\n",
        "    \n",
        "    # Las deltas son las diferencias entre las salidas y las metas (targets)\n",
        "    # deltas es un vector 1000 x 1\n",
        "    deltas = salidas - targets\n",
        "        \n",
        "    loss = np.sum(deltas ** 2) / 2 / observaciones\n",
        "    \n",
        "    #print(loss)\n",
        "    \n",
        "    deltas_escaladas = deltas / observaciones\n",
        "      \n",
        "    weights = weights - eta * np.dot(entradas.T, deltas_escaladas)\n",
        "    biases = biases - eta * np.sum(deltas_escaladas)\n",
        "    \n",
        "    # Los pesos son actualizados en una forma de algebra lineal(una matriz menos otra)\n",
        "    # Sin embargo, los sesgos en este caso son solo un número, es necesario transformar las deltas\n",
        "    #       a un escalar.      \n",
        "    # Ambas lineas son consistentes con la metodología de decenso de gradiente-"
      ],
      "execution_count": 22,
      "outputs": []
    },
    {
      "cell_type": "markdown",
      "metadata": {
        "id": "alXfGKdLlU1C"
      },
      "source": [
        "### Desplegamos los pesos y sesgos para ver si funcionaron correctamente.\n",
        "\n",
        "Por el diseño de nuestro datos, los pesos debieran ser 2 y -3, y el sesgo: 5\n",
        "\n",
        "**NOTA:**  Si aún no están los valores correctos, puede que aún estén convergiendo y sea necesario iterar más veces.  Para esto solo se requiere ejecutar la celda anterior cuantas veces sea requerido"
      ]
    },
    {
      "cell_type": "code",
      "metadata": {
        "jupyter": {
          "outputs_hidden": false
        },
        "id": "8evR6nfOlU1D",
        "outputId": "921740cb-1484-4ea1-ccab-64d682cb01a1",
        "colab": {
          "base_uri": "https://localhost:8080/"
        }
      },
      "source": [
        "print(weights, biases)      "
      ],
      "execution_count": 23,
      "outputs": [
        {
          "output_type": "stream",
          "text": [
            "[[ 1.93546431]\n",
            " [-2.89988938]] [0.49190059]\n"
          ],
          "name": "stdout"
        }
      ]
    },
    {
      "cell_type": "markdown",
      "metadata": {
        "id": "4_RyLWH0lU1D"
      },
      "source": [
        "### Graficar las últimas salidas vrs las metas (targets)\n",
        "\n",
        "Como son las últimas, luego del entrenamiento, representan el modelo final de exactitud.  Enntre más cercana esté esta gráfica a una línea de 45 grados, mhás cercanas están las salidas y metas.\n",
        "\n",
        "Como este ejemplo es pequeño, es posible hacerlo, en los problemas que veremos más tarde en la clase, esto ya no sería posible."
      ]
    },
    {
      "cell_type": "code",
      "metadata": {
        "id": "oc5gFP8hlU1E",
        "outputId": "32d67e26-415e-46c0-b9d3-82553f1b690a",
        "colab": {
          "base_uri": "https://localhost:8080/",
          "height": 288
        }
      },
      "source": [
        "salidasN = salidas.reshape(observaciones,)\n",
        "targetsN = targets.reshape(observaciones,)\n",
        "sns.scatterplot(x = salidasN, y =  targetsN)\n",
        "\n",
        "\"\"\"\n",
        "salidasN = salidas.reshape(observaciones,)\n",
        "targetsN = targets.reshape(observaciones,)\n",
        "fig = px.scatter(x = salidasN, y =  targetsN)\n",
        "\n",
        "fig.update_layout(\n",
        "    width = 400,\n",
        "    height = 400,)\n",
        "\n",
        "fig.show()\"\"\""
      ],
      "execution_count": 27,
      "outputs": [
        {
          "output_type": "execute_result",
          "data": {
            "application/vnd.google.colaboratory.intrinsic+json": {
              "type": "string"
            },
            "text/plain": [
              "'\\nsalidasN = salidas.reshape(observaciones,)\\ntargetsN = targets.reshape(observaciones,)\\nfig = px.scatter(x = salidasN, y =  targetsN)\\n\\nfig.update_layout(\\n    width = 400,\\n    height = 400,)\\n\\nfig.show()'"
            ]
          },
          "metadata": {},
          "execution_count": 27
        },
        {
          "output_type": "display_data",
          "data": {
            "image/png": "[encoded data removed]",
            "text/plain": [
              "<Figure size 432x288 with 1 Axes>"
            ]
          },
          "metadata": {
            "needs_background": "light"
          }
        }
      ]
    },
    {
      "cell_type": "code",
      "metadata": {
        "id": "nE-SIePe7ITB",
        "outputId": "b0875988-4af7-45f2-b5ae-6342bfb67ff2",
        "colab": {
          "base_uri": "https://localhost:8080/"
        }
      },
      "source": [
        "end = time.time()\n",
        "print(end - start)"
      ],
      "execution_count": 25,
      "outputs": [
        {
          "output_type": "stream",
          "text": [
            "2.930663585662842\n"
          ],
          "name": "stdout"
        }
      ]
    }
  ]
}