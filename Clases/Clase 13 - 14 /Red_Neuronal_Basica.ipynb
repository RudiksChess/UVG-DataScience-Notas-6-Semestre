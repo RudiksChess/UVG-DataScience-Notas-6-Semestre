{
  "nbformat": 4,
  "nbformat_minor": 0,
  "metadata": {
    "anaconda-cloud": {},
    "kernelspec": {
      "display_name": "Python 3",
      "language": "python",
      "name": "python3"
    },
    "language_info": {
      "codemirror_mode": {
        "name": "ipython",
        "version": 3
      },
      "file_extension": ".py",
      "mimetype": "text/x-python",
      "name": "python",
      "nbconvert_exporter": "python",
      "pygments_lexer": "ipython3",
      "version": "3.7.10"
    },
    "colab": {
      "name": "Red_Neuronal_Basica.ipynb",
      "provenance": [],
      "include_colab_link": true
    }
  },
  "cells": [
    {
      "cell_type": "markdown",
      "metadata": {
        "id": "view-in-github",
        "colab_type": "text"
      },
      "source": [
        "<a href=\"https://colab.research.google.com/github/RudiksChess/UVG-DataScience-Notas-6-Semestre/blob/main/Clases/Clase%2013%20-%2014%20/Red_Neuronal_Basica.ipynb\" target=\"_parent\"><img src=\"https://colab.research.google.com/assets/colab-badge.svg\" alt=\"Open In Colab\"/></a>"
      ]
    },
    {
      "cell_type": "markdown",
      "metadata": {
        "id": "4AYa5RXblU03"
      },
      "source": [
        "# Regresión Lineal Simple. Ejemplo minimalista"
      ]
    },
    {
      "cell_type": "markdown",
      "metadata": {
        "id": "VjP0pGw6lU04"
      },
      "source": [
        "### Importar las librerías relevantes"
      ]
    },
    {
      "cell_type": "code",
      "metadata": {
        "tags": [],
        "id": "A4RmA_OXlU05"
      },
      "source": [
        "import pandas as pd\n",
        "import numpy as np\n",
        "import plotly.express as px\n",
        "import matplotlib.pyplot as plt\n",
        "from mpl_toolkits.mplot3d import Axes3D  # Para graficar en 3-D\n",
        "import time\n",
        "import seaborn as sns"
      ],
      "execution_count": 1,
      "outputs": []
    },
    {
      "cell_type": "code",
      "metadata": {
        "id": "u4TD5w8y8B_i"
      },
      "source": [
        "start = time.time()"
      ],
      "execution_count": 2,
      "outputs": []
    },
    {
      "cell_type": "markdown",
      "metadata": {
        "id": "5DcwCSHtlU06"
      },
      "source": [
        "### Generar datos al azar para entrenar al modelo\n",
        "\n",
        "Trabajaremos con dos variables de entrada, las x1 y x2 en nuestros ejemplos anteriores. Se generan al azar a partir de una distribución uniforme.\n",
        "\n",
        "Se creará una matriz con estas dos variables.  La matriz X del modelo lineal y = x * w + b"
      ]
    },
    {
      "cell_type": "code",
      "metadata": {
        "jupyter": {
          "outputs_hidden": false
        },
        "id": "J1z0_oxWlU06",
        "colab": {
          "base_uri": "https://localhost:8080/"
        },
        "outputId": "078e9fde-54d1-4ff5-d636-704376186abb"
      },
      "source": [
        "# Por facilidad, declaramos una variable que indique el tamaño del conjunto \n",
        "#      de datos de entrenamiento.\n",
        "observaciones = 1000\n",
        "x1 = np.random.uniform(low=-10, high=10, size=(observaciones,1))\n",
        "x2 = np.random.uniform(-10, 10, (observaciones,1))\n",
        "\n",
        "entradas = np.column_stack((x1,x2))\n",
        "\n",
        "# Verificar la forma de la matriz \n",
        "# Debiera ser n x k, donde n es el número de observaciones, y k es el número de variables.\n",
        "print (entradas.shape)"
      ],
      "execution_count": 3,
      "outputs": [
        {
          "output_type": "stream",
          "text": [
            "(1000, 2)\n"
          ],
          "name": "stdout"
        }
      ]
    },
    {
      "cell_type": "markdown",
      "metadata": {
        "id": "SP0A5EhElU07"
      },
      "source": [
        "### Generar las metas a las que debemos apuntar\n",
        "\n",
        "Inventaremos una función f(x1, x2) = 2 * x1 - 3 * x2 + 5 + <ruido pequeño>.  El ruido es para hacerlo más realista.\n",
        "\n",
        "Utilizaremos la metodología de ML, y veremos si el algoritmo la ha aprendido.  "
      ]
    },
    {
      "cell_type": "code",
      "metadata": {
        "jupyter": {
          "outputs_hidden": false
        },
        "id": "loGBM5PGlU08",
        "colab": {
          "base_uri": "https://localhost:8080/"
        },
        "outputId": "4bd6d1c8-074b-4418-b425-5b79124e581d"
      },
      "source": [
        "ruido = np.random.uniform(-1, 1, (observaciones,1))\n",
        "\n",
        "targets = 13 * x1 +7 * x2 -12 + ruido\n",
        "\n",
        "# Veamos las dimensiones. Deben ser n x m, donde m es el número de variables de salida.\n",
        "print (targets.shape)"
      ],
      "execution_count": 4,
      "outputs": [
        {
          "output_type": "stream",
          "text": [
            "(1000, 1)\n"
          ],
          "name": "stdout"
        }
      ]
    },
    {
      "cell_type": "markdown",
      "metadata": {
        "id": "bdyYjF_AlU08"
      },
      "source": [
        "### Graficar los datos a usar para el entrenamiento\n",
        "\n",
        "La idea es ver que haya una fuerte tendencia que nuestro modelo debe aprender a reproducir.\n"
      ]
    },
    {
      "cell_type": "code",
      "metadata": {
        "id": "3O25PfgblU09",
        "colab": {
          "base_uri": "https://localhost:8080/"
        },
        "outputId": "e81c81c6-804b-40a5-b041-0608b14931aa"
      },
      "source": [
        "print(x1.shape)\n",
        "print(x2.shape)\n",
        "print(targets.shape)"
      ],
      "execution_count": 5,
      "outputs": [
        {
          "output_type": "stream",
          "text": [
            "(1000, 1)\n",
            "(1000, 1)\n",
            "(1000, 1)\n"
          ],
          "name": "stdout"
        }
      ]
    },
    {
      "cell_type": "code",
      "metadata": {
        "id": "S54OmB9ylU0-",
        "colab": {
          "base_uri": "https://localhost:8080/",
          "height": 54
        },
        "outputId": "796f9a7a-7076-4150-9685-2bbc70c62dd7"
      },
      "source": [
        "\"\"\"fig = plt.figure()\n",
        "ax = fig.add_subplot(111, projection = '3d')\n",
        "\n",
        "x1N = x1.reshape(observaciones,)\n",
        "x2N = x2.reshape(observaciones,)\n",
        "targetsN = targets.reshape(observaciones,)\n",
        "\n",
        "\n",
        "ax.scatter(x1N, x2N, targetsN )\n",
        "\n",
        "plt.show()\"\"\"\n",
        "\"\"\"\n",
        "x1N = x1.reshape(observaciones,)\n",
        "x2N = x2.reshape(observaciones,)\n",
        "targetsN = targets.reshape(observaciones,)\n",
        "\n",
        "fig = px.scatter_3d(x = x1N, y = x2N, z = targetsN)\n",
        "\n",
        "fig.update_layout(\n",
        "    width = 500,\n",
        "    height = 500,)\n",
        "\n",
        "fig.show()\"\"\""
      ],
      "execution_count": 6,
      "outputs": [
        {
          "output_type": "execute_result",
          "data": {
            "application/vnd.google.colaboratory.intrinsic+json": {
              "type": "string"
            },
            "text/plain": [
              "'\\nx1N = x1.reshape(observaciones,)\\nx2N = x2.reshape(observaciones,)\\ntargetsN = targets.reshape(observaciones,)\\n\\nfig = px.scatter_3d(x = x1N, y = x2N, z = targetsN)\\n\\nfig.update_layout(\\n    width = 500,\\n    height = 500,)\\n\\nfig.show()'"
            ]
          },
          "metadata": {},
          "execution_count": 6
        }
      ]
    },
    {
      "cell_type": "markdown",
      "metadata": {
        "id": "x2_Lp_iVlU0_"
      },
      "source": [
        "### Inicializar variables\n",
        "\n",
        "Inicializaremos los pesos y sesgos, al azar, dentre de un rango inicial pequeño.  Es posible \"jugar\" con este valor pero no es recomendable ya que el uso de rangos iniciales altos inhibe el aprendizaje por parte del algoritmo\n",
        "\n",
        "Los pesos son de dimensiones k x m, donde k es el numero de variables de entrada y m es el número de variables de salida.  \n",
        "\n",
        "Como solo hay una salida, el sesgo es de tamaño 1, y es un escalar"
      ]
    },
    {
      "cell_type": "code",
      "metadata": {
        "jupyter": {
          "outputs_hidden": false
        },
        "id": "uXG1MKaTlU0_",
        "colab": {
          "base_uri": "https://localhost:8080/"
        },
        "outputId": "644d0762-81c3-46ee-e559-77d472701761"
      },
      "source": [
        "rango_inicial = 0.1\n",
        "\n",
        "weights = np.random.uniform(low = -rango_inicial, high = rango_inicial, size=(2, 1))\n",
        "\n",
        "biases = np.random.uniform(low = -rango_inicial, high = rango_inicial, size=1)\n",
        "\n",
        "#Veamos cómo fueron inicializados.\n",
        "print (weights)\n",
        "print (biases)"
      ],
      "execution_count": 7,
      "outputs": [
        {
          "output_type": "stream",
          "text": [
            "[[-0.06726784]\n",
            " [ 0.0810325 ]]\n",
            "[0.06678484]\n"
          ],
          "name": "stdout"
        }
      ]
    },
    {
      "cell_type": "code",
      "metadata": {
        "id": "8_eptMzUlU1A",
        "colab": {
          "base_uri": "https://localhost:8080/"
        },
        "outputId": "17b6d6f0-fcef-4e5f-a39c-7c38510b11e7"
      },
      "source": [
        "weights.shape"
      ],
      "execution_count": 8,
      "outputs": [
        {
          "output_type": "execute_result",
          "data": {
            "text/plain": [
              "(2, 1)"
            ]
          },
          "metadata": {},
          "execution_count": 8
        }
      ]
    },
    {
      "cell_type": "markdown",
      "metadata": {
        "id": "LkgkqaYnlU1A"
      },
      "source": [
        "### Asignar la tasa de aprendizaje (Eta)\n",
        "\n",
        "Se asigna un a tasa de aprendizaje pequeña.  Para este ejemplo funciona bien 0.02.  Vale la pena \"jugar\" con este valor para ver los resultados de hacerlo."
      ]
    },
    {
      "cell_type": "code",
      "metadata": {
        "jupyter": {
          "outputs_hidden": false
        },
        "id": "_YNwUkvNlU1B"
      },
      "source": [
        "eta = 0.001"
      ],
      "execution_count": 9,
      "outputs": []
    },
    {
      "cell_type": "markdown",
      "metadata": {
        "id": "Yos9l0QBlU1B"
      },
      "source": [
        "### Entrenar el modelo\n",
        "\n",
        "Usaremos un valor de 100 para iterar sobre el conjunto de datos de entrenamiento.  Ese valor funciona bastante bien con la tasa de aprendizaje de 0.02.  Cómo saber el número adecuado de iteraciones es algo que veremos en futuras sesiones, pero generalmente una tasa de aprendizaje baja requiere de más iteraciones que una más alta.  Sin embargo hay que tener en mente que una tasa de aprendizaje alta puede causar que la pérdida \"Loss\" diverja a infinito, en vez de converger a cero (0)\n",
        "\n",
        "Usaremos la función de pérdida L2-norm, pero dividido por 2, Para se consistente con la clase.  Es más, también lo dividiremos por el número de observaciones para obtener un promedio de pérdida por observación.  Hablamos en clase sobre la posiilidad de modificar esta función una vez no se pierda la característica de ser más baja para los resultados mejores, y vice versa.\n",
        "\n",
        "Imprimimos la función de pérdida (loss) en cada iteración, para ver si está decreciendo como se desea.\n",
        "\n",
        "Otro pequeño truco es escalar las deltas de la misma manera que se hizo con la función de pérdida.  De esta forma la tasa de aprendizaje es independiente del número de muestras (samples u observaciones).  De nuevo esto no cambia el principio, solo hace más fácil la selección de una tasa única de aprendizaje. \n",
        "\n",
        "Finalmente aplicamos la regla de actualización del decenso de gradiente.\n",
        "\n",
        "Ojo!  los pesos son 2x1, la tasa de aprendizaje es 1x1 (escalar), las entradas son 1000x2, y las deltas escaladas son 1000x1.  Necesitamos obtener la transpuesta de las entradas para que no hayan problemas de dimensión en las operaciones. \n",
        "\n"
      ]
    },
    {
      "cell_type": "code",
      "metadata": {
        "jupyter": {
          "outputs_hidden": false
        },
        "scrolled": true,
        "id": "S9qSDiUalU1C",
        "outputId": "be0f1778-87cb-4cbc-b450-6adfd0dddfd5",
        "colab": {
          "base_uri": "https://localhost:8080/"
        }
      },
      "source": [
        "for i in range (100):\n",
        "    \n",
        "    # Esta es la ecuacion del modelo lineal: y = xw + b \n",
        "    salidas = np.dot(entradas, weights) + biases\n",
        "    \n",
        "    # Las deltas son las diferencias entre las salidas y las metas (targets)\n",
        "    # deltas es un vector 1000 x 1\n",
        "    deltas = salidas - targets\n",
        "        \n",
        "    loss = np.sum(deltas**2)/2  / observaciones\n",
        "    \n",
        "    print(loss)\n",
        "    \n",
        "    deltas_escaladas = deltas / observaciones\n",
        "      \n",
        "    weights = weights - eta * np.dot(entradas.T, deltas_escaladas)\n",
        "    biases = biases - eta * np.sum(deltas_escaladas)\n",
        "    \n",
        "    # Los pesos son actualizados en una forma de algebra lineal(una matriz menos otra)\n",
        "    # Sin embargo, los sesgos en este caso son solo un número, es necesario transformar las deltas\n",
        "    #       a un escalar.      \n",
        "    # Ambas lineas son consistentes con la metodología de decenso de gradiente-"
      ],
      "execution_count": 10,
      "outputs": [
        {
          "output_type": "stream",
          "text": [
            "3678.3950659338934\n",
            "3443.8922328823205\n",
            "3224.6238863739\n",
            "3019.5997354479714\n",
            "2827.8938626571803\n",
            "2648.640539471969\n",
            "2481.0303137054475\n",
            "2324.3063512758267\n",
            "2177.761015773109\n",
            "2040.7326703714705\n",
            "1912.6026876336664\n",
            "1792.7926536933705\n",
            "1680.7617541798395\n",
            "1576.004330070687\n",
            "1478.0475924265347\n",
            "1386.4494856793824\n",
            "1300.7966898179204\n",
            "1220.7027524407506\n",
            "1145.80634223543\n",
            "1075.769615990017\n",
            "1010.2766917569202\n",
            "949.0322212686034\n",
            "891.7600551532572\n",
            "838.2019949179678\n",
            "788.1166260590464\n",
            "741.2782270258425\n",
            "697.4757491071753\n",
            "656.5118626300552\n",
            "618.2020651600617\n",
            "582.3738476729523\n",
            "548.8659149290901\n",
            "517.5274565272268\n",
            "488.2174653432365\n",
            "460.8041002735377\n",
            "435.16409040318615\n",
            "411.1821779058216\n",
            "388.7505971577161\n",
            "367.76858771182447\n",
            "348.1419389307724\n",
            "329.7825642207986\n",
            "312.60810294244357\n",
            "296.5415481988646\n",
            "281.51089881960496\n",
            "267.44883396699765\n",
            "254.29240889462483\n",
            "241.9827704828468\n",
            "230.46489126579849\n",
            "219.6873207478207\n",
            "209.60195288543116\n",
            "200.1638086839983\n",
            "191.330832926593\n",
            "183.06370411636047\n",
            "175.3256567734711\n",
            "168.0823152835464\n",
            "161.30153854666128\n",
            "154.9532747248341\n",
            "149.0094254315582\n",
            "143.4437187495978\n",
            "138.2315905031724\n",
            "133.3500732479557\n",
            "128.7776924771968\n",
            "124.49436957488459\n",
            "120.48133107736416\n",
            "116.7210238333315\n",
            "113.19703567878301\n",
            "109.89402126842465\n",
            "106.79763272834712\n",
            "103.89445481656534\n",
            "101.17194429838865\n",
            "98.6183732626425\n",
            "96.2227761225664\n",
            "93.97490006187012\n",
            "91.86515870199668\n",
            "89.88458878120143\n",
            "88.02480964966409\n",
            "86.277985397582\n",
            "84.63678944508816\n",
            "83.09437143396477\n",
            "81.64432627152736\n",
            "80.28066518677818\n",
            "78.99778866802316\n",
            "77.7904611596498\n",
            "76.65378740371287\n",
            "75.58319031940884\n",
            "74.57439032047014\n",
            "73.62338597700806\n",
            "72.72643593440968\n",
            "71.88004200757625\n",
            "71.08093337409949\n",
            "70.32605179494143\n",
            "69.61253779582592\n",
            "68.9377177468911\n",
            "68.29909178221303\n",
            "67.69432250460487\n",
            "67.12122442464603\n",
            "66.57775408621339\n",
            "66.06200083388913\n",
            "65.57217818052064\n",
            "65.10661573592037\n",
            "64.66375166022985\n"
          ],
          "name": "stdout"
        }
      ]
    },
    {
      "cell_type": "markdown",
      "metadata": {
        "id": "alXfGKdLlU1C"
      },
      "source": [
        "### Desplegamos los pesos y sesgos para ver si funcionaron correctamente.\n",
        "\n",
        "Por el diseño de nuestro datos, los pesos debieran ser 2 y -3, y el sesgo: 5\n",
        "\n",
        "**NOTA:**  Si aún no están los valores correctos, puede que aún estén convergiendo y sea necesario iterar más veces.  Para esto solo se requiere ejecutar la celda anterior cuantas veces sea requerido"
      ]
    },
    {
      "cell_type": "code",
      "metadata": {
        "jupyter": {
          "outputs_hidden": false
        },
        "id": "8evR6nfOlU1D",
        "colab": {
          "base_uri": "https://localhost:8080/"
        },
        "outputId": "94fa9deb-2fae-45ab-947c-89af6dfaac44"
      },
      "source": [
        "print(weights, biases)      "
      ],
      "execution_count": 11,
      "outputs": [
        {
          "output_type": "stream",
          "text": [
            "[[12.55336282]\n",
            " [ 6.71983645]] [-1.0589199]\n"
          ],
          "name": "stdout"
        }
      ]
    },
    {
      "cell_type": "markdown",
      "metadata": {
        "id": "4_RyLWH0lU1D"
      },
      "source": [
        "### Graficar las últimas salidas vrs las metas (targets)\n",
        "\n",
        "Como son las últimas, luego del entrenamiento, representan el modelo final de exactitud.  Enntre más cercana esté esta gráfica a una línea de 45 grados, mhás cercanas están las salidas y metas.\n",
        "\n",
        "Como este ejemplo es pequeño, es posible hacerlo, en los problemas que veremos más tarde en la clase, esto ya no sería posible."
      ]
    },
    {
      "cell_type": "code",
      "metadata": {
        "id": "oc5gFP8hlU1E",
        "colab": {
          "base_uri": "https://localhost:8080/",
          "height": 37
        },
        "outputId": "aaf7e5b5-68b1-4c22-a540-ee3d0b69b6bb"
      },
      "source": [
        "\"\"\"salidasN = salidas.reshape(observaciones,)\n",
        "targetsN = targets.reshape(observaciones,)\n",
        "sns.scatterplot(x = salidasN, y =  targetsN)\"\"\"\n",
        "\n",
        "\"\"\"\n",
        "salidasN = salidas.reshape(observaciones,)\n",
        "targetsN = targets.reshape(observaciones,)\n",
        "fig = px.scatter(x = salidasN, y =  targetsN)\n",
        "\n",
        "fig.update_layout(\n",
        "    width = 400,\n",
        "    height = 400,)\n",
        "\n",
        "fig.show()\"\"\""
      ],
      "execution_count": 12,
      "outputs": [
        {
          "output_type": "execute_result",
          "data": {
            "application/vnd.google.colaboratory.intrinsic+json": {
              "type": "string"
            },
            "text/plain": [
              "'\\nsalidasN = salidas.reshape(observaciones,)\\ntargetsN = targets.reshape(observaciones,)\\nfig = px.scatter(x = salidasN, y =  targetsN)\\n\\nfig.update_layout(\\n    width = 400,\\n    height = 400,)\\n\\nfig.show()'"
            ]
          },
          "metadata": {},
          "execution_count": 12
        }
      ]
    },
    {
      "cell_type": "code",
      "metadata": {
        "id": "nE-SIePe7ITB",
        "colab": {
          "base_uri": "https://localhost:8080/"
        },
        "outputId": "b974d661-1ec1-4f00-9dc9-fa9986bf6f6d"
      },
      "source": [
        "end = time.time()\n",
        "print(end - start)"
      ],
      "execution_count": 13,
      "outputs": [
        {
          "output_type": "stream",
          "text": [
            "0.2210400104522705\n"
          ],
          "name": "stdout"
        }
      ]
    }
  ]
}