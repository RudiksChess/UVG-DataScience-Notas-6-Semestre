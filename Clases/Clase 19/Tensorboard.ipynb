{
 "cells": [
  {
   "cell_type": "markdown",
   "metadata": {
    "tags": []
   },
   "source": [
    "# Tensorboard\n",
    "\n",
    "---\n",
    "---\n",
    "\n",
    "**Tensorboard es un tablero (dashboard) que nos permitirá visualizar mejor lo que ocurre al usar Tensorflow**\n",
    "\n",
    "---\n",
    "---\n",
    "\n",
    "Tutorial completo oficial disponible en: https://www.tensorflow.org/tensorboard/get_started\n",
    "\n",
    "## Datos"
   ]
  },
  {
   "cell_type": "code",
   "execution_count": null,
   "metadata": {
    "tags": []
   },
   "outputs": [],
   "source": [
    "import pandas as pd\n",
    "import numpy as np"
   ]
  },
  {
   "cell_type": "code",
   "execution_count": null,
   "metadata": {},
   "outputs": [],
   "source": [
    "df = pd.read_csv('african_econ_crises_copy.csv')"
   ]
  },
  {
   "cell_type": "markdown",
   "metadata": {},
   "source": [
    "### División de los datos originales en un conjunto de entrenamiento y otro de prueba"
   ]
  },
  {
   "cell_type": "code",
   "execution_count": null,
   "metadata": {},
   "outputs": [],
   "source": [
    "X = df.drop('banking_crises',axis=1).values\n",
    "y = df['banking_crises'].values"
   ]
  },
  {
   "cell_type": "code",
   "execution_count": null,
   "metadata": {
    "tags": []
   },
   "outputs": [],
   "source": [
    "from sklearn.model_selection import train_test_split"
   ]
  },
  {
   "cell_type": "code",
   "execution_count": null,
   "metadata": {},
   "outputs": [],
   "source": [
    "X_train, X_test, y_train, y_test = train_test_split(X, y, test_size=0.25, random_state=101)"
   ]
  },
  {
   "cell_type": "markdown",
   "metadata": {},
   "source": [
    "\n",
    "### Poner los datos a escala \"Normalizar\""
   ]
  },
  {
   "cell_type": "code",
   "execution_count": null,
   "metadata": {
    "tags": []
   },
   "outputs": [],
   "source": [
    "from sklearn.preprocessing import MinMaxScaler"
   ]
  },
  {
   "cell_type": "code",
   "execution_count": null,
   "metadata": {},
   "outputs": [],
   "source": [
    "escalador = MinMaxScaler()"
   ]
  },
  {
   "cell_type": "code",
   "execution_count": null,
   "metadata": {},
   "outputs": [],
   "source": [
    "escalador.fit(X_train)"
   ]
  },
  {
   "cell_type": "code",
   "execution_count": null,
   "metadata": {},
   "outputs": [],
   "source": [
    "X_train = escalador.transform(X_train)\n",
    "X_test = escalador.transform(X_test)"
   ]
  },
  {
   "cell_type": "markdown",
   "metadata": {},
   "source": [
    "## Crear el Modelo"
   ]
  },
  {
   "cell_type": "code",
   "execution_count": null,
   "metadata": {},
   "outputs": [],
   "source": [
    "import tensorflow as tf\n",
    "from tensorflow.keras.models import Sequential\n",
    "from tensorflow.keras.layers import Dense, Activation, Dropout"
   ]
  },
  {
   "cell_type": "markdown",
   "metadata": {},
   "source": [
    "### importamos algo nuevo...TensorBoard"
   ]
  },
  {
   "cell_type": "code",
   "execution_count": null,
   "metadata": {},
   "outputs": [],
   "source": [
    "from tensorflow.keras.callbacks import EarlyStopping,TensorBoard"
   ]
  },
  {
   "cell_type": "code",
   "execution_count": null,
   "metadata": {},
   "outputs": [],
   "source": [
    "early_stop = EarlyStopping(monitor='val_loss', mode='min', verbose=1, patience=25)"
   ]
  },
  {
   "cell_type": "markdown",
   "metadata": {},
   "source": [
    "## Necesitamos saber el directorio donde se encuentra el notebook\n",
    "\n",
    "Esto va a depender de sus máquinas individuales, como la tienen organizada, y si usan Windows, Linux, Mac, u otro"
   ]
  },
  {
   "cell_type": "code",
   "execution_count": null,
   "metadata": {},
   "outputs": [],
   "source": [
    "pwd"
   ]
  },
  {
   "cell_type": "markdown",
   "metadata": {
    "tags": []
   },
   "source": [
    "## Crear los llamados (Callback) de Tensorboard\n",
    "\n",
    "Esta llamada crea una bitácora para TensorBoard, incluyendo:\n",
    "\n",
    "\n",
    "* Gráficas resúmen de métricas\n",
    "* Visualización de la gráfica de entrenamiento\n",
    "* Histogramas de activación\n",
    "* Perfilados muestreados\n",
    "\n",
    "Si tien instalado TensorFlow con pip, debiera poder ejecutar el TensorBoard de la línea de petición de instrucciones (comandos):\n",
    "\n",
    "\n",
    "```sh\n",
    "tensorboard --logdir = trayectoria_a_sus_bitacoras\n",
    "```\n",
    "\n",
    "Puede encontrar más información sobre TensorBoards\n",
    "[aquí](https://www.tensorflow.org/tensorboard/).\n",
    "\n",
    "Argumentos:\n",
    "* log_dir: la trayectoria del directorio donde quiere que se guarden las bitácoras.\n",
    "* histogram_freq: frecuencia (en epocas) con la que quiere que se comparen histogramas de           activación y de pesos para las capas del modelo.  Si se deja en 0, no se calcularán             los histogramas. Debe especificarse los datos de validación para las visualizaciones           de histogramas.\n",
    "* write_graph: si se desea visualizar la gráfica en TensorBoard. El archivo de bitácora             puede resultar bastante grande cuando este parámetro se fija en True.\n",
    "* write_images: si se desean grabar los pesos del modelo para visualizarlos como una               imagen en TensorBoard.\n",
    "* update_freq: `'batch'` o `'epoch'` o integer.  Cuando se usa `'batch'`, se grabab las             pérdidas y métricas a TensorBoard luego de cada tanda.  Lo mismo aplica para                   `'epoch'`.   Si se usa in entero, digmamos `1000`, la llamada (callback) grabará las           métricas y pérdidas en TensorBoard a cada 1000 muestras.  Nótese que grabar con mucha           frecuencia puede causar que TensorBoard desacelere el entrenamiento.\n",
    "* profile_batch: Perfilar la tanda sobre la cual se calculen características muestra.               Por default, perfilará la segunda tanda.  Si no se desea el perfilado deje                     profile_batch = 0 para deshabiltarlo.  Debe ser corrido con el modo \"eager\" de                 TensorFlow.\n",
    "* embeddings_freq: frequencia (en epocas) a la que se desea que se visualicen las capas             incrustadas.  Si se deja en 0, estas no se visualizarán.\n",
    "       "
   ]
  },
  {
   "cell_type": "code",
   "execution_count": null,
   "metadata": {},
   "outputs": [],
   "source": [
    "from datetime import datetime"
   ]
  },
  {
   "cell_type": "markdown",
   "metadata": {},
   "source": [
    "Podemos usar lo siguiente para identificar las bitácoras generadas, solo será necesario cuidar que pase, al menos un minuto para que no hayan duplicados"
   ]
  },
  {
   "cell_type": "code",
   "execution_count": null,
   "metadata": {},
   "outputs": [],
   "source": [
    "datetime.now().strftime(\"%Y-%m-%d--%H%M\")"
   ]
  },
  {
   "cell_type": "code",
   "execution_count": null,
   "metadata": {},
   "outputs": [],
   "source": [
    "# WINDOWS: Utilice \"logs\\\\fit\"\n",
    "# MACOS/LINUX: Utilice \"logs/fit\"\n",
    "\n",
    "log_directory = 'logs/fit'\n",
    "\n",
    "# OPCIONAL: AGREGAR UNA MARCA DE TIEMPO PARA CARPETAS UNICAS\n",
    "# timestamp = datetime.now().strftime(\"%Y-%m-%d--%H%M\")\n",
    "# log_directory = log_directory + '\\\\' + timestamp\n",
    "\n",
    "\n",
    "board = TensorBoard(log_dir=log_directory,histogram_freq=1,\n",
    "    write_graph=True,\n",
    "    write_images=True,\n",
    "    update_freq='epoch',\n",
    "    profile_batch=2,\n",
    "    embeddings_freq=1)"
   ]
  },
  {
   "cell_type": "markdown",
   "metadata": {},
   "source": [
    "Ahora crear las capas de los modelos:"
   ]
  },
  {
   "cell_type": "code",
   "execution_count": null,
   "metadata": {},
   "outputs": [],
   "source": [
    "model = Sequential()\n",
    "model.add(Dense(units = 30, activation = 'relu'))\n",
    "model.add(Dropout(0.5))\n",
    "model.add(Dense(units = 15, activation = 'relu'))\n",
    "model.add(Dropout(0.5))\n",
    "model.add(Dense(units = 1, activation = 'sigmoid'))\n",
    "model.compile(loss = 'binary_crossentropy', optimizer = 'adam')"
   ]
  },
  {
   "cell_type": "markdown",
   "metadata": {},
   "source": [
    "## Entrenar el modelo"
   ]
  },
  {
   "cell_type": "code",
   "execution_count": null,
   "metadata": {},
   "outputs": [],
   "source": [
    "model.fit(x = X_train, \n",
    "          y = y_train, \n",
    "          epochs = 600,\n",
    "          validation_data = (X_test, y_test), verbose=1,\n",
    "          callbacks = [early_stop,board]\n",
    "          )"
   ]
  },
  {
   "cell_type": "markdown",
   "metadata": {
    "tags": []
   },
   "source": [
    "# Levantar el TensorBoard"
   ]
  },
  {
   "cell_type": "markdown",
   "metadata": {},
   "source": [
    "## Como crear la instrucción\n",
    "\n",
    "**Debe ejecutarse TensorBoard desde una terminal o ventana de comandos.**"
   ]
  },
  {
   "cell_type": "markdown",
   "metadata": {},
   "source": [
    "Tensorboard correrá localmente en su navegador en [http://localhost:6006/](http://localhost:6006/)\n",
    "\n",
    "Los siguentes datos son para que los utilice en la terminal o ventana de comandos.  Recuerde que será diferente de acuerdo al Sistema Operativo que tiene su máquina"
   ]
  },
  {
   "cell_type": "code",
   "execution_count": null,
   "metadata": {},
   "outputs": [],
   "source": [
    "print(log_directory)"
   ]
  },
  {
   "cell_type": "code",
   "execution_count": null,
   "metadata": {},
   "outputs": [],
   "source": [
    "pwd"
   ]
  },
  {
   "cell_type": "markdown",
   "metadata": {},
   "source": [
    "### Utilice cd en su terminal para cambiar la carpeta o directorio a la trayectoria reportada por su pwd o la localización de su archivo .py.\n",
    "### Luego ejecute este código en su terminal o línea de comando"
   ]
  },
  {
   "cell_type": "markdown",
   "metadata": {},
   "source": [
    "tensorboard --logdir logs/fit "
   ]
  }
 ],
 "metadata": {
  "kernelspec": {
   "display_name": "Python 3",
   "language": "python",
   "name": "python3"
  },
  "language_info": {
   "codemirror_mode": {
    "name": "ipython",
    "version": 3
   },
   "file_extension": ".py",
   "mimetype": "text/x-python",
   "name": "python",
   "nbconvert_exporter": "python",
   "pygments_lexer": "ipython3",
   "version": "3.7.11"
  }
 },
 "nbformat": 4,
 "nbformat_minor": 4
}
