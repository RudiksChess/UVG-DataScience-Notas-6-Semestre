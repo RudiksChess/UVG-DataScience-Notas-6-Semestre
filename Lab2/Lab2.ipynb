{
  "nbformat": 4,
  "nbformat_minor": 0,
  "metadata": {
    "kernelspec": {
      "display_name": "Python 3",
      "language": "python",
      "name": "python3"
    },
    "language_info": {
      "codemirror_mode": {
        "name": "ipython",
        "version": 3
      },
      "file_extension": ".py",
      "mimetype": "text/x-python",
      "name": "python",
      "nbconvert_exporter": "python",
      "pygments_lexer": "ipython3",
      "version": "3.8.10"
    },
    "colab": {
      "name": "Lab2.ipynb",
      "provenance": [],
      "include_colab_link": true
    }
  },
  "cells": [
    {
      "cell_type": "markdown",
      "metadata": {
        "id": "view-in-github",
        "colab_type": "text"
      },
      "source": [
        "<a href=\"https://colab.research.google.com/github/RudiksChess/UVG-DataScience-Notas-6-Semestre/blob/main/Lab2/Lab2.ipynb\" target=\"_parent\"><img src=\"https://colab.research.google.com/assets/colab-badge.svg\" alt=\"Open In Colab\"/></a>"
      ]
    },
    {
      "cell_type": "markdown",
      "metadata": {
        "id": "_1wlXkhZ9KQm"
      },
      "source": [
        "# **Laboratorio 2 - Data Science 1**\n",
        "## Fecha de entrega: ***8 de agosto de 2021***\n",
        "---\n",
        "\n",
        "### **Estudiante:** Rudik Roberto Rompich \n",
        "### **Carné:** 19857\n",
        "\n",
        "---\n",
        "\n",
        " **Instrucciones:**\n",
        "\n",
        "> Adjunto a este NoteBook encontrarán el archivo *Autos-csv* que contiene datos sobre automóviles de segunda mano.  El objetivo principal de este ejercicio es desarrollar un modelo que permita, en base a las características (features) que tiene el archivo, predecir el costo de un vehículo usado.\n",
        "\n",
        "> A diferencia de la mayoría de ejercicios, este archivo no ha sido depurado, es decir los datos son crudos (raw).  Esto quiere decir que antes de trabajar sobre un modelo predictivo, deben realizar el proceso total, desde limpieza de datos, exploración inicial, etc.\n",
        "\n",
        "> A continuación encontrarán que hay encabezados que bien podrían ayudarlos a desarrollar el código requerido.  Estos están a manera de sugerencia únicamente y ustedes decidirán si los usan, modifican, eliminan, agregan a los mismos.\n",
        "\n",
        "\n"
      ]
    },
    {
      "cell_type": "markdown",
      "metadata": {
        "id": "Z6x5XVAQ9KQo"
      },
      "source": [
        ">> **Importar las librerías relevantes**"
      ]
    },
    {
      "cell_type": "code",
      "metadata": {
        "id": "IB8td_sG9KQo"
      },
      "source": [
        "import pandas as pd "
      ],
      "execution_count": 4,
      "outputs": []
    },
    {
      "cell_type": "markdown",
      "metadata": {
        "id": "KKlep9scA9IB"
      },
      "source": [
        ">> **PandasProfiler.**\n",
        "Es necesario importar la última versión de este *software* para que no se genere ningún error."
      ]
    },
    {
      "cell_type": "code",
      "metadata": {
        "id": "lhOYopKIBPmd"
      },
      "source": [
        "! pip install https://github.com/pandas-profiling/pandas-profiling/archive/master.zip"
      ],
      "execution_count": null,
      "outputs": []
    },
    {
      "cell_type": "code",
      "metadata": {
        "id": "JM4MdLMOBRwd"
      },
      "source": [
        "from pandas_profiling import ProfileReport"
      ],
      "execution_count": null,
      "outputs": []
    },
    {
      "cell_type": "markdown",
      "metadata": {
        "id": "0Y72ONiy9KQp"
      },
      "source": [
        ">> **Cargar los datos crudos**"
      ]
    },
    {
      "cell_type": "code",
      "metadata": {
        "id": "qZjKUiaX9KQp",
        "outputId": "ce148942-01a1-414d-fe30-c50de153168a",
        "colab": {
          "base_uri": "https://localhost:8080/",
          "height": 204
        }
      },
      "source": [
        "datos_url= \"https://raw.githubusercontent.com/RudiksChess/UVG-DataScience-Notas-6-Semestre/main/Lab2/Autos.csv\"\n",
        "datos = pd.read_csv(datos_url)\n",
        "datos.head()"
      ],
      "execution_count": 7,
      "outputs": [
        {
          "output_type": "execute_result",
          "data": {
            "text/html": [
              "<div>\n",
              "<style scoped>\n",
              "    .dataframe tbody tr th:only-of-type {\n",
              "        vertical-align: middle;\n",
              "    }\n",
              "\n",
              "    .dataframe tbody tr th {\n",
              "        vertical-align: top;\n",
              "    }\n",
              "\n",
              "    .dataframe thead th {\n",
              "        text-align: right;\n",
              "    }\n",
              "</style>\n",
              "<table border=\"1\" class=\"dataframe\">\n",
              "  <thead>\n",
              "    <tr style=\"text-align: right;\">\n",
              "      <th></th>\n",
              "      <th>Brand</th>\n",
              "      <th>Price</th>\n",
              "      <th>Body</th>\n",
              "      <th>Mileage</th>\n",
              "      <th>EngineV</th>\n",
              "      <th>Engine Type</th>\n",
              "      <th>Registration</th>\n",
              "      <th>Year</th>\n",
              "      <th>Model</th>\n",
              "    </tr>\n",
              "  </thead>\n",
              "  <tbody>\n",
              "    <tr>\n",
              "      <th>0</th>\n",
              "      <td>BMW</td>\n",
              "      <td>4200.0</td>\n",
              "      <td>sedan</td>\n",
              "      <td>277</td>\n",
              "      <td>2.0</td>\n",
              "      <td>Petrol</td>\n",
              "      <td>yes</td>\n",
              "      <td>1991</td>\n",
              "      <td>320</td>\n",
              "    </tr>\n",
              "    <tr>\n",
              "      <th>1</th>\n",
              "      <td>Mercedes-Benz</td>\n",
              "      <td>7900.0</td>\n",
              "      <td>van</td>\n",
              "      <td>427</td>\n",
              "      <td>2.9</td>\n",
              "      <td>Diesel</td>\n",
              "      <td>yes</td>\n",
              "      <td>1999</td>\n",
              "      <td>Sprinter 212</td>\n",
              "    </tr>\n",
              "    <tr>\n",
              "      <th>2</th>\n",
              "      <td>Mercedes-Benz</td>\n",
              "      <td>13300.0</td>\n",
              "      <td>sedan</td>\n",
              "      <td>358</td>\n",
              "      <td>5.0</td>\n",
              "      <td>Gas</td>\n",
              "      <td>yes</td>\n",
              "      <td>2003</td>\n",
              "      <td>S 500</td>\n",
              "    </tr>\n",
              "    <tr>\n",
              "      <th>3</th>\n",
              "      <td>Audi</td>\n",
              "      <td>23000.0</td>\n",
              "      <td>crossover</td>\n",
              "      <td>240</td>\n",
              "      <td>4.2</td>\n",
              "      <td>Petrol</td>\n",
              "      <td>yes</td>\n",
              "      <td>2007</td>\n",
              "      <td>Q7</td>\n",
              "    </tr>\n",
              "    <tr>\n",
              "      <th>4</th>\n",
              "      <td>Toyota</td>\n",
              "      <td>18300.0</td>\n",
              "      <td>crossover</td>\n",
              "      <td>120</td>\n",
              "      <td>2.0</td>\n",
              "      <td>Petrol</td>\n",
              "      <td>yes</td>\n",
              "      <td>2011</td>\n",
              "      <td>Rav 4</td>\n",
              "    </tr>\n",
              "  </tbody>\n",
              "</table>\n",
              "</div>"
            ],
            "text/plain": [
              "           Brand    Price       Body  ...  Registration  Year         Model\n",
              "0            BMW   4200.0      sedan  ...           yes  1991           320\n",
              "1  Mercedes-Benz   7900.0        van  ...           yes  1999  Sprinter 212\n",
              "2  Mercedes-Benz  13300.0      sedan  ...           yes  2003         S 500\n",
              "3           Audi  23000.0  crossover  ...           yes  2007            Q7\n",
              "4         Toyota  18300.0  crossover  ...           yes  2011         Rav 4\n",
              "\n",
              "[5 rows x 9 columns]"
            ]
          },
          "metadata": {
            "tags": []
          },
          "execution_count": 7
        }
      ]
    },
    {
      "cell_type": "markdown",
      "metadata": {
        "id": "erXmSA099KQp"
      },
      "source": [
        "## Preprocesamiento"
      ]
    },
    {
      "cell_type": "markdown",
      "metadata": {
        "id": "zGXxbgK09KQq"
      },
      "source": [
        "### Explorar las estadísticas descriptivas de las variables"
      ]
    },
    {
      "cell_type": "code",
      "metadata": {
        "id": "N8xLKrMP9KQq"
      },
      "source": [
        ""
      ],
      "execution_count": null,
      "outputs": []
    },
    {
      "cell_type": "markdown",
      "metadata": {
        "id": "YJ8HvM4e9KQq"
      },
      "source": [
        "### Determinación de las variables de interés"
      ]
    },
    {
      "cell_type": "code",
      "metadata": {
        "id": "3cqx83O39KQr"
      },
      "source": [
        ""
      ],
      "execution_count": null,
      "outputs": []
    },
    {
      "cell_type": "markdown",
      "metadata": {
        "id": "oO-xuh7J9KQr"
      },
      "source": [
        "### Manejo de valores faltantes"
      ]
    },
    {
      "cell_type": "code",
      "metadata": {
        "scrolled": true,
        "id": "99FitGEx9KQs"
      },
      "source": [
        ""
      ],
      "execution_count": null,
      "outputs": []
    },
    {
      "cell_type": "markdown",
      "metadata": {
        "id": "ydcc6ham9KQs"
      },
      "source": [
        "### Exploración de las Funciones de Distribución de Probabilidades (PDFs por sus siglas en inglés)"
      ]
    },
    {
      "cell_type": "code",
      "metadata": {
        "id": "zrqJGt8Z9KQt"
      },
      "source": [
        ""
      ],
      "execution_count": null,
      "outputs": []
    },
    {
      "cell_type": "markdown",
      "metadata": {
        "id": "O3yj_TVq9KQt"
      },
      "source": [
        "### Manejo de valores atípicos (outliers)"
      ]
    },
    {
      "cell_type": "code",
      "metadata": {
        "id": "b_IySVWi9KQu"
      },
      "source": [
        ""
      ],
      "execution_count": null,
      "outputs": []
    },
    {
      "cell_type": "markdown",
      "metadata": {
        "id": "kbdRY0pB9KQu"
      },
      "source": [
        "## Revisando los supuestos para OLS"
      ]
    },
    {
      "cell_type": "code",
      "metadata": {
        "id": "ktI-FES39KQu"
      },
      "source": [
        ""
      ],
      "execution_count": null,
      "outputs": []
    },
    {
      "cell_type": "markdown",
      "metadata": {
        "id": "z7Zbm8OS9KQv"
      },
      "source": [
        "### Relajamiento de los supuestos"
      ]
    },
    {
      "cell_type": "code",
      "metadata": {
        "scrolled": true,
        "id": "jQQyKYk09KQv"
      },
      "source": [
        ""
      ],
      "execution_count": null,
      "outputs": []
    },
    {
      "cell_type": "markdown",
      "metadata": {
        "id": "-aWIz8IJ9KQv"
      },
      "source": [
        "### Multicolinealidad"
      ]
    },
    {
      "cell_type": "code",
      "metadata": {
        "id": "OekAdAYN9KQw"
      },
      "source": [
        ""
      ],
      "execution_count": null,
      "outputs": []
    },
    {
      "cell_type": "markdown",
      "metadata": {
        "id": "U-u849Rh9KQw"
      },
      "source": [
        "## Crear variables comodín (Dummy)"
      ]
    },
    {
      "cell_type": "code",
      "metadata": {
        "id": "EYoV8YBn9KQw"
      },
      "source": [
        ""
      ],
      "execution_count": null,
      "outputs": []
    },
    {
      "cell_type": "markdown",
      "metadata": {
        "id": "mfYrH_aX9KQx"
      },
      "source": [
        "### Re-ordenar un poco"
      ]
    },
    {
      "cell_type": "code",
      "metadata": {
        "id": "Y488y7gl9KQx"
      },
      "source": [
        ""
      ],
      "execution_count": null,
      "outputs": []
    },
    {
      "cell_type": "markdown",
      "metadata": {
        "id": "EqMCE9MC9KQx"
      },
      "source": [
        "## Modelo de regresión lineal"
      ]
    },
    {
      "cell_type": "markdown",
      "metadata": {
        "id": "AhEXvkPi9KQx"
      },
      "source": [
        "### Declarar las entradas y las metas"
      ]
    },
    {
      "cell_type": "code",
      "metadata": {
        "id": "O0PG7e5Q9KQy"
      },
      "source": [
        ""
      ],
      "execution_count": null,
      "outputs": []
    },
    {
      "cell_type": "markdown",
      "metadata": {
        "id": "XGwGMuMp9KQy"
      },
      "source": [
        "### Escalar (poner a escala) los datos"
      ]
    },
    {
      "cell_type": "code",
      "metadata": {
        "id": "01zIb7pA9KQy"
      },
      "source": [
        ""
      ],
      "execution_count": null,
      "outputs": []
    },
    {
      "cell_type": "markdown",
      "metadata": {
        "id": "qWc7dsQA9KQz"
      },
      "source": [
        "### Divisón del df completo en datos de entrenamiento y de prueba (Train Test Split)"
      ]
    },
    {
      "cell_type": "code",
      "metadata": {
        "id": "qhLcSpQO9KQz"
      },
      "source": [
        ""
      ],
      "execution_count": null,
      "outputs": []
    },
    {
      "cell_type": "markdown",
      "metadata": {
        "id": "m2MaARvR9KQz"
      },
      "source": [
        "### Crear la regresión"
      ]
    },
    {
      "cell_type": "code",
      "metadata": {
        "id": "MB8EoAvn9KQ0"
      },
      "source": [
        ""
      ],
      "execution_count": null,
      "outputs": []
    },
    {
      "cell_type": "markdown",
      "metadata": {
        "id": "6DZ2bJX-9KQ0"
      },
      "source": [
        "### Encontrar R^2 del modelo"
      ]
    },
    {
      "cell_type": "code",
      "metadata": {
        "id": "zgzNGbR09KQ0"
      },
      "source": [
        ""
      ],
      "execution_count": null,
      "outputs": []
    },
    {
      "cell_type": "markdown",
      "metadata": {
        "id": "j9on9P8G9KQ0"
      },
      "source": [
        "Nótese que este no es el R^2 ajustado.  En otras palabras hay que encontrar el R^2 ajustado para tener una medida más adecuada\n",
        "\n",
        "### Fórmula para R^2 Ajustado\n",
        "\n",
        "$R^2_{ajust.} = 1 - (1-R^2)*\\frac{n-1}{n-p-1}$\n",
        "\n",
        "n = número de observaciones\n",
        "\n",
        "p = número de predictores"
      ]
    },
    {
      "cell_type": "code",
      "metadata": {
        "id": "iq1K1-AJ9KQ1"
      },
      "source": [
        ""
      ],
      "execution_count": null,
      "outputs": []
    },
    {
      "cell_type": "markdown",
      "metadata": {
        "id": "vH96_1RB9KQ1"
      },
      "source": [
        "### Encontrar los pesos (coeficientes) y el sesgo (intercepto)"
      ]
    },
    {
      "cell_type": "code",
      "metadata": {
        "id": "r4mk6iYw9KQ1"
      },
      "source": [
        ""
      ],
      "execution_count": null,
      "outputs": []
    },
    {
      "cell_type": "markdown",
      "metadata": {
        "id": "UQ0JYvyD9KQ2"
      },
      "source": [
        "## Prueba del modelo"
      ]
    },
    {
      "cell_type": "code",
      "metadata": {
        "id": "C2BW6RUv9KQ2"
      },
      "source": [
        ""
      ],
      "execution_count": null,
      "outputs": []
    },
    {
      "cell_type": "markdown",
      "metadata": {
        "id": "t7lZcJD49KQ3"
      },
      "source": [
        "### Conclusiones\n"
      ]
    },
    {
      "cell_type": "code",
      "metadata": {
        "id": "blgSg1gm9KQ3"
      },
      "source": [
        ""
      ],
      "execution_count": null,
      "outputs": []
    }
  ]
}